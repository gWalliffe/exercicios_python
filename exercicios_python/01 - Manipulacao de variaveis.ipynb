{
 "cells": [
  {
   "cell_type": "markdown",
   "metadata": {
    "application/vnd.databricks.v1+cell": {
     "cellMetadata": {
      "byteLimit": 2048000,
      "rowLimit": 10000
     },
     "inputWidgets": {},
     "nuid": "fdaac651-eb32-4b9d-9e41-92a3a06dc93f",
     "showTitle": false,
     "title": ""
    },
    "jupyter": {
     "outputs_hidden": true
    }
   },
   "source": [
    "## Coleta e Amostragem basica de dados\n"
   ]
  },
  {
   "cell_type": "code",
   "execution_count": null,
   "metadata": {
    "application/vnd.databricks.v1+cell": {
     "cellMetadata": {},
     "inputWidgets": {},
     "nuid": "383ae1ca-0d64-486e-a2fa-dacd21000b9a",
     "showTitle": false,
     "title": ""
    }
   },
   "outputs": [],
   "source": [
    "'''BLOCO DE COMENTARIO - INICIO\n",
    "print('Olá, %s!' %(string)) - string\n",
    "print('Olá, %d!' %(inteiro)) - inteiro\n",
    "print('Olá, %.2f!' %(float)) - float\n",
    "print('Olá, %c!' %(caracter)) - caracter\n",
    "\n",
    "print('Olá, {}!'.format(nome)) - format function\n",
    "\n",
    "quebra_de_linha = \"estudar é um esforço constante,\\nÉ como cultivar uma planta,\\nPrecisamos de dedicação e paciência,\\nPara ver o fruto amadurecer.\"\n",
    "\n",
    "tabulacao = \"estudar é um esforço constante,\\tÉ como cultivar uma planta,\\tPrecisamos de dedicação e paciência, \\tPara ver o fruto amadurecer.\"\n",
    "\n",
    "escape_caminho = \"Caminho do arquivo: C:\\\\arquivos\\\\documento.csv\"\n",
    "\n",
    "escape_aspas_duplas = \"estudar é \\\"facil\\\".\"\n",
    "\n",
    "escape_aspas_simples = 'estudar é \\'facil\\'.'\n",
    "BLOCO DE COMENTARIO - FIM'''"
   ]
  },
  {
   "cell_type": "code",
   "execution_count": null,
   "metadata": {
    "application/vnd.databricks.v1+cell": {
     "cellMetadata": {
      "byteLimit": 2048000,
      "rowLimit": 10000
     },
     "inputWidgets": {},
     "nuid": "715b06dd-fa90-468d-867d-8efec11ff9b4",
     "showTitle": false,
     "title": ""
    },
    "jupyter": {
     "outputs_hidden": true
    }
   },
   "outputs": [],
   "source": [
    "#Crie um programa que solicite à pessoa usuária digitar seu nome, e imprima “Olá, [nome]!”.\n",
    "nome=input('Escreve seu nome:')\n",
    "print(f'Olá, {nome}!')\n",
    "\n"
   ]
  },
  {
   "cell_type": "code",
   "execution_count": 0,
   "metadata": {
    "application/vnd.databricks.v1+cell": {
     "cellMetadata": {
      "byteLimit": 2048000,
      "rowLimit": 10000
     },
     "inputWidgets": {},
     "nuid": "c8b2439c-472a-4dc5-b943-d641912e6a3c",
     "showTitle": false,
     "title": ""
    },
    "jupyter": {
     "outputs_hidden": true
    }
   },
   "outputs": [],
   "source": [
    "#Crie um programa que solicite à pessoa usuária digitar seu nome e idade, e imprima “Olá, [nome], você tem [idade] anos.”.\n",
    "\n",
    "nome = input('Escreve seu nome:')\n",
    "idade = int(input('Escreve sua idade:'))\n",
    "\n",
    "print(f'Olá, {nome}, você tem {idade} anos')"
   ]
  },
  {
   "cell_type": "code",
   "execution_count": 0,
   "metadata": {
    "application/vnd.databricks.v1+cell": {
     "cellMetadata": {
      "byteLimit": 2048000,
      "rowLimit": 10000
     },
     "inputWidgets": {},
     "nuid": "9298f5ad-f6a1-4f0a-bfa2-4c1a1382f858",
     "showTitle": false,
     "title": ""
    }
   },
   "outputs": [],
   "source": [
    "#Crie um programa que solicite à pessoa usuária digitar seu nome, idade e altura em metros, e imprima “Olá, [nome], você tem [idade] anos e mede [altura] metros!”.\n",
    "\n",
    "nome = input('Escreve seu nome:')\n",
    "idade = int(input('Escreve sua idade:'))\n",
    "altura = float(input('Escreve sua altura:'))\n",
    "\n",
    "print(f'Olá, {nome}, você tem {idade} anos e mede {altura} metros.')"
   ]
  },
  {
   "cell_type": "code",
   "execution_count": 0,
   "metadata": {
    "application/vnd.databricks.v1+cell": {
     "cellMetadata": {
      "byteLimit": 2048000,
      "rowLimit": 10000
     },
     "inputWidgets": {},
     "nuid": "a6e90382-f77c-4513-a132-b920961fe6ec",
     "showTitle": false,
     "title": ""
    }
   },
   "outputs": [],
   "source": [
    "#Crie um código que solicite uma frase à pessoa usuária e imprima a mesma frase digitada mas com todas as letras minúsculas.\n",
    "frase = input('Escreva uma frase:')\n",
    "\n",
    "print(frase.lower())"
   ]
  },
  {
   "cell_type": "code",
   "execution_count": 0,
   "metadata": {
    "application/vnd.databricks.v1+cell": {
     "cellMetadata": {
      "byteLimit": 2048000,
      "rowLimit": 10000
     },
     "inputWidgets": {},
     "nuid": "40298dfc-cb6e-4f61-a77d-0521fef920ee",
     "showTitle": false,
     "title": ""
    }
   },
   "outputs": [],
   "source": [
    "#Crie uma variável chamada “frase” e atribua a ela uma string de sua escolha. Em seguida, imprima a frase sem espaços.\n",
    "frase = 'Tudo na vida é dificil, escolhe seu dificil!'\n",
    "\n",
    "conjunto_sem_espaco = frase.replace(\" \", '')\n",
    "\n",
    "print(conjunto_sem_espaco)\n",
    "  "
   ]
  }
 ],
 "metadata": {
  "application/vnd.databricks.v1+notebook": {
   "dashboards": [],
   "environmentMetadata": null,
   "language": "python",
   "notebookMetadata": {
    "pythonIndentUnit": 2
   },
   "notebookName": "Manipulação de variaveis",
   "widgets": {}
  },
  "kernelspec": {
   "display_name": "Python 3",
   "language": "python",
   "name": "python3"
  },
  "language_info": {
   "codemirror_mode": {
    "name": "ipython",
    "version": 3
   },
   "file_extension": ".py",
   "mimetype": "text/x-python",
   "name": "python",
   "nbconvert_exporter": "python",
   "pygments_lexer": "ipython3",
   "version": "3.10.11"
  }
 },
 "nbformat": 4,
 "nbformat_minor": 0
}
