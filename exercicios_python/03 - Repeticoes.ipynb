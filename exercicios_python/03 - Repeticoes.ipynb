{
 "cells": [
  {
   "cell_type": "code",
   "execution_count": null,
   "metadata": {},
   "outputs": [],
   "source": [
    "#Escreva um programa que peça dois números inteiros e imprima todos os números inteiros entre eles.\n",
    "\n",
    "n1 = int(input(\"Digite o primeiro numero:\"))\n",
    "n2 = int(input(\"Digite o segundo numero:\"))\n",
    "\n",
    "for x in range(n1,n2+1):\n",
    "    print(x)"
   ]
  },
  {
   "cell_type": "code",
   "execution_count": null,
   "metadata": {},
   "outputs": [],
   "source": [
    "#Escreva um programa para calcular quantos dias levará \n",
    "#para a colônia de uma bactéria A ultrapassar ou igualar a colônia de uma bactéria B, \n",
    "#com base nas taxas de crescimento de 3% e 1,5% respectivamente. \n",
    "#Considere que a colônia A inicia com 4 elementos e a B com 10.\n",
    "\n",
    "bacteria_A = 3.0\n",
    "bacteria_B = 10.0\n",
    "qtd_dias = 0\n",
    "\n",
    "while bacteria_A < bacteria_B:\n",
    "\n",
    "    qtd_dias += 1\n",
    "    bacteria_A +=  bacteria_A*0.03\n",
    "    bacteria_B +=  bacteria_B*0.015\n",
    "\n",
    "print(f\"A quantidade de dias necessário para Bacteria A ultrapassar ou igualar a Bacteria B é {qtd_dias}, onde os valores será {bacteria_A} e {bacteria_B} respectivamente!\")\n"
   ]
  },
  {
   "cell_type": "code",
   "execution_count": null,
   "metadata": {},
   "outputs": [],
   "source": [
    "#Escreva um programa que calcule o fatorial de um número inteiro fornecido pela pessoa usuária. \n",
    "#Lembrando que o fatorial de um número inteiro é a multiplicação desse número por todos os seus antecessores até o número 1. \n",
    "#Por exemplo, o fatorial de 5 é 5 x 4 x 3 x 2 x 1 = 120.\n",
    "\n",
    "n1 = int(input(\"Digite um numero inteiro:\"))\n",
    "\n",
    "for i in range(n1-1, 1, -1):\n",
    "\n",
    "    n1 = n1*i\n",
    "\n",
    "    print(n1)"
   ]
  }
 ],
 "metadata": {
  "kernelspec": {
   "display_name": "Python 3",
   "language": "python",
   "name": "python3"
  },
  "language_info": {
   "codemirror_mode": {
    "name": "ipython",
    "version": 3
   },
   "file_extension": ".py",
   "mimetype": "text/x-python",
   "name": "python",
   "nbconvert_exporter": "python",
   "pygments_lexer": "ipython3",
   "version": "3.10.11"
  }
 },
 "nbformat": 4,
 "nbformat_minor": 2
}
