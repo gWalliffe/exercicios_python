{
 "cells": [
  {
   "cell_type": "markdown",
   "metadata": {},
   "source": [
    "# Conhecendo a base de dados"
   ]
  },
  {
   "cell_type": "markdown",
   "metadata": {},
   "source": [
    "## Importando os dados\n"
   ]
  },
  {
   "cell_type": "code",
   "execution_count": null,
   "metadata": {},
   "outputs": [],
   "source": [
    "import pandas as pd"
   ]
  },
  {
   "cell_type": "code",
   "execution_count": null,
   "metadata": {},
   "outputs": [],
   "source": [
    "url = '../files/aluguel.csv'\n",
    "#pd.read_csv(url)\n",
    "#ler csv e armazenar em um df\n",
    "dados = pd.read_csv(url, sep=';')\n",
    "dados"
   ]
  },
  {
   "cell_type": "code",
   "execution_count": null,
   "metadata": {},
   "outputs": [],
   "source": [
    "#primeiras 10 linhas\n",
    "dados.head(10)"
   ]
  },
  {
   "cell_type": "code",
   "execution_count": null,
   "metadata": {},
   "outputs": [],
   "source": [
    "#ultimas linhas\n",
    "dados.tail()"
   ]
  },
  {
   "cell_type": "code",
   "execution_count": null,
   "metadata": {},
   "outputs": [],
   "source": [
    "#verificando que é uma variavel do type dataframe\n",
    "type(dados)"
   ]
  },
  {
   "cell_type": "markdown",
   "metadata": {},
   "source": [
    "## Características gerais da base de dados"
   ]
  },
  {
   "cell_type": "code",
   "execution_count": null,
   "metadata": {},
   "outputs": [],
   "source": [
    "#quantidade de linhas e colunas\n",
    "dados.shape"
   ]
  },
  {
   "cell_type": "code",
   "execution_count": null,
   "metadata": {},
   "outputs": [],
   "source": [
    "#verificando quais colunas existem\n",
    "dados.columns"
   ]
  },
  {
   "cell_type": "code",
   "execution_count": null,
   "metadata": {},
   "outputs": [],
   "source": [
    "#verificando qual tipagem dos dados\n",
    "dados.info()"
   ]
  },
  {
   "cell_type": "code",
   "execution_count": null,
   "metadata": {},
   "outputs": [],
   "source": [
    "#trazendo apenas uma coluna do dataframe\n",
    "dados['Tipo']"
   ]
  },
  {
   "cell_type": "code",
   "execution_count": null,
   "metadata": {},
   "outputs": [],
   "source": [
    "#trazedo duas colunas \n",
    "dados[['Quartos', 'Valor']]"
   ]
  },
  {
   "cell_type": "markdown",
   "metadata": {},
   "source": [
    "# Análise exploratória de dados"
   ]
  },
  {
   "cell_type": "markdown",
   "metadata": {},
   "source": [
    "## Qual o valor médio de aluguel por tipo de imóvel?"
   ]
  },
  {
   "cell_type": "code",
   "execution_count": null,
   "metadata": {},
   "outputs": [],
   "source": [
    "dados.head()"
   ]
  },
  {
   "cell_type": "code",
   "execution_count": null,
   "metadata": {},
   "outputs": [],
   "source": [
    "#media do campo valor\n",
    "dados['Valor'].mean()"
   ]
  },
  {
   "cell_type": "code",
   "execution_count": null,
   "metadata": {},
   "outputs": [],
   "source": [
    "#agrupando por tipo e sumando apenas valores numericos\n",
    "dados.groupby('Tipo').mean(numeric_only=True)"
   ]
  },
  {
   "cell_type": "code",
   "execution_count": null,
   "metadata": {},
   "outputs": [],
   "source": [
    "#agrupand por tipo e somando apenas valor\n",
    "dados.groupby('Tipo')['Valor'].mean()"
   ]
  },
  {
   "cell_type": "code",
   "execution_count": null,
   "metadata": {},
   "outputs": [],
   "source": [
    "#agrupando tipo, somando valores e ordenando do maior para menor\n",
    "dados.groupby('Tipo')[['Valor']].mean().sort_values('Valor',ascending=0)"
   ]
  },
  {
   "cell_type": "code",
   "execution_count": null,
   "metadata": {},
   "outputs": [],
   "source": [
    "#guardando informações em outra df\n",
    "df_preco_tipo = dados.groupby('Tipo')[['Valor']].mean().sort_values('Valor')\n",
    "\n",
    "#plotando grafico de barras\n",
    "df_preco_tipo.plot(kind='barh', figsize=(14, 10), color ='purple');"
   ]
  },
  {
   "cell_type": "markdown",
   "metadata": {},
   "source": [
    "## Removendo os imóveis comerciais"
   ]
  },
  {
   "cell_type": "code",
   "execution_count": null,
   "metadata": {},
   "outputs": [],
   "source": [
    "#verificamos os tipos de imoveis \n",
    "dados.Tipo.unique()"
   ]
  },
  {
   "cell_type": "code",
   "execution_count": null,
   "metadata": {},
   "outputs": [],
   "source": [
    "#criando uma lista com os tipos comerciais que não serão usados\n",
    "imoveis_comerciais = ['Conjunto Comercial/Sala', \n",
    "                      'Prédio Inteiro', 'Loja/Salão', \n",
    "                      'Galpão/Depósito/Armazém', \n",
    "                      'Casa Comercial', 'Terreno Padrão',\n",
    "                      'Loja Shopping/ Ct Comercial',\n",
    "                      'Box/Garagem', 'Chácara',\n",
    "                      'Loteamento/Condomínio', 'Sítio',\n",
    "                      'Pousada/Chalé', 'Hotel', 'Indústria']\n"
   ]
  },
  {
   "cell_type": "code",
   "execution_count": null,
   "metadata": {},
   "outputs": [],
   "source": [
    "#validando query\n",
    "dados.query('@imoveis_comerciais in Tipo')"
   ]
  },
  {
   "cell_type": "code",
   "execution_count": null,
   "metadata": {},
   "outputs": [],
   "source": [
    "#validando query\n",
    "dados.query('@imoveis_comerciais not in Tipo')"
   ]
  },
  {
   "cell_type": "code",
   "execution_count": null,
   "metadata": {},
   "outputs": [],
   "source": [
    "#criando df com imoveis que serão usados para nnalise\n",
    "df = dados.query('@imoveis_comerciais not in Tipo')\n",
    "df.head()"
   ]
  },
  {
   "cell_type": "code",
   "execution_count": null,
   "metadata": {},
   "outputs": [],
   "source": [
    "#verificando os tipos de imoveis que ficaram\n",
    "df.Tipo.unique()"
   ]
  },
  {
   "cell_type": "code",
   "execution_count": null,
   "metadata": {},
   "outputs": [],
   "source": [
    "#agrupando tipo dos imoveis residenciais por valor\n",
    "df_preco_tipo = df.groupby('Tipo')[['Valor']].mean().sort_values('Valor')\n",
    "\n",
    "#protando grafico\n",
    "df_preco_tipo.plot(kind='barh', figsize=(14, 10), color ='purple');"
   ]
  },
  {
   "cell_type": "markdown",
   "metadata": {},
   "source": [
    "## Qual o percentual de cada tipo de imóvel na nossa base de dados?"
   ]
  },
  {
   "cell_type": "code",
   "execution_count": null,
   "metadata": {},
   "outputs": [],
   "source": [
    "df.Tipo.unique()"
   ]
  },
  {
   "cell_type": "code",
   "execution_count": null,
   "metadata": {},
   "outputs": [],
   "source": [
    "#verificando discrepancia dos valores distribuidos\n",
    "df.Tipo.value_counts(normalize=True)"
   ]
  },
  {
   "cell_type": "code",
   "execution_count": null,
   "metadata": {},
   "outputs": [],
   "source": [
    "#transformando em data frame\n",
    "df.Tipo.value_counts(normalize=True).to_frame().sort_values('Tipo')"
   ]
  },
  {
   "cell_type": "code",
   "execution_count": null,
   "metadata": {},
   "outputs": [],
   "source": [
    "#guardando distribuição dos imoveis por tipo em uma nova df\n",
    "df_percentual_tipo = df.Tipo.value_counts(normalize=True).to_frame().sort_values('Tipo')\n",
    "\n",
    "#platando grafico\n",
    "df_percentual_tipo.plot(kind='bar', figsize=(14, 10), color ='green',\n",
    "                        xlabel = 'Tipos', ylabel = 'Percentual');"
   ]
  },
  {
   "cell_type": "markdown",
   "metadata": {},
   "source": [
    "### **Selecionando apenas os imóveis do tipo apartamento**"
   ]
  },
  {
   "cell_type": "code",
   "execution_count": null,
   "metadata": {},
   "outputs": [],
   "source": [
    "#selecionando apenas apartamentos\n",
    "df.query('Tipo == \"Apartamento\"')"
   ]
  },
  {
   "cell_type": "code",
   "execution_count": null,
   "metadata": {},
   "outputs": [],
   "source": [
    "#criando df\n",
    "df = df.query('Tipo == \"Apartamento\"')\n",
    "df.head()"
   ]
  },
  {
   "cell_type": "markdown",
   "metadata": {},
   "source": [
    "# Tratando e filtrando os dados"
   ]
  },
  {
   "cell_type": "markdown",
   "metadata": {},
   "source": [
    "## Lidando com dados nulos"
   ]
  },
  {
   "cell_type": "code",
   "execution_count": null,
   "metadata": {},
   "outputs": [],
   "source": [
    "#validação de todas  colunas \n",
    "df.isnull()"
   ]
  },
  {
   "cell_type": "code",
   "execution_count": null,
   "metadata": {},
   "outputs": [],
   "source": [
    "#somando nulos por tipo\n",
    "df.isnull().sum()"
   ]
  },
  {
   "cell_type": "code",
   "execution_count": null,
   "metadata": {},
   "outputs": [],
   "source": [
    "#transformndo nulo em 0\n",
    "df.fillna(0)"
   ]
  },
  {
   "cell_type": "code",
   "execution_count": null,
   "metadata": {},
   "outputs": [],
   "source": [
    "#atribuindo a df\n",
    "df = df.fillna(0)"
   ]
  },
  {
   "cell_type": "code",
   "execution_count": null,
   "metadata": {},
   "outputs": [],
   "source": [
    "#validando tratamento de nulos\n",
    "df.isnull().sum()"
   ]
  },
  {
   "cell_type": "markdown",
   "metadata": {},
   "source": [
    "## Removendo registros"
   ]
  },
  {
   "cell_type": "code",
   "execution_count": null,
   "metadata": {},
   "outputs": [],
   "source": [
    "#removendo valores zerados\n",
    "df.query('Valor == 0 | Condominio == 0')"
   ]
  },
  {
   "cell_type": "code",
   "execution_count": null,
   "metadata": {},
   "outputs": [],
   "source": [
    "#criando uma serie para pegar os registros que serão excluidos\n",
    "df.query('Valor == 0 | Condominio == 0').index"
   ]
  },
  {
   "cell_type": "code",
   "execution_count": null,
   "metadata": {},
   "outputs": [],
   "source": [
    "#atribuidos a df\n",
    "registros_a_remover = df.query('Valor == 0 | Condominio == 0').index"
   ]
  },
  {
   "cell_type": "code",
   "execution_count": null,
   "metadata": {},
   "outputs": [],
   "source": [
    "#deletando direto na df\n",
    "df.drop(registros_a_remover, axis=0, inplace=True)"
   ]
  },
  {
   "cell_type": "code",
   "execution_count": null,
   "metadata": {},
   "outputs": [],
   "source": [
    "#validando\n",
    "df.query('Valor == 0 | Condominio == 0')"
   ]
  },
  {
   "cell_type": "code",
   "execution_count": null,
   "metadata": {},
   "outputs": [],
   "source": [
    "df.head()"
   ]
  },
  {
   "cell_type": "code",
   "execution_count": null,
   "metadata": {},
   "outputs": [],
   "source": [
    "#tipo ficou  com um unico valor\n",
    "df.Tipo.unique()"
   ]
  },
  {
   "cell_type": "code",
   "execution_count": null,
   "metadata": {},
   "outputs": [],
   "source": [
    "#exclui coluna\n",
    "df.drop('Tipo', axis=1, inplace=True)"
   ]
  },
  {
   "cell_type": "code",
   "execution_count": null,
   "metadata": {},
   "outputs": [],
   "source": [
    "df.head()"
   ]
  },
  {
   "cell_type": "markdown",
   "metadata": {},
   "source": [
    "## Filtros"
   ]
  },
  {
   "cell_type": "markdown",
   "metadata": {},
   "source": [
    "### **1. Apartamentos que possuem `1 quarto` e `aluguel menor que 1200`**\n",
    "\n"
   ]
  },
  {
   "cell_type": "code",
   "execution_count": null,
   "metadata": {},
   "outputs": [],
   "source": [
    "df['Quartos'] == 1"
   ]
  },
  {
   "cell_type": "code",
   "execution_count": null,
   "metadata": {},
   "outputs": [],
   "source": [
    "selecao1 = df['Quartos'] == 1\n",
    "df[selecao1]"
   ]
  },
  {
   "cell_type": "code",
   "execution_count": null,
   "metadata": {},
   "outputs": [],
   "source": [
    "selecao2 = df['Valor'] < 1200\n",
    "df[selecao2]"
   ]
  },
  {
   "cell_type": "code",
   "execution_count": null,
   "metadata": {},
   "outputs": [],
   "source": [
    "selecao_final = (selecao1) & (selecao2)\n",
    "df[selecao_final]"
   ]
  },
  {
   "cell_type": "code",
   "execution_count": null,
   "metadata": {},
   "outputs": [],
   "source": [
    "df_1 = df[selecao_final]"
   ]
  },
  {
   "cell_type": "markdown",
   "metadata": {},
   "source": [
    "### **2. `Apartamentos` que possuem pelo menos `2 quartos`, `aluguel menor que 3000` e `area maior que 70`**"
   ]
  },
  {
   "cell_type": "code",
   "execution_count": null,
   "metadata": {},
   "outputs": [],
   "source": [
    "selecao = (df['Quartos'] >= 2) & (df['Valor'] < 3000) & (df['Area'] > 70)\n",
    "df[selecao]"
   ]
  },
  {
   "cell_type": "code",
   "execution_count": null,
   "metadata": {},
   "outputs": [],
   "source": [
    "df_2 = df[selecao]"
   ]
  },
  {
   "cell_type": "markdown",
   "metadata": {},
   "source": [
    "## Salvando os dados"
   ]
  },
  {
   "cell_type": "code",
   "execution_count": null,
   "metadata": {},
   "outputs": [],
   "source": [
    "df.to_csv('../files/dados_apartamentos.csv')"
   ]
  },
  {
   "cell_type": "code",
   "execution_count": null,
   "metadata": {},
   "outputs": [],
   "source": [
    "#salvou com coluna index\n",
    "pd.read_csv('../files/dados_apartamentos.csv')"
   ]
  },
  {
   "cell_type": "code",
   "execution_count": null,
   "metadata": {},
   "outputs": [],
   "source": [
    "#salvou sem coluna index\n",
    "df.to_csv('../files/dados_apartamentos.csv', index=False)"
   ]
  },
  {
   "cell_type": "code",
   "execution_count": null,
   "metadata": {},
   "outputs": [],
   "source": [
    "pd.read_csv('../files/dados_apartamentos.csv')"
   ]
  },
  {
   "cell_type": "code",
   "execution_count": null,
   "metadata": {},
   "outputs": [],
   "source": [
    "df.to_csv('../files/dados_apartamentos.csv', index=False, sep=';')"
   ]
  },
  {
   "cell_type": "code",
   "execution_count": null,
   "metadata": {},
   "outputs": [],
   "source": [
    "pd.read_csv('../files/dados_apartamentos.csv')"
   ]
  },
  {
   "cell_type": "code",
   "execution_count": null,
   "metadata": {},
   "outputs": [],
   "source": [
    "pd.read_csv('../files/dados_apartamentos.csv', sep=';')"
   ]
  },
  {
   "cell_type": "markdown",
   "metadata": {},
   "source": [
    "# Manipulando os dados"
   ]
  },
  {
   "cell_type": "markdown",
   "metadata": {},
   "source": [
    "## Criando colunas numéricas"
   ]
  },
  {
   "cell_type": "code",
   "execution_count": null,
   "metadata": {},
   "outputs": [],
   "source": [
    "##url = '../files/aluguel.csv'\n",
    "##dados = pd.read_csv(url, sep=';')\n",
    "##dados.head()\n",
    "dados.head()"
   ]
  },
  {
   "cell_type": "code",
   "execution_count": null,
   "metadata": {},
   "outputs": [],
   "source": [
    "dados['Valor_por_mes'] = dados['Valor'] + dados['Condominio']\n",
    "dados.head()"
   ]
  },
  {
   "cell_type": "code",
   "execution_count": null,
   "metadata": {},
   "outputs": [],
   "source": [
    "dados['Valor_por_ano'] = dados['Valor_por_mes'] * 12 + dados['IPTU']\n",
    "dados.head()"
   ]
  },
  {
   "cell_type": "markdown",
   "metadata": {},
   "source": [
    "## Criando colunas categóricas"
   ]
  },
  {
   "cell_type": "code",
   "execution_count": null,
   "metadata": {},
   "outputs": [],
   "source": [
    "dados['Descricao'] = 'Ap em ' + dados['Bairro']\n",
    "dados.head()"
   ]
  },
  {
   "cell_type": "code",
   "execution_count": null,
   "metadata": {},
   "outputs": [],
   "source": [
    "dados['Descricao'] = 'AP em ' + dados['Bairro'] + ' com '  + \\\n",
    "                     dados['Quartos'].astype(str) + ' quarto(s) '  + \\\n",
    "                     ' e '  + dados['Vagas'].astype(str) + ' vaga(s) de garagem.'\n",
    "dados.head()"
   ]
  },
  {
   "cell_type": "code",
   "execution_count": null,
   "metadata": {},
   "outputs": [],
   "source": [
    "dados['Possui_suite'] = dados['Suites'].apply(lambda x: \"Sim\" if x > 0 else \"Não\")\n",
    "dados.head()"
   ]
  },
  {
   "cell_type": "code",
   "execution_count": null,
   "metadata": {},
   "outputs": [],
   "source": [
    "dados.to_csv('../files/dados_completos_dev.csv', index=False, sep=';')\n"
   ]
  },
  {
   "cell_type": "markdown",
   "metadata": {},
   "source": [
    "# Manipulando dados com CSV, EXCEL, HTML, XML E SQLITE"
   ]
  },
  {
   "cell_type": "markdown",
   "metadata": {},
   "source": [
    "## **Aula 1 - Fazendo leitura de arquivos CSV**\n",
    "\n",
    "Dados:\n",
    "- https://github.com/alura-cursos/Pandas/blob/main/superstore_data.csv\n",
    "- https://github.com/alura-cursos/Pandas/blob/main/superstore_data_ponto_virgula.csv"
   ]
  },
  {
   "cell_type": "markdown",
   "metadata": {},
   "source": [
    "### **Lendo arquivos CSV**"
   ]
  },
  {
   "cell_type": "code",
   "execution_count": null,
   "metadata": {},
   "outputs": [],
   "source": [
    "import pandas as pd"
   ]
  },
  {
   "cell_type": "code",
   "execution_count": null,
   "metadata": {},
   "outputs": [],
   "source": [
    "url = 'https://raw.githubusercontent.com/alura-cursos/Pandas/main/superstore_data.csv'"
   ]
  },
  {
   "cell_type": "code",
   "execution_count": null,
   "metadata": {},
   "outputs": [],
   "source": [
    "dados = pd.read_csv(url)"
   ]
  },
  {
   "cell_type": "code",
   "execution_count": null,
   "metadata": {},
   "outputs": [],
   "source": [
    "dados.head()"
   ]
  },
  {
   "cell_type": "code",
   "execution_count": null,
   "metadata": {},
   "outputs": [],
   "source": [
    "url_2 = 'https://raw.githubusercontent.com/alura-cursos/Pandas/main/superstore_data_ponto_virgula.csv'"
   ]
  },
  {
   "cell_type": "code",
   "execution_count": null,
   "metadata": {},
   "outputs": [],
   "source": [
    "dados_ponto_virgula = pd.read_csv(url_2)"
   ]
  },
  {
   "cell_type": "code",
   "execution_count": null,
   "metadata": {},
   "outputs": [],
   "source": [
    "dados_ponto_virgula.head()"
   ]
  },
  {
   "cell_type": "markdown",
   "metadata": {},
   "source": [
    "### **Parâmetros da função read_csv**\n",
    "Documentação: https://pandas.pydata.org/pandas-docs/stable/reference/api/pandas.read_csv.html"
   ]
  },
  {
   "cell_type": "code",
   "execution_count": null,
   "metadata": {},
   "outputs": [],
   "source": [
    "dados_ponto_virgula = pd.read_csv(url_2, sep = ';')"
   ]
  },
  {
   "cell_type": "code",
   "execution_count": null,
   "metadata": {},
   "outputs": [],
   "source": [
    "dados_ponto_virgula"
   ]
  },
  {
   "cell_type": "code",
   "execution_count": null,
   "metadata": {},
   "outputs": [],
   "source": [
    "dados_primeiras_linhas = pd.read_csv(url,nrows=5)\n",
    "dados_primeiras_linhas"
   ]
  },
  {
   "cell_type": "code",
   "execution_count": null,
   "metadata": {},
   "outputs": [],
   "source": [
    "dados_selecao = pd.read_csv(url, usecols=['Id', 'Year_Birth', 'Income'])\n",
    "dados_selecao"
   ]
  },
  {
   "cell_type": "code",
   "execution_count": null,
   "metadata": {},
   "outputs": [],
   "source": [
    "dados_selecao = pd.read_csv(url, usecols=[0,1,4])\n",
    "dados_selecao"
   ]
  },
  {
   "cell_type": "markdown",
   "metadata": {},
   "source": [
    "### **Escrevendo arquivos CSV**\n",
    "\n",
    "Documentação: https://pandas.pydata.org/docs/reference/api/pandas.DataFrame.to_csv.html"
   ]
  },
  {
   "cell_type": "code",
   "execution_count": null,
   "metadata": {},
   "outputs": [],
   "source": [
    "dados_selecao.to_csv('clientes_mercado.csv')"
   ]
  },
  {
   "cell_type": "code",
   "execution_count": null,
   "metadata": {},
   "outputs": [],
   "source": [
    "clientes_mercado = pd.read_csv('/content/clientes_mercado.csv')\n",
    "clientes_mercado"
   ]
  },
  {
   "cell_type": "code",
   "execution_count": null,
   "metadata": {},
   "outputs": [],
   "source": [
    "dados_selecao.to_csv('dados_mercado.csv', index=False)"
   ]
  },
  {
   "cell_type": "code",
   "execution_count": null,
   "metadata": {},
   "outputs": [],
   "source": [
    "dados_mercado = pd.read_csv('/content/dados_mercado.csv')\n",
    "dados_mercado"
   ]
  },
  {
   "cell_type": "markdown",
   "metadata": {},
   "source": [
    "## **Aula 2 - Utilizando planilhas**\n",
    "\n",
    "Dados: https://github.com/alura-cursos/Pandas/blob/main/emissoes_CO2.xlsx"
   ]
  },
  {
   "cell_type": "markdown",
   "metadata": {},
   "source": [
    "### **Lendo arquivos Excel**"
   ]
  },
  {
   "cell_type": "code",
   "execution_count": null,
   "metadata": {},
   "outputs": [],
   "source": [
    "import pandas as pd"
   ]
  },
  {
   "cell_type": "code",
   "execution_count": null,
   "metadata": {},
   "outputs": [],
   "source": [
    "url = 'https://github.com/alura-cursos/Pandas/blob/main/emissoes_CO2.xlsx?raw=True'"
   ]
  },
  {
   "cell_type": "code",
   "execution_count": null,
   "metadata": {},
   "outputs": [],
   "source": [
    "dados_co2 = pd.read_excel(url)"
   ]
  },
  {
   "cell_type": "code",
   "execution_count": null,
   "metadata": {},
   "outputs": [],
   "source": [
    "dados_co2.head()"
   ]
  },
  {
   "cell_type": "code",
   "execution_count": null,
   "metadata": {},
   "outputs": [],
   "source": [
    "pd.ExcelFile(url).sheet_names"
   ]
  },
  {
   "cell_type": "markdown",
   "metadata": {},
   "source": [
    "### **Parâmetros da função read_excel**\n",
    "\n",
    "Documentação: https://pandas.pydata.org/docs/reference/api/pandas.read_excel.html"
   ]
  },
  {
   "cell_type": "code",
   "execution_count": null,
   "metadata": {},
   "outputs": [],
   "source": [
    "percapita = pd.read_excel(url, sheet_name='emissoes_percapita')"
   ]
  },
  {
   "cell_type": "code",
   "execution_count": null,
   "metadata": {},
   "outputs": [],
   "source": [
    "percapita.head()"
   ]
  },
  {
   "cell_type": "code",
   "execution_count": null,
   "metadata": {},
   "outputs": [],
   "source": [
    "fontes = pd.read_excel(url, sheet_name='fontes')"
   ]
  },
  {
   "cell_type": "code",
   "execution_count": null,
   "metadata": {},
   "outputs": [],
   "source": [
    "fontes.head()"
   ]
  },
  {
   "cell_type": "code",
   "execution_count": null,
   "metadata": {},
   "outputs": [],
   "source": [
    "intervalo = pd.read_excel(url, sheet_name='emissoes_C02', usecols= 'A:D')"
   ]
  },
  {
   "cell_type": "code",
   "execution_count": null,
   "metadata": {},
   "outputs": [],
   "source": [
    "intervalo"
   ]
  },
  {
   "cell_type": "code",
   "execution_count": null,
   "metadata": {},
   "outputs": [],
   "source": [
    "intervalo_2 = pd.read_excel(url, sheet_name='emissoes_C02', usecols= 'A:D', nrows=10)"
   ]
  },
  {
   "cell_type": "code",
   "execution_count": null,
   "metadata": {},
   "outputs": [],
   "source": [
    "intervalo_2"
   ]
  },
  {
   "cell_type": "markdown",
   "metadata": {},
   "source": [
    "### **Escrevendo arquivos Excel**"
   ]
  },
  {
   "cell_type": "code",
   "execution_count": null,
   "metadata": {},
   "outputs": [],
   "source": [
    "percapita.to_excel('co2_percapita.xlsx', index=False)"
   ]
  },
  {
   "cell_type": "code",
   "execution_count": null,
   "metadata": {},
   "outputs": [],
   "source": [
    "pd.read_excel('/content/co2_percapita.xlsx')"
   ]
  },
  {
   "cell_type": "markdown",
   "metadata": {},
   "source": [
    "### **Lendo dados do Google Planilhas**"
   ]
  },
  {
   "cell_type": "markdown",
   "metadata": {},
   "source": [
    "link da planilha: https://docs.google.com/spreadsheets/d/1lzq0k-41-MbbS63C3Q9i1wPvLkSJt9zhr4Jolt1vEog/edit?usp=sharing"
   ]
  },
  {
   "cell_type": "code",
   "execution_count": null,
   "metadata": {},
   "outputs": [],
   "source": [
    "sheet_id = '1lzq0k-41-MbbS63C3Q9i1wPvLkSJt9zhr4Jolt1vEog'\n",
    "url = f'https://docs.google.com/spreadsheets/d/{sheet_id}/gviz/tq?tqx=out:csv&sheet'"
   ]
  },
  {
   "cell_type": "code",
   "execution_count": null,
   "metadata": {},
   "outputs": [],
   "source": [
    "dados_co2_sheets = pd.read_csv(url)"
   ]
  },
  {
   "cell_type": "code",
   "execution_count": null,
   "metadata": {},
   "outputs": [],
   "source": [
    "dados_co2_sheets"
   ]
  },
  {
   "cell_type": "code",
   "execution_count": null,
   "metadata": {},
   "outputs": [],
   "source": [
    "sheet_id = '1lzq0k-41-MbbS63C3Q9i1wPvLkSJt9zhr4Jolt1vEog'\n",
    "sheet_name = 'emissoes_percapita'\n",
    "url_percapita = f'https://docs.google.com/spreadsheets/d/{sheet_id}/gviz/tq?tqx=out:csv&sheet={sheet_name}'"
   ]
  },
  {
   "cell_type": "code",
   "execution_count": null,
   "metadata": {},
   "outputs": [],
   "source": [
    "percapita_sheets = pd.read_csv(url_percapita)"
   ]
  },
  {
   "cell_type": "code",
   "execution_count": null,
   "metadata": {},
   "outputs": [],
   "source": [
    "percapita_sheets.head()"
   ]
  },
  {
   "cell_type": "code",
   "execution_count": null,
   "metadata": {},
   "outputs": [],
   "source": [
    "sheet_id = '1lzq0k-41-MbbS63C3Q9i1wPvLkSJt9zhr4Jolt1vEog'\n",
    "sheet_name = 'fontes'\n",
    "url_fontes = f'https://docs.google.com/spreadsheets/d/{sheet_id}/gviz/tq?tqx=out:csv&sheet={sheet_name}'"
   ]
  },
  {
   "cell_type": "code",
   "execution_count": null,
   "metadata": {},
   "outputs": [],
   "source": [
    "fontes_sheets = pd.read_csv(url_fontes)"
   ]
  },
  {
   "cell_type": "code",
   "execution_count": null,
   "metadata": {},
   "outputs": [],
   "source": [
    "fontes_sheets.head()"
   ]
  },
  {
   "cell_type": "markdown",
   "metadata": {},
   "source": [
    "## **Aula 3 - Manipulando arquivos JSON**\n",
    "\n",
    "Dados:\n",
    "- https://github.com/alura-cursos/Pandas/blob/main/pacientes.json\n",
    "- https://github.com/alura-cursos/Pandas/blob/main/pacientes_2.json"
   ]
  },
  {
   "cell_type": "markdown",
   "metadata": {},
   "source": [
    "### **Lendo arquivos JSON**"
   ]
  },
  {
   "cell_type": "code",
   "execution_count": null,
   "metadata": {},
   "outputs": [],
   "source": [
    "import pandas as pd"
   ]
  },
  {
   "cell_type": "code",
   "execution_count": null,
   "metadata": {},
   "outputs": [],
   "source": [
    "dados_pacientes = pd.read_json('/content/pacientes.json')"
   ]
  },
  {
   "cell_type": "code",
   "execution_count": null,
   "metadata": {},
   "outputs": [],
   "source": [
    "dados_pacientes"
   ]
  },
  {
   "cell_type": "code",
   "execution_count": null,
   "metadata": {},
   "outputs": [],
   "source": [
    "dados_pacientes_2 = pd.read_json('/content/pacientes_2.json')"
   ]
  },
  {
   "cell_type": "code",
   "execution_count": null,
   "metadata": {},
   "outputs": [],
   "source": [
    "dados_pacientes_2"
   ]
  },
  {
   "cell_type": "markdown",
   "metadata": {},
   "source": [
    "### **Normalizando arquivos JSON**"
   ]
  },
  {
   "cell_type": "code",
   "execution_count": null,
   "metadata": {},
   "outputs": [],
   "source": [
    "df_normalizado = pd.json_normalize(dados_pacientes_2['Pacientes'])"
   ]
  },
  {
   "cell_type": "code",
   "execution_count": null,
   "metadata": {},
   "outputs": [],
   "source": [
    "df_normalizado"
   ]
  },
  {
   "cell_type": "markdown",
   "metadata": {},
   "source": [
    "### **Escrevendo arquivos JSON**"
   ]
  },
  {
   "cell_type": "code",
   "execution_count": null,
   "metadata": {},
   "outputs": [],
   "source": [
    "df_normalizado.to_json('historico_pacientes_norm.json')"
   ]
  },
  {
   "cell_type": "code",
   "execution_count": null,
   "metadata": {},
   "outputs": [],
   "source": [
    "pd.read_json('/content/historico_pacientes_norm.json')"
   ]
  },
  {
   "cell_type": "markdown",
   "metadata": {},
   "source": [
    "## **Aula 4 - Lendo dados em HTML e XML**\n",
    "\n",
    "Dados: https://github.com/alura-cursos/Pandas/blob/main/filmes_wikipedia.html"
   ]
  },
  {
   "cell_type": "markdown",
   "metadata": {},
   "source": [
    "### **Lendo páginas web**"
   ]
  },
  {
   "cell_type": "code",
   "execution_count": null,
   "metadata": {},
   "outputs": [],
   "source": [
    "import pandas as pd"
   ]
  },
  {
   "cell_type": "code",
   "execution_count": null,
   "metadata": {},
   "outputs": [],
   "source": [
    "dados_html = pd.read_html('/content/filmes_wikipedia.html')"
   ]
  },
  {
   "cell_type": "code",
   "execution_count": null,
   "metadata": {},
   "outputs": [],
   "source": [
    "dados_html"
   ]
  },
  {
   "cell_type": "code",
   "execution_count": null,
   "metadata": {},
   "outputs": [],
   "source": [
    "type(dados_html)"
   ]
  },
  {
   "cell_type": "code",
   "execution_count": null,
   "metadata": {},
   "outputs": [],
   "source": [
    "len(dados_html)"
   ]
  },
  {
   "cell_type": "code",
   "execution_count": null,
   "metadata": {},
   "outputs": [],
   "source": [
    "top_filmes = dados_html[1]"
   ]
  },
  {
   "cell_type": "code",
   "execution_count": null,
   "metadata": {},
   "outputs": [],
   "source": [
    "top_filmes"
   ]
  },
  {
   "cell_type": "markdown",
   "metadata": {},
   "source": [
    "### **Escrevendo arquivos HTML**"
   ]
  },
  {
   "cell_type": "code",
   "execution_count": null,
   "metadata": {},
   "outputs": [],
   "source": [
    "top_filmes.to_html('top_filmes.html')"
   ]
  },
  {
   "cell_type": "code",
   "execution_count": null,
   "metadata": {},
   "outputs": [],
   "source": [
    "pd.read_html('/content/top_filmes.html')"
   ]
  },
  {
   "cell_type": "code",
   "execution_count": null,
   "metadata": {},
   "outputs": [],
   "source": [
    "top_filmes.to_csv('top_filmes_1998', index=False)"
   ]
  },
  {
   "cell_type": "code",
   "execution_count": null,
   "metadata": {},
   "outputs": [],
   "source": [
    "dados = pd.read_csv('/content/top_filmes_1998')\n",
    "dados.head()"
   ]
  },
  {
   "cell_type": "markdown",
   "metadata": {},
   "source": [
    "### **Lendo/escrevendo arquivos XML**\n",
    "Dados: https://github.com/alura-cursos/Pandas/blob/main/imdb_top_1000.xml\n"
   ]
  },
  {
   "cell_type": "code",
   "execution_count": null,
   "metadata": {},
   "outputs": [],
   "source": [
    "import pandas as pd"
   ]
  },
  {
   "cell_type": "code",
   "execution_count": null,
   "metadata": {},
   "outputs": [],
   "source": [
    "dados_imdb = pd.read_xml('/content/imdb_top_1000.xml')"
   ]
  },
  {
   "cell_type": "code",
   "execution_count": null,
   "metadata": {},
   "outputs": [],
   "source": [
    "dados_imdb.head(3)"
   ]
  },
  {
   "cell_type": "code",
   "execution_count": null,
   "metadata": {},
   "outputs": [],
   "source": [
    "dados_imdb.to_xml('filmes_imdb.xml')"
   ]
  },
  {
   "cell_type": "markdown",
   "metadata": {},
   "source": [
    "## **Aula 5 - Trabalhando com banco de dados**\n",
    "\n",
    "Dados: https://github.com/vqrca/Pandas/blob/main/clientes_banco.csv"
   ]
  },
  {
   "cell_type": "markdown",
   "metadata": {},
   "source": [
    "### **Criando um banco de dados local**"
   ]
  },
  {
   "cell_type": "code",
   "execution_count": null,
   "metadata": {},
   "outputs": [],
   "source": [
    "import sqlalchemy"
   ]
  },
  {
   "cell_type": "code",
   "execution_count": null,
   "metadata": {},
   "outputs": [],
   "source": [
    "from sqlalchemy import create_engine, MetaData, Table, inspect"
   ]
  },
  {
   "cell_type": "code",
   "execution_count": null,
   "metadata": {},
   "outputs": [],
   "source": [
    "engine = create_engine('sqlite:///:memory:')"
   ]
  },
  {
   "cell_type": "markdown",
   "metadata": {},
   "source": [
    "### **Escrevendo em um banco de dados**"
   ]
  },
  {
   "cell_type": "code",
   "execution_count": null,
   "metadata": {},
   "outputs": [],
   "source": [
    "import pandas as pd"
   ]
  },
  {
   "cell_type": "code",
   "execution_count": null,
   "metadata": {},
   "outputs": [],
   "source": [
    "url = 'https://raw.githubusercontent.com/alura-cursos/Pandas/main/clientes_banco.csv'"
   ]
  },
  {
   "cell_type": "code",
   "execution_count": null,
   "metadata": {},
   "outputs": [],
   "source": [
    "dados = pd.read_csv(url)"
   ]
  },
  {
   "cell_type": "code",
   "execution_count": null,
   "metadata": {},
   "outputs": [],
   "source": [
    "dados.head()"
   ]
  },
  {
   "cell_type": "code",
   "execution_count": null,
   "metadata": {},
   "outputs": [],
   "source": [
    "dados.to_sql('clientes', engine, index=False)"
   ]
  },
  {
   "cell_type": "code",
   "execution_count": null,
   "metadata": {},
   "outputs": [],
   "source": [
    "inspector = inspect(engine)"
   ]
  },
  {
   "cell_type": "code",
   "execution_count": null,
   "metadata": {},
   "outputs": [],
   "source": [
    "print(inspector.get_table_names())"
   ]
  },
  {
   "cell_type": "markdown",
   "metadata": {},
   "source": [
    "### **Lendo uma consulta SQL**"
   ]
  },
  {
   "cell_type": "code",
   "execution_count": null,
   "metadata": {},
   "outputs": [],
   "source": [
    "query = 'SELECT * FROM clientes WHERE Categoria_de_renda = \"Empregado\"'"
   ]
  },
  {
   "cell_type": "code",
   "execution_count": null,
   "metadata": {},
   "outputs": [],
   "source": [
    "empregados = pd.read_sql(query, engine)"
   ]
  },
  {
   "cell_type": "code",
   "execution_count": null,
   "metadata": {},
   "outputs": [],
   "source": [
    "empregados"
   ]
  },
  {
   "cell_type": "code",
   "execution_count": null,
   "metadata": {},
   "outputs": [],
   "source": [
    "empregados.to_sql('empregados', con=engine, index=False)"
   ]
  },
  {
   "cell_type": "code",
   "execution_count": null,
   "metadata": {},
   "outputs": [],
   "source": [
    "pd.read_sql_table('empregados', engine)"
   ]
  },
  {
   "cell_type": "code",
   "execution_count": null,
   "metadata": {},
   "outputs": [],
   "source": [
    "pd.read_sql_table('empregados', engine, columns=['ID_Cliente', 'Grau_escolaridade',\n",
    "                                                 'Rendimento_anual'])"
   ]
  },
  {
   "cell_type": "markdown",
   "metadata": {},
   "source": [
    "### **Atualizando um banco de dados**"
   ]
  },
  {
   "cell_type": "code",
   "execution_count": null,
   "metadata": {},
   "outputs": [],
   "source": [
    "query = 'SELECT * FROM clientes'"
   ]
  },
  {
   "cell_type": "code",
   "execution_count": null,
   "metadata": {},
   "outputs": [],
   "source": [
    "pd.read_sql(query, engine)"
   ]
  },
  {
   "cell_type": "markdown",
   "metadata": {},
   "source": [
    "Para atualizar os dados da tabela, precisamos fazer a seguinte importação:"
   ]
  },
  {
   "cell_type": "code",
   "execution_count": null,
   "metadata": {},
   "outputs": [],
   "source": [
    "from sqlalchemy import text"
   ]
  },
  {
   "cell_type": "markdown",
   "metadata": {},
   "source": [
    "Depois disso, para fazer as atualizações, vamos implementar o seguinte código:\n",
    "\n",
    "\n"
   ]
  },
  {
   "cell_type": "code",
   "execution_count": null,
   "metadata": {},
   "outputs": [],
   "source": [
    "query = 'DELETE FROM clientes WHERE ID_Cliente=5008804'\n",
    "with engine.connect() as conn:\n",
    "    result = conn.execute(text(query))\n",
    "    conn.commit()"
   ]
  },
  {
   "cell_type": "markdown",
   "metadata": {},
   "source": [
    "> O código estabelece uma conexão com um banco de dados usando SQLAlchemy e executa uma consulta SQL definida na variável query. Dentro do bloco `with`, que garante o fechamento automático da conexão após a execução do bloco, a consulta é enviada ao banco de dados através do método `conn.execute(text(query))`, onde `text` é usado para assegurar que a string da consulta seja tratada como uma instrução SQL. Após a execução da consulta, `conn.commit()` é chamado para confirmar a transação, assegurando que as alterações realizadas pela consulta (como inserções, atualizações ou exclusões) sejam permanentemente aplicadas no banco de dados."
   ]
  },
  {
   "cell_type": "code",
   "execution_count": null,
   "metadata": {},
   "outputs": [],
   "source": [
    "pd.read_sql_table('clientes', engine)"
   ]
  },
  {
   "cell_type": "code",
   "execution_count": null,
   "metadata": {},
   "outputs": [],
   "source": [
    "query = 'UPDATE clientes SET Grau_escolaridade=\"Ensino superior\" WHERE ID_Cliente=5008808'\n",
    "with engine.connect() as conn:\n",
    "    result = conn.execute(text(query))\n",
    "    conn.commit()"
   ]
  },
  {
   "cell_type": "code",
   "execution_count": null,
   "metadata": {},
   "outputs": [],
   "source": [
    "pd.read_sql_table('clientes', engine)"
   ]
  },
  {
   "cell_type": "markdown",
   "metadata": {},
   "source": [
    "# *GASES - Seleção e agrupamento de dados com pandas*"
   ]
  },
  {
   "cell_type": "markdown",
   "metadata": {},
   "source": [
    "## Fazendo a leitura dos dados"
   ]
  },
  {
   "cell_type": "markdown",
   "metadata": {},
   "source": [
    "Vamos analisar dados de emissões de gases de efeito estufa no território brasileiro e criar tabelas e visualizações para entender os dados e gerar insights a partir deles. Os dados foram extraídos do SEEG."
   ]
  },
  {
   "cell_type": "markdown",
   "metadata": {},
   "source": [
    "---\n",
    "ℹ Fonte: SEEG - Sistema de Estimativa de Emissões e Remoções de Gases de Efeito Estufa, Observatório do Clima, acessado em http://seeg.eco.br:\n",
    "\n",
    "- [Download da base de dados](https://drive.google.com/file/d/1YdNX3Qf0sXHj8muyKra70evke_zkvO0g/view)\n",
    "---"
   ]
  },
  {
   "cell_type": "markdown",
   "metadata": {},
   "source": [
    "Primeiramente, vamos importar a biblioteca [`pandas`](https://pandas.pydata.org/docs/index.html) e os dados que serão utilizados. Como os dados estão em um arquivo excel, vamos usar a função [`read_excel()`](https://pandas.pydata.org/docs/reference/api/pandas.read_excel.html)."
   ]
  },
  {
   "cell_type": "code",
   "execution_count": null,
   "metadata": {},
   "outputs": [],
   "source": [
    "import pandas as pd"
   ]
  },
  {
   "cell_type": "code",
   "execution_count": null,
   "metadata": {},
   "outputs": [],
   "source": [
    "emissoes_gases = pd.read_excel('..\\\\files\\\\Dados nacionais v12.0.xlsx', sheet_name = 'Dados')"
   ]
  },
  {
   "cell_type": "code",
   "execution_count": null,
   "metadata": {},
   "outputs": [],
   "source": [
    "emissoes_gases"
   ]
  },
  {
   "cell_type": "markdown",
   "metadata": {},
   "source": [
    "Vamos checar a estrutura do nosso DataFrame com o uso do método [`info()`](https://pandas.pydata.org/docs/reference/api/pandas.DataFrame.info.html?highlight=info#pandas.DataFrame.info), que retorna a quantidade de linhas e colunas, bem como a informação de quantidade de dados nulos e tipos de dados para cada uma das colunas."
   ]
  },
  {
   "cell_type": "code",
   "execution_count": null,
   "metadata": {},
   "outputs": [],
   "source": [
    "emissoes_gases.info()"
   ]
  },
  {
   "cell_type": "markdown",
   "metadata": {},
   "source": [
    "## Ajustando a base de dados"
   ]
  },
  {
   "cell_type": "markdown",
   "metadata": {},
   "source": [
    "Estamos interessados somente na emissão de gases gerados pelos estados que estejam no inventário nacional, portanto vamos identificar os tipos de dados únicos da coluna *Emissão / Remoção / Bunker*."
   ]
  },
  {
   "cell_type": "markdown",
   "metadata": {},
   "source": [
    "---\n",
    "ℹ \n",
    "- *Remoções são dados referentes à retirada dos gases estufa, que é o contrário da emissão*\n",
    "- *NCI são dados não contemplados no inventário nacional*\n",
    "- *Bunkers são emissões de transporte marítimo e aéreo internacional, portanto não são emissões diretas dos estados.*\n",
    "\n",
    "*Informação disponível no site do SEEG: https://seeg.eco.br/entenda-as-estimativas*\n",
    "\n",
    "--- "
   ]
  },
  {
   "cell_type": "code",
   "execution_count": null,
   "metadata": {},
   "outputs": [],
   "source": [
    "emissoes_gases['Emissão/Remoção/Bunker'].unique()"
   ]
  },
  {
   "cell_type": "markdown",
   "metadata": {},
   "source": [
    "Vamos checar primeiro os dados de remoção, para identificar se todos eles são de retirada de gases estufa."
   ]
  },
  {
   "cell_type": "code",
   "execution_count": null,
   "metadata": {},
   "outputs": [],
   "source": [
    "(emissoes_gases['Emissão/Remoção/Bunker'] == 'Remoção NCI') | (emissoes_gases['Emissão/Remoção/Bunker'] == 'Remoção')"
   ]
  },
  {
   "cell_type": "code",
   "execution_count": null,
   "metadata": {},
   "outputs": [],
   "source": [
    "emissoes_gases[emissoes_gases['Emissão/Remoção/Bunker'].isin(['Remoção NCI', 'Remoção'])]"
   ]
  },
  {
   "cell_type": "code",
   "execution_count": null,
   "metadata": {},
   "outputs": [],
   "source": [
    "emissoes_gases.loc[emissoes_gases['Emissão/Remoção/Bunker'].isin(['Remoção NCI', 'Remoção']), 1970:2023]"
   ]
  },
  {
   "cell_type": "markdown",
   "metadata": {},
   "source": [
    "Para identificar se todos os valores são negativos, vamos utilizar a função `max()` para checar se tem algum valor maior do que 0."
   ]
  },
  {
   "cell_type": "code",
   "execution_count": null,
   "metadata": {},
   "outputs": [],
   "source": [
    "emissoes_gases.loc[emissoes_gases['Emissão/Remoção/Bunker'].isin(['Remoção NCI', 'Remoção']), 1970:2023].max()"
   ]
  },
  {
   "cell_type": "markdown",
   "metadata": {},
   "source": [
    "Vamos também identificar se algum valor do tipo *Bunker* corresponde a alguma emissão feita por algum estado."
   ]
  },
  {
   "cell_type": "code",
   "execution_count": null,
   "metadata": {},
   "outputs": [],
   "source": [
    "emissoes_gases.loc[emissoes_gases['Emissão/Remoção/Bunker'] == 'Bunker', 'Estado'].unique()"
   ]
  },
  {
   "cell_type": "code",
   "execution_count": null,
   "metadata": {},
   "outputs": [],
   "source": [
    "emissoes_gases = emissoes_gases[emissoes_gases['Emissão/Remoção/Bunker'] == 'Emissão']\n",
    "emissoes_gases"
   ]
  },
  {
   "cell_type": "markdown",
   "metadata": {},
   "source": [
    "Como não restou nenhum valor útil para análise na coluna de *Emissão / Remoção / Bunker*, vamos removê-la por completo da base de dados."
   ]
  },
  {
   "cell_type": "code",
   "execution_count": null,
   "metadata": {},
   "outputs": [],
   "source": [
    "emissoes_gases = emissoes_gases.drop(columns = 'Emissão/Remoção/Bunker')\n",
    "emissoes_gases"
   ]
  },
  {
   "cell_type": "markdown",
   "metadata": {},
   "source": [
    "## Modificando o formato do DataFrame"
   ]
  },
  {
   "cell_type": "markdown",
   "metadata": {},
   "source": [
    "Para realizar as agregações nos dados de emissão, é necessário que a base de dados esteja em um formato adequado, com os valores de emissão todos em uma mesma coluna. Para isso, devemos modificar o formato da base de dados de forma que as colunas referentes a cada ano se tornem uma só coluna."
   ]
  },
  {
   "cell_type": "code",
   "execution_count": null,
   "metadata": {},
   "outputs": [],
   "source": [
    "emissoes_gases.loc[:,'Gás':'Bioma'].columns"
   ]
  },
  {
   "cell_type": "code",
   "execution_count": null,
   "metadata": {},
   "outputs": [],
   "source": [
    "colunas_info = list(emissoes_gases.loc[:,'Gás':'Bioma'].columns)\n",
    "colunas_info"
   ]
  },
  {
   "cell_type": "code",
   "execution_count": null,
   "metadata": {},
   "outputs": [],
   "source": [
    "emissoes_gases.loc[:,1970:2023].columns"
   ]
  },
  {
   "cell_type": "code",
   "execution_count": null,
   "metadata": {},
   "outputs": [],
   "source": [
    "colunas_emissao = list(emissoes_gases.loc[:,1970:2023].columns)\n",
    "colunas_emissao"
   ]
  },
  {
   "cell_type": "markdown",
   "metadata": {},
   "source": [
    "Para realizar a transformação do DataFrame, utilizamos o método [`melt()`](https://pandas.pydata.org/docs/reference/api/pandas.melt.html). Esse método tem o intuito de transformar um DataFrame de um formato amplo (*wide*) para o formato longo (*long*)."
   ]
  },
  {
   "cell_type": "code",
   "execution_count": null,
   "metadata": {},
   "outputs": [],
   "source": [
    "emissoes_gases.melt(id_vars = colunas_info, value_vars = colunas_emissao, var_name = 'Ano' , value_name = 'Emissão')"
   ]
  },
  {
   "cell_type": "code",
   "execution_count": null,
   "metadata": {},
   "outputs": [],
   "source": [
    "emissoes_por_ano = emissoes_gases.melt(id_vars = colunas_info, value_vars = colunas_emissao, var_name = 'Ano' , value_name = 'Emissão')"
   ]
  },
  {
   "cell_type": "markdown",
   "metadata": {},
   "source": [
    "## Análise dos gases"
   ]
  },
  {
   "cell_type": "markdown",
   "metadata": {},
   "source": [
    "Vamos fazer uma análise agora da quantidade de emissão **total** por tipo de gás. Para isso, vamos realizar um agrupamento dos dados com a função [`groupby()`](https://pandas.pydata.org/docs/reference/api/pandas.DataFrame.groupby.html).\n"
   ]
  },
  {
   "cell_type": "code",
   "execution_count": null,
   "metadata": {},
   "outputs": [],
   "source": [
    "emissoes_por_ano.groupby('Gás')"
   ]
  },
  {
   "cell_type": "markdown",
   "metadata": {},
   "source": [
    "Podemos checar quais dados foram agrupados em cada grupo com uso do atributo [`groups`](https://pandas.pydata.org/docs/reference/api/pandas.core.groupby.GroupBy.groups.html) e realizar seleções de grupos específicos com o método [`get_group()`](https://pandas.pydata.org/docs/reference/api/pandas.core.groupby.GroupBy.get_group.html)."
   ]
  },
  {
   "cell_type": "code",
   "execution_count": null,
   "metadata": {},
   "outputs": [],
   "source": [
    "emissoes_por_ano.groupby('Gás').groups"
   ]
  },
  {
   "cell_type": "code",
   "execution_count": null,
   "metadata": {},
   "outputs": [],
   "source": [
    "emissoes_por_ano.groupby('Gás').get_group('CO2 (t)')"
   ]
  },
  {
   "cell_type": "markdown",
   "metadata": {},
   "source": [
    "Os métodos de agregação possíveis com a utilização do `groupby()`são os seguintes:\n",
    "- `count()` para realizar contagem\n",
    "- `sum()` para soma\n",
    "- `mean()` para a média\n",
    "- `median()` para a mediana\n",
    "- `min()` para o valor mínimo\n",
    "- `max()` para o valor máximo\n",
    "- `std()` para o desvio-padrão\n",
    "- `var()` para a variância"
   ]
  },
  {
   "cell_type": "code",
   "execution_count": null,
   "metadata": {},
   "outputs": [],
   "source": [
    "emissoes_por_ano.groupby('Gás').sum()"
   ]
  },
  {
   "cell_type": "code",
   "execution_count": null,
   "metadata": {},
   "outputs": [],
   "source": [
    "emissao_por_gas = emissoes_por_ano.groupby('Gás').sum().sort_values('Emissão', ascending = False)\n",
    "emissao_por_gas"
   ]
  },
  {
   "cell_type": "code",
   "execution_count": null,
   "metadata": {},
   "outputs": [],
   "source": [
    "emissao_por_gas.plot(kind = 'barh', figsize = (10,6));"
   ]
  },
  {
   "cell_type": "code",
   "execution_count": null,
   "metadata": {},
   "outputs": [],
   "source": [
    "emissao_por_gas.iloc[0:9]"
   ]
  },
  {
   "cell_type": "code",
   "execution_count": null,
   "metadata": {},
   "outputs": [],
   "source": [
    "print(f'A emissão de CO2 corresponde a {float(emissao_por_gas.iloc[0:9].sum()/emissao_por_gas.sum())*100:.2f} % de emissão total de gases estufa no Brasil de 1970 a 2021.')"
   ]
  },
  {
   "cell_type": "markdown",
   "metadata": {},
   "source": [
    "## Emissão de gases por setor"
   ]
  },
  {
   "cell_type": "markdown",
   "metadata": {},
   "source": [
    "Agora vamos em busca de duas informações:\n",
    "\n",
    "- Descobrir quais são os setores mais poluentes para cada gás;\n",
    "- Descobrir quais são os gases mais poluentes para cada setor."
   ]
  },
  {
   "cell_type": "code",
   "execution_count": null,
   "metadata": {},
   "outputs": [],
   "source": [
    "gas_por_setor = emissoes_por_ano.groupby(['Gás', 'Setor de emissão']).sum()\n",
    "gas_por_setor"
   ]
  },
  {
   "cell_type": "markdown",
   "metadata": {},
   "source": [
    "Para descobrir o setor que emite a maior quantidade de CO2, podemos realizar uma seleção específica do gás CO2 com o uso do método *cross-section* [`xs()`](https://pandas.pydata.org/docs/reference/api/pandas.DataFrame.xs.html), extraindo a partir disso o valor máximo e índice máximo com os métodos [`max()`](https://pandas.pydata.org/docs/reference/api/pandas.DataFrame.max.html) e [`idxmax()`](https://pandas.pydata.org/docs/reference/api/pandas.DataFrame.idxmax.html?highlight=idxmax#pandas.DataFrame.idxmax)."
   ]
  },
  {
   "cell_type": "code",
   "execution_count": null,
   "metadata": {},
   "outputs": [],
   "source": [
    "gas_por_setor.xs('CO2 (t)', level = 0)"
   ]
  },
  {
   "cell_type": "code",
   "execution_count": null,
   "metadata": {},
   "outputs": [],
   "source": [
    "gas_por_setor.xs(('CO2 (t)', 'Mudança de Uso da Terra e Floresta'), level = [0,1])"
   ]
  },
  {
   "cell_type": "code",
   "execution_count": null,
   "metadata": {},
   "outputs": [],
   "source": [
    "gas_por_setor.xs('CO2 (t)', level = 0).max()"
   ]
  },
  {
   "cell_type": "code",
   "execution_count": null,
   "metadata": {},
   "outputs": [],
   "source": [
    "gas_por_setor.xs('CO2 (t)', level = 0).idxmax()"
   ]
  },
  {
   "cell_type": "markdown",
   "metadata": {},
   "source": [
    "Para evitar uma forma manual para cada tipo de gás, podemos explorar ainda mais o método `groupby()` em conjunto com o [`idxmax()`](https://pandas.pydata.org/docs/reference/api/pandas.core.groupby.DataFrameGroupBy.idxmax.html?highlight=idxmax#pandas.core.groupby.DataFrameGroupBy.idxmax)."
   ]
  },
  {
   "cell_type": "code",
   "execution_count": null,
   "metadata": {},
   "outputs": [],
   "source": [
    "gas_por_setor.groupby(level = 0).idxmax()"
   ]
  },
  {
   "cell_type": "markdown",
   "metadata": {},
   "source": [
    "Por fim, podemos criar uma tabela sumarizada com as informações dos valores máximos de emissão para cada tipo de gás e com a referência do setor com maior emissão de cada gás."
   ]
  },
  {
   "cell_type": "code",
   "execution_count": null,
   "metadata": {},
   "outputs": [],
   "source": [
    "gas_por_setor.groupby(level = 0).max()"
   ]
  },
  {
   "cell_type": "code",
   "execution_count": null,
   "metadata": {},
   "outputs": [],
   "source": [
    "valores_max = gas_por_setor.groupby(level = 0).max().values"
   ]
  },
  {
   "cell_type": "code",
   "execution_count": null,
   "metadata": {},
   "outputs": [],
   "source": [
    "tabela_sumarizada = gas_por_setor.groupby(level = 0).idxmax()\n",
    "tabela_sumarizada.insert(1, 'Quantidade de emissão', valores_max)\n",
    "tabela_sumarizada"
   ]
  },
  {
   "cell_type": "markdown",
   "metadata": {},
   "source": [
    "Podemos alterar a ordem dos níveis de índice para encontrar a outra informação, que nos diz qual o gás mais emitido para cada tipo de setor. Para isso, vamos utilizar o método [`swaplevel()`](https://pandas.pydata.org/docs/reference/api/pandas.DataFrame.swaplevel.html)."
   ]
  },
  {
   "cell_type": "code",
   "execution_count": null,
   "metadata": {},
   "outputs": [],
   "source": [
    "gas_por_setor.swaplevel(0, 1)"
   ]
  },
  {
   "cell_type": "code",
   "execution_count": null,
   "metadata": {},
   "outputs": [],
   "source": [
    "gas_por_setor.swaplevel(0, 1).groupby(level = 0).idxmax()"
   ]
  },
  {
   "cell_type": "markdown",
   "metadata": {},
   "source": [
    "## Emissão ao longo dos anos"
   ]
  },
  {
   "cell_type": "markdown",
   "metadata": {},
   "source": [
    "Vamos identificar se as emissões de gases estufas aumentaram ou diminuíram ao longo dos anos e visualizar essa variação para cada tipo de gás emitido separadamente."
   ]
  },
  {
   "cell_type": "code",
   "execution_count": null,
   "metadata": {},
   "outputs": [],
   "source": [
    "emissoes_por_ano"
   ]
  },
  {
   "cell_type": "code",
   "execution_count": null,
   "metadata": {},
   "outputs": [],
   "source": [
    "emissoes_por_ano.groupby('Ano').mean().plot(figsize = (10,6));"
   ]
  },
  {
   "cell_type": "code",
   "execution_count": null,
   "metadata": {},
   "outputs": [],
   "source": [
    "emissoes_por_ano.groupby('Ano').mean().idxmax()"
   ]
  },
  {
   "cell_type": "code",
   "execution_count": null,
   "metadata": {},
   "outputs": [],
   "source": [
    "emissoes_por_ano.groupby(['Ano', 'Gás']).mean()"
   ]
  },
  {
   "cell_type": "code",
   "execution_count": null,
   "metadata": {},
   "outputs": [],
   "source": [
    "media_emissao_anual = emissoes_por_ano.groupby(['Ano', 'Gás']).mean().reset_index()\n",
    "media_emissao_anual"
   ]
  },
  {
   "cell_type": "code",
   "execution_count": null,
   "metadata": {},
   "outputs": [],
   "source": [
    "media_emissao_anual = media_emissao_anual.pivot_table(index = 'Ano', columns = 'Gás', values = 'Emissão')\n",
    "media_emissao_anual"
   ]
  },
  {
   "cell_type": "code",
   "execution_count": null,
   "metadata": {},
   "outputs": [],
   "source": [
    "media_emissao_anual.plot(subplots = True, figsize = (10,40));"
   ]
  },
  {
   "cell_type": "markdown",
   "metadata": {},
   "source": [
    "## População dos estados"
   ]
  },
  {
   "cell_type": "markdown",
   "metadata": {},
   "source": [
    "Vamos realizar a importação de uma nova base de dados com a informação da população de cada estado do Brasil, para posteriormente encontrarmos a emissão per capita de cada estado.\n",
    "\n",
    "ℹ\n",
    "Os dados foram obtidos através do [censo do IBGE](https://www.ibge.gov.br/estatisticas/sociais/saude/22827-censo-demografico-2022.html?=&t=resultados)"
   ]
  },
  {
   "cell_type": "code",
   "execution_count": null,
   "metadata": {},
   "outputs": [],
   "source": [
    "populacao_estados = pd.read_excel('/content/drive/MyDrive/Alura/dados/POP2022_Municipios.xls', header = 1, skipfooter = 34)\n",
    "populacao_estados"
   ]
  },
  {
   "cell_type": "markdown",
   "metadata": {},
   "source": [
    "Como as informações são referentes aos municípios, vamos realizar uma agregação com base na coluna estado."
   ]
  },
  {
   "cell_type": "code",
   "execution_count": null,
   "metadata": {},
   "outputs": [],
   "source": [
    "populacao_estados.groupby('UF').sum()"
   ]
  },
  {
   "cell_type": "markdown",
   "metadata": {},
   "source": [
    "Percebemos que a informação da população não foi agregada, portanto será necessário algum tratamento nessa coluna para retornar devidamente os dados."
   ]
  },
  {
   "cell_type": "code",
   "execution_count": null,
   "metadata": {},
   "outputs": [],
   "source": [
    "# populacao_estados['POPULAÇÃO'].astype(int)"
   ]
  },
  {
   "cell_type": "code",
   "execution_count": null,
   "metadata": {},
   "outputs": [],
   "source": [
    "populacao_estados[populacao_estados['POPULAÇÃO'].str.contains('\\(', na = False)]"
   ]
  },
  {
   "cell_type": "code",
   "execution_count": null,
   "metadata": {},
   "outputs": [],
   "source": [
    "populacao_estados = populacao_estados.assign(populacao_sem_parenteses = populacao_estados['POPULAÇÃO'].replace('\\(\\d{1,2}\\)', '', regex = True),\n",
    "                                             populacao = lambda x: x.loc[:,'populacao_sem_parenteses'].replace('\\.', '', regex = True))"
   ]
  },
  {
   "cell_type": "code",
   "execution_count": null,
   "metadata": {},
   "outputs": [],
   "source": [
    "populacao_estados[populacao_estados['POPULAÇÃO'].str.contains('\\(', na = False)]"
   ]
  },
  {
   "cell_type": "code",
   "execution_count": null,
   "metadata": {},
   "outputs": [],
   "source": [
    "populacao_estados.loc[:,'populacao'] = populacao_estados['populacao'].astype(int)"
   ]
  },
  {
   "cell_type": "code",
   "execution_count": null,
   "metadata": {},
   "outputs": [],
   "source": [
    "populacao_estados = populacao_estados.groupby('UF').sum()['populacao'].reset_index()\n",
    "populacao_estados"
   ]
  },
  {
   "cell_type": "markdown",
   "metadata": {},
   "source": [
    "## Unindo os dados"
   ]
  },
  {
   "cell_type": "markdown",
   "metadata": {},
   "source": [
    "Com as informações tratadas, podemos realizar a junção dos dados de emissão com a população, com uso do método [`merge()`](https://pandas.pydata.org/docs/reference/api/pandas.DataFrame.merge.html)."
   ]
  },
  {
   "cell_type": "code",
   "execution_count": null,
   "metadata": {},
   "outputs": [],
   "source": [
    "emissao_estados = emissoes_por_ano[emissoes_por_ano['Ano'] == 2021].groupby('Estado').sum().reset_index()\n",
    "emissao_estados"
   ]
  },
  {
   "cell_type": "code",
   "execution_count": null,
   "metadata": {},
   "outputs": [],
   "source": [
    "dados_agrupados = pd.merge(emissao_estados, populacao_estados, left_on = 'Estado', right_on = 'UF')\n",
    "dados_agrupados"
   ]
  },
  {
   "cell_type": "markdown",
   "metadata": {},
   "source": [
    "Vamos verificar se há algum indício de se a emissão aumenta conforme o tamanho da população."
   ]
  },
  {
   "cell_type": "code",
   "execution_count": null,
   "metadata": {},
   "outputs": [],
   "source": [
    "dados_agrupados.plot(x = 'populacao', y= 'Emissão', kind = 'scatter', figsize=(8,6));"
   ]
  },
  {
   "cell_type": "markdown",
   "metadata": {},
   "source": [
    "Se quisermos saber a informação de cada estado nos pontos do gráfico, podemos utilizar uma outra biblioteca para obter um gráfico mais elaborado."
   ]
  },
  {
   "cell_type": "code",
   "execution_count": null,
   "metadata": {},
   "outputs": [],
   "source": [
    "#importar\n",
    "import plotly.express as px"
   ]
  },
  {
   "cell_type": "code",
   "execution_count": null,
   "metadata": {},
   "outputs": [],
   "source": [
    "px.scatter(data_frame = dados_agrupados, x = 'populacao', y = 'Emissão', text = 'Estado', opacity = 0)"
   ]
  },
  {
   "cell_type": "markdown",
   "metadata": {},
   "source": [
    "Para obtermos a emissão per capita, criaremos uma nova coluna com a divisão dos valores de emissão pela população de cada estado."
   ]
  },
  {
   "cell_type": "code",
   "execution_count": null,
   "metadata": {},
   "outputs": [],
   "source": [
    "dados_agrupados = dados_agrupados.assign(emissao_per_capita = dados_agrupados['Emissão']/dados_agrupados['populacao']).sort_values('emissao_per_capita', ascending = False)\n",
    "dados_agrupados"
   ]
  },
  {
   "cell_type": "code",
   "execution_count": null,
   "metadata": {},
   "outputs": [],
   "source": [
    "px.bar(data_frame = dados_agrupados, x = 'Estado', y = 'emissao_per_capita')"
   ]
  },
  {
   "cell_type": "markdown",
   "metadata": {},
   "source": [
    "# Transformação e Manipulação - Hospedagem Imoveis\n",
    "\n",
    "## Exercicos com pandas para normalização, tratamento de tipos de dados, regex, e lambda"
   ]
  },
  {
   "cell_type": "code",
   "execution_count": null,
   "metadata": {},
   "outputs": [],
   "source": [
    "import pandas as pd"
   ]
  },
  {
   "cell_type": "code",
   "execution_count": null,
   "metadata": {},
   "outputs": [],
   "source": [
    "dados = pd.read_json('/content/dados_hospedagem.json')\n",
    "dados.head()"
   ]
  },
  {
   "cell_type": "code",
   "execution_count": null,
   "metadata": {},
   "outputs": [],
   "source": [
    "dados = pd.json_normalize(dados['info_moveis'])\n",
    "dados"
   ]
  },
  {
   "cell_type": "code",
   "execution_count": null,
   "metadata": {},
   "outputs": [],
   "source": [
    "colunas = list(dados.columns)\n",
    "colunas"
   ]
  },
  {
   "cell_type": "code",
   "execution_count": null,
   "metadata": {},
   "outputs": [],
   "source": [
    "dados = dados.explode(colunas[3:])\n",
    "dados"
   ]
  },
  {
   "cell_type": "code",
   "execution_count": null,
   "metadata": {},
   "outputs": [],
   "source": [
    "dados.reset_index(inplace = True,drop=True)\n",
    "dados.head()"
   ]
  },
  {
   "cell_type": "code",
   "execution_count": null,
   "metadata": {},
   "outputs": [],
   "source": [
    "dados.info()"
   ]
  },
  {
   "cell_type": "code",
   "execution_count": null,
   "metadata": {},
   "outputs": [],
   "source": [
    "import numpy as np"
   ]
  },
  {
   "cell_type": "code",
   "execution_count": null,
   "metadata": {},
   "outputs": [],
   "source": [
    "dados['max_hospedes']=dados['max_hospedes'].astype(np.int64)"
   ]
  },
  {
   "cell_type": "code",
   "execution_count": null,
   "metadata": {},
   "outputs": [],
   "source": [
    "dados.info()"
   ]
  },
  {
   "cell_type": "code",
   "execution_count": null,
   "metadata": {},
   "outputs": [],
   "source": [
    "col_numericas = ['quantidade_banheiros','quantidade_quartos','quantidade_camas'] "
   ]
  },
  {
   "cell_type": "code",
   "execution_count": null,
   "metadata": {},
   "outputs": [],
   "source": [
    "dados[col_numericas] = dados[col_numericas].astype(np.int64)"
   ]
  },
  {
   "cell_type": "code",
   "execution_count": null,
   "metadata": {},
   "outputs": [],
   "source": [
    "dados['avaliacao_geral'] = dados['avaliacao_geral'].astype(np.float64)"
   ]
  },
  {
   "cell_type": "code",
   "execution_count": null,
   "metadata": {},
   "outputs": [],
   "source": [
    "dados.info()"
   ]
  },
  {
   "cell_type": "code",
   "execution_count": null,
   "metadata": {},
   "outputs": [],
   "source": [
    "dados['preco'] = dados['preco'].apply(lambda x: x.replace('$','').replace(',','').strip())"
   ]
  },
  {
   "cell_type": "code",
   "execution_count": null,
   "metadata": {},
   "outputs": [],
   "source": [
    "dados['preco'] = dados['preco'].astype(np.float64)"
   ]
  },
  {
   "cell_type": "code",
   "execution_count": null,
   "metadata": {},
   "outputs": [],
   "source": [
    "dados.info()"
   ]
  },
  {
   "cell_type": "code",
   "execution_count": null,
   "metadata": {},
   "outputs": [],
   "source": [
    "dados[['taxa_deposito','taxa_limpeza']] = dados[['taxa_deposito','taxa_limpeza']].applymap(lambda x: x.replace('$','').replace(',','').strip())"
   ]
  },
  {
   "cell_type": "code",
   "execution_count": null,
   "metadata": {},
   "outputs": [],
   "source": [
    "dados[['taxa_deposito','taxa_limpeza']] = dados[['taxa_deposito','taxa_limpeza']].astype(np.float64)"
   ]
  },
  {
   "cell_type": "code",
   "execution_count": null,
   "metadata": {},
   "outputs": [],
   "source": [
    "dados.info()"
   ]
  },
  {
   "cell_type": "code",
   "execution_count": null,
   "metadata": {},
   "outputs": [],
   "source": [
    "dados['descricao_local'] = dados['descricao_local'].str.lower()"
   ]
  },
  {
   "cell_type": "code",
   "execution_count": null,
   "metadata": {},
   "outputs": [],
   "source": [
    "dados.head()"
   ]
  },
  {
   "cell_type": "code",
   "execution_count": null,
   "metadata": {},
   "outputs": [],
   "source": [
    "dados['descricao_local'][3169]"
   ]
  },
  {
   "cell_type": "code",
   "execution_count": null,
   "metadata": {},
   "outputs": [],
   "source": [
    "dados['descricao_local'] = dados['descricao_local'].str.replace('[^a-zA-Z0-9\\-\\']',' ',regex=True)"
   ]
  },
  {
   "cell_type": "code",
   "execution_count": null,
   "metadata": {},
   "outputs": [],
   "source": [
    "dados['descricao_local'] = dados['descricao_local'].str.replace('(?<!\\w)-(?!\\w)',' ',regex=True)"
   ]
  },
  {
   "cell_type": "code",
   "execution_count": null,
   "metadata": {},
   "outputs": [],
   "source": [
    "dados['descricao_local'] = dados['descricao_local'].str.split()\n",
    "dados.head()"
   ]
  },
  {
   "cell_type": "code",
   "execution_count": null,
   "metadata": {},
   "outputs": [],
   "source": [
    "dados['comodidades'] = dados['comodidades'].str.replace('\\{|}|\\\"','',regex=True)"
   ]
  },
  {
   "cell_type": "code",
   "execution_count": null,
   "metadata": {},
   "outputs": [],
   "source": [
    "dados['comodidades'] = dados['comodidades'].str.split(',')\n",
    "dados.head()"
   ]
  },
  {
   "cell_type": "code",
   "execution_count": null,
   "metadata": {},
   "outputs": [],
   "source": [
    "dt_data = pd.read_json('/content/moveis_disponiveis.json')\n",
    "dt_data.head()"
   ]
  },
  {
   "cell_type": "code",
   "execution_count": null,
   "metadata": {},
   "outputs": [],
   "source": [
    "dt_data.info()"
   ]
  },
  {
   "cell_type": "code",
   "execution_count": null,
   "metadata": {},
   "outputs": [],
   "source": [
    "dt_data['data'] = pd.to_datetime(dt_data['data'])"
   ]
  },
  {
   "cell_type": "code",
   "execution_count": null,
   "metadata": {},
   "outputs": [],
   "source": [
    "dt_data.info()"
   ]
  },
  {
   "cell_type": "code",
   "execution_count": null,
   "metadata": {},
   "outputs": [],
   "source": [
    "dt_data.head()"
   ]
  },
  {
   "cell_type": "code",
   "execution_count": null,
   "metadata": {},
   "outputs": [],
   "source": [
    "dt_data['data'].dt.strftime('%Y-%m')"
   ]
  },
  {
   "cell_type": "code",
   "execution_count": null,
   "metadata": {},
   "outputs": [],
   "source": [
    "subset = dt_data.groupby(dt_data['data'].dt.strftime('%Y-%m'))['vaga_disponivel'].sum()\n",
    "subset"
   ]
  },
  {
   "cell_type": "markdown",
   "metadata": {},
   "source": [
    "# Tratamento churn - Telecon\n",
    "\n",
    "## Dicionário dos dados:\n",
    "\n",
    "- Cliente\n",
    "1) genero: gênero (masculino e feminino)\n",
    "2) idoso: informação sobre um(a) cliente ter ou não idade igual ou maior que 65 anos\n",
    "3) parceiro: se o(a) cliente possui ou não um(a) parceiro ou parceira\n",
    "4) dependentes: se o(a) cliente possui ou não dependentes\n",
    "5) tempo_servico: meses de contrato do(a) cliente\n",
    "\n",
    "- Serviço de telefonia\n",
    "1) servico_telefone: assinatura de serviço telefônico\n",
    "2) varias_linhas: assinatura de mais de uma linha de telefone\n",
    "\n",
    "- Serviço de internet\n",
    "\n",
    "1) servico_internet: assinatura de um provedor internet\n",
    "2) seguranca_online: assinatura adicional de segurança online\n",
    "3) backup_online: assinatura adicional de backup online\n",
    "4) protecao_dispositivo: assinatura adicional de proteção no dispositivo\n",
    "5) suporte_tecnico: assinatura adicional de suporte técnico, menos tempo de espera\n",
    "6) tv_streaming: assinatura de TV a cabo\n",
    "7) filmes_streaming: assinatura de streaming de filmes\n",
    "\n",
    "- Conta\n",
    "1) contrato: tipo de contrato\n",
    "2) faturamente_eletronico: se o(a) cliente prefere receber a fatura online\n",
    "3) metodo_pagamento: forma de pagamento\n",
    "4) cobranca.mensal: total de todos os serviços do(a) cliente por mês\n",
    "5) cobranca.Total: total gasto pelo(a) cliente"
   ]
  },
  {
   "cell_type": "markdown",
   "metadata": {},
   "source": []
  },
  {
   "cell_type": "code",
   "execution_count": null,
   "metadata": {},
   "outputs": [],
   "source": [
    "import pandas as pd\n",
    "\n",
    "dados_churn = pd.read_json(\"../files/telecon.json\")\n",
    "dados_churn"
   ]
  },
  {
   "cell_type": "code",
   "execution_count": null,
   "metadata": {},
   "outputs": [],
   "source": [
    "dados_churn['conta'][0]"
   ]
  },
  {
   "cell_type": "code",
   "execution_count": null,
   "metadata": {},
   "outputs": [],
   "source": [
    "pd.json_normalize(dados_churn['conta']).head()"
   ]
  },
  {
   "cell_type": "code",
   "execution_count": null,
   "metadata": {},
   "outputs": [],
   "source": [
    "import json\n",
    "with open ('../files/telecon.json') as f:\n",
    "    json_bruto = json.load(f)"
   ]
  },
  {
   "cell_type": "code",
   "execution_count": null,
   "metadata": {},
   "outputs": [],
   "source": [
    "json_bruto"
   ]
  },
  {
   "cell_type": "code",
   "execution_count": null,
   "metadata": {},
   "outputs": [],
   "source": [
    "dados_normalizados = pd.json_normalize(json_bruto,sep=\"_\")\n",
    "dados_normalizados.head()"
   ]
  },
  {
   "cell_type": "code",
   "execution_count": null,
   "metadata": {},
   "outputs": [],
   "source": [
    "dados_normalizados.info()"
   ]
  },
  {
   "cell_type": "code",
   "execution_count": null,
   "metadata": {},
   "outputs": [],
   "source": [
    "#dados_normalizados['conta_cobranca_Total'] = dados_normalizados['conta_cobranca_Total'].astype(float)\n",
    "\n",
    "dados_normalizados[dados_normalizados['conta_cobranca_Total'] == ' '].head()"
   ]
  },
  {
   "cell_type": "code",
   "execution_count": null,
   "metadata": {},
   "outputs": [],
   "source": [
    "dados_normalizados[dados_normalizados['conta_cobranca_Total'] == ' '][['cliente_tempo_servico','conta_contrato','conta_cobranca_mensal','conta_cobranca_Total'\n",
    "    ]]"
   ]
  },
  {
   "cell_type": "code",
   "execution_count": null,
   "metadata": {},
   "outputs": [],
   "source": [
    "dados_normalizados[dados_normalizados['conta_cobranca_Total'] == ' '].index"
   ]
  },
  {
   "cell_type": "code",
   "execution_count": null,
   "metadata": {},
   "outputs": [],
   "source": [
    "idx = dados_normalizados[dados_normalizados['conta_cobranca_Total'] == ' '].index"
   ]
  },
  {
   "cell_type": "code",
   "execution_count": null,
   "metadata": {},
   "outputs": [],
   "source": [
    "dados_normalizados.loc[idx, \"conta_cobranca_Total\"] = dados_normalizados.loc[idx, \"conta_cobranca_mensal\"] * 24"
   ]
  },
  {
   "cell_type": "code",
   "execution_count": null,
   "metadata": {},
   "outputs": [],
   "source": [
    "dados_normalizados.loc[idx, \"cliente_tempo_servico\"] = 24"
   ]
  },
  {
   "cell_type": "code",
   "execution_count": null,
   "metadata": {},
   "outputs": [],
   "source": [
    "dados_normalizados.loc[idx][['cliente_tempo_servico','conta_contrato','conta_cobranca_mensal','conta_cobranca_Total']]\n"
   ]
  },
  {
   "cell_type": "code",
   "execution_count": null,
   "metadata": {},
   "outputs": [],
   "source": [
    "dados_normalizados['conta_cobranca_Total'] = dados_normalizados['conta_cobranca_Total'].astype(float)"
   ]
  },
  {
   "cell_type": "code",
   "execution_count": null,
   "metadata": {},
   "outputs": [],
   "source": [
    "dados_normalizados.info()"
   ]
  },
  {
   "cell_type": "code",
   "execution_count": null,
   "metadata": {},
   "outputs": [],
   "source": [
    "#dados_normalizados = dados_normalizados.drop(['cliente_tempo_serviço'],axis=1)\n",
    "\n",
    "dados_normalizados.info()"
   ]
  },
  {
   "cell_type": "markdown",
   "metadata": {},
   "source": [
    "## Identificando e tratando string vazias"
   ]
  },
  {
   "cell_type": "code",
   "execution_count": null,
   "metadata": {},
   "outputs": [],
   "source": [
    "for col in dados_normalizados.columns:\n",
    "    print(f'coluna: {col}')\n",
    "    print(dados_normalizados[col].unique())\n",
    "    print('-' * 30)"
   ]
  },
  {
   "cell_type": "code",
   "execution_count": null,
   "metadata": {},
   "outputs": [],
   "source": [
    "dados_normalizados.query('Churn == \"\"')"
   ]
  },
  {
   "cell_type": "code",
   "execution_count": null,
   "metadata": {},
   "outputs": [],
   "source": [
    "dados_sem_vazio = dados_normalizados[dados_normalizados['Churn'] != ''].copy()"
   ]
  },
  {
   "cell_type": "code",
   "execution_count": null,
   "metadata": {},
   "outputs": [],
   "source": [
    "dados_sem_vazio.info()"
   ]
  },
  {
   "cell_type": "code",
   "execution_count": null,
   "metadata": {},
   "outputs": [],
   "source": [
    "dados_sem_vazio.reset_index(drop = True,inplace=True)"
   ]
  },
  {
   "cell_type": "code",
   "execution_count": null,
   "metadata": {},
   "outputs": [],
   "source": [
    "dados_sem_vazio"
   ]
  },
  {
   "cell_type": "markdown",
   "metadata": {},
   "source": [
    "## Identificando e tratando dados duplicados"
   ]
  },
  {
   "cell_type": "code",
   "execution_count": 70,
   "metadata": {},
   "outputs": [
    {
     "data": {
      "text/plain": [
       "0       False\n",
       "1       False\n",
       "2       False\n",
       "3       False\n",
       "4       False\n",
       "        ...  \n",
       "7113     True\n",
       "7114     True\n",
       "7115     True\n",
       "7116     True\n",
       "7117     True\n",
       "Length: 7118, dtype: bool"
      ]
     },
     "execution_count": 70,
     "metadata": {},
     "output_type": "execute_result"
    }
   ],
   "source": [
    "dados_sem_vazio.duplicated()"
   ]
  },
  {
   "cell_type": "code",
   "execution_count": 72,
   "metadata": {},
   "outputs": [
    {
     "data": {
      "text/plain": [
       "np.int64(75)"
      ]
     },
     "execution_count": 72,
     "metadata": {},
     "output_type": "execute_result"
    }
   ],
   "source": [
    "dados_sem_vazio.duplicated().sum()"
   ]
  },
  {
   "cell_type": "code",
   "execution_count": 73,
   "metadata": {},
   "outputs": [
    {
     "data": {
      "text/plain": [
       "0       False\n",
       "1       False\n",
       "2       False\n",
       "3       False\n",
       "4       False\n",
       "        ...  \n",
       "7113     True\n",
       "7114     True\n",
       "7115     True\n",
       "7116     True\n",
       "7117     True\n",
       "Length: 7118, dtype: bool"
      ]
     },
     "execution_count": 73,
     "metadata": {},
     "output_type": "execute_result"
    }
   ],
   "source": [
    "filtro_duplicadas = dados_sem_vazio.duplicated()\n",
    "filtro_duplicadas\n"
   ]
  },
  {
   "cell_type": "code",
   "execution_count": 75,
   "metadata": {},
   "outputs": [
    {
     "data": {
      "text/html": [
       "<div>\n",
       "<style scoped>\n",
       "    .dataframe tbody tr th:only-of-type {\n",
       "        vertical-align: middle;\n",
       "    }\n",
       "\n",
       "    .dataframe tbody tr th {\n",
       "        vertical-align: top;\n",
       "    }\n",
       "\n",
       "    .dataframe thead th {\n",
       "        text-align: right;\n",
       "    }\n",
       "</style>\n",
       "<table border=\"1\" class=\"dataframe\">\n",
       "  <thead>\n",
       "    <tr style=\"text-align: right;\">\n",
       "      <th></th>\n",
       "      <th>id_cliente</th>\n",
       "      <th>Churn</th>\n",
       "      <th>cliente_genero</th>\n",
       "      <th>cliente_idoso</th>\n",
       "      <th>cliente_parceiro</th>\n",
       "      <th>cliente_dependentes</th>\n",
       "      <th>cliente_tempo_servico</th>\n",
       "      <th>telefone_servico_telefone</th>\n",
       "      <th>telefone_varias_linhas</th>\n",
       "      <th>internet_servico_internet</th>\n",
       "      <th>...</th>\n",
       "      <th>internet_backup_online</th>\n",
       "      <th>internet_protecao_dispositivo</th>\n",
       "      <th>internet_suporte_tecnico</th>\n",
       "      <th>internet_tv_streaming</th>\n",
       "      <th>internet_filmes_streaming</th>\n",
       "      <th>conta_contrato</th>\n",
       "      <th>conta_faturamente_eletronico</th>\n",
       "      <th>conta_metodo_pagamento</th>\n",
       "      <th>conta_cobranca_mensal</th>\n",
       "      <th>conta_cobranca_Total</th>\n",
       "    </tr>\n",
       "  </thead>\n",
       "  <tbody>\n",
       "    <tr>\n",
       "      <th>7043</th>\n",
       "      <td>0675-NCDYU</td>\n",
       "      <td>nao</td>\n",
       "      <td>feminino</td>\n",
       "      <td>0</td>\n",
       "      <td>sim</td>\n",
       "      <td>sim</td>\n",
       "      <td>72.0</td>\n",
       "      <td>sim</td>\n",
       "      <td>sim</td>\n",
       "      <td>fibra otica</td>\n",
       "      <td>...</td>\n",
       "      <td>sim</td>\n",
       "      <td>sim</td>\n",
       "      <td>sim</td>\n",
       "      <td>sim</td>\n",
       "      <td>sim</td>\n",
       "      <td>dois anos</td>\n",
       "      <td>sim</td>\n",
       "      <td>cartao de credito (automatico)</td>\n",
       "      <td>116.40</td>\n",
       "      <td>8543.25</td>\n",
       "    </tr>\n",
       "    <tr>\n",
       "      <th>7044</th>\n",
       "      <td>6754-LZUKA</td>\n",
       "      <td>nao</td>\n",
       "      <td>masculino</td>\n",
       "      <td>0</td>\n",
       "      <td>sim</td>\n",
       "      <td>nao</td>\n",
       "      <td>61.0</td>\n",
       "      <td>sim</td>\n",
       "      <td>sim</td>\n",
       "      <td>DSL</td>\n",
       "      <td>...</td>\n",
       "      <td>sim</td>\n",
       "      <td>sim</td>\n",
       "      <td>nao</td>\n",
       "      <td>sim</td>\n",
       "      <td>sim</td>\n",
       "      <td>dois anos</td>\n",
       "      <td>nao</td>\n",
       "      <td>transferencia bancaria (automatica)</td>\n",
       "      <td>80.90</td>\n",
       "      <td>4932.50</td>\n",
       "    </tr>\n",
       "    <tr>\n",
       "      <th>7045</th>\n",
       "      <td>2192-CKRLV</td>\n",
       "      <td>nao</td>\n",
       "      <td>feminino</td>\n",
       "      <td>0</td>\n",
       "      <td>sim</td>\n",
       "      <td>nao</td>\n",
       "      <td>72.0</td>\n",
       "      <td>nao</td>\n",
       "      <td>sem servico de telefone</td>\n",
       "      <td>DSL</td>\n",
       "      <td>...</td>\n",
       "      <td>sim</td>\n",
       "      <td>sim</td>\n",
       "      <td>nao</td>\n",
       "      <td>nao</td>\n",
       "      <td>sim</td>\n",
       "      <td>dois anos</td>\n",
       "      <td>sim</td>\n",
       "      <td>cheque eletronico</td>\n",
       "      <td>49.20</td>\n",
       "      <td>3580.95</td>\n",
       "    </tr>\n",
       "    <tr>\n",
       "      <th>7046</th>\n",
       "      <td>9170-ARBTB</td>\n",
       "      <td>nao</td>\n",
       "      <td>feminino</td>\n",
       "      <td>0</td>\n",
       "      <td>sim</td>\n",
       "      <td>sim</td>\n",
       "      <td>52.0</td>\n",
       "      <td>sim</td>\n",
       "      <td>nao</td>\n",
       "      <td>nao</td>\n",
       "      <td>...</td>\n",
       "      <td>sem servico de internet</td>\n",
       "      <td>sem servico de internet</td>\n",
       "      <td>sem servico de internet</td>\n",
       "      <td>sem servico de internet</td>\n",
       "      <td>sem servico de internet</td>\n",
       "      <td>um ano</td>\n",
       "      <td>nao</td>\n",
       "      <td>cartao de credito (automatico)</td>\n",
       "      <td>19.60</td>\n",
       "      <td>1012.40</td>\n",
       "    </tr>\n",
       "    <tr>\n",
       "      <th>7047</th>\n",
       "      <td>0447-BEMNG</td>\n",
       "      <td>sim</td>\n",
       "      <td>feminino</td>\n",
       "      <td>0</td>\n",
       "      <td>sim</td>\n",
       "      <td>nao</td>\n",
       "      <td>48.0</td>\n",
       "      <td>nao</td>\n",
       "      <td>sem servico de telefone</td>\n",
       "      <td>DSL</td>\n",
       "      <td>...</td>\n",
       "      <td>nao</td>\n",
       "      <td>sim</td>\n",
       "      <td>nao</td>\n",
       "      <td>nao</td>\n",
       "      <td>sim</td>\n",
       "      <td>mes a mes</td>\n",
       "      <td>sim</td>\n",
       "      <td>transferencia bancaria (automatica)</td>\n",
       "      <td>45.30</td>\n",
       "      <td>2145.00</td>\n",
       "    </tr>\n",
       "    <tr>\n",
       "      <th>...</th>\n",
       "      <td>...</td>\n",
       "      <td>...</td>\n",
       "      <td>...</td>\n",
       "      <td>...</td>\n",
       "      <td>...</td>\n",
       "      <td>...</td>\n",
       "      <td>...</td>\n",
       "      <td>...</td>\n",
       "      <td>...</td>\n",
       "      <td>...</td>\n",
       "      <td>...</td>\n",
       "      <td>...</td>\n",
       "      <td>...</td>\n",
       "      <td>...</td>\n",
       "      <td>...</td>\n",
       "      <td>...</td>\n",
       "      <td>...</td>\n",
       "      <td>...</td>\n",
       "      <td>...</td>\n",
       "      <td>...</td>\n",
       "      <td>...</td>\n",
       "    </tr>\n",
       "    <tr>\n",
       "      <th>7113</th>\n",
       "      <td>5792-JALQC</td>\n",
       "      <td>nao</td>\n",
       "      <td>feminino</td>\n",
       "      <td>1</td>\n",
       "      <td>nao</td>\n",
       "      <td>nao</td>\n",
       "      <td>52.0</td>\n",
       "      <td>sim</td>\n",
       "      <td>sim</td>\n",
       "      <td>DSL</td>\n",
       "      <td>...</td>\n",
       "      <td>nao</td>\n",
       "      <td>sim</td>\n",
       "      <td>nao</td>\n",
       "      <td>nao</td>\n",
       "      <td>nao</td>\n",
       "      <td>dois anos</td>\n",
       "      <td>nao</td>\n",
       "      <td>transferencia bancaria (automatica)</td>\n",
       "      <td>59.85</td>\n",
       "      <td>3103.25</td>\n",
       "    </tr>\n",
       "    <tr>\n",
       "      <th>7114</th>\n",
       "      <td>5172-RKOCB</td>\n",
       "      <td>nao</td>\n",
       "      <td>masculino</td>\n",
       "      <td>0</td>\n",
       "      <td>sim</td>\n",
       "      <td>nao</td>\n",
       "      <td>72.0</td>\n",
       "      <td>sim</td>\n",
       "      <td>sim</td>\n",
       "      <td>fibra otica</td>\n",
       "      <td>...</td>\n",
       "      <td>sim</td>\n",
       "      <td>nao</td>\n",
       "      <td>sim</td>\n",
       "      <td>sim</td>\n",
       "      <td>sim</td>\n",
       "      <td>dois anos</td>\n",
       "      <td>sim</td>\n",
       "      <td>cartao de credito (automatico)</td>\n",
       "      <td>108.95</td>\n",
       "      <td>7875.00</td>\n",
       "    </tr>\n",
       "    <tr>\n",
       "      <th>7115</th>\n",
       "      <td>1934-MKPXS</td>\n",
       "      <td>nao</td>\n",
       "      <td>masculino</td>\n",
       "      <td>0</td>\n",
       "      <td>sim</td>\n",
       "      <td>sim</td>\n",
       "      <td>33.0</td>\n",
       "      <td>sim</td>\n",
       "      <td>nao</td>\n",
       "      <td>nao</td>\n",
       "      <td>...</td>\n",
       "      <td>sem servico de internet</td>\n",
       "      <td>sem servico de internet</td>\n",
       "      <td>sem servico de internet</td>\n",
       "      <td>sem servico de internet</td>\n",
       "      <td>sem servico de internet</td>\n",
       "      <td>um ano</td>\n",
       "      <td>nao</td>\n",
       "      <td>cartao de credito (automatico)</td>\n",
       "      <td>20.10</td>\n",
       "      <td>620.55</td>\n",
       "    </tr>\n",
       "    <tr>\n",
       "      <th>7116</th>\n",
       "      <td>5959-BELXA</td>\n",
       "      <td>sim</td>\n",
       "      <td>masculino</td>\n",
       "      <td>1</td>\n",
       "      <td>nao</td>\n",
       "      <td>nao</td>\n",
       "      <td>32.0</td>\n",
       "      <td>sim</td>\n",
       "      <td>sim</td>\n",
       "      <td>fibra otica</td>\n",
       "      <td>...</td>\n",
       "      <td>nao</td>\n",
       "      <td>nao</td>\n",
       "      <td>nao</td>\n",
       "      <td>sim</td>\n",
       "      <td>sim</td>\n",
       "      <td>mes a mes</td>\n",
       "      <td>sim</td>\n",
       "      <td>cartao de credito (automatico)</td>\n",
       "      <td>96.15</td>\n",
       "      <td>3019.25</td>\n",
       "    </tr>\n",
       "    <tr>\n",
       "      <th>7117</th>\n",
       "      <td>4452-QIIEB</td>\n",
       "      <td>nao</td>\n",
       "      <td>masculino</td>\n",
       "      <td>0</td>\n",
       "      <td>nao</td>\n",
       "      <td>nao</td>\n",
       "      <td>7.0</td>\n",
       "      <td>sim</td>\n",
       "      <td>nao</td>\n",
       "      <td>DSL</td>\n",
       "      <td>...</td>\n",
       "      <td>nao</td>\n",
       "      <td>nao</td>\n",
       "      <td>nao</td>\n",
       "      <td>nao</td>\n",
       "      <td>nao</td>\n",
       "      <td>mes a mes</td>\n",
       "      <td>nao</td>\n",
       "      <td>cheque pelo correio</td>\n",
       "      <td>43.90</td>\n",
       "      <td>278.40</td>\n",
       "    </tr>\n",
       "  </tbody>\n",
       "</table>\n",
       "<p>75 rows × 21 columns</p>\n",
       "</div>"
      ],
      "text/plain": [
       "      id_cliente Churn cliente_genero  cliente_idoso cliente_parceiro  \\\n",
       "7043  0675-NCDYU   nao       feminino              0              sim   \n",
       "7044  6754-LZUKA   nao      masculino              0              sim   \n",
       "7045  2192-CKRLV   nao       feminino              0              sim   \n",
       "7046  9170-ARBTB   nao       feminino              0              sim   \n",
       "7047  0447-BEMNG   sim       feminino              0              sim   \n",
       "...          ...   ...            ...            ...              ...   \n",
       "7113  5792-JALQC   nao       feminino              1              nao   \n",
       "7114  5172-RKOCB   nao      masculino              0              sim   \n",
       "7115  1934-MKPXS   nao      masculino              0              sim   \n",
       "7116  5959-BELXA   sim      masculino              1              nao   \n",
       "7117  4452-QIIEB   nao      masculino              0              nao   \n",
       "\n",
       "     cliente_dependentes  cliente_tempo_servico telefone_servico_telefone  \\\n",
       "7043                 sim                   72.0                       sim   \n",
       "7044                 nao                   61.0                       sim   \n",
       "7045                 nao                   72.0                       nao   \n",
       "7046                 sim                   52.0                       sim   \n",
       "7047                 nao                   48.0                       nao   \n",
       "...                  ...                    ...                       ...   \n",
       "7113                 nao                   52.0                       sim   \n",
       "7114                 nao                   72.0                       sim   \n",
       "7115                 sim                   33.0                       sim   \n",
       "7116                 nao                   32.0                       sim   \n",
       "7117                 nao                    7.0                       sim   \n",
       "\n",
       "       telefone_varias_linhas internet_servico_internet  ...  \\\n",
       "7043                      sim               fibra otica  ...   \n",
       "7044                      sim                       DSL  ...   \n",
       "7045  sem servico de telefone                       DSL  ...   \n",
       "7046                      nao                       nao  ...   \n",
       "7047  sem servico de telefone                       DSL  ...   \n",
       "...                       ...                       ...  ...   \n",
       "7113                      sim                       DSL  ...   \n",
       "7114                      sim               fibra otica  ...   \n",
       "7115                      nao                       nao  ...   \n",
       "7116                      sim               fibra otica  ...   \n",
       "7117                      nao                       DSL  ...   \n",
       "\n",
       "       internet_backup_online internet_protecao_dispositivo  \\\n",
       "7043                      sim                           sim   \n",
       "7044                      sim                           sim   \n",
       "7045                      sim                           sim   \n",
       "7046  sem servico de internet       sem servico de internet   \n",
       "7047                      nao                           sim   \n",
       "...                       ...                           ...   \n",
       "7113                      nao                           sim   \n",
       "7114                      sim                           nao   \n",
       "7115  sem servico de internet       sem servico de internet   \n",
       "7116                      nao                           nao   \n",
       "7117                      nao                           nao   \n",
       "\n",
       "     internet_suporte_tecnico    internet_tv_streaming  \\\n",
       "7043                      sim                      sim   \n",
       "7044                      nao                      sim   \n",
       "7045                      nao                      nao   \n",
       "7046  sem servico de internet  sem servico de internet   \n",
       "7047                      nao                      nao   \n",
       "...                       ...                      ...   \n",
       "7113                      nao                      nao   \n",
       "7114                      sim                      sim   \n",
       "7115  sem servico de internet  sem servico de internet   \n",
       "7116                      nao                      sim   \n",
       "7117                      nao                      nao   \n",
       "\n",
       "     internet_filmes_streaming conta_contrato conta_faturamente_eletronico  \\\n",
       "7043                       sim      dois anos                          sim   \n",
       "7044                       sim      dois anos                          nao   \n",
       "7045                       sim      dois anos                          sim   \n",
       "7046   sem servico de internet         um ano                          nao   \n",
       "7047                       sim      mes a mes                          sim   \n",
       "...                        ...            ...                          ...   \n",
       "7113                       nao      dois anos                          nao   \n",
       "7114                       sim      dois anos                          sim   \n",
       "7115   sem servico de internet         um ano                          nao   \n",
       "7116                       sim      mes a mes                          sim   \n",
       "7117                       nao      mes a mes                          nao   \n",
       "\n",
       "                   conta_metodo_pagamento conta_cobranca_mensal  \\\n",
       "7043       cartao de credito (automatico)                116.40   \n",
       "7044  transferencia bancaria (automatica)                 80.90   \n",
       "7045                    cheque eletronico                 49.20   \n",
       "7046       cartao de credito (automatico)                 19.60   \n",
       "7047  transferencia bancaria (automatica)                 45.30   \n",
       "...                                   ...                   ...   \n",
       "7113  transferencia bancaria (automatica)                 59.85   \n",
       "7114       cartao de credito (automatico)                108.95   \n",
       "7115       cartao de credito (automatico)                 20.10   \n",
       "7116       cartao de credito (automatico)                 96.15   \n",
       "7117                  cheque pelo correio                 43.90   \n",
       "\n",
       "      conta_cobranca_Total  \n",
       "7043               8543.25  \n",
       "7044               4932.50  \n",
       "7045               3580.95  \n",
       "7046               1012.40  \n",
       "7047               2145.00  \n",
       "...                    ...  \n",
       "7113               3103.25  \n",
       "7114               7875.00  \n",
       "7115                620.55  \n",
       "7116               3019.25  \n",
       "7117                278.40  \n",
       "\n",
       "[75 rows x 21 columns]"
      ]
     },
     "execution_count": 75,
     "metadata": {},
     "output_type": "execute_result"
    }
   ],
   "source": [
    "dados_sem_vazio[filtro_duplicadas]"
   ]
  },
  {
   "cell_type": "code",
   "execution_count": 76,
   "metadata": {},
   "outputs": [],
   "source": [
    "dados_sem_vazio.drop_duplicates(inplace=True)"
   ]
  },
  {
   "cell_type": "code",
   "execution_count": 79,
   "metadata": {},
   "outputs": [
    {
     "data": {
      "text/plain": [
       "np.int64(0)"
      ]
     },
     "execution_count": 79,
     "metadata": {},
     "output_type": "execute_result"
    }
   ],
   "source": [
    "dados_sem_vazio.duplicated().sum()"
   ]
  },
  {
   "cell_type": "markdown",
   "metadata": {},
   "source": [
    "## Dados nulos"
   ]
  },
  {
   "cell_type": "code",
   "execution_count": 80,
   "metadata": {},
   "outputs": [
    {
     "data": {
      "text/html": [
       "<div>\n",
       "<style scoped>\n",
       "    .dataframe tbody tr th:only-of-type {\n",
       "        vertical-align: middle;\n",
       "    }\n",
       "\n",
       "    .dataframe tbody tr th {\n",
       "        vertical-align: top;\n",
       "    }\n",
       "\n",
       "    .dataframe thead th {\n",
       "        text-align: right;\n",
       "    }\n",
       "</style>\n",
       "<table border=\"1\" class=\"dataframe\">\n",
       "  <thead>\n",
       "    <tr style=\"text-align: right;\">\n",
       "      <th></th>\n",
       "      <th>id_cliente</th>\n",
       "      <th>Churn</th>\n",
       "      <th>cliente_genero</th>\n",
       "      <th>cliente_idoso</th>\n",
       "      <th>cliente_parceiro</th>\n",
       "      <th>cliente_dependentes</th>\n",
       "      <th>cliente_tempo_servico</th>\n",
       "      <th>telefone_servico_telefone</th>\n",
       "      <th>telefone_varias_linhas</th>\n",
       "      <th>internet_servico_internet</th>\n",
       "      <th>...</th>\n",
       "      <th>internet_backup_online</th>\n",
       "      <th>internet_protecao_dispositivo</th>\n",
       "      <th>internet_suporte_tecnico</th>\n",
       "      <th>internet_tv_streaming</th>\n",
       "      <th>internet_filmes_streaming</th>\n",
       "      <th>conta_contrato</th>\n",
       "      <th>conta_faturamente_eletronico</th>\n",
       "      <th>conta_metodo_pagamento</th>\n",
       "      <th>conta_cobranca_mensal</th>\n",
       "      <th>conta_cobranca_Total</th>\n",
       "    </tr>\n",
       "  </thead>\n",
       "  <tbody>\n",
       "    <tr>\n",
       "      <th>0</th>\n",
       "      <td>False</td>\n",
       "      <td>False</td>\n",
       "      <td>False</td>\n",
       "      <td>False</td>\n",
       "      <td>False</td>\n",
       "      <td>False</td>\n",
       "      <td>False</td>\n",
       "      <td>False</td>\n",
       "      <td>False</td>\n",
       "      <td>False</td>\n",
       "      <td>...</td>\n",
       "      <td>False</td>\n",
       "      <td>False</td>\n",
       "      <td>False</td>\n",
       "      <td>False</td>\n",
       "      <td>False</td>\n",
       "      <td>True</td>\n",
       "      <td>True</td>\n",
       "      <td>True</td>\n",
       "      <td>True</td>\n",
       "      <td>True</td>\n",
       "    </tr>\n",
       "    <tr>\n",
       "      <th>1</th>\n",
       "      <td>False</td>\n",
       "      <td>False</td>\n",
       "      <td>False</td>\n",
       "      <td>False</td>\n",
       "      <td>False</td>\n",
       "      <td>False</td>\n",
       "      <td>False</td>\n",
       "      <td>False</td>\n",
       "      <td>False</td>\n",
       "      <td>False</td>\n",
       "      <td>...</td>\n",
       "      <td>False</td>\n",
       "      <td>False</td>\n",
       "      <td>False</td>\n",
       "      <td>False</td>\n",
       "      <td>False</td>\n",
       "      <td>False</td>\n",
       "      <td>False</td>\n",
       "      <td>False</td>\n",
       "      <td>False</td>\n",
       "      <td>False</td>\n",
       "    </tr>\n",
       "    <tr>\n",
       "      <th>2</th>\n",
       "      <td>False</td>\n",
       "      <td>False</td>\n",
       "      <td>False</td>\n",
       "      <td>False</td>\n",
       "      <td>False</td>\n",
       "      <td>False</td>\n",
       "      <td>False</td>\n",
       "      <td>False</td>\n",
       "      <td>False</td>\n",
       "      <td>False</td>\n",
       "      <td>...</td>\n",
       "      <td>False</td>\n",
       "      <td>False</td>\n",
       "      <td>False</td>\n",
       "      <td>False</td>\n",
       "      <td>False</td>\n",
       "      <td>False</td>\n",
       "      <td>False</td>\n",
       "      <td>False</td>\n",
       "      <td>False</td>\n",
       "      <td>False</td>\n",
       "    </tr>\n",
       "    <tr>\n",
       "      <th>3</th>\n",
       "      <td>False</td>\n",
       "      <td>False</td>\n",
       "      <td>False</td>\n",
       "      <td>False</td>\n",
       "      <td>False</td>\n",
       "      <td>False</td>\n",
       "      <td>False</td>\n",
       "      <td>False</td>\n",
       "      <td>False</td>\n",
       "      <td>False</td>\n",
       "      <td>...</td>\n",
       "      <td>False</td>\n",
       "      <td>False</td>\n",
       "      <td>False</td>\n",
       "      <td>False</td>\n",
       "      <td>False</td>\n",
       "      <td>False</td>\n",
       "      <td>False</td>\n",
       "      <td>False</td>\n",
       "      <td>False</td>\n",
       "      <td>False</td>\n",
       "    </tr>\n",
       "    <tr>\n",
       "      <th>4</th>\n",
       "      <td>False</td>\n",
       "      <td>False</td>\n",
       "      <td>False</td>\n",
       "      <td>False</td>\n",
       "      <td>False</td>\n",
       "      <td>False</td>\n",
       "      <td>False</td>\n",
       "      <td>False</td>\n",
       "      <td>False</td>\n",
       "      <td>False</td>\n",
       "      <td>...</td>\n",
       "      <td>False</td>\n",
       "      <td>False</td>\n",
       "      <td>False</td>\n",
       "      <td>False</td>\n",
       "      <td>False</td>\n",
       "      <td>False</td>\n",
       "      <td>False</td>\n",
       "      <td>False</td>\n",
       "      <td>False</td>\n",
       "      <td>False</td>\n",
       "    </tr>\n",
       "    <tr>\n",
       "      <th>...</th>\n",
       "      <td>...</td>\n",
       "      <td>...</td>\n",
       "      <td>...</td>\n",
       "      <td>...</td>\n",
       "      <td>...</td>\n",
       "      <td>...</td>\n",
       "      <td>...</td>\n",
       "      <td>...</td>\n",
       "      <td>...</td>\n",
       "      <td>...</td>\n",
       "      <td>...</td>\n",
       "      <td>...</td>\n",
       "      <td>...</td>\n",
       "      <td>...</td>\n",
       "      <td>...</td>\n",
       "      <td>...</td>\n",
       "      <td>...</td>\n",
       "      <td>...</td>\n",
       "      <td>...</td>\n",
       "      <td>...</td>\n",
       "      <td>...</td>\n",
       "    </tr>\n",
       "    <tr>\n",
       "      <th>7038</th>\n",
       "      <td>False</td>\n",
       "      <td>False</td>\n",
       "      <td>False</td>\n",
       "      <td>False</td>\n",
       "      <td>False</td>\n",
       "      <td>False</td>\n",
       "      <td>False</td>\n",
       "      <td>False</td>\n",
       "      <td>False</td>\n",
       "      <td>False</td>\n",
       "      <td>...</td>\n",
       "      <td>False</td>\n",
       "      <td>False</td>\n",
       "      <td>False</td>\n",
       "      <td>False</td>\n",
       "      <td>False</td>\n",
       "      <td>False</td>\n",
       "      <td>False</td>\n",
       "      <td>False</td>\n",
       "      <td>False</td>\n",
       "      <td>False</td>\n",
       "    </tr>\n",
       "    <tr>\n",
       "      <th>7039</th>\n",
       "      <td>False</td>\n",
       "      <td>False</td>\n",
       "      <td>False</td>\n",
       "      <td>False</td>\n",
       "      <td>False</td>\n",
       "      <td>False</td>\n",
       "      <td>False</td>\n",
       "      <td>False</td>\n",
       "      <td>False</td>\n",
       "      <td>False</td>\n",
       "      <td>...</td>\n",
       "      <td>False</td>\n",
       "      <td>False</td>\n",
       "      <td>False</td>\n",
       "      <td>False</td>\n",
       "      <td>False</td>\n",
       "      <td>False</td>\n",
       "      <td>False</td>\n",
       "      <td>False</td>\n",
       "      <td>False</td>\n",
       "      <td>False</td>\n",
       "    </tr>\n",
       "    <tr>\n",
       "      <th>7040</th>\n",
       "      <td>False</td>\n",
       "      <td>False</td>\n",
       "      <td>False</td>\n",
       "      <td>False</td>\n",
       "      <td>False</td>\n",
       "      <td>False</td>\n",
       "      <td>False</td>\n",
       "      <td>False</td>\n",
       "      <td>False</td>\n",
       "      <td>False</td>\n",
       "      <td>...</td>\n",
       "      <td>False</td>\n",
       "      <td>False</td>\n",
       "      <td>False</td>\n",
       "      <td>False</td>\n",
       "      <td>False</td>\n",
       "      <td>False</td>\n",
       "      <td>False</td>\n",
       "      <td>False</td>\n",
       "      <td>False</td>\n",
       "      <td>False</td>\n",
       "    </tr>\n",
       "    <tr>\n",
       "      <th>7041</th>\n",
       "      <td>False</td>\n",
       "      <td>False</td>\n",
       "      <td>False</td>\n",
       "      <td>False</td>\n",
       "      <td>False</td>\n",
       "      <td>False</td>\n",
       "      <td>False</td>\n",
       "      <td>False</td>\n",
       "      <td>False</td>\n",
       "      <td>False</td>\n",
       "      <td>...</td>\n",
       "      <td>False</td>\n",
       "      <td>False</td>\n",
       "      <td>False</td>\n",
       "      <td>False</td>\n",
       "      <td>False</td>\n",
       "      <td>False</td>\n",
       "      <td>False</td>\n",
       "      <td>False</td>\n",
       "      <td>False</td>\n",
       "      <td>False</td>\n",
       "    </tr>\n",
       "    <tr>\n",
       "      <th>7042</th>\n",
       "      <td>False</td>\n",
       "      <td>False</td>\n",
       "      <td>False</td>\n",
       "      <td>False</td>\n",
       "      <td>False</td>\n",
       "      <td>False</td>\n",
       "      <td>False</td>\n",
       "      <td>False</td>\n",
       "      <td>False</td>\n",
       "      <td>False</td>\n",
       "      <td>...</td>\n",
       "      <td>False</td>\n",
       "      <td>False</td>\n",
       "      <td>False</td>\n",
       "      <td>False</td>\n",
       "      <td>False</td>\n",
       "      <td>False</td>\n",
       "      <td>False</td>\n",
       "      <td>False</td>\n",
       "      <td>False</td>\n",
       "      <td>False</td>\n",
       "    </tr>\n",
       "  </tbody>\n",
       "</table>\n",
       "<p>7043 rows × 21 columns</p>\n",
       "</div>"
      ],
      "text/plain": [
       "      id_cliente  Churn  cliente_genero  cliente_idoso  cliente_parceiro  \\\n",
       "0          False  False           False          False             False   \n",
       "1          False  False           False          False             False   \n",
       "2          False  False           False          False             False   \n",
       "3          False  False           False          False             False   \n",
       "4          False  False           False          False             False   \n",
       "...          ...    ...             ...            ...               ...   \n",
       "7038       False  False           False          False             False   \n",
       "7039       False  False           False          False             False   \n",
       "7040       False  False           False          False             False   \n",
       "7041       False  False           False          False             False   \n",
       "7042       False  False           False          False             False   \n",
       "\n",
       "      cliente_dependentes  cliente_tempo_servico  telefone_servico_telefone  \\\n",
       "0                   False                  False                      False   \n",
       "1                   False                  False                      False   \n",
       "2                   False                  False                      False   \n",
       "3                   False                  False                      False   \n",
       "4                   False                  False                      False   \n",
       "...                   ...                    ...                        ...   \n",
       "7038                False                  False                      False   \n",
       "7039                False                  False                      False   \n",
       "7040                False                  False                      False   \n",
       "7041                False                  False                      False   \n",
       "7042                False                  False                      False   \n",
       "\n",
       "      telefone_varias_linhas  internet_servico_internet  ...  \\\n",
       "0                      False                      False  ...   \n",
       "1                      False                      False  ...   \n",
       "2                      False                      False  ...   \n",
       "3                      False                      False  ...   \n",
       "4                      False                      False  ...   \n",
       "...                      ...                        ...  ...   \n",
       "7038                   False                      False  ...   \n",
       "7039                   False                      False  ...   \n",
       "7040                   False                      False  ...   \n",
       "7041                   False                      False  ...   \n",
       "7042                   False                      False  ...   \n",
       "\n",
       "      internet_backup_online  internet_protecao_dispositivo  \\\n",
       "0                      False                          False   \n",
       "1                      False                          False   \n",
       "2                      False                          False   \n",
       "3                      False                          False   \n",
       "4                      False                          False   \n",
       "...                      ...                            ...   \n",
       "7038                   False                          False   \n",
       "7039                   False                          False   \n",
       "7040                   False                          False   \n",
       "7041                   False                          False   \n",
       "7042                   False                          False   \n",
       "\n",
       "      internet_suporte_tecnico  internet_tv_streaming  \\\n",
       "0                        False                  False   \n",
       "1                        False                  False   \n",
       "2                        False                  False   \n",
       "3                        False                  False   \n",
       "4                        False                  False   \n",
       "...                        ...                    ...   \n",
       "7038                     False                  False   \n",
       "7039                     False                  False   \n",
       "7040                     False                  False   \n",
       "7041                     False                  False   \n",
       "7042                     False                  False   \n",
       "\n",
       "      internet_filmes_streaming  conta_contrato  conta_faturamente_eletronico  \\\n",
       "0                         False            True                          True   \n",
       "1                         False           False                         False   \n",
       "2                         False           False                         False   \n",
       "3                         False           False                         False   \n",
       "4                         False           False                         False   \n",
       "...                         ...             ...                           ...   \n",
       "7038                      False           False                         False   \n",
       "7039                      False           False                         False   \n",
       "7040                      False           False                         False   \n",
       "7041                      False           False                         False   \n",
       "7042                      False           False                         False   \n",
       "\n",
       "      conta_metodo_pagamento  conta_cobranca_mensal  conta_cobranca_Total  \n",
       "0                       True                   True                  True  \n",
       "1                      False                  False                 False  \n",
       "2                      False                  False                 False  \n",
       "3                      False                  False                 False  \n",
       "4                      False                  False                 False  \n",
       "...                      ...                    ...                   ...  \n",
       "7038                   False                  False                 False  \n",
       "7039                   False                  False                 False  \n",
       "7040                   False                  False                 False  \n",
       "7041                   False                  False                 False  \n",
       "7042                   False                  False                 False  \n",
       "\n",
       "[7043 rows x 21 columns]"
      ]
     },
     "execution_count": 80,
     "metadata": {},
     "output_type": "execute_result"
    }
   ],
   "source": [
    "dados_sem_vazio.isna()"
   ]
  },
  {
   "cell_type": "code",
   "execution_count": 81,
   "metadata": {},
   "outputs": [
    {
     "data": {
      "text/plain": [
       "id_cliente                        0\n",
       "Churn                             0\n",
       "cliente_genero                    0\n",
       "cliente_idoso                     0\n",
       "cliente_parceiro                  0\n",
       "cliente_dependentes               0\n",
       "cliente_tempo_servico             8\n",
       "telefone_servico_telefone         0\n",
       "telefone_varias_linhas            0\n",
       "internet_servico_internet         0\n",
       "internet_seguranca_online         0\n",
       "internet_backup_online            0\n",
       "internet_protecao_dispositivo     0\n",
       "internet_suporte_tecnico          0\n",
       "internet_tv_streaming             0\n",
       "internet_filmes_streaming         0\n",
       "conta_contrato                   31\n",
       "conta_faturamente_eletronico     17\n",
       "conta_metodo_pagamento           26\n",
       "conta_cobranca_mensal            17\n",
       "conta_cobranca_Total             15\n",
       "dtype: int64"
      ]
     },
     "execution_count": 81,
     "metadata": {},
     "output_type": "execute_result"
    }
   ],
   "source": [
    "dados_sem_vazio.isna().sum()"
   ]
  },
  {
   "cell_type": "code",
   "execution_count": 83,
   "metadata": {},
   "outputs": [
    {
     "data": {
      "text/plain": [
       "np.int64(114)"
      ]
     },
     "execution_count": 83,
     "metadata": {},
     "output_type": "execute_result"
    }
   ],
   "source": [
    "dados_sem_vazio.isna().sum().sum()"
   ]
  },
  {
   "cell_type": "code",
   "execution_count": 84,
   "metadata": {},
   "outputs": [
    {
     "data": {
      "text/html": [
       "<div>\n",
       "<style scoped>\n",
       "    .dataframe tbody tr th:only-of-type {\n",
       "        vertical-align: middle;\n",
       "    }\n",
       "\n",
       "    .dataframe tbody tr th {\n",
       "        vertical-align: top;\n",
       "    }\n",
       "\n",
       "    .dataframe thead th {\n",
       "        text-align: right;\n",
       "    }\n",
       "</style>\n",
       "<table border=\"1\" class=\"dataframe\">\n",
       "  <thead>\n",
       "    <tr style=\"text-align: right;\">\n",
       "      <th></th>\n",
       "      <th>id_cliente</th>\n",
       "      <th>Churn</th>\n",
       "      <th>cliente_genero</th>\n",
       "      <th>cliente_idoso</th>\n",
       "      <th>cliente_parceiro</th>\n",
       "      <th>cliente_dependentes</th>\n",
       "      <th>cliente_tempo_servico</th>\n",
       "      <th>telefone_servico_telefone</th>\n",
       "      <th>telefone_varias_linhas</th>\n",
       "      <th>internet_servico_internet</th>\n",
       "      <th>...</th>\n",
       "      <th>internet_backup_online</th>\n",
       "      <th>internet_protecao_dispositivo</th>\n",
       "      <th>internet_suporte_tecnico</th>\n",
       "      <th>internet_tv_streaming</th>\n",
       "      <th>internet_filmes_streaming</th>\n",
       "      <th>conta_contrato</th>\n",
       "      <th>conta_faturamente_eletronico</th>\n",
       "      <th>conta_metodo_pagamento</th>\n",
       "      <th>conta_cobranca_mensal</th>\n",
       "      <th>conta_cobranca_Total</th>\n",
       "    </tr>\n",
       "  </thead>\n",
       "  <tbody>\n",
       "    <tr>\n",
       "      <th>0</th>\n",
       "      <td>0002-ORFBO</td>\n",
       "      <td>nao</td>\n",
       "      <td>feminino</td>\n",
       "      <td>0</td>\n",
       "      <td>sim</td>\n",
       "      <td>sim</td>\n",
       "      <td>9.0</td>\n",
       "      <td>sim</td>\n",
       "      <td>nao</td>\n",
       "      <td>DSL</td>\n",
       "      <td>...</td>\n",
       "      <td>sim</td>\n",
       "      <td>nao</td>\n",
       "      <td>sim</td>\n",
       "      <td>sim</td>\n",
       "      <td>nao</td>\n",
       "      <td>None</td>\n",
       "      <td>None</td>\n",
       "      <td>None</td>\n",
       "      <td>NaN</td>\n",
       "      <td>NaN</td>\n",
       "    </tr>\n",
       "    <tr>\n",
       "      <th>9</th>\n",
       "      <td>0016-QLJIS</td>\n",
       "      <td>nao</td>\n",
       "      <td>feminino</td>\n",
       "      <td>0</td>\n",
       "      <td>sim</td>\n",
       "      <td>sim</td>\n",
       "      <td>NaN</td>\n",
       "      <td>sim</td>\n",
       "      <td>sim</td>\n",
       "      <td>DSL</td>\n",
       "      <td>...</td>\n",
       "      <td>sim</td>\n",
       "      <td>sim</td>\n",
       "      <td>sim</td>\n",
       "      <td>sim</td>\n",
       "      <td>sim</td>\n",
       "      <td>dois anos</td>\n",
       "      <td>sim</td>\n",
       "      <td>cheque pelo correio</td>\n",
       "      <td>90.45</td>\n",
       "      <td>5957.90</td>\n",
       "    </tr>\n",
       "    <tr>\n",
       "      <th>176</th>\n",
       "      <td>0282-NVSJS</td>\n",
       "      <td>nao</td>\n",
       "      <td>feminino</td>\n",
       "      <td>1</td>\n",
       "      <td>sim</td>\n",
       "      <td>sim</td>\n",
       "      <td>NaN</td>\n",
       "      <td>nao</td>\n",
       "      <td>sem servico de telefone</td>\n",
       "      <td>DSL</td>\n",
       "      <td>...</td>\n",
       "      <td>nao</td>\n",
       "      <td>nao</td>\n",
       "      <td>sim</td>\n",
       "      <td>nao</td>\n",
       "      <td>nao</td>\n",
       "      <td>mes a mes</td>\n",
       "      <td>sim</td>\n",
       "      <td>cheque pelo correio</td>\n",
       "      <td>29.30</td>\n",
       "      <td>355.90</td>\n",
       "    </tr>\n",
       "    <tr>\n",
       "      <th>181</th>\n",
       "      <td>0295-QVKPB</td>\n",
       "      <td>nao</td>\n",
       "      <td>masculino</td>\n",
       "      <td>0</td>\n",
       "      <td>nao</td>\n",
       "      <td>nao</td>\n",
       "      <td>NaN</td>\n",
       "      <td>sim</td>\n",
       "      <td>nao</td>\n",
       "      <td>DSL</td>\n",
       "      <td>...</td>\n",
       "      <td>nao</td>\n",
       "      <td>sim</td>\n",
       "      <td>sim</td>\n",
       "      <td>sim</td>\n",
       "      <td>nao</td>\n",
       "      <td>mes a mes</td>\n",
       "      <td>sim</td>\n",
       "      <td>cartao de credito (automatico)</td>\n",
       "      <td>63.95</td>\n",
       "      <td>318.10</td>\n",
       "    </tr>\n",
       "    <tr>\n",
       "      <th>437</th>\n",
       "      <td>0639-TSIQW</td>\n",
       "      <td>sim</td>\n",
       "      <td>feminino</td>\n",
       "      <td>0</td>\n",
       "      <td>nao</td>\n",
       "      <td>nao</td>\n",
       "      <td>67.0</td>\n",
       "      <td>sim</td>\n",
       "      <td>sim</td>\n",
       "      <td>fibra otica</td>\n",
       "      <td>...</td>\n",
       "      <td>sim</td>\n",
       "      <td>sim</td>\n",
       "      <td>nao</td>\n",
       "      <td>sim</td>\n",
       "      <td>nao</td>\n",
       "      <td>None</td>\n",
       "      <td>None</td>\n",
       "      <td>cartao de credito (automatico)</td>\n",
       "      <td>NaN</td>\n",
       "      <td>6886.25</td>\n",
       "    </tr>\n",
       "    <tr>\n",
       "      <th>751</th>\n",
       "      <td>1095-WGNGG</td>\n",
       "      <td>nao</td>\n",
       "      <td>feminino</td>\n",
       "      <td>0</td>\n",
       "      <td>sim</td>\n",
       "      <td>nao</td>\n",
       "      <td>NaN</td>\n",
       "      <td>sim</td>\n",
       "      <td>sim</td>\n",
       "      <td>fibra otica</td>\n",
       "      <td>...</td>\n",
       "      <td>sim</td>\n",
       "      <td>nao</td>\n",
       "      <td>nao</td>\n",
       "      <td>sim</td>\n",
       "      <td>sim</td>\n",
       "      <td>dois anos</td>\n",
       "      <td>sim</td>\n",
       "      <td>transferencia bancaria (automatica)</td>\n",
       "      <td>101.05</td>\n",
       "      <td>5971.25</td>\n",
       "    </tr>\n",
       "    <tr>\n",
       "      <th>963</th>\n",
       "      <td>1396-QWFBJ</td>\n",
       "      <td>sim</td>\n",
       "      <td>feminino</td>\n",
       "      <td>0</td>\n",
       "      <td>sim</td>\n",
       "      <td>sim</td>\n",
       "      <td>21.0</td>\n",
       "      <td>sim</td>\n",
       "      <td>nao</td>\n",
       "      <td>fibra otica</td>\n",
       "      <td>...</td>\n",
       "      <td>sim</td>\n",
       "      <td>nao</td>\n",
       "      <td>nao</td>\n",
       "      <td>nao</td>\n",
       "      <td>nao</td>\n",
       "      <td>None</td>\n",
       "      <td>sim</td>\n",
       "      <td>None</td>\n",
       "      <td>NaN</td>\n",
       "      <td>1565.70</td>\n",
       "    </tr>\n",
       "    <tr>\n",
       "      <th>1604</th>\n",
       "      <td>2333-KWEWW</td>\n",
       "      <td>nao</td>\n",
       "      <td>masculino</td>\n",
       "      <td>0</td>\n",
       "      <td>nao</td>\n",
       "      <td>nao</td>\n",
       "      <td>18.0</td>\n",
       "      <td>sim</td>\n",
       "      <td>nao</td>\n",
       "      <td>nao</td>\n",
       "      <td>...</td>\n",
       "      <td>sem servico de internet</td>\n",
       "      <td>sem servico de internet</td>\n",
       "      <td>sem servico de internet</td>\n",
       "      <td>sem servico de internet</td>\n",
       "      <td>sem servico de internet</td>\n",
       "      <td>None</td>\n",
       "      <td>nao</td>\n",
       "      <td>None</td>\n",
       "      <td>20.05</td>\n",
       "      <td>NaN</td>\n",
       "    </tr>\n",
       "    <tr>\n",
       "      <th>1605</th>\n",
       "      <td>2335-GSODA</td>\n",
       "      <td>nao</td>\n",
       "      <td>masculino</td>\n",
       "      <td>0</td>\n",
       "      <td>nao</td>\n",
       "      <td>sim</td>\n",
       "      <td>23.0</td>\n",
       "      <td>nao</td>\n",
       "      <td>sem servico de telefone</td>\n",
       "      <td>DSL</td>\n",
       "      <td>...</td>\n",
       "      <td>nao</td>\n",
       "      <td>sim</td>\n",
       "      <td>sim</td>\n",
       "      <td>nao</td>\n",
       "      <td>nao</td>\n",
       "      <td>None</td>\n",
       "      <td>nao</td>\n",
       "      <td>None</td>\n",
       "      <td>NaN</td>\n",
       "      <td>NaN</td>\n",
       "    </tr>\n",
       "    <tr>\n",
       "      <th>1606</th>\n",
       "      <td>2338-BQEZT</td>\n",
       "      <td>nao</td>\n",
       "      <td>feminino</td>\n",
       "      <td>0</td>\n",
       "      <td>nao</td>\n",
       "      <td>nao</td>\n",
       "      <td>55.0</td>\n",
       "      <td>sim</td>\n",
       "      <td>nao</td>\n",
       "      <td>DSL</td>\n",
       "      <td>...</td>\n",
       "      <td>nao</td>\n",
       "      <td>nao</td>\n",
       "      <td>nao</td>\n",
       "      <td>nao</td>\n",
       "      <td>nao</td>\n",
       "      <td>None</td>\n",
       "      <td>sim</td>\n",
       "      <td>cartao de credito (automatico)</td>\n",
       "      <td>NaN</td>\n",
       "      <td>NaN</td>\n",
       "    </tr>\n",
       "    <tr>\n",
       "      <th>1608</th>\n",
       "      <td>2344-JMOGN</td>\n",
       "      <td>sim</td>\n",
       "      <td>masculino</td>\n",
       "      <td>0</td>\n",
       "      <td>sim</td>\n",
       "      <td>nao</td>\n",
       "      <td>9.0</td>\n",
       "      <td>sim</td>\n",
       "      <td>nao</td>\n",
       "      <td>fibra otica</td>\n",
       "      <td>...</td>\n",
       "      <td>sim</td>\n",
       "      <td>sim</td>\n",
       "      <td>sim</td>\n",
       "      <td>sim</td>\n",
       "      <td>nao</td>\n",
       "      <td>mes a mes</td>\n",
       "      <td>None</td>\n",
       "      <td>cheque pelo correio</td>\n",
       "      <td>NaN</td>\n",
       "      <td>890.60</td>\n",
       "    </tr>\n",
       "    <tr>\n",
       "      <th>2036</th>\n",
       "      <td>2931-FSOHN</td>\n",
       "      <td>nao</td>\n",
       "      <td>masculino</td>\n",
       "      <td>1</td>\n",
       "      <td>nao</td>\n",
       "      <td>nao</td>\n",
       "      <td>13.0</td>\n",
       "      <td>sim</td>\n",
       "      <td>nao</td>\n",
       "      <td>DSL</td>\n",
       "      <td>...</td>\n",
       "      <td>sim</td>\n",
       "      <td>nao</td>\n",
       "      <td>nao</td>\n",
       "      <td>sim</td>\n",
       "      <td>nao</td>\n",
       "      <td>mes a mes</td>\n",
       "      <td>sim</td>\n",
       "      <td>None</td>\n",
       "      <td>59.90</td>\n",
       "      <td>788.35</td>\n",
       "    </tr>\n",
       "    <tr>\n",
       "      <th>2037</th>\n",
       "      <td>2931-SVLTV</td>\n",
       "      <td>nao</td>\n",
       "      <td>masculino</td>\n",
       "      <td>0</td>\n",
       "      <td>sim</td>\n",
       "      <td>sim</td>\n",
       "      <td>40.0</td>\n",
       "      <td>sim</td>\n",
       "      <td>sim</td>\n",
       "      <td>fibra otica</td>\n",
       "      <td>...</td>\n",
       "      <td>sim</td>\n",
       "      <td>nao</td>\n",
       "      <td>sim</td>\n",
       "      <td>sim</td>\n",
       "      <td>sim</td>\n",
       "      <td>None</td>\n",
       "      <td>None</td>\n",
       "      <td>None</td>\n",
       "      <td>NaN</td>\n",
       "      <td>NaN</td>\n",
       "    </tr>\n",
       "    <tr>\n",
       "      <th>2039</th>\n",
       "      <td>2931-XIQBR</td>\n",
       "      <td>nao</td>\n",
       "      <td>feminino</td>\n",
       "      <td>0</td>\n",
       "      <td>sim</td>\n",
       "      <td>sim</td>\n",
       "      <td>50.0</td>\n",
       "      <td>sim</td>\n",
       "      <td>nao</td>\n",
       "      <td>fibra otica</td>\n",
       "      <td>...</td>\n",
       "      <td>nao</td>\n",
       "      <td>sim</td>\n",
       "      <td>sim</td>\n",
       "      <td>sim</td>\n",
       "      <td>sim</td>\n",
       "      <td>None</td>\n",
       "      <td>None</td>\n",
       "      <td>cheque pelo correio</td>\n",
       "      <td>103.05</td>\n",
       "      <td>5153.50</td>\n",
       "    </tr>\n",
       "    <tr>\n",
       "      <th>3523</th>\n",
       "      <td>4994-OBRSZ</td>\n",
       "      <td>nao</td>\n",
       "      <td>masculino</td>\n",
       "      <td>0</td>\n",
       "      <td>nao</td>\n",
       "      <td>sim</td>\n",
       "      <td>NaN</td>\n",
       "      <td>sim</td>\n",
       "      <td>nao</td>\n",
       "      <td>DSL</td>\n",
       "      <td>...</td>\n",
       "      <td>sim</td>\n",
       "      <td>sim</td>\n",
       "      <td>sim</td>\n",
       "      <td>nao</td>\n",
       "      <td>sim</td>\n",
       "      <td>dois anos</td>\n",
       "      <td>nao</td>\n",
       "      <td>transferencia bancaria (automatica)</td>\n",
       "      <td>76.10</td>\n",
       "      <td>1054.80</td>\n",
       "    </tr>\n",
       "    <tr>\n",
       "      <th>4712</th>\n",
       "      <td>6637-KYRCV</td>\n",
       "      <td>nao</td>\n",
       "      <td>feminino</td>\n",
       "      <td>0</td>\n",
       "      <td>sim</td>\n",
       "      <td>sim</td>\n",
       "      <td>5.0</td>\n",
       "      <td>nao</td>\n",
       "      <td>sem servico de telefone</td>\n",
       "      <td>DSL</td>\n",
       "      <td>...</td>\n",
       "      <td>sim</td>\n",
       "      <td>nao</td>\n",
       "      <td>nao</td>\n",
       "      <td>nao</td>\n",
       "      <td>nao</td>\n",
       "      <td>None</td>\n",
       "      <td>None</td>\n",
       "      <td>None</td>\n",
       "      <td>NaN</td>\n",
       "      <td>NaN</td>\n",
       "    </tr>\n",
       "    <tr>\n",
       "      <th>4716</th>\n",
       "      <td>6646-QVXLR</td>\n",
       "      <td>sim</td>\n",
       "      <td>masculino</td>\n",
       "      <td>1</td>\n",
       "      <td>sim</td>\n",
       "      <td>nao</td>\n",
       "      <td>62.0</td>\n",
       "      <td>sim</td>\n",
       "      <td>sim</td>\n",
       "      <td>fibra otica</td>\n",
       "      <td>...</td>\n",
       "      <td>sim</td>\n",
       "      <td>sim</td>\n",
       "      <td>nao</td>\n",
       "      <td>sim</td>\n",
       "      <td>sim</td>\n",
       "      <td>None</td>\n",
       "      <td>sim</td>\n",
       "      <td>cheque eletronico</td>\n",
       "      <td>NaN</td>\n",
       "      <td>NaN</td>\n",
       "    </tr>\n",
       "    <tr>\n",
       "      <th>4718</th>\n",
       "      <td>6647-ZEDXT</td>\n",
       "      <td>nao</td>\n",
       "      <td>feminino</td>\n",
       "      <td>0</td>\n",
       "      <td>nao</td>\n",
       "      <td>nao</td>\n",
       "      <td>30.0</td>\n",
       "      <td>sim</td>\n",
       "      <td>sim</td>\n",
       "      <td>fibra otica</td>\n",
       "      <td>...</td>\n",
       "      <td>sim</td>\n",
       "      <td>sim</td>\n",
       "      <td>sim</td>\n",
       "      <td>sim</td>\n",
       "      <td>sim</td>\n",
       "      <td>None</td>\n",
       "      <td>nao</td>\n",
       "      <td>None</td>\n",
       "      <td>110.45</td>\n",
       "      <td>3327.05</td>\n",
       "    </tr>\n",
       "    <tr>\n",
       "      <th>4721</th>\n",
       "      <td>6650-VJONK</td>\n",
       "      <td>nao</td>\n",
       "      <td>masculino</td>\n",
       "      <td>0</td>\n",
       "      <td>nao</td>\n",
       "      <td>nao</td>\n",
       "      <td>1.0</td>\n",
       "      <td>sim</td>\n",
       "      <td>nao</td>\n",
       "      <td>DSL</td>\n",
       "      <td>...</td>\n",
       "      <td>nao</td>\n",
       "      <td>nao</td>\n",
       "      <td>nao</td>\n",
       "      <td>nao</td>\n",
       "      <td>nao</td>\n",
       "      <td>None</td>\n",
       "      <td>sim</td>\n",
       "      <td>transferencia bancaria (automatica)</td>\n",
       "      <td>NaN</td>\n",
       "      <td>NaN</td>\n",
       "    </tr>\n",
       "    <tr>\n",
       "      <th>4725</th>\n",
       "      <td>6653-CBBOM</td>\n",
       "      <td>sim</td>\n",
       "      <td>feminino</td>\n",
       "      <td>0</td>\n",
       "      <td>nao</td>\n",
       "      <td>nao</td>\n",
       "      <td>1.0</td>\n",
       "      <td>sim</td>\n",
       "      <td>nao</td>\n",
       "      <td>fibra otica</td>\n",
       "      <td>...</td>\n",
       "      <td>nao</td>\n",
       "      <td>nao</td>\n",
       "      <td>nao</td>\n",
       "      <td>nao</td>\n",
       "      <td>nao</td>\n",
       "      <td>None</td>\n",
       "      <td>sim</td>\n",
       "      <td>None</td>\n",
       "      <td>70.30</td>\n",
       "      <td>70.30</td>\n",
       "    </tr>\n",
       "    <tr>\n",
       "      <th>4728</th>\n",
       "      <td>6656-GULJQ</td>\n",
       "      <td>nao</td>\n",
       "      <td>masculino</td>\n",
       "      <td>0</td>\n",
       "      <td>sim</td>\n",
       "      <td>sim</td>\n",
       "      <td>72.0</td>\n",
       "      <td>sim</td>\n",
       "      <td>sim</td>\n",
       "      <td>DSL</td>\n",
       "      <td>...</td>\n",
       "      <td>nao</td>\n",
       "      <td>sim</td>\n",
       "      <td>sim</td>\n",
       "      <td>sim</td>\n",
       "      <td>sim</td>\n",
       "      <td>None</td>\n",
       "      <td>None</td>\n",
       "      <td>cartao de credito (automatico)</td>\n",
       "      <td>83.55</td>\n",
       "      <td>NaN</td>\n",
       "    </tr>\n",
       "    <tr>\n",
       "      <th>4731</th>\n",
       "      <td>6661-HBGWL</td>\n",
       "      <td>sim</td>\n",
       "      <td>feminino</td>\n",
       "      <td>1</td>\n",
       "      <td>nao</td>\n",
       "      <td>nao</td>\n",
       "      <td>42.0</td>\n",
       "      <td>sim</td>\n",
       "      <td>sim</td>\n",
       "      <td>fibra otica</td>\n",
       "      <td>...</td>\n",
       "      <td>sim</td>\n",
       "      <td>sim</td>\n",
       "      <td>nao</td>\n",
       "      <td>sim</td>\n",
       "      <td>sim</td>\n",
       "      <td>None</td>\n",
       "      <td>sim</td>\n",
       "      <td>None</td>\n",
       "      <td>104.75</td>\n",
       "      <td>NaN</td>\n",
       "    </tr>\n",
       "    <tr>\n",
       "      <th>4733</th>\n",
       "      <td>6664-FPDAC</td>\n",
       "      <td>sim</td>\n",
       "      <td>feminino</td>\n",
       "      <td>1</td>\n",
       "      <td>nao</td>\n",
       "      <td>nao</td>\n",
       "      <td>56.0</td>\n",
       "      <td>sim</td>\n",
       "      <td>sim</td>\n",
       "      <td>fibra otica</td>\n",
       "      <td>...</td>\n",
       "      <td>sim</td>\n",
       "      <td>sim</td>\n",
       "      <td>sim</td>\n",
       "      <td>sim</td>\n",
       "      <td>sim</td>\n",
       "      <td>None</td>\n",
       "      <td>sim</td>\n",
       "      <td>cheque eletronico</td>\n",
       "      <td>NaN</td>\n",
       "      <td>NaN</td>\n",
       "    </tr>\n",
       "    <tr>\n",
       "      <th>4738</th>\n",
       "      <td>6680-NENYN</td>\n",
       "      <td>sim</td>\n",
       "      <td>feminino</td>\n",
       "      <td>0</td>\n",
       "      <td>nao</td>\n",
       "      <td>nao</td>\n",
       "      <td>43.0</td>\n",
       "      <td>sim</td>\n",
       "      <td>sim</td>\n",
       "      <td>fibra otica</td>\n",
       "      <td>...</td>\n",
       "      <td>sim</td>\n",
       "      <td>sim</td>\n",
       "      <td>nao</td>\n",
       "      <td>sim</td>\n",
       "      <td>sim</td>\n",
       "      <td>None</td>\n",
       "      <td>sim</td>\n",
       "      <td>None</td>\n",
       "      <td>104.60</td>\n",
       "      <td>4759.85</td>\n",
       "    </tr>\n",
       "    <tr>\n",
       "      <th>4740</th>\n",
       "      <td>6681-ZSEXG</td>\n",
       "      <td>nao</td>\n",
       "      <td>masculino</td>\n",
       "      <td>0</td>\n",
       "      <td>sim</td>\n",
       "      <td>nao</td>\n",
       "      <td>56.0</td>\n",
       "      <td>sim</td>\n",
       "      <td>sim</td>\n",
       "      <td>DSL</td>\n",
       "      <td>...</td>\n",
       "      <td>sim</td>\n",
       "      <td>sim</td>\n",
       "      <td>nao</td>\n",
       "      <td>nao</td>\n",
       "      <td>nao</td>\n",
       "      <td>dois anos</td>\n",
       "      <td>nao</td>\n",
       "      <td>None</td>\n",
       "      <td>59.50</td>\n",
       "      <td>3389.25</td>\n",
       "    </tr>\n",
       "    <tr>\n",
       "      <th>4745</th>\n",
       "      <td>6685-XSHHU</td>\n",
       "      <td>nao</td>\n",
       "      <td>masculino</td>\n",
       "      <td>0</td>\n",
       "      <td>sim</td>\n",
       "      <td>sim</td>\n",
       "      <td>60.0</td>\n",
       "      <td>sim</td>\n",
       "      <td>nao</td>\n",
       "      <td>nao</td>\n",
       "      <td>...</td>\n",
       "      <td>sem servico de internet</td>\n",
       "      <td>sem servico de internet</td>\n",
       "      <td>sem servico de internet</td>\n",
       "      <td>sem servico de internet</td>\n",
       "      <td>sem servico de internet</td>\n",
       "      <td>dois anos</td>\n",
       "      <td>None</td>\n",
       "      <td>None</td>\n",
       "      <td>20.95</td>\n",
       "      <td>NaN</td>\n",
       "    </tr>\n",
       "    <tr>\n",
       "      <th>4749</th>\n",
       "      <td>6689-TCZHQ</td>\n",
       "      <td>sim</td>\n",
       "      <td>feminino</td>\n",
       "      <td>1</td>\n",
       "      <td>nao</td>\n",
       "      <td>nao</td>\n",
       "      <td>5.0</td>\n",
       "      <td>sim</td>\n",
       "      <td>nao</td>\n",
       "      <td>fibra otica</td>\n",
       "      <td>...</td>\n",
       "      <td>nao</td>\n",
       "      <td>nao</td>\n",
       "      <td>nao</td>\n",
       "      <td>nao</td>\n",
       "      <td>sim</td>\n",
       "      <td>mes a mes</td>\n",
       "      <td>None</td>\n",
       "      <td>None</td>\n",
       "      <td>78.95</td>\n",
       "      <td>378.40</td>\n",
       "    </tr>\n",
       "    <tr>\n",
       "      <th>4751</th>\n",
       "      <td>6691-CCIHA</td>\n",
       "      <td>nao</td>\n",
       "      <td>feminino</td>\n",
       "      <td>0</td>\n",
       "      <td>sim</td>\n",
       "      <td>nao</td>\n",
       "      <td>62.0</td>\n",
       "      <td>sim</td>\n",
       "      <td>sim</td>\n",
       "      <td>DSL</td>\n",
       "      <td>...</td>\n",
       "      <td>sim</td>\n",
       "      <td>nao</td>\n",
       "      <td>sim</td>\n",
       "      <td>sim</td>\n",
       "      <td>sim</td>\n",
       "      <td>None</td>\n",
       "      <td>sim</td>\n",
       "      <td>None</td>\n",
       "      <td>84.95</td>\n",
       "      <td>5150.55</td>\n",
       "    </tr>\n",
       "    <tr>\n",
       "      <th>4755</th>\n",
       "      <td>6693-FRIRW</td>\n",
       "      <td>nao</td>\n",
       "      <td>masculino</td>\n",
       "      <td>0</td>\n",
       "      <td>nao</td>\n",
       "      <td>nao</td>\n",
       "      <td>18.0</td>\n",
       "      <td>sim</td>\n",
       "      <td>nao</td>\n",
       "      <td>fibra otica</td>\n",
       "      <td>...</td>\n",
       "      <td>sim</td>\n",
       "      <td>sim</td>\n",
       "      <td>nao</td>\n",
       "      <td>sim</td>\n",
       "      <td>sim</td>\n",
       "      <td>None</td>\n",
       "      <td>nao</td>\n",
       "      <td>None</td>\n",
       "      <td>NaN</td>\n",
       "      <td>NaN</td>\n",
       "    </tr>\n",
       "    <tr>\n",
       "      <th>4762</th>\n",
       "      <td>6702-OHFWR</td>\n",
       "      <td>sim</td>\n",
       "      <td>masculino</td>\n",
       "      <td>1</td>\n",
       "      <td>nao</td>\n",
       "      <td>nao</td>\n",
       "      <td>1.0</td>\n",
       "      <td>nao</td>\n",
       "      <td>sem servico de telefone</td>\n",
       "      <td>DSL</td>\n",
       "      <td>...</td>\n",
       "      <td>sim</td>\n",
       "      <td>sim</td>\n",
       "      <td>nao</td>\n",
       "      <td>nao</td>\n",
       "      <td>sim</td>\n",
       "      <td>None</td>\n",
       "      <td>None</td>\n",
       "      <td>None</td>\n",
       "      <td>43.30</td>\n",
       "      <td>43.30</td>\n",
       "    </tr>\n",
       "    <tr>\n",
       "      <th>5273</th>\n",
       "      <td>7435-ZNUYY</td>\n",
       "      <td>nao</td>\n",
       "      <td>masculino</td>\n",
       "      <td>0</td>\n",
       "      <td>nao</td>\n",
       "      <td>nao</td>\n",
       "      <td>NaN</td>\n",
       "      <td>sim</td>\n",
       "      <td>nao</td>\n",
       "      <td>nao</td>\n",
       "      <td>...</td>\n",
       "      <td>sem servico de internet</td>\n",
       "      <td>sem servico de internet</td>\n",
       "      <td>sem servico de internet</td>\n",
       "      <td>sem servico de internet</td>\n",
       "      <td>sem servico de internet</td>\n",
       "      <td>um ano</td>\n",
       "      <td>nao</td>\n",
       "      <td>cheque pelo correio</td>\n",
       "      <td>20.60</td>\n",
       "      <td>116.60</td>\n",
       "    </tr>\n",
       "    <tr>\n",
       "      <th>5276</th>\n",
       "      <td>7445-WMRBW</td>\n",
       "      <td>nao</td>\n",
       "      <td>feminino</td>\n",
       "      <td>0</td>\n",
       "      <td>nao</td>\n",
       "      <td>nao</td>\n",
       "      <td>NaN</td>\n",
       "      <td>sim</td>\n",
       "      <td>sim</td>\n",
       "      <td>DSL</td>\n",
       "      <td>...</td>\n",
       "      <td>sim</td>\n",
       "      <td>sim</td>\n",
       "      <td>sim</td>\n",
       "      <td>sim</td>\n",
       "      <td>nao</td>\n",
       "      <td>um ano</td>\n",
       "      <td>sim</td>\n",
       "      <td>transferencia bancaria (automatica)</td>\n",
       "      <td>73.85</td>\n",
       "      <td>3581.40</td>\n",
       "    </tr>\n",
       "    <tr>\n",
       "      <th>5396</th>\n",
       "      <td>7606-BPHHN</td>\n",
       "      <td>nao</td>\n",
       "      <td>masculino</td>\n",
       "      <td>0</td>\n",
       "      <td>nao</td>\n",
       "      <td>nao</td>\n",
       "      <td>72.0</td>\n",
       "      <td>sim</td>\n",
       "      <td>nao</td>\n",
       "      <td>nao</td>\n",
       "      <td>...</td>\n",
       "      <td>sem servico de internet</td>\n",
       "      <td>sem servico de internet</td>\n",
       "      <td>sem servico de internet</td>\n",
       "      <td>sem servico de internet</td>\n",
       "      <td>sem servico de internet</td>\n",
       "      <td>None</td>\n",
       "      <td>sim</td>\n",
       "      <td>cartao de credito (automatico)</td>\n",
       "      <td>19.80</td>\n",
       "      <td>1468.75</td>\n",
       "    </tr>\n",
       "    <tr>\n",
       "      <th>5397</th>\n",
       "      <td>7607-QKKTJ</td>\n",
       "      <td>nao</td>\n",
       "      <td>masculino</td>\n",
       "      <td>0</td>\n",
       "      <td>sim</td>\n",
       "      <td>sim</td>\n",
       "      <td>45.0</td>\n",
       "      <td>sim</td>\n",
       "      <td>sim</td>\n",
       "      <td>fibra otica</td>\n",
       "      <td>...</td>\n",
       "      <td>sim</td>\n",
       "      <td>sim</td>\n",
       "      <td>nao</td>\n",
       "      <td>nao</td>\n",
       "      <td>sim</td>\n",
       "      <td>None</td>\n",
       "      <td>None</td>\n",
       "      <td>None</td>\n",
       "      <td>NaN</td>\n",
       "      <td>4368.85</td>\n",
       "    </tr>\n",
       "    <tr>\n",
       "      <th>5402</th>\n",
       "      <td>7611-YKYTC</td>\n",
       "      <td>nao</td>\n",
       "      <td>masculino</td>\n",
       "      <td>0</td>\n",
       "      <td>sim</td>\n",
       "      <td>sim</td>\n",
       "      <td>22.0</td>\n",
       "      <td>sim</td>\n",
       "      <td>nao</td>\n",
       "      <td>fibra otica</td>\n",
       "      <td>...</td>\n",
       "      <td>nao</td>\n",
       "      <td>nao</td>\n",
       "      <td>nao</td>\n",
       "      <td>nao</td>\n",
       "      <td>nao</td>\n",
       "      <td>None</td>\n",
       "      <td>nao</td>\n",
       "      <td>transferencia bancaria (automatica)</td>\n",
       "      <td>NaN</td>\n",
       "      <td>NaN</td>\n",
       "    </tr>\n",
       "    <tr>\n",
       "      <th>5404</th>\n",
       "      <td>7614-QVWQL</td>\n",
       "      <td>sim</td>\n",
       "      <td>masculino</td>\n",
       "      <td>0</td>\n",
       "      <td>sim</td>\n",
       "      <td>sim</td>\n",
       "      <td>49.0</td>\n",
       "      <td>nao</td>\n",
       "      <td>sem servico de telefone</td>\n",
       "      <td>DSL</td>\n",
       "      <td>...</td>\n",
       "      <td>sim</td>\n",
       "      <td>nao</td>\n",
       "      <td>nao</td>\n",
       "      <td>sim</td>\n",
       "      <td>sim</td>\n",
       "      <td>None</td>\n",
       "      <td>None</td>\n",
       "      <td>None</td>\n",
       "      <td>NaN</td>\n",
       "      <td>NaN</td>\n",
       "    </tr>\n",
       "    <tr>\n",
       "      <th>5410</th>\n",
       "      <td>7622-FWGEW</td>\n",
       "      <td>nao</td>\n",
       "      <td>masculino</td>\n",
       "      <td>1</td>\n",
       "      <td>sim</td>\n",
       "      <td>nao</td>\n",
       "      <td>56.0</td>\n",
       "      <td>sim</td>\n",
       "      <td>nao</td>\n",
       "      <td>DSL</td>\n",
       "      <td>...</td>\n",
       "      <td>sim</td>\n",
       "      <td>sim</td>\n",
       "      <td>sim</td>\n",
       "      <td>sim</td>\n",
       "      <td>sim</td>\n",
       "      <td>None</td>\n",
       "      <td>sim</td>\n",
       "      <td>None</td>\n",
       "      <td>NaN</td>\n",
       "      <td>4824.45</td>\n",
       "    </tr>\n",
       "    <tr>\n",
       "      <th>5412</th>\n",
       "      <td>7623-HKYRK</td>\n",
       "      <td>nao</td>\n",
       "      <td>masculino</td>\n",
       "      <td>0</td>\n",
       "      <td>nao</td>\n",
       "      <td>sim</td>\n",
       "      <td>6.0</td>\n",
       "      <td>sim</td>\n",
       "      <td>nao</td>\n",
       "      <td>nao</td>\n",
       "      <td>...</td>\n",
       "      <td>sem servico de internet</td>\n",
       "      <td>sem servico de internet</td>\n",
       "      <td>sem servico de internet</td>\n",
       "      <td>sem servico de internet</td>\n",
       "      <td>sem servico de internet</td>\n",
       "      <td>None</td>\n",
       "      <td>None</td>\n",
       "      <td>None</td>\n",
       "      <td>19.70</td>\n",
       "      <td>111.65</td>\n",
       "    </tr>\n",
       "    <tr>\n",
       "      <th>5415</th>\n",
       "      <td>7627-JKIAZ</td>\n",
       "      <td>sim</td>\n",
       "      <td>feminino</td>\n",
       "      <td>0</td>\n",
       "      <td>sim</td>\n",
       "      <td>nao</td>\n",
       "      <td>37.0</td>\n",
       "      <td>sim</td>\n",
       "      <td>sim</td>\n",
       "      <td>fibra otica</td>\n",
       "      <td>...</td>\n",
       "      <td>nao</td>\n",
       "      <td>sim</td>\n",
       "      <td>nao</td>\n",
       "      <td>nao</td>\n",
       "      <td>nao</td>\n",
       "      <td>mes a mes</td>\n",
       "      <td>sim</td>\n",
       "      <td>None</td>\n",
       "      <td>78.95</td>\n",
       "      <td>2839.65</td>\n",
       "    </tr>\n",
       "    <tr>\n",
       "      <th>6007</th>\n",
       "      <td>8480-PPONV</td>\n",
       "      <td>nao</td>\n",
       "      <td>masculino</td>\n",
       "      <td>0</td>\n",
       "      <td>sim</td>\n",
       "      <td>sim</td>\n",
       "      <td>62.0</td>\n",
       "      <td>sim</td>\n",
       "      <td>sim</td>\n",
       "      <td>fibra otica</td>\n",
       "      <td>...</td>\n",
       "      <td>sim</td>\n",
       "      <td>sim</td>\n",
       "      <td>sim</td>\n",
       "      <td>sim</td>\n",
       "      <td>sim</td>\n",
       "      <td>None</td>\n",
       "      <td>None</td>\n",
       "      <td>transferencia bancaria (automatica)</td>\n",
       "      <td>NaN</td>\n",
       "      <td>7159.05</td>\n",
       "    </tr>\n",
       "    <tr>\n",
       "      <th>6134</th>\n",
       "      <td>8690-UPCZI</td>\n",
       "      <td>nao</td>\n",
       "      <td>masculino</td>\n",
       "      <td>0</td>\n",
       "      <td>sim</td>\n",
       "      <td>sim</td>\n",
       "      <td>NaN</td>\n",
       "      <td>sim</td>\n",
       "      <td>sim</td>\n",
       "      <td>DSL</td>\n",
       "      <td>...</td>\n",
       "      <td>nao</td>\n",
       "      <td>nao</td>\n",
       "      <td>sim</td>\n",
       "      <td>sim</td>\n",
       "      <td>nao</td>\n",
       "      <td>um ano</td>\n",
       "      <td>nao</td>\n",
       "      <td>transferencia bancaria (automatica)</td>\n",
       "      <td>69.05</td>\n",
       "      <td>1958.45</td>\n",
       "    </tr>\n",
       "    <tr>\n",
       "      <th>6181</th>\n",
       "      <td>8748-HFWBO</td>\n",
       "      <td>nao</td>\n",
       "      <td>masculino</td>\n",
       "      <td>0</td>\n",
       "      <td>sim</td>\n",
       "      <td>sim</td>\n",
       "      <td>19.0</td>\n",
       "      <td>sim</td>\n",
       "      <td>nao</td>\n",
       "      <td>nao</td>\n",
       "      <td>...</td>\n",
       "      <td>sem servico de internet</td>\n",
       "      <td>sem servico de internet</td>\n",
       "      <td>sem servico de internet</td>\n",
       "      <td>sem servico de internet</td>\n",
       "      <td>sem servico de internet</td>\n",
       "      <td>None</td>\n",
       "      <td>None</td>\n",
       "      <td>None</td>\n",
       "      <td>19.90</td>\n",
       "      <td>357.70</td>\n",
       "    </tr>\n",
       "    <tr>\n",
       "      <th>6652</th>\n",
       "      <td>9465-RWMXL</td>\n",
       "      <td>sim</td>\n",
       "      <td>masculino</td>\n",
       "      <td>0</td>\n",
       "      <td>sim</td>\n",
       "      <td>nao</td>\n",
       "      <td>32.0</td>\n",
       "      <td>sim</td>\n",
       "      <td>sim</td>\n",
       "      <td>fibra otica</td>\n",
       "      <td>...</td>\n",
       "      <td>nao</td>\n",
       "      <td>sim</td>\n",
       "      <td>nao</td>\n",
       "      <td>nao</td>\n",
       "      <td>nao</td>\n",
       "      <td>None</td>\n",
       "      <td>None</td>\n",
       "      <td>None</td>\n",
       "      <td>78.90</td>\n",
       "      <td>2447.95</td>\n",
       "    </tr>\n",
       "    <tr>\n",
       "      <th>6655</th>\n",
       "      <td>9470-RTWDV</td>\n",
       "      <td>nao</td>\n",
       "      <td>masculino</td>\n",
       "      <td>0</td>\n",
       "      <td>sim</td>\n",
       "      <td>sim</td>\n",
       "      <td>26.0</td>\n",
       "      <td>sim</td>\n",
       "      <td>sim</td>\n",
       "      <td>DSL</td>\n",
       "      <td>...</td>\n",
       "      <td>nao</td>\n",
       "      <td>sim</td>\n",
       "      <td>sim</td>\n",
       "      <td>sim</td>\n",
       "      <td>sim</td>\n",
       "      <td>None</td>\n",
       "      <td>None</td>\n",
       "      <td>None</td>\n",
       "      <td>82.00</td>\n",
       "      <td>2083.10</td>\n",
       "    </tr>\n",
       "    <tr>\n",
       "      <th>6656</th>\n",
       "      <td>9470-XCCEM</td>\n",
       "      <td>nao</td>\n",
       "      <td>masculino</td>\n",
       "      <td>0</td>\n",
       "      <td>sim</td>\n",
       "      <td>sim</td>\n",
       "      <td>35.0</td>\n",
       "      <td>sim</td>\n",
       "      <td>sim</td>\n",
       "      <td>fibra otica</td>\n",
       "      <td>...</td>\n",
       "      <td>sim</td>\n",
       "      <td>nao</td>\n",
       "      <td>nao</td>\n",
       "      <td>sim</td>\n",
       "      <td>nao</td>\n",
       "      <td>None</td>\n",
       "      <td>sim</td>\n",
       "      <td>None</td>\n",
       "      <td>89.65</td>\n",
       "      <td>3161.60</td>\n",
       "    </tr>\n",
       "  </tbody>\n",
       "</table>\n",
       "<p>45 rows × 21 columns</p>\n",
       "</div>"
      ],
      "text/plain": [
       "      id_cliente Churn cliente_genero  cliente_idoso cliente_parceiro  \\\n",
       "0     0002-ORFBO   nao       feminino              0              sim   \n",
       "9     0016-QLJIS   nao       feminino              0              sim   \n",
       "176   0282-NVSJS   nao       feminino              1              sim   \n",
       "181   0295-QVKPB   nao      masculino              0              nao   \n",
       "437   0639-TSIQW   sim       feminino              0              nao   \n",
       "751   1095-WGNGG   nao       feminino              0              sim   \n",
       "963   1396-QWFBJ   sim       feminino              0              sim   \n",
       "1604  2333-KWEWW   nao      masculino              0              nao   \n",
       "1605  2335-GSODA   nao      masculino              0              nao   \n",
       "1606  2338-BQEZT   nao       feminino              0              nao   \n",
       "1608  2344-JMOGN   sim      masculino              0              sim   \n",
       "2036  2931-FSOHN   nao      masculino              1              nao   \n",
       "2037  2931-SVLTV   nao      masculino              0              sim   \n",
       "2039  2931-XIQBR   nao       feminino              0              sim   \n",
       "3523  4994-OBRSZ   nao      masculino              0              nao   \n",
       "4712  6637-KYRCV   nao       feminino              0              sim   \n",
       "4716  6646-QVXLR   sim      masculino              1              sim   \n",
       "4718  6647-ZEDXT   nao       feminino              0              nao   \n",
       "4721  6650-VJONK   nao      masculino              0              nao   \n",
       "4725  6653-CBBOM   sim       feminino              0              nao   \n",
       "4728  6656-GULJQ   nao      masculino              0              sim   \n",
       "4731  6661-HBGWL   sim       feminino              1              nao   \n",
       "4733  6664-FPDAC   sim       feminino              1              nao   \n",
       "4738  6680-NENYN   sim       feminino              0              nao   \n",
       "4740  6681-ZSEXG   nao      masculino              0              sim   \n",
       "4745  6685-XSHHU   nao      masculino              0              sim   \n",
       "4749  6689-TCZHQ   sim       feminino              1              nao   \n",
       "4751  6691-CCIHA   nao       feminino              0              sim   \n",
       "4755  6693-FRIRW   nao      masculino              0              nao   \n",
       "4762  6702-OHFWR   sim      masculino              1              nao   \n",
       "5273  7435-ZNUYY   nao      masculino              0              nao   \n",
       "5276  7445-WMRBW   nao       feminino              0              nao   \n",
       "5396  7606-BPHHN   nao      masculino              0              nao   \n",
       "5397  7607-QKKTJ   nao      masculino              0              sim   \n",
       "5402  7611-YKYTC   nao      masculino              0              sim   \n",
       "5404  7614-QVWQL   sim      masculino              0              sim   \n",
       "5410  7622-FWGEW   nao      masculino              1              sim   \n",
       "5412  7623-HKYRK   nao      masculino              0              nao   \n",
       "5415  7627-JKIAZ   sim       feminino              0              sim   \n",
       "6007  8480-PPONV   nao      masculino              0              sim   \n",
       "6134  8690-UPCZI   nao      masculino              0              sim   \n",
       "6181  8748-HFWBO   nao      masculino              0              sim   \n",
       "6652  9465-RWMXL   sim      masculino              0              sim   \n",
       "6655  9470-RTWDV   nao      masculino              0              sim   \n",
       "6656  9470-XCCEM   nao      masculino              0              sim   \n",
       "\n",
       "     cliente_dependentes  cliente_tempo_servico telefone_servico_telefone  \\\n",
       "0                    sim                    9.0                       sim   \n",
       "9                    sim                    NaN                       sim   \n",
       "176                  sim                    NaN                       nao   \n",
       "181                  nao                    NaN                       sim   \n",
       "437                  nao                   67.0                       sim   \n",
       "751                  nao                    NaN                       sim   \n",
       "963                  sim                   21.0                       sim   \n",
       "1604                 nao                   18.0                       sim   \n",
       "1605                 sim                   23.0                       nao   \n",
       "1606                 nao                   55.0                       sim   \n",
       "1608                 nao                    9.0                       sim   \n",
       "2036                 nao                   13.0                       sim   \n",
       "2037                 sim                   40.0                       sim   \n",
       "2039                 sim                   50.0                       sim   \n",
       "3523                 sim                    NaN                       sim   \n",
       "4712                 sim                    5.0                       nao   \n",
       "4716                 nao                   62.0                       sim   \n",
       "4718                 nao                   30.0                       sim   \n",
       "4721                 nao                    1.0                       sim   \n",
       "4725                 nao                    1.0                       sim   \n",
       "4728                 sim                   72.0                       sim   \n",
       "4731                 nao                   42.0                       sim   \n",
       "4733                 nao                   56.0                       sim   \n",
       "4738                 nao                   43.0                       sim   \n",
       "4740                 nao                   56.0                       sim   \n",
       "4745                 sim                   60.0                       sim   \n",
       "4749                 nao                    5.0                       sim   \n",
       "4751                 nao                   62.0                       sim   \n",
       "4755                 nao                   18.0                       sim   \n",
       "4762                 nao                    1.0                       nao   \n",
       "5273                 nao                    NaN                       sim   \n",
       "5276                 nao                    NaN                       sim   \n",
       "5396                 nao                   72.0                       sim   \n",
       "5397                 sim                   45.0                       sim   \n",
       "5402                 sim                   22.0                       sim   \n",
       "5404                 sim                   49.0                       nao   \n",
       "5410                 nao                   56.0                       sim   \n",
       "5412                 sim                    6.0                       sim   \n",
       "5415                 nao                   37.0                       sim   \n",
       "6007                 sim                   62.0                       sim   \n",
       "6134                 sim                    NaN                       sim   \n",
       "6181                 sim                   19.0                       sim   \n",
       "6652                 nao                   32.0                       sim   \n",
       "6655                 sim                   26.0                       sim   \n",
       "6656                 sim                   35.0                       sim   \n",
       "\n",
       "       telefone_varias_linhas internet_servico_internet  ...  \\\n",
       "0                         nao                       DSL  ...   \n",
       "9                         sim                       DSL  ...   \n",
       "176   sem servico de telefone                       DSL  ...   \n",
       "181                       nao                       DSL  ...   \n",
       "437                       sim               fibra otica  ...   \n",
       "751                       sim               fibra otica  ...   \n",
       "963                       nao               fibra otica  ...   \n",
       "1604                      nao                       nao  ...   \n",
       "1605  sem servico de telefone                       DSL  ...   \n",
       "1606                      nao                       DSL  ...   \n",
       "1608                      nao               fibra otica  ...   \n",
       "2036                      nao                       DSL  ...   \n",
       "2037                      sim               fibra otica  ...   \n",
       "2039                      nao               fibra otica  ...   \n",
       "3523                      nao                       DSL  ...   \n",
       "4712  sem servico de telefone                       DSL  ...   \n",
       "4716                      sim               fibra otica  ...   \n",
       "4718                      sim               fibra otica  ...   \n",
       "4721                      nao                       DSL  ...   \n",
       "4725                      nao               fibra otica  ...   \n",
       "4728                      sim                       DSL  ...   \n",
       "4731                      sim               fibra otica  ...   \n",
       "4733                      sim               fibra otica  ...   \n",
       "4738                      sim               fibra otica  ...   \n",
       "4740                      sim                       DSL  ...   \n",
       "4745                      nao                       nao  ...   \n",
       "4749                      nao               fibra otica  ...   \n",
       "4751                      sim                       DSL  ...   \n",
       "4755                      nao               fibra otica  ...   \n",
       "4762  sem servico de telefone                       DSL  ...   \n",
       "5273                      nao                       nao  ...   \n",
       "5276                      sim                       DSL  ...   \n",
       "5396                      nao                       nao  ...   \n",
       "5397                      sim               fibra otica  ...   \n",
       "5402                      nao               fibra otica  ...   \n",
       "5404  sem servico de telefone                       DSL  ...   \n",
       "5410                      nao                       DSL  ...   \n",
       "5412                      nao                       nao  ...   \n",
       "5415                      sim               fibra otica  ...   \n",
       "6007                      sim               fibra otica  ...   \n",
       "6134                      sim                       DSL  ...   \n",
       "6181                      nao                       nao  ...   \n",
       "6652                      sim               fibra otica  ...   \n",
       "6655                      sim                       DSL  ...   \n",
       "6656                      sim               fibra otica  ...   \n",
       "\n",
       "       internet_backup_online internet_protecao_dispositivo  \\\n",
       "0                         sim                           nao   \n",
       "9                         sim                           sim   \n",
       "176                       nao                           nao   \n",
       "181                       nao                           sim   \n",
       "437                       sim                           sim   \n",
       "751                       sim                           nao   \n",
       "963                       sim                           nao   \n",
       "1604  sem servico de internet       sem servico de internet   \n",
       "1605                      nao                           sim   \n",
       "1606                      nao                           nao   \n",
       "1608                      sim                           sim   \n",
       "2036                      sim                           nao   \n",
       "2037                      sim                           nao   \n",
       "2039                      nao                           sim   \n",
       "3523                      sim                           sim   \n",
       "4712                      sim                           nao   \n",
       "4716                      sim                           sim   \n",
       "4718                      sim                           sim   \n",
       "4721                      nao                           nao   \n",
       "4725                      nao                           nao   \n",
       "4728                      nao                           sim   \n",
       "4731                      sim                           sim   \n",
       "4733                      sim                           sim   \n",
       "4738                      sim                           sim   \n",
       "4740                      sim                           sim   \n",
       "4745  sem servico de internet       sem servico de internet   \n",
       "4749                      nao                           nao   \n",
       "4751                      sim                           nao   \n",
       "4755                      sim                           sim   \n",
       "4762                      sim                           sim   \n",
       "5273  sem servico de internet       sem servico de internet   \n",
       "5276                      sim                           sim   \n",
       "5396  sem servico de internet       sem servico de internet   \n",
       "5397                      sim                           sim   \n",
       "5402                      nao                           nao   \n",
       "5404                      sim                           nao   \n",
       "5410                      sim                           sim   \n",
       "5412  sem servico de internet       sem servico de internet   \n",
       "5415                      nao                           sim   \n",
       "6007                      sim                           sim   \n",
       "6134                      nao                           nao   \n",
       "6181  sem servico de internet       sem servico de internet   \n",
       "6652                      nao                           sim   \n",
       "6655                      nao                           sim   \n",
       "6656                      sim                           nao   \n",
       "\n",
       "     internet_suporte_tecnico    internet_tv_streaming  \\\n",
       "0                         sim                      sim   \n",
       "9                         sim                      sim   \n",
       "176                       sim                      nao   \n",
       "181                       sim                      sim   \n",
       "437                       nao                      sim   \n",
       "751                       nao                      sim   \n",
       "963                       nao                      nao   \n",
       "1604  sem servico de internet  sem servico de internet   \n",
       "1605                      sim                      nao   \n",
       "1606                      nao                      nao   \n",
       "1608                      sim                      sim   \n",
       "2036                      nao                      sim   \n",
       "2037                      sim                      sim   \n",
       "2039                      sim                      sim   \n",
       "3523                      sim                      nao   \n",
       "4712                      nao                      nao   \n",
       "4716                      nao                      sim   \n",
       "4718                      sim                      sim   \n",
       "4721                      nao                      nao   \n",
       "4725                      nao                      nao   \n",
       "4728                      sim                      sim   \n",
       "4731                      nao                      sim   \n",
       "4733                      sim                      sim   \n",
       "4738                      nao                      sim   \n",
       "4740                      nao                      nao   \n",
       "4745  sem servico de internet  sem servico de internet   \n",
       "4749                      nao                      nao   \n",
       "4751                      sim                      sim   \n",
       "4755                      nao                      sim   \n",
       "4762                      nao                      nao   \n",
       "5273  sem servico de internet  sem servico de internet   \n",
       "5276                      sim                      sim   \n",
       "5396  sem servico de internet  sem servico de internet   \n",
       "5397                      nao                      nao   \n",
       "5402                      nao                      nao   \n",
       "5404                      nao                      sim   \n",
       "5410                      sim                      sim   \n",
       "5412  sem servico de internet  sem servico de internet   \n",
       "5415                      nao                      nao   \n",
       "6007                      sim                      sim   \n",
       "6134                      sim                      sim   \n",
       "6181  sem servico de internet  sem servico de internet   \n",
       "6652                      nao                      nao   \n",
       "6655                      sim                      sim   \n",
       "6656                      nao                      sim   \n",
       "\n",
       "     internet_filmes_streaming conta_contrato conta_faturamente_eletronico  \\\n",
       "0                          nao           None                         None   \n",
       "9                          sim      dois anos                          sim   \n",
       "176                        nao      mes a mes                          sim   \n",
       "181                        nao      mes a mes                          sim   \n",
       "437                        nao           None                         None   \n",
       "751                        sim      dois anos                          sim   \n",
       "963                        nao           None                          sim   \n",
       "1604   sem servico de internet           None                          nao   \n",
       "1605                       nao           None                          nao   \n",
       "1606                       nao           None                          sim   \n",
       "1608                       nao      mes a mes                         None   \n",
       "2036                       nao      mes a mes                          sim   \n",
       "2037                       sim           None                         None   \n",
       "2039                       sim           None                         None   \n",
       "3523                       sim      dois anos                          nao   \n",
       "4712                       nao           None                         None   \n",
       "4716                       sim           None                          sim   \n",
       "4718                       sim           None                          nao   \n",
       "4721                       nao           None                          sim   \n",
       "4725                       nao           None                          sim   \n",
       "4728                       sim           None                         None   \n",
       "4731                       sim           None                          sim   \n",
       "4733                       sim           None                          sim   \n",
       "4738                       sim           None                          sim   \n",
       "4740                       nao      dois anos                          nao   \n",
       "4745   sem servico de internet      dois anos                         None   \n",
       "4749                       sim      mes a mes                         None   \n",
       "4751                       sim           None                          sim   \n",
       "4755                       sim           None                          nao   \n",
       "4762                       sim           None                         None   \n",
       "5273   sem servico de internet         um ano                          nao   \n",
       "5276                       nao         um ano                          sim   \n",
       "5396   sem servico de internet           None                          sim   \n",
       "5397                       sim           None                         None   \n",
       "5402                       nao           None                          nao   \n",
       "5404                       sim           None                         None   \n",
       "5410                       sim           None                          sim   \n",
       "5412   sem servico de internet           None                         None   \n",
       "5415                       nao      mes a mes                          sim   \n",
       "6007                       sim           None                         None   \n",
       "6134                       nao         um ano                          nao   \n",
       "6181   sem servico de internet           None                         None   \n",
       "6652                       nao           None                         None   \n",
       "6655                       sim           None                         None   \n",
       "6656                       nao           None                          sim   \n",
       "\n",
       "                   conta_metodo_pagamento conta_cobranca_mensal  \\\n",
       "0                                    None                   NaN   \n",
       "9                     cheque pelo correio                 90.45   \n",
       "176                   cheque pelo correio                 29.30   \n",
       "181        cartao de credito (automatico)                 63.95   \n",
       "437        cartao de credito (automatico)                   NaN   \n",
       "751   transferencia bancaria (automatica)                101.05   \n",
       "963                                  None                   NaN   \n",
       "1604                                 None                 20.05   \n",
       "1605                                 None                   NaN   \n",
       "1606       cartao de credito (automatico)                   NaN   \n",
       "1608                  cheque pelo correio                   NaN   \n",
       "2036                                 None                 59.90   \n",
       "2037                                 None                   NaN   \n",
       "2039                  cheque pelo correio                103.05   \n",
       "3523  transferencia bancaria (automatica)                 76.10   \n",
       "4712                                 None                   NaN   \n",
       "4716                    cheque eletronico                   NaN   \n",
       "4718                                 None                110.45   \n",
       "4721  transferencia bancaria (automatica)                   NaN   \n",
       "4725                                 None                 70.30   \n",
       "4728       cartao de credito (automatico)                 83.55   \n",
       "4731                                 None                104.75   \n",
       "4733                    cheque eletronico                   NaN   \n",
       "4738                                 None                104.60   \n",
       "4740                                 None                 59.50   \n",
       "4745                                 None                 20.95   \n",
       "4749                                 None                 78.95   \n",
       "4751                                 None                 84.95   \n",
       "4755                                 None                   NaN   \n",
       "4762                                 None                 43.30   \n",
       "5273                  cheque pelo correio                 20.60   \n",
       "5276  transferencia bancaria (automatica)                 73.85   \n",
       "5396       cartao de credito (automatico)                 19.80   \n",
       "5397                                 None                   NaN   \n",
       "5402  transferencia bancaria (automatica)                   NaN   \n",
       "5404                                 None                   NaN   \n",
       "5410                                 None                   NaN   \n",
       "5412                                 None                 19.70   \n",
       "5415                                 None                 78.95   \n",
       "6007  transferencia bancaria (automatica)                   NaN   \n",
       "6134  transferencia bancaria (automatica)                 69.05   \n",
       "6181                                 None                 19.90   \n",
       "6652                                 None                 78.90   \n",
       "6655                                 None                 82.00   \n",
       "6656                                 None                 89.65   \n",
       "\n",
       "      conta_cobranca_Total  \n",
       "0                      NaN  \n",
       "9                  5957.90  \n",
       "176                 355.90  \n",
       "181                 318.10  \n",
       "437                6886.25  \n",
       "751                5971.25  \n",
       "963                1565.70  \n",
       "1604                   NaN  \n",
       "1605                   NaN  \n",
       "1606                   NaN  \n",
       "1608                890.60  \n",
       "2036                788.35  \n",
       "2037                   NaN  \n",
       "2039               5153.50  \n",
       "3523               1054.80  \n",
       "4712                   NaN  \n",
       "4716                   NaN  \n",
       "4718               3327.05  \n",
       "4721                   NaN  \n",
       "4725                 70.30  \n",
       "4728                   NaN  \n",
       "4731                   NaN  \n",
       "4733                   NaN  \n",
       "4738               4759.85  \n",
       "4740               3389.25  \n",
       "4745                   NaN  \n",
       "4749                378.40  \n",
       "4751               5150.55  \n",
       "4755                   NaN  \n",
       "4762                 43.30  \n",
       "5273                116.60  \n",
       "5276               3581.40  \n",
       "5396               1468.75  \n",
       "5397               4368.85  \n",
       "5402                   NaN  \n",
       "5404                   NaN  \n",
       "5410               4824.45  \n",
       "5412                111.65  \n",
       "5415               2839.65  \n",
       "6007               7159.05  \n",
       "6134               1958.45  \n",
       "6181                357.70  \n",
       "6652               2447.95  \n",
       "6655               2083.10  \n",
       "6656               3161.60  \n",
       "\n",
       "[45 rows x 21 columns]"
      ]
     },
     "execution_count": 84,
     "metadata": {},
     "output_type": "execute_result"
    }
   ],
   "source": [
    "dados_sem_vazio[dados_sem_vazio.isna().any(axis=1)]"
   ]
  },
  {
   "cell_type": "code",
   "execution_count": 92,
   "metadata": {},
   "outputs": [],
   "source": [
    "filtro = dados_sem_vazio['cliente_tempo_servico'].isna()"
   ]
  },
  {
   "cell_type": "code",
   "execution_count": null,
   "metadata": {},
   "outputs": [
    {
     "data": {
      "text/html": [
       "<div>\n",
       "<style scoped>\n",
       "    .dataframe tbody tr th:only-of-type {\n",
       "        vertical-align: middle;\n",
       "    }\n",
       "\n",
       "    .dataframe tbody tr th {\n",
       "        vertical-align: top;\n",
       "    }\n",
       "\n",
       "    .dataframe thead th {\n",
       "        text-align: right;\n",
       "    }\n",
       "</style>\n",
       "<table border=\"1\" class=\"dataframe\">\n",
       "  <thead>\n",
       "    <tr style=\"text-align: right;\">\n",
       "      <th></th>\n",
       "      <th>cliente_tempo_servico</th>\n",
       "      <th>conta_cobranca_mensal</th>\n",
       "      <th>conta_cobranca_Total</th>\n",
       "    </tr>\n",
       "  </thead>\n",
       "  <tbody>\n",
       "    <tr>\n",
       "      <th>9</th>\n",
       "      <td>NaN</td>\n",
       "      <td>90.45</td>\n",
       "      <td>5957.90</td>\n",
       "    </tr>\n",
       "    <tr>\n",
       "      <th>176</th>\n",
       "      <td>NaN</td>\n",
       "      <td>29.30</td>\n",
       "      <td>355.90</td>\n",
       "    </tr>\n",
       "    <tr>\n",
       "      <th>181</th>\n",
       "      <td>NaN</td>\n",
       "      <td>63.95</td>\n",
       "      <td>318.10</td>\n",
       "    </tr>\n",
       "    <tr>\n",
       "      <th>751</th>\n",
       "      <td>NaN</td>\n",
       "      <td>101.05</td>\n",
       "      <td>5971.25</td>\n",
       "    </tr>\n",
       "    <tr>\n",
       "      <th>3523</th>\n",
       "      <td>NaN</td>\n",
       "      <td>76.10</td>\n",
       "      <td>1054.80</td>\n",
       "    </tr>\n",
       "    <tr>\n",
       "      <th>5273</th>\n",
       "      <td>NaN</td>\n",
       "      <td>20.60</td>\n",
       "      <td>116.60</td>\n",
       "    </tr>\n",
       "    <tr>\n",
       "      <th>5276</th>\n",
       "      <td>NaN</td>\n",
       "      <td>73.85</td>\n",
       "      <td>3581.40</td>\n",
       "    </tr>\n",
       "    <tr>\n",
       "      <th>6134</th>\n",
       "      <td>NaN</td>\n",
       "      <td>69.05</td>\n",
       "      <td>1958.45</td>\n",
       "    </tr>\n",
       "  </tbody>\n",
       "</table>\n",
       "</div>"
      ],
      "text/plain": [
       "      cliente_tempo_servico  conta_cobranca_mensal  conta_cobranca_Total\n",
       "9                       NaN                  90.45               5957.90\n",
       "176                     NaN                  29.30                355.90\n",
       "181                     NaN                  63.95                318.10\n",
       "751                     NaN                 101.05               5971.25\n",
       "3523                    NaN                  76.10               1054.80\n",
       "5273                    NaN                  20.60                116.60\n",
       "5276                    NaN                  73.85               3581.40\n",
       "6134                    NaN                  69.05               1958.45"
      ]
     },
     "execution_count": 99,
     "metadata": {},
     "output_type": "execute_result"
    }
   ],
   "source": [
    "dados_sem_vazio[filtro][['cliente_tempo_servico', 'conta_cobranca_mensal','conta_cobranca_Total']]"
   ]
  },
  {
   "cell_type": "code",
   "execution_count": 103,
   "metadata": {},
   "outputs": [
    {
     "name": "stderr",
     "output_type": "stream",
     "text": [
      "C:\\Users\\Gleyson Walliffe\\AppData\\Local\\Temp\\ipykernel_44412\\2221492119.py:3: FutureWarning: A value is trying to be set on a copy of a DataFrame or Series through chained assignment using an inplace method.\n",
      "The behavior will change in pandas 3.0. This inplace method will never work because the intermediate object on which we are setting values always behaves as a copy.\n",
      "\n",
      "For example, when doing 'df[col].method(value, inplace=True)', try using 'df.method({col: value}, inplace=True)' or df[col] = df[col].method(value) instead, to perform the operation inplace on the original object.\n",
      "\n",
      "\n",
      "  dados_sem_vazio['cliente_tempo_servico'].fillna(\n"
     ]
    }
   ],
   "source": [
    "import numpy as np\n",
    "\n",
    "dados_sem_vazio['cliente_tempo_servico'].fillna(\n",
    "    np.ceil(\n",
    "        dados_sem_vazio['conta_cobranca_Total'] / dados_sem_vazio['conta_cobranca_mensal']\n",
    "    ),inplace=True\n",
    ")"
   ]
  },
  {
   "cell_type": "code",
   "execution_count": 104,
   "metadata": {},
   "outputs": [
    {
     "data": {
      "text/html": [
       "<div>\n",
       "<style scoped>\n",
       "    .dataframe tbody tr th:only-of-type {\n",
       "        vertical-align: middle;\n",
       "    }\n",
       "\n",
       "    .dataframe tbody tr th {\n",
       "        vertical-align: top;\n",
       "    }\n",
       "\n",
       "    .dataframe thead th {\n",
       "        text-align: right;\n",
       "    }\n",
       "</style>\n",
       "<table border=\"1\" class=\"dataframe\">\n",
       "  <thead>\n",
       "    <tr style=\"text-align: right;\">\n",
       "      <th></th>\n",
       "      <th>cliente_tempo_servico</th>\n",
       "      <th>conta_cobranca_mensal</th>\n",
       "      <th>conta_cobranca_Total</th>\n",
       "    </tr>\n",
       "  </thead>\n",
       "  <tbody>\n",
       "    <tr>\n",
       "      <th>9</th>\n",
       "      <td>66.0</td>\n",
       "      <td>90.45</td>\n",
       "      <td>5957.90</td>\n",
       "    </tr>\n",
       "    <tr>\n",
       "      <th>176</th>\n",
       "      <td>13.0</td>\n",
       "      <td>29.30</td>\n",
       "      <td>355.90</td>\n",
       "    </tr>\n",
       "    <tr>\n",
       "      <th>181</th>\n",
       "      <td>5.0</td>\n",
       "      <td>63.95</td>\n",
       "      <td>318.10</td>\n",
       "    </tr>\n",
       "    <tr>\n",
       "      <th>751</th>\n",
       "      <td>60.0</td>\n",
       "      <td>101.05</td>\n",
       "      <td>5971.25</td>\n",
       "    </tr>\n",
       "    <tr>\n",
       "      <th>3523</th>\n",
       "      <td>14.0</td>\n",
       "      <td>76.10</td>\n",
       "      <td>1054.80</td>\n",
       "    </tr>\n",
       "    <tr>\n",
       "      <th>5273</th>\n",
       "      <td>6.0</td>\n",
       "      <td>20.60</td>\n",
       "      <td>116.60</td>\n",
       "    </tr>\n",
       "    <tr>\n",
       "      <th>5276</th>\n",
       "      <td>49.0</td>\n",
       "      <td>73.85</td>\n",
       "      <td>3581.40</td>\n",
       "    </tr>\n",
       "    <tr>\n",
       "      <th>6134</th>\n",
       "      <td>29.0</td>\n",
       "      <td>69.05</td>\n",
       "      <td>1958.45</td>\n",
       "    </tr>\n",
       "  </tbody>\n",
       "</table>\n",
       "</div>"
      ],
      "text/plain": [
       "      cliente_tempo_servico  conta_cobranca_mensal  conta_cobranca_Total\n",
       "9                      66.0                  90.45               5957.90\n",
       "176                    13.0                  29.30                355.90\n",
       "181                     5.0                  63.95                318.10\n",
       "751                    60.0                 101.05               5971.25\n",
       "3523                   14.0                  76.10               1054.80\n",
       "5273                    6.0                  20.60                116.60\n",
       "5276                   49.0                  73.85               3581.40\n",
       "6134                   29.0                  69.05               1958.45"
      ]
     },
     "execution_count": 104,
     "metadata": {},
     "output_type": "execute_result"
    }
   ],
   "source": [
    "dados_sem_vazio[filtro][['cliente_tempo_servico', 'conta_cobranca_mensal','conta_cobranca_Total']]"
   ]
  },
  {
   "cell_type": "code",
   "execution_count": 105,
   "metadata": {},
   "outputs": [
    {
     "data": {
      "text/plain": [
       "id_cliente                        0\n",
       "Churn                             0\n",
       "cliente_genero                    0\n",
       "cliente_idoso                     0\n",
       "cliente_parceiro                  0\n",
       "cliente_dependentes               0\n",
       "cliente_tempo_servico             0\n",
       "telefone_servico_telefone         0\n",
       "telefone_varias_linhas            0\n",
       "internet_servico_internet         0\n",
       "internet_seguranca_online         0\n",
       "internet_backup_online            0\n",
       "internet_protecao_dispositivo     0\n",
       "internet_suporte_tecnico          0\n",
       "internet_tv_streaming             0\n",
       "internet_filmes_streaming         0\n",
       "conta_contrato                   31\n",
       "conta_faturamente_eletronico     17\n",
       "conta_metodo_pagamento           26\n",
       "conta_cobranca_mensal            17\n",
       "conta_cobranca_Total             15\n",
       "dtype: int64"
      ]
     },
     "execution_count": 105,
     "metadata": {},
     "output_type": "execute_result"
    }
   ],
   "source": [
    "dados_sem_vazio.isna().sum()"
   ]
  },
  {
   "cell_type": "markdown",
   "metadata": {},
   "source": [
    "## Retirando dados nulos"
   ]
  },
  {
   "cell_type": "code",
   "execution_count": 106,
   "metadata": {},
   "outputs": [
    {
     "data": {
      "text/plain": [
       "conta_contrato\n",
       "mes a mes    3861\n",
       "dois anos    1688\n",
       "um ano       1463\n",
       "Name: count, dtype: int64"
      ]
     },
     "execution_count": 106,
     "metadata": {},
     "output_type": "execute_result"
    }
   ],
   "source": [
    "dados_sem_vazio['conta_contrato'].value_counts()"
   ]
  },
  {
   "cell_type": "code",
   "execution_count": 108,
   "metadata": {},
   "outputs": [],
   "source": [
    "colunas_dropar = ['conta_contrato','conta_faturamente_eletronico','conta_metodo_pagamento']"
   ]
  },
  {
   "cell_type": "code",
   "execution_count": 110,
   "metadata": {},
   "outputs": [
    {
     "data": {
      "text/plain": [
       "np.int64(37)"
      ]
     },
     "execution_count": 110,
     "metadata": {},
     "output_type": "execute_result"
    }
   ],
   "source": [
    "dados_sem_vazio[colunas_dropar].isna().any(axis=1).sum()"
   ]
  },
  {
   "cell_type": "code",
   "execution_count": 112,
   "metadata": {},
   "outputs": [],
   "source": [
    "df_sem_nulos = dados_sem_vazio.dropna(subset=colunas_dropar).copy()"
   ]
  },
  {
   "cell_type": "code",
   "execution_count": 114,
   "metadata": {},
   "outputs": [],
   "source": [
    "df_sem_nulos.head()\n",
    "df_sem_nulos.reset_index(drop=True,inplace=True)"
   ]
  },
  {
   "cell_type": "code",
   "execution_count": 115,
   "metadata": {},
   "outputs": [
    {
     "data": {
      "text/plain": [
       "id_cliente                       0\n",
       "Churn                            0\n",
       "cliente_genero                   0\n",
       "cliente_idoso                    0\n",
       "cliente_parceiro                 0\n",
       "cliente_dependentes              0\n",
       "cliente_tempo_servico            0\n",
       "telefone_servico_telefone        0\n",
       "telefone_varias_linhas           0\n",
       "internet_servico_internet        0\n",
       "internet_seguranca_online        0\n",
       "internet_backup_online           0\n",
       "internet_protecao_dispositivo    0\n",
       "internet_suporte_tecnico         0\n",
       "internet_tv_streaming            0\n",
       "internet_filmes_streaming        0\n",
       "conta_contrato                   0\n",
       "conta_faturamente_eletronico     0\n",
       "conta_metodo_pagamento           0\n",
       "conta_cobranca_mensal            0\n",
       "conta_cobranca_Total             0\n",
       "dtype: int64"
      ]
     },
     "execution_count": 115,
     "metadata": {},
     "output_type": "execute_result"
    }
   ],
   "source": [
    "df_sem_nulos.isna().sum()"
   ]
  }
 ],
 "metadata": {
  "colab": {
   "authorship_tag": "ABX9TyP0b4nr+emx9RQ9NDHBKVBF",
   "provenance": [],
   "toc_visible": true
  },
  "kernelspec": {
   "display_name": ".venv",
   "language": "python",
   "name": "python3"
  },
  "language_info": {
   "codemirror_mode": {
    "name": "ipython",
    "version": 3
   },
   "file_extension": ".py",
   "mimetype": "text/x-python",
   "name": "python",
   "nbconvert_exporter": "python",
   "pygments_lexer": "ipython3",
   "version": "3.10.11"
  }
 },
 "nbformat": 4,
 "nbformat_minor": 0
}
