{
 "cells": [
  {
   "cell_type": "markdown",
   "metadata": {},
   "source": [
    "# Conhecendo a base de dados"
   ]
  },
  {
   "cell_type": "markdown",
   "metadata": {},
   "source": [
    "## Importando os dados\n"
   ]
  },
  {
   "cell_type": "code",
   "execution_count": null,
   "metadata": {},
   "outputs": [],
   "source": [
    "import pandas as pd"
   ]
  },
  {
   "cell_type": "code",
   "execution_count": null,
   "metadata": {},
   "outputs": [],
   "source": [
    "url = '../files/aluguel.csv'\n",
    "#pd.read_csv(url)\n",
    "#ler csv e armazenar em um df\n",
    "dados = pd.read_csv(url, sep=';')\n",
    "dados"
   ]
  },
  {
   "cell_type": "code",
   "execution_count": null,
   "metadata": {},
   "outputs": [],
   "source": [
    "#primeiras 10 linhas\n",
    "dados.head(10)"
   ]
  },
  {
   "cell_type": "code",
   "execution_count": null,
   "metadata": {},
   "outputs": [],
   "source": [
    "#ultimas linhas\n",
    "dados.tail()"
   ]
  },
  {
   "cell_type": "code",
   "execution_count": null,
   "metadata": {},
   "outputs": [],
   "source": [
    "#verificando que é uma variavel do type dataframe\n",
    "type(dados)"
   ]
  },
  {
   "cell_type": "markdown",
   "metadata": {},
   "source": [
    "## Características gerais da base de dados"
   ]
  },
  {
   "cell_type": "code",
   "execution_count": null,
   "metadata": {},
   "outputs": [],
   "source": [
    "#quantidade de linhas e colunas\n",
    "dados.shape"
   ]
  },
  {
   "cell_type": "code",
   "execution_count": null,
   "metadata": {},
   "outputs": [],
   "source": [
    "#verificando quais colunas existem\n",
    "dados.columns"
   ]
  },
  {
   "cell_type": "code",
   "execution_count": null,
   "metadata": {},
   "outputs": [],
   "source": [
    "#verificando qual tipagem dos dados\n",
    "dados.info()"
   ]
  },
  {
   "cell_type": "code",
   "execution_count": null,
   "metadata": {},
   "outputs": [],
   "source": [
    "#trazendo apenas uma coluna do dataframe\n",
    "dados['Tipo']"
   ]
  },
  {
   "cell_type": "code",
   "execution_count": null,
   "metadata": {},
   "outputs": [],
   "source": [
    "#trazedo duas colunas \n",
    "dados[['Quartos', 'Valor']]"
   ]
  },
  {
   "cell_type": "markdown",
   "metadata": {},
   "source": [
    "# Análise exploratória de dados"
   ]
  },
  {
   "cell_type": "markdown",
   "metadata": {},
   "source": [
    "## Qual o valor médio de aluguel por tipo de imóvel?"
   ]
  },
  {
   "cell_type": "code",
   "execution_count": null,
   "metadata": {},
   "outputs": [],
   "source": [
    "dados.head()"
   ]
  },
  {
   "cell_type": "code",
   "execution_count": null,
   "metadata": {},
   "outputs": [],
   "source": [
    "#media do campo valor\n",
    "dados['Valor'].mean()"
   ]
  },
  {
   "cell_type": "code",
   "execution_count": null,
   "metadata": {},
   "outputs": [],
   "source": [
    "#agrupando por tipo e sumando apenas valores numericos\n",
    "dados.groupby('Tipo').mean(numeric_only=True)"
   ]
  },
  {
   "cell_type": "code",
   "execution_count": null,
   "metadata": {},
   "outputs": [],
   "source": [
    "#agrupand por tipo e somando apenas valor\n",
    "dados.groupby('Tipo')['Valor'].mean()"
   ]
  },
  {
   "cell_type": "code",
   "execution_count": null,
   "metadata": {},
   "outputs": [],
   "source": [
    "#agrupando tipo, somando valores e ordenando do maior para menor\n",
    "dados.groupby('Tipo')[['Valor']].mean().sort_values('Valor',ascending=0)"
   ]
  },
  {
   "cell_type": "code",
   "execution_count": null,
   "metadata": {},
   "outputs": [],
   "source": [
    "#guardando informações em outra df\n",
    "df_preco_tipo = dados.groupby('Tipo')[['Valor']].mean().sort_values('Valor')\n",
    "\n",
    "#plotando grafico de barras\n",
    "df_preco_tipo.plot(kind='barh', figsize=(14, 10), color ='purple');"
   ]
  },
  {
   "cell_type": "markdown",
   "metadata": {},
   "source": [
    "## Removendo os imóveis comerciais"
   ]
  },
  {
   "cell_type": "code",
   "execution_count": null,
   "metadata": {},
   "outputs": [],
   "source": [
    "#verificamos os tipos de imoveis \n",
    "dados.Tipo.unique()"
   ]
  },
  {
   "cell_type": "code",
   "execution_count": null,
   "metadata": {},
   "outputs": [],
   "source": [
    "#criando uma lista com os tipos comerciais que não serão usados\n",
    "imoveis_comerciais = ['Conjunto Comercial/Sala', \n",
    "                      'Prédio Inteiro', 'Loja/Salão', \n",
    "                      'Galpão/Depósito/Armazém', \n",
    "                      'Casa Comercial', 'Terreno Padrão',\n",
    "                      'Loja Shopping/ Ct Comercial',\n",
    "                      'Box/Garagem', 'Chácara',\n",
    "                      'Loteamento/Condomínio', 'Sítio',\n",
    "                      'Pousada/Chalé', 'Hotel', 'Indústria']\n"
   ]
  },
  {
   "cell_type": "code",
   "execution_count": null,
   "metadata": {},
   "outputs": [],
   "source": [
    "#validando query\n",
    "dados.query('@imoveis_comerciais in Tipo')"
   ]
  },
  {
   "cell_type": "code",
   "execution_count": null,
   "metadata": {},
   "outputs": [],
   "source": [
    "#validando query\n",
    "dados.query('@imoveis_comerciais not in Tipo')"
   ]
  },
  {
   "cell_type": "code",
   "execution_count": null,
   "metadata": {},
   "outputs": [],
   "source": [
    "#criando df com imoveis que serão usados para nnalise\n",
    "df = dados.query('@imoveis_comerciais not in Tipo')\n",
    "df.head()"
   ]
  },
  {
   "cell_type": "code",
   "execution_count": null,
   "metadata": {},
   "outputs": [],
   "source": [
    "#verificando os tipos de imoveis que ficaram\n",
    "df.Tipo.unique()"
   ]
  },
  {
   "cell_type": "code",
   "execution_count": null,
   "metadata": {},
   "outputs": [],
   "source": [
    "#agrupando tipo dos imoveis residenciais por valor\n",
    "df_preco_tipo = df.groupby('Tipo')[['Valor']].mean().sort_values('Valor')\n",
    "\n",
    "#protando grafico\n",
    "df_preco_tipo.plot(kind='barh', figsize=(14, 10), color ='purple');"
   ]
  },
  {
   "cell_type": "markdown",
   "metadata": {},
   "source": [
    "## Qual o percentual de cada tipo de imóvel na nossa base de dados?"
   ]
  },
  {
   "cell_type": "code",
   "execution_count": null,
   "metadata": {},
   "outputs": [],
   "source": [
    "df.Tipo.unique()"
   ]
  },
  {
   "cell_type": "code",
   "execution_count": null,
   "metadata": {},
   "outputs": [],
   "source": [
    "#verificando discrepancia dos valores distribuidos\n",
    "df.Tipo.value_counts(normalize=True)"
   ]
  },
  {
   "cell_type": "code",
   "execution_count": null,
   "metadata": {},
   "outputs": [],
   "source": [
    "#transformando em data frame\n",
    "df.Tipo.value_counts(normalize=True).to_frame().sort_values('Tipo')"
   ]
  },
  {
   "cell_type": "code",
   "execution_count": null,
   "metadata": {},
   "outputs": [],
   "source": [
    "#guardando distribuição dos imoveis por tipo em uma nova df\n",
    "df_percentual_tipo = df.Tipo.value_counts(normalize=True).to_frame().sort_values('Tipo')\n",
    "\n",
    "#platando grafico\n",
    "df_percentual_tipo.plot(kind='bar', figsize=(14, 10), color ='green',\n",
    "                        xlabel = 'Tipos', ylabel = 'Percentual');"
   ]
  },
  {
   "cell_type": "markdown",
   "metadata": {},
   "source": [
    "### **Selecionando apenas os imóveis do tipo apartamento**"
   ]
  },
  {
   "cell_type": "code",
   "execution_count": null,
   "metadata": {},
   "outputs": [],
   "source": [
    "#selecionando apenas apartamentos\n",
    "df.query('Tipo == \"Apartamento\"')"
   ]
  },
  {
   "cell_type": "code",
   "execution_count": null,
   "metadata": {},
   "outputs": [],
   "source": [
    "#criando df\n",
    "df = df.query('Tipo == \"Apartamento\"')\n",
    "df.head()"
   ]
  },
  {
   "cell_type": "markdown",
   "metadata": {},
   "source": [
    "# Tratando e filtrando os dados"
   ]
  },
  {
   "cell_type": "markdown",
   "metadata": {},
   "source": [
    "## Lidando com dados nulos"
   ]
  },
  {
   "cell_type": "code",
   "execution_count": null,
   "metadata": {},
   "outputs": [],
   "source": [
    "#validação de todas  colunas \n",
    "df.isnull()"
   ]
  },
  {
   "cell_type": "code",
   "execution_count": null,
   "metadata": {},
   "outputs": [],
   "source": [
    "#somando nulos por tipo\n",
    "df.isnull().sum()"
   ]
  },
  {
   "cell_type": "code",
   "execution_count": null,
   "metadata": {},
   "outputs": [],
   "source": [
    "#transformndo nulo em 0\n",
    "df.fillna(0)"
   ]
  },
  {
   "cell_type": "code",
   "execution_count": null,
   "metadata": {},
   "outputs": [],
   "source": [
    "#atribuindo a df\n",
    "df = df.fillna(0)"
   ]
  },
  {
   "cell_type": "code",
   "execution_count": null,
   "metadata": {},
   "outputs": [],
   "source": [
    "#validando tratamento de nulos\n",
    "df.isnull().sum()"
   ]
  },
  {
   "cell_type": "markdown",
   "metadata": {},
   "source": [
    "## Removendo registros"
   ]
  },
  {
   "cell_type": "code",
   "execution_count": null,
   "metadata": {},
   "outputs": [],
   "source": [
    "#removendo valores zerados\n",
    "df.query('Valor == 0 | Condominio == 0')"
   ]
  },
  {
   "cell_type": "code",
   "execution_count": null,
   "metadata": {},
   "outputs": [],
   "source": [
    "#criando uma serie para pegar os registros que serão excluidos\n",
    "df.query('Valor == 0 | Condominio == 0').index"
   ]
  },
  {
   "cell_type": "code",
   "execution_count": null,
   "metadata": {},
   "outputs": [],
   "source": [
    "#atribuidos a df\n",
    "registros_a_remover = df.query('Valor == 0 | Condominio == 0').index"
   ]
  },
  {
   "cell_type": "code",
   "execution_count": null,
   "metadata": {},
   "outputs": [],
   "source": [
    "#deletando direto na df\n",
    "df.drop(registros_a_remover, axis=0, inplace=True)"
   ]
  },
  {
   "cell_type": "code",
   "execution_count": null,
   "metadata": {},
   "outputs": [],
   "source": [
    "#validando\n",
    "df.query('Valor == 0 | Condominio == 0')"
   ]
  },
  {
   "cell_type": "code",
   "execution_count": null,
   "metadata": {},
   "outputs": [],
   "source": [
    "df.head()"
   ]
  },
  {
   "cell_type": "code",
   "execution_count": null,
   "metadata": {},
   "outputs": [],
   "source": [
    "#tipo ficou  com um unico valor\n",
    "df.Tipo.unique()"
   ]
  },
  {
   "cell_type": "code",
   "execution_count": null,
   "metadata": {},
   "outputs": [],
   "source": [
    "#exclui coluna\n",
    "df.drop('Tipo', axis=1, inplace=True)"
   ]
  },
  {
   "cell_type": "code",
   "execution_count": null,
   "metadata": {},
   "outputs": [],
   "source": [
    "df.head()"
   ]
  },
  {
   "cell_type": "markdown",
   "metadata": {},
   "source": [
    "## Filtros"
   ]
  },
  {
   "cell_type": "markdown",
   "metadata": {},
   "source": [
    "### **1. Apartamentos que possuem `1 quarto` e `aluguel menor que 1200`**\n",
    "\n"
   ]
  },
  {
   "cell_type": "code",
   "execution_count": null,
   "metadata": {},
   "outputs": [],
   "source": [
    "df['Quartos'] == 1"
   ]
  },
  {
   "cell_type": "code",
   "execution_count": null,
   "metadata": {},
   "outputs": [],
   "source": [
    "selecao1 = df['Quartos'] == 1\n",
    "df[selecao1]"
   ]
  },
  {
   "cell_type": "code",
   "execution_count": null,
   "metadata": {},
   "outputs": [],
   "source": [
    "selecao2 = df['Valor'] < 1200\n",
    "df[selecao2]"
   ]
  },
  {
   "cell_type": "code",
   "execution_count": null,
   "metadata": {},
   "outputs": [],
   "source": [
    "selecao_final = (selecao1) & (selecao2)\n",
    "df[selecao_final]"
   ]
  },
  {
   "cell_type": "code",
   "execution_count": null,
   "metadata": {},
   "outputs": [],
   "source": [
    "df_1 = df[selecao_final]"
   ]
  },
  {
   "cell_type": "markdown",
   "metadata": {},
   "source": [
    "### **2. `Apartamentos` que possuem pelo menos `2 quartos`, `aluguel menor que 3000` e `area maior que 70`**"
   ]
  },
  {
   "cell_type": "code",
   "execution_count": null,
   "metadata": {},
   "outputs": [],
   "source": [
    "selecao = (df['Quartos'] >= 2) & (df['Valor'] < 3000) & (df['Area'] > 70)\n",
    "df[selecao]"
   ]
  },
  {
   "cell_type": "code",
   "execution_count": null,
   "metadata": {},
   "outputs": [],
   "source": [
    "df_2 = df[selecao]"
   ]
  },
  {
   "cell_type": "markdown",
   "metadata": {},
   "source": [
    "## Salvando os dados"
   ]
  },
  {
   "cell_type": "code",
   "execution_count": null,
   "metadata": {},
   "outputs": [],
   "source": [
    "df.to_csv('../files/dados_apartamentos.csv')"
   ]
  },
  {
   "cell_type": "code",
   "execution_count": null,
   "metadata": {},
   "outputs": [],
   "source": [
    "#salvou com coluna index\n",
    "pd.read_csv('../files/dados_apartamentos.csv')"
   ]
  },
  {
   "cell_type": "code",
   "execution_count": null,
   "metadata": {},
   "outputs": [],
   "source": [
    "#salvou sem coluna index\n",
    "df.to_csv('../files/dados_apartamentos.csv', index=False)"
   ]
  },
  {
   "cell_type": "code",
   "execution_count": null,
   "metadata": {},
   "outputs": [],
   "source": [
    "pd.read_csv('../files/dados_apartamentos.csv')"
   ]
  },
  {
   "cell_type": "code",
   "execution_count": null,
   "metadata": {},
   "outputs": [],
   "source": [
    "df.to_csv('../files/dados_apartamentos.csv', index=False, sep=';')"
   ]
  },
  {
   "cell_type": "code",
   "execution_count": null,
   "metadata": {},
   "outputs": [],
   "source": [
    "pd.read_csv('../files/dados_apartamentos.csv')"
   ]
  },
  {
   "cell_type": "code",
   "execution_count": null,
   "metadata": {},
   "outputs": [],
   "source": [
    "pd.read_csv('../files/dados_apartamentos.csv', sep=';')"
   ]
  },
  {
   "cell_type": "markdown",
   "metadata": {},
   "source": [
    "# Manipulando os dados"
   ]
  },
  {
   "cell_type": "markdown",
   "metadata": {},
   "source": [
    "## Criando colunas numéricas"
   ]
  },
  {
   "cell_type": "code",
   "execution_count": null,
   "metadata": {},
   "outputs": [],
   "source": [
    "##url = '../files/aluguel.csv'\n",
    "##dados = pd.read_csv(url, sep=';')\n",
    "##dados.head()\n",
    "dados.head()"
   ]
  },
  {
   "cell_type": "code",
   "execution_count": null,
   "metadata": {},
   "outputs": [],
   "source": [
    "dados['Valor_por_mes'] = dados['Valor'] + dados['Condominio']\n",
    "dados.head()"
   ]
  },
  {
   "cell_type": "code",
   "execution_count": null,
   "metadata": {},
   "outputs": [],
   "source": [
    "dados['Valor_por_ano'] = dados['Valor_por_mes'] * 12 + dados['IPTU']\n",
    "dados.head()"
   ]
  },
  {
   "cell_type": "markdown",
   "metadata": {},
   "source": [
    "## Criando colunas categóricas"
   ]
  },
  {
   "cell_type": "code",
   "execution_count": null,
   "metadata": {},
   "outputs": [],
   "source": [
    "dados['Descricao'] = 'Ap em ' + dados['Bairro']\n",
    "dados.head()"
   ]
  },
  {
   "cell_type": "code",
   "execution_count": null,
   "metadata": {},
   "outputs": [],
   "source": [
    "dados['Descricao'] = 'AP em ' + dados['Bairro'] + ' com '  + \\\n",
    "                     dados['Quartos'].astype(str) + ' quarto(s) '  + \\\n",
    "                     ' e '  + dados['Vagas'].astype(str) + ' vaga(s) de garagem.'\n",
    "dados.head()"
   ]
  },
  {
   "cell_type": "code",
   "execution_count": null,
   "metadata": {},
   "outputs": [],
   "source": [
    "dados['Possui_suite'] = dados['Suites'].apply(lambda x: \"Sim\" if x > 0 else \"Não\")\n",
    "dados.head()"
   ]
  },
  {
   "cell_type": "code",
   "execution_count": null,
   "metadata": {},
   "outputs": [],
   "source": [
    "dados.to_csv('../files/dados_completos_dev.csv', index=False, sep=';')\n"
   ]
  },
  {
   "cell_type": "markdown",
   "metadata": {},
   "source": [
    "# Manipulando dados com CSV, EXCEL, HTML, XML E SQLITE"
   ]
  },
  {
   "cell_type": "markdown",
   "metadata": {},
   "source": [
    "## **Aula 1 - Fazendo leitura de arquivos CSV**\n",
    "\n",
    "Dados:\n",
    "- https://github.com/alura-cursos/Pandas/blob/main/superstore_data.csv\n",
    "- https://github.com/alura-cursos/Pandas/blob/main/superstore_data_ponto_virgula.csv"
   ]
  },
  {
   "cell_type": "markdown",
   "metadata": {},
   "source": [
    "### **Lendo arquivos CSV**"
   ]
  },
  {
   "cell_type": "code",
   "execution_count": null,
   "metadata": {},
   "outputs": [],
   "source": [
    "import pandas as pd"
   ]
  },
  {
   "cell_type": "code",
   "execution_count": null,
   "metadata": {},
   "outputs": [],
   "source": [
    "url = 'https://raw.githubusercontent.com/alura-cursos/Pandas/main/superstore_data.csv'"
   ]
  },
  {
   "cell_type": "code",
   "execution_count": null,
   "metadata": {},
   "outputs": [],
   "source": [
    "dados = pd.read_csv(url)"
   ]
  },
  {
   "cell_type": "code",
   "execution_count": null,
   "metadata": {},
   "outputs": [],
   "source": [
    "dados.head()"
   ]
  },
  {
   "cell_type": "code",
   "execution_count": null,
   "metadata": {},
   "outputs": [],
   "source": [
    "url_2 = 'https://raw.githubusercontent.com/alura-cursos/Pandas/main/superstore_data_ponto_virgula.csv'"
   ]
  },
  {
   "cell_type": "code",
   "execution_count": null,
   "metadata": {},
   "outputs": [],
   "source": [
    "dados_ponto_virgula = pd.read_csv(url_2)"
   ]
  },
  {
   "cell_type": "code",
   "execution_count": null,
   "metadata": {},
   "outputs": [],
   "source": [
    "dados_ponto_virgula.head()"
   ]
  },
  {
   "cell_type": "markdown",
   "metadata": {},
   "source": [
    "### **Parâmetros da função read_csv**\n",
    "Documentação: https://pandas.pydata.org/pandas-docs/stable/reference/api/pandas.read_csv.html"
   ]
  },
  {
   "cell_type": "code",
   "execution_count": null,
   "metadata": {},
   "outputs": [],
   "source": [
    "dados_ponto_virgula = pd.read_csv(url_2, sep = ';')"
   ]
  },
  {
   "cell_type": "code",
   "execution_count": null,
   "metadata": {},
   "outputs": [],
   "source": [
    "dados_ponto_virgula"
   ]
  },
  {
   "cell_type": "code",
   "execution_count": null,
   "metadata": {},
   "outputs": [],
   "source": [
    "dados_primeiras_linhas = pd.read_csv(url,nrows=5)\n",
    "dados_primeiras_linhas"
   ]
  },
  {
   "cell_type": "code",
   "execution_count": null,
   "metadata": {},
   "outputs": [],
   "source": [
    "dados_selecao = pd.read_csv(url, usecols=['Id', 'Year_Birth', 'Income'])\n",
    "dados_selecao"
   ]
  },
  {
   "cell_type": "code",
   "execution_count": null,
   "metadata": {},
   "outputs": [],
   "source": [
    "dados_selecao = pd.read_csv(url, usecols=[0,1,4])\n",
    "dados_selecao"
   ]
  },
  {
   "cell_type": "markdown",
   "metadata": {},
   "source": [
    "### **Escrevendo arquivos CSV**\n",
    "\n",
    "Documentação: https://pandas.pydata.org/docs/reference/api/pandas.DataFrame.to_csv.html"
   ]
  },
  {
   "cell_type": "code",
   "execution_count": null,
   "metadata": {},
   "outputs": [],
   "source": [
    "dados_selecao.to_csv('clientes_mercado.csv')"
   ]
  },
  {
   "cell_type": "code",
   "execution_count": null,
   "metadata": {},
   "outputs": [],
   "source": [
    "clientes_mercado = pd.read_csv('/content/clientes_mercado.csv')\n",
    "clientes_mercado"
   ]
  },
  {
   "cell_type": "code",
   "execution_count": null,
   "metadata": {},
   "outputs": [],
   "source": [
    "dados_selecao.to_csv('dados_mercado.csv', index=False)"
   ]
  },
  {
   "cell_type": "code",
   "execution_count": null,
   "metadata": {},
   "outputs": [],
   "source": [
    "dados_mercado = pd.read_csv('/content/dados_mercado.csv')\n",
    "dados_mercado"
   ]
  },
  {
   "cell_type": "markdown",
   "metadata": {},
   "source": [
    "## **Aula 2 - Utilizando planilhas**\n",
    "\n",
    "Dados: https://github.com/alura-cursos/Pandas/blob/main/emissoes_CO2.xlsx"
   ]
  },
  {
   "cell_type": "markdown",
   "metadata": {},
   "source": [
    "### **Lendo arquivos Excel**"
   ]
  },
  {
   "cell_type": "code",
   "execution_count": null,
   "metadata": {},
   "outputs": [],
   "source": [
    "import pandas as pd"
   ]
  },
  {
   "cell_type": "code",
   "execution_count": null,
   "metadata": {},
   "outputs": [],
   "source": [
    "url = 'https://github.com/alura-cursos/Pandas/blob/main/emissoes_CO2.xlsx?raw=True'"
   ]
  },
  {
   "cell_type": "code",
   "execution_count": null,
   "metadata": {},
   "outputs": [],
   "source": [
    "dados_co2 = pd.read_excel(url)"
   ]
  },
  {
   "cell_type": "code",
   "execution_count": null,
   "metadata": {},
   "outputs": [],
   "source": [
    "dados_co2.head()"
   ]
  },
  {
   "cell_type": "code",
   "execution_count": null,
   "metadata": {},
   "outputs": [],
   "source": [
    "pd.ExcelFile(url).sheet_names"
   ]
  },
  {
   "cell_type": "markdown",
   "metadata": {},
   "source": [
    "### **Parâmetros da função read_excel**\n",
    "\n",
    "Documentação: https://pandas.pydata.org/docs/reference/api/pandas.read_excel.html"
   ]
  },
  {
   "cell_type": "code",
   "execution_count": null,
   "metadata": {},
   "outputs": [],
   "source": [
    "percapita = pd.read_excel(url, sheet_name='emissoes_percapita')"
   ]
  },
  {
   "cell_type": "code",
   "execution_count": null,
   "metadata": {},
   "outputs": [],
   "source": [
    "percapita.head()"
   ]
  },
  {
   "cell_type": "code",
   "execution_count": null,
   "metadata": {},
   "outputs": [],
   "source": [
    "fontes = pd.read_excel(url, sheet_name='fontes')"
   ]
  },
  {
   "cell_type": "code",
   "execution_count": null,
   "metadata": {},
   "outputs": [],
   "source": [
    "fontes.head()"
   ]
  },
  {
   "cell_type": "code",
   "execution_count": null,
   "metadata": {},
   "outputs": [],
   "source": [
    "intervalo = pd.read_excel(url, sheet_name='emissoes_C02', usecols= 'A:D')"
   ]
  },
  {
   "cell_type": "code",
   "execution_count": null,
   "metadata": {},
   "outputs": [],
   "source": [
    "intervalo"
   ]
  },
  {
   "cell_type": "code",
   "execution_count": null,
   "metadata": {},
   "outputs": [],
   "source": [
    "intervalo_2 = pd.read_excel(url, sheet_name='emissoes_C02', usecols= 'A:D', nrows=10)"
   ]
  },
  {
   "cell_type": "code",
   "execution_count": null,
   "metadata": {},
   "outputs": [],
   "source": [
    "intervalo_2"
   ]
  },
  {
   "cell_type": "markdown",
   "metadata": {},
   "source": [
    "### **Escrevendo arquivos Excel**"
   ]
  },
  {
   "cell_type": "code",
   "execution_count": null,
   "metadata": {},
   "outputs": [],
   "source": [
    "percapita.to_excel('co2_percapita.xlsx', index=False)"
   ]
  },
  {
   "cell_type": "code",
   "execution_count": null,
   "metadata": {},
   "outputs": [],
   "source": [
    "pd.read_excel('/content/co2_percapita.xlsx')"
   ]
  },
  {
   "cell_type": "markdown",
   "metadata": {},
   "source": [
    "### **Lendo dados do Google Planilhas**"
   ]
  },
  {
   "cell_type": "markdown",
   "metadata": {},
   "source": [
    "link da planilha: https://docs.google.com/spreadsheets/d/1lzq0k-41-MbbS63C3Q9i1wPvLkSJt9zhr4Jolt1vEog/edit?usp=sharing"
   ]
  },
  {
   "cell_type": "code",
   "execution_count": null,
   "metadata": {},
   "outputs": [],
   "source": [
    "sheet_id = '1lzq0k-41-MbbS63C3Q9i1wPvLkSJt9zhr4Jolt1vEog'\n",
    "url = f'https://docs.google.com/spreadsheets/d/{sheet_id}/gviz/tq?tqx=out:csv&sheet'"
   ]
  },
  {
   "cell_type": "code",
   "execution_count": null,
   "metadata": {},
   "outputs": [],
   "source": [
    "dados_co2_sheets = pd.read_csv(url)"
   ]
  },
  {
   "cell_type": "code",
   "execution_count": null,
   "metadata": {},
   "outputs": [],
   "source": [
    "dados_co2_sheets"
   ]
  },
  {
   "cell_type": "code",
   "execution_count": null,
   "metadata": {},
   "outputs": [],
   "source": [
    "sheet_id = '1lzq0k-41-MbbS63C3Q9i1wPvLkSJt9zhr4Jolt1vEog'\n",
    "sheet_name = 'emissoes_percapita'\n",
    "url_percapita = f'https://docs.google.com/spreadsheets/d/{sheet_id}/gviz/tq?tqx=out:csv&sheet={sheet_name}'"
   ]
  },
  {
   "cell_type": "code",
   "execution_count": null,
   "metadata": {},
   "outputs": [],
   "source": [
    "percapita_sheets = pd.read_csv(url_percapita)"
   ]
  },
  {
   "cell_type": "code",
   "execution_count": null,
   "metadata": {},
   "outputs": [],
   "source": [
    "percapita_sheets.head()"
   ]
  },
  {
   "cell_type": "code",
   "execution_count": null,
   "metadata": {},
   "outputs": [],
   "source": [
    "sheet_id = '1lzq0k-41-MbbS63C3Q9i1wPvLkSJt9zhr4Jolt1vEog'\n",
    "sheet_name = 'fontes'\n",
    "url_fontes = f'https://docs.google.com/spreadsheets/d/{sheet_id}/gviz/tq?tqx=out:csv&sheet={sheet_name}'"
   ]
  },
  {
   "cell_type": "code",
   "execution_count": null,
   "metadata": {},
   "outputs": [],
   "source": [
    "fontes_sheets = pd.read_csv(url_fontes)"
   ]
  },
  {
   "cell_type": "code",
   "execution_count": null,
   "metadata": {},
   "outputs": [],
   "source": [
    "fontes_sheets.head()"
   ]
  },
  {
   "cell_type": "markdown",
   "metadata": {},
   "source": [
    "## **Aula 3 - Manipulando arquivos JSON**\n",
    "\n",
    "Dados:\n",
    "- https://github.com/alura-cursos/Pandas/blob/main/pacientes.json\n",
    "- https://github.com/alura-cursos/Pandas/blob/main/pacientes_2.json"
   ]
  },
  {
   "cell_type": "markdown",
   "metadata": {},
   "source": [
    "### **Lendo arquivos JSON**"
   ]
  },
  {
   "cell_type": "code",
   "execution_count": null,
   "metadata": {},
   "outputs": [],
   "source": [
    "import pandas as pd"
   ]
  },
  {
   "cell_type": "code",
   "execution_count": null,
   "metadata": {},
   "outputs": [],
   "source": [
    "dados_pacientes = pd.read_json('/content/pacientes.json')"
   ]
  },
  {
   "cell_type": "code",
   "execution_count": null,
   "metadata": {},
   "outputs": [],
   "source": [
    "dados_pacientes"
   ]
  },
  {
   "cell_type": "code",
   "execution_count": null,
   "metadata": {},
   "outputs": [],
   "source": [
    "dados_pacientes_2 = pd.read_json('/content/pacientes_2.json')"
   ]
  },
  {
   "cell_type": "code",
   "execution_count": null,
   "metadata": {},
   "outputs": [],
   "source": [
    "dados_pacientes_2"
   ]
  },
  {
   "cell_type": "markdown",
   "metadata": {},
   "source": [
    "### **Normalizando arquivos JSON**"
   ]
  },
  {
   "cell_type": "code",
   "execution_count": null,
   "metadata": {},
   "outputs": [],
   "source": [
    "df_normalizado = pd.json_normalize(dados_pacientes_2['Pacientes'])"
   ]
  },
  {
   "cell_type": "code",
   "execution_count": null,
   "metadata": {},
   "outputs": [],
   "source": [
    "df_normalizado"
   ]
  },
  {
   "cell_type": "markdown",
   "metadata": {},
   "source": [
    "### **Escrevendo arquivos JSON**"
   ]
  },
  {
   "cell_type": "code",
   "execution_count": null,
   "metadata": {},
   "outputs": [],
   "source": [
    "df_normalizado.to_json('historico_pacientes_norm.json')"
   ]
  },
  {
   "cell_type": "code",
   "execution_count": null,
   "metadata": {},
   "outputs": [],
   "source": [
    "pd.read_json('/content/historico_pacientes_norm.json')"
   ]
  },
  {
   "cell_type": "markdown",
   "metadata": {},
   "source": [
    "## **Aula 4 - Lendo dados em HTML e XML**\n",
    "\n",
    "Dados: https://github.com/alura-cursos/Pandas/blob/main/filmes_wikipedia.html"
   ]
  },
  {
   "cell_type": "markdown",
   "metadata": {},
   "source": [
    "### **Lendo páginas web**"
   ]
  },
  {
   "cell_type": "code",
   "execution_count": null,
   "metadata": {},
   "outputs": [],
   "source": [
    "import pandas as pd"
   ]
  },
  {
   "cell_type": "code",
   "execution_count": null,
   "metadata": {},
   "outputs": [],
   "source": [
    "dados_html = pd.read_html('/content/filmes_wikipedia.html')"
   ]
  },
  {
   "cell_type": "code",
   "execution_count": null,
   "metadata": {},
   "outputs": [],
   "source": [
    "dados_html"
   ]
  },
  {
   "cell_type": "code",
   "execution_count": null,
   "metadata": {},
   "outputs": [],
   "source": [
    "type(dados_html)"
   ]
  },
  {
   "cell_type": "code",
   "execution_count": null,
   "metadata": {},
   "outputs": [],
   "source": [
    "len(dados_html)"
   ]
  },
  {
   "cell_type": "code",
   "execution_count": null,
   "metadata": {},
   "outputs": [],
   "source": [
    "top_filmes = dados_html[1]"
   ]
  },
  {
   "cell_type": "code",
   "execution_count": null,
   "metadata": {},
   "outputs": [],
   "source": [
    "top_filmes"
   ]
  },
  {
   "cell_type": "markdown",
   "metadata": {},
   "source": [
    "### **Escrevendo arquivos HTML**"
   ]
  },
  {
   "cell_type": "code",
   "execution_count": null,
   "metadata": {},
   "outputs": [],
   "source": [
    "top_filmes.to_html('top_filmes.html')"
   ]
  },
  {
   "cell_type": "code",
   "execution_count": null,
   "metadata": {},
   "outputs": [],
   "source": [
    "pd.read_html('/content/top_filmes.html')"
   ]
  },
  {
   "cell_type": "code",
   "execution_count": null,
   "metadata": {},
   "outputs": [],
   "source": [
    "top_filmes.to_csv('top_filmes_1998', index=False)"
   ]
  },
  {
   "cell_type": "code",
   "execution_count": null,
   "metadata": {},
   "outputs": [],
   "source": [
    "dados = pd.read_csv('/content/top_filmes_1998')\n",
    "dados.head()"
   ]
  },
  {
   "cell_type": "markdown",
   "metadata": {},
   "source": [
    "### **Lendo/escrevendo arquivos XML**\n",
    "Dados: https://github.com/alura-cursos/Pandas/blob/main/imdb_top_1000.xml\n"
   ]
  },
  {
   "cell_type": "code",
   "execution_count": null,
   "metadata": {},
   "outputs": [],
   "source": [
    "import pandas as pd"
   ]
  },
  {
   "cell_type": "code",
   "execution_count": null,
   "metadata": {},
   "outputs": [],
   "source": [
    "dados_imdb = pd.read_xml('/content/imdb_top_1000.xml')"
   ]
  },
  {
   "cell_type": "code",
   "execution_count": null,
   "metadata": {},
   "outputs": [],
   "source": [
    "dados_imdb.head(3)"
   ]
  },
  {
   "cell_type": "code",
   "execution_count": null,
   "metadata": {},
   "outputs": [],
   "source": [
    "dados_imdb.to_xml('filmes_imdb.xml')"
   ]
  },
  {
   "cell_type": "markdown",
   "metadata": {},
   "source": [
    "## **Aula 5 - Trabalhando com banco de dados**\n",
    "\n",
    "Dados: https://github.com/vqrca/Pandas/blob/main/clientes_banco.csv"
   ]
  },
  {
   "cell_type": "markdown",
   "metadata": {},
   "source": [
    "### **Criando um banco de dados local**"
   ]
  },
  {
   "cell_type": "code",
   "execution_count": null,
   "metadata": {},
   "outputs": [],
   "source": [
    "import sqlalchemy"
   ]
  },
  {
   "cell_type": "code",
   "execution_count": null,
   "metadata": {},
   "outputs": [],
   "source": [
    "from sqlalchemy import create_engine, MetaData, Table, inspect"
   ]
  },
  {
   "cell_type": "code",
   "execution_count": null,
   "metadata": {},
   "outputs": [],
   "source": [
    "engine = create_engine('sqlite:///:memory:')"
   ]
  },
  {
   "cell_type": "markdown",
   "metadata": {},
   "source": [
    "### **Escrevendo em um banco de dados**"
   ]
  },
  {
   "cell_type": "code",
   "execution_count": null,
   "metadata": {},
   "outputs": [],
   "source": [
    "import pandas as pd"
   ]
  },
  {
   "cell_type": "code",
   "execution_count": null,
   "metadata": {},
   "outputs": [],
   "source": [
    "url = 'https://raw.githubusercontent.com/alura-cursos/Pandas/main/clientes_banco.csv'"
   ]
  },
  {
   "cell_type": "code",
   "execution_count": null,
   "metadata": {},
   "outputs": [],
   "source": [
    "dados = pd.read_csv(url)"
   ]
  },
  {
   "cell_type": "code",
   "execution_count": null,
   "metadata": {},
   "outputs": [],
   "source": [
    "dados.head()"
   ]
  },
  {
   "cell_type": "code",
   "execution_count": null,
   "metadata": {},
   "outputs": [],
   "source": [
    "dados.to_sql('clientes', engine, index=False)"
   ]
  },
  {
   "cell_type": "code",
   "execution_count": null,
   "metadata": {},
   "outputs": [],
   "source": [
    "inspector = inspect(engine)"
   ]
  },
  {
   "cell_type": "code",
   "execution_count": null,
   "metadata": {},
   "outputs": [],
   "source": [
    "print(inspector.get_table_names())"
   ]
  },
  {
   "cell_type": "markdown",
   "metadata": {},
   "source": [
    "### **Lendo uma consulta SQL**"
   ]
  },
  {
   "cell_type": "code",
   "execution_count": null,
   "metadata": {},
   "outputs": [],
   "source": [
    "query = 'SELECT * FROM clientes WHERE Categoria_de_renda = \"Empregado\"'"
   ]
  },
  {
   "cell_type": "code",
   "execution_count": null,
   "metadata": {},
   "outputs": [],
   "source": [
    "empregados = pd.read_sql(query, engine)"
   ]
  },
  {
   "cell_type": "code",
   "execution_count": null,
   "metadata": {},
   "outputs": [],
   "source": [
    "empregados"
   ]
  },
  {
   "cell_type": "code",
   "execution_count": null,
   "metadata": {},
   "outputs": [],
   "source": [
    "empregados.to_sql('empregados', con=engine, index=False)"
   ]
  },
  {
   "cell_type": "code",
   "execution_count": null,
   "metadata": {},
   "outputs": [],
   "source": [
    "pd.read_sql_table('empregados', engine)"
   ]
  },
  {
   "cell_type": "code",
   "execution_count": null,
   "metadata": {},
   "outputs": [],
   "source": [
    "pd.read_sql_table('empregados', engine, columns=['ID_Cliente', 'Grau_escolaridade',\n",
    "                                                 'Rendimento_anual'])"
   ]
  },
  {
   "cell_type": "markdown",
   "metadata": {},
   "source": [
    "### **Atualizando um banco de dados**"
   ]
  },
  {
   "cell_type": "code",
   "execution_count": null,
   "metadata": {},
   "outputs": [],
   "source": [
    "query = 'SELECT * FROM clientes'"
   ]
  },
  {
   "cell_type": "code",
   "execution_count": null,
   "metadata": {},
   "outputs": [],
   "source": [
    "pd.read_sql(query, engine)"
   ]
  },
  {
   "cell_type": "markdown",
   "metadata": {},
   "source": [
    "Para atualizar os dados da tabela, precisamos fazer a seguinte importação:"
   ]
  },
  {
   "cell_type": "code",
   "execution_count": null,
   "metadata": {},
   "outputs": [],
   "source": [
    "from sqlalchemy import text"
   ]
  },
  {
   "cell_type": "markdown",
   "metadata": {},
   "source": [
    "Depois disso, para fazer as atualizações, vamos implementar o seguinte código:\n",
    "\n",
    "\n"
   ]
  },
  {
   "cell_type": "code",
   "execution_count": null,
   "metadata": {},
   "outputs": [],
   "source": [
    "query = 'DELETE FROM clientes WHERE ID_Cliente=5008804'\n",
    "with engine.connect() as conn:\n",
    "    result = conn.execute(text(query))\n",
    "    conn.commit()"
   ]
  },
  {
   "cell_type": "markdown",
   "metadata": {},
   "source": [
    "> O código estabelece uma conexão com um banco de dados usando SQLAlchemy e executa uma consulta SQL definida na variável query. Dentro do bloco `with`, que garante o fechamento automático da conexão após a execução do bloco, a consulta é enviada ao banco de dados através do método `conn.execute(text(query))`, onde `text` é usado para assegurar que a string da consulta seja tratada como uma instrução SQL. Após a execução da consulta, `conn.commit()` é chamado para confirmar a transação, assegurando que as alterações realizadas pela consulta (como inserções, atualizações ou exclusões) sejam permanentemente aplicadas no banco de dados."
   ]
  },
  {
   "cell_type": "code",
   "execution_count": null,
   "metadata": {},
   "outputs": [],
   "source": [
    "pd.read_sql_table('clientes', engine)"
   ]
  },
  {
   "cell_type": "code",
   "execution_count": null,
   "metadata": {},
   "outputs": [],
   "source": [
    "query = 'UPDATE clientes SET Grau_escolaridade=\"Ensino superior\" WHERE ID_Cliente=5008808'\n",
    "with engine.connect() as conn:\n",
    "    result = conn.execute(text(query))\n",
    "    conn.commit()"
   ]
  },
  {
   "cell_type": "code",
   "execution_count": null,
   "metadata": {},
   "outputs": [],
   "source": [
    "pd.read_sql_table('clientes', engine)"
   ]
  },
  {
   "cell_type": "markdown",
   "metadata": {},
   "source": [
    "# *GASES - Seleção e agrupamento de dados com pandas*"
   ]
  },
  {
   "cell_type": "markdown",
   "metadata": {},
   "source": [
    "## Fazendo a leitura dos dados"
   ]
  },
  {
   "cell_type": "markdown",
   "metadata": {},
   "source": [
    "Vamos analisar dados de emissões de gases de efeito estufa no território brasileiro e criar tabelas e visualizações para entender os dados e gerar insights a partir deles. Os dados foram extraídos do SEEG."
   ]
  },
  {
   "cell_type": "markdown",
   "metadata": {},
   "source": [
    "---\n",
    "ℹ Fonte: SEEG - Sistema de Estimativa de Emissões e Remoções de Gases de Efeito Estufa, Observatório do Clima, acessado em http://seeg.eco.br:\n",
    "\n",
    "- [Download da base de dados](https://drive.google.com/file/d/1YdNX3Qf0sXHj8muyKra70evke_zkvO0g/view)\n",
    "---"
   ]
  },
  {
   "cell_type": "markdown",
   "metadata": {},
   "source": [
    "Primeiramente, vamos importar a biblioteca [`pandas`](https://pandas.pydata.org/docs/index.html) e os dados que serão utilizados. Como os dados estão em um arquivo excel, vamos usar a função [`read_excel()`](https://pandas.pydata.org/docs/reference/api/pandas.read_excel.html)."
   ]
  },
  {
   "cell_type": "code",
   "execution_count": null,
   "metadata": {},
   "outputs": [],
   "source": [
    "import pandas as pd"
   ]
  },
  {
   "cell_type": "code",
   "execution_count": null,
   "metadata": {},
   "outputs": [],
   "source": [
    "emissoes_gases = pd.read_excel('..\\\\files\\\\Dados nacionais v12.0.xlsx', sheet_name = 'Dados')"
   ]
  },
  {
   "cell_type": "code",
   "execution_count": null,
   "metadata": {},
   "outputs": [],
   "source": [
    "emissoes_gases"
   ]
  },
  {
   "cell_type": "markdown",
   "metadata": {},
   "source": [
    "Vamos checar a estrutura do nosso DataFrame com o uso do método [`info()`](https://pandas.pydata.org/docs/reference/api/pandas.DataFrame.info.html?highlight=info#pandas.DataFrame.info), que retorna a quantidade de linhas e colunas, bem como a informação de quantidade de dados nulos e tipos de dados para cada uma das colunas."
   ]
  },
  {
   "cell_type": "code",
   "execution_count": null,
   "metadata": {},
   "outputs": [],
   "source": [
    "emissoes_gases.info()"
   ]
  },
  {
   "cell_type": "markdown",
   "metadata": {},
   "source": [
    "## Ajustando a base de dados"
   ]
  },
  {
   "cell_type": "markdown",
   "metadata": {},
   "source": [
    "Estamos interessados somente na emissão de gases gerados pelos estados que estejam no inventário nacional, portanto vamos identificar os tipos de dados únicos da coluna *Emissão / Remoção / Bunker*."
   ]
  },
  {
   "cell_type": "markdown",
   "metadata": {},
   "source": [
    "---\n",
    "ℹ \n",
    "- *Remoções são dados referentes à retirada dos gases estufa, que é o contrário da emissão*\n",
    "- *NCI são dados não contemplados no inventário nacional*\n",
    "- *Bunkers são emissões de transporte marítimo e aéreo internacional, portanto não são emissões diretas dos estados.*\n",
    "\n",
    "*Informação disponível no site do SEEG: https://seeg.eco.br/entenda-as-estimativas*\n",
    "\n",
    "--- "
   ]
  },
  {
   "cell_type": "code",
   "execution_count": null,
   "metadata": {},
   "outputs": [],
   "source": [
    "emissoes_gases['Emissão/Remoção/Bunker'].unique()"
   ]
  },
  {
   "cell_type": "markdown",
   "metadata": {},
   "source": [
    "Vamos checar primeiro os dados de remoção, para identificar se todos eles são de retirada de gases estufa."
   ]
  },
  {
   "cell_type": "code",
   "execution_count": null,
   "metadata": {},
   "outputs": [],
   "source": [
    "(emissoes_gases['Emissão/Remoção/Bunker'] == 'Remoção NCI') | (emissoes_gases['Emissão/Remoção/Bunker'] == 'Remoção')"
   ]
  },
  {
   "cell_type": "code",
   "execution_count": null,
   "metadata": {},
   "outputs": [],
   "source": [
    "emissoes_gases[emissoes_gases['Emissão/Remoção/Bunker'].isin(['Remoção NCI', 'Remoção'])]"
   ]
  },
  {
   "cell_type": "code",
   "execution_count": null,
   "metadata": {},
   "outputs": [],
   "source": [
    "emissoes_gases.loc[emissoes_gases['Emissão/Remoção/Bunker'].isin(['Remoção NCI', 'Remoção']), 1970:2023]"
   ]
  },
  {
   "cell_type": "markdown",
   "metadata": {},
   "source": [
    "Para identificar se todos os valores são negativos, vamos utilizar a função `max()` para checar se tem algum valor maior do que 0."
   ]
  },
  {
   "cell_type": "code",
   "execution_count": null,
   "metadata": {},
   "outputs": [],
   "source": [
    "emissoes_gases.loc[emissoes_gases['Emissão/Remoção/Bunker'].isin(['Remoção NCI', 'Remoção']), 1970:2023].max()"
   ]
  },
  {
   "cell_type": "markdown",
   "metadata": {},
   "source": [
    "Vamos também identificar se algum valor do tipo *Bunker* corresponde a alguma emissão feita por algum estado."
   ]
  },
  {
   "cell_type": "code",
   "execution_count": null,
   "metadata": {},
   "outputs": [],
   "source": [
    "emissoes_gases.loc[emissoes_gases['Emissão/Remoção/Bunker'] == 'Bunker', 'Estado'].unique()"
   ]
  },
  {
   "cell_type": "code",
   "execution_count": null,
   "metadata": {},
   "outputs": [],
   "source": [
    "emissoes_gases = emissoes_gases[emissoes_gases['Emissão/Remoção/Bunker'] == 'Emissão']\n",
    "emissoes_gases"
   ]
  },
  {
   "cell_type": "markdown",
   "metadata": {},
   "source": [
    "Como não restou nenhum valor útil para análise na coluna de *Emissão / Remoção / Bunker*, vamos removê-la por completo da base de dados."
   ]
  },
  {
   "cell_type": "code",
   "execution_count": null,
   "metadata": {},
   "outputs": [],
   "source": [
    "emissoes_gases = emissoes_gases.drop(columns = 'Emissão/Remoção/Bunker')\n",
    "emissoes_gases"
   ]
  },
  {
   "cell_type": "markdown",
   "metadata": {},
   "source": [
    "## Modificando o formato do DataFrame"
   ]
  },
  {
   "cell_type": "markdown",
   "metadata": {},
   "source": [
    "Para realizar as agregações nos dados de emissão, é necessário que a base de dados esteja em um formato adequado, com os valores de emissão todos em uma mesma coluna. Para isso, devemos modificar o formato da base de dados de forma que as colunas referentes a cada ano se tornem uma só coluna."
   ]
  },
  {
   "cell_type": "code",
   "execution_count": null,
   "metadata": {},
   "outputs": [],
   "source": [
    "emissoes_gases.loc[:,'Gás':'Bioma'].columns"
   ]
  },
  {
   "cell_type": "code",
   "execution_count": null,
   "metadata": {},
   "outputs": [],
   "source": [
    "colunas_info = list(emissoes_gases.loc[:,'Gás':'Bioma'].columns)\n",
    "colunas_info"
   ]
  },
  {
   "cell_type": "code",
   "execution_count": null,
   "metadata": {},
   "outputs": [],
   "source": [
    "emissoes_gases.loc[:,1970:2023].columns"
   ]
  },
  {
   "cell_type": "code",
   "execution_count": null,
   "metadata": {},
   "outputs": [],
   "source": [
    "colunas_emissao = list(emissoes_gases.loc[:,1970:2023].columns)\n",
    "colunas_emissao"
   ]
  },
  {
   "cell_type": "markdown",
   "metadata": {},
   "source": [
    "Para realizar a transformação do DataFrame, utilizamos o método [`melt()`](https://pandas.pydata.org/docs/reference/api/pandas.melt.html). Esse método tem o intuito de transformar um DataFrame de um formato amplo (*wide*) para o formato longo (*long*)."
   ]
  },
  {
   "cell_type": "code",
   "execution_count": null,
   "metadata": {},
   "outputs": [],
   "source": [
    "emissoes_gases.melt(id_vars = colunas_info, value_vars = colunas_emissao, var_name = 'Ano' , value_name = 'Emissão')"
   ]
  },
  {
   "cell_type": "code",
   "execution_count": null,
   "metadata": {},
   "outputs": [],
   "source": [
    "emissoes_por_ano = emissoes_gases.melt(id_vars = colunas_info, value_vars = colunas_emissao, var_name = 'Ano' , value_name = 'Emissão')"
   ]
  },
  {
   "cell_type": "markdown",
   "metadata": {},
   "source": [
    "## Análise dos gases"
   ]
  },
  {
   "cell_type": "markdown",
   "metadata": {},
   "source": [
    "Vamos fazer uma análise agora da quantidade de emissão **total** por tipo de gás. Para isso, vamos realizar um agrupamento dos dados com a função [`groupby()`](https://pandas.pydata.org/docs/reference/api/pandas.DataFrame.groupby.html).\n"
   ]
  },
  {
   "cell_type": "code",
   "execution_count": null,
   "metadata": {},
   "outputs": [],
   "source": [
    "emissoes_por_ano.groupby('Gás')"
   ]
  },
  {
   "cell_type": "markdown",
   "metadata": {},
   "source": [
    "Podemos checar quais dados foram agrupados em cada grupo com uso do atributo [`groups`](https://pandas.pydata.org/docs/reference/api/pandas.core.groupby.GroupBy.groups.html) e realizar seleções de grupos específicos com o método [`get_group()`](https://pandas.pydata.org/docs/reference/api/pandas.core.groupby.GroupBy.get_group.html)."
   ]
  },
  {
   "cell_type": "code",
   "execution_count": null,
   "metadata": {},
   "outputs": [],
   "source": [
    "emissoes_por_ano.groupby('Gás').groups"
   ]
  },
  {
   "cell_type": "code",
   "execution_count": null,
   "metadata": {},
   "outputs": [],
   "source": [
    "emissoes_por_ano.groupby('Gás').get_group('CO2 (t)')"
   ]
  },
  {
   "cell_type": "markdown",
   "metadata": {},
   "source": [
    "Os métodos de agregação possíveis com a utilização do `groupby()`são os seguintes:\n",
    "- `count()` para realizar contagem\n",
    "- `sum()` para soma\n",
    "- `mean()` para a média\n",
    "- `median()` para a mediana\n",
    "- `min()` para o valor mínimo\n",
    "- `max()` para o valor máximo\n",
    "- `std()` para o desvio-padrão\n",
    "- `var()` para a variância"
   ]
  },
  {
   "cell_type": "code",
   "execution_count": null,
   "metadata": {},
   "outputs": [],
   "source": [
    "emissoes_por_ano.groupby('Gás').sum()"
   ]
  },
  {
   "cell_type": "code",
   "execution_count": null,
   "metadata": {},
   "outputs": [],
   "source": [
    "emissao_por_gas = emissoes_por_ano.groupby('Gás').sum().sort_values('Emissão', ascending = False)\n",
    "emissao_por_gas"
   ]
  },
  {
   "cell_type": "code",
   "execution_count": null,
   "metadata": {},
   "outputs": [],
   "source": [
    "emissao_por_gas.plot(kind = 'barh', figsize = (10,6));"
   ]
  },
  {
   "cell_type": "code",
   "execution_count": null,
   "metadata": {},
   "outputs": [],
   "source": [
    "emissao_por_gas.iloc[0:9]"
   ]
  },
  {
   "cell_type": "code",
   "execution_count": null,
   "metadata": {},
   "outputs": [],
   "source": [
    "print(f'A emissão de CO2 corresponde a {float(emissao_por_gas.iloc[0:9].sum()/emissao_por_gas.sum())*100:.2f} % de emissão total de gases estufa no Brasil de 1970 a 2021.')"
   ]
  },
  {
   "cell_type": "markdown",
   "metadata": {},
   "source": [
    "## Emissão de gases por setor"
   ]
  },
  {
   "cell_type": "markdown",
   "metadata": {},
   "source": [
    "Agora vamos em busca de duas informações:\n",
    "\n",
    "- Descobrir quais são os setores mais poluentes para cada gás;\n",
    "- Descobrir quais são os gases mais poluentes para cada setor."
   ]
  },
  {
   "cell_type": "code",
   "execution_count": null,
   "metadata": {},
   "outputs": [],
   "source": [
    "gas_por_setor = emissoes_por_ano.groupby(['Gás', 'Setor de emissão']).sum()\n",
    "gas_por_setor"
   ]
  },
  {
   "cell_type": "markdown",
   "metadata": {},
   "source": [
    "Para descobrir o setor que emite a maior quantidade de CO2, podemos realizar uma seleção específica do gás CO2 com o uso do método *cross-section* [`xs()`](https://pandas.pydata.org/docs/reference/api/pandas.DataFrame.xs.html), extraindo a partir disso o valor máximo e índice máximo com os métodos [`max()`](https://pandas.pydata.org/docs/reference/api/pandas.DataFrame.max.html) e [`idxmax()`](https://pandas.pydata.org/docs/reference/api/pandas.DataFrame.idxmax.html?highlight=idxmax#pandas.DataFrame.idxmax)."
   ]
  },
  {
   "cell_type": "code",
   "execution_count": null,
   "metadata": {},
   "outputs": [],
   "source": [
    "gas_por_setor.xs('CO2 (t)', level = 0)"
   ]
  },
  {
   "cell_type": "code",
   "execution_count": null,
   "metadata": {},
   "outputs": [],
   "source": [
    "gas_por_setor.xs(('CO2 (t)', 'Mudança de Uso da Terra e Floresta'), level = [0,1])"
   ]
  },
  {
   "cell_type": "code",
   "execution_count": null,
   "metadata": {},
   "outputs": [],
   "source": [
    "gas_por_setor.xs('CO2 (t)', level = 0).max()"
   ]
  },
  {
   "cell_type": "code",
   "execution_count": null,
   "metadata": {},
   "outputs": [],
   "source": [
    "gas_por_setor.xs('CO2 (t)', level = 0).idxmax()"
   ]
  },
  {
   "cell_type": "markdown",
   "metadata": {},
   "source": [
    "Para evitar uma forma manual para cada tipo de gás, podemos explorar ainda mais o método `groupby()` em conjunto com o [`idxmax()`](https://pandas.pydata.org/docs/reference/api/pandas.core.groupby.DataFrameGroupBy.idxmax.html?highlight=idxmax#pandas.core.groupby.DataFrameGroupBy.idxmax)."
   ]
  },
  {
   "cell_type": "code",
   "execution_count": null,
   "metadata": {},
   "outputs": [],
   "source": [
    "gas_por_setor.groupby(level = 0).idxmax()"
   ]
  },
  {
   "cell_type": "markdown",
   "metadata": {},
   "source": [
    "Por fim, podemos criar uma tabela sumarizada com as informações dos valores máximos de emissão para cada tipo de gás e com a referência do setor com maior emissão de cada gás."
   ]
  },
  {
   "cell_type": "code",
   "execution_count": null,
   "metadata": {},
   "outputs": [],
   "source": [
    "gas_por_setor.groupby(level = 0).max()"
   ]
  },
  {
   "cell_type": "code",
   "execution_count": null,
   "metadata": {},
   "outputs": [],
   "source": [
    "valores_max = gas_por_setor.groupby(level = 0).max().values"
   ]
  },
  {
   "cell_type": "code",
   "execution_count": null,
   "metadata": {},
   "outputs": [],
   "source": [
    "tabela_sumarizada = gas_por_setor.groupby(level = 0).idxmax()\n",
    "tabela_sumarizada.insert(1, 'Quantidade de emissão', valores_max)\n",
    "tabela_sumarizada"
   ]
  },
  {
   "cell_type": "markdown",
   "metadata": {},
   "source": [
    "Podemos alterar a ordem dos níveis de índice para encontrar a outra informação, que nos diz qual o gás mais emitido para cada tipo de setor. Para isso, vamos utilizar o método [`swaplevel()`](https://pandas.pydata.org/docs/reference/api/pandas.DataFrame.swaplevel.html)."
   ]
  },
  {
   "cell_type": "code",
   "execution_count": null,
   "metadata": {},
   "outputs": [],
   "source": [
    "gas_por_setor.swaplevel(0, 1)"
   ]
  },
  {
   "cell_type": "code",
   "execution_count": null,
   "metadata": {},
   "outputs": [],
   "source": [
    "gas_por_setor.swaplevel(0, 1).groupby(level = 0).idxmax()"
   ]
  },
  {
   "cell_type": "markdown",
   "metadata": {},
   "source": [
    "## Emissão ao longo dos anos"
   ]
  },
  {
   "cell_type": "markdown",
   "metadata": {},
   "source": [
    "Vamos identificar se as emissões de gases estufas aumentaram ou diminuíram ao longo dos anos e visualizar essa variação para cada tipo de gás emitido separadamente."
   ]
  },
  {
   "cell_type": "code",
   "execution_count": null,
   "metadata": {},
   "outputs": [],
   "source": [
    "emissoes_por_ano"
   ]
  },
  {
   "cell_type": "code",
   "execution_count": null,
   "metadata": {},
   "outputs": [],
   "source": [
    "emissoes_por_ano.groupby('Ano').mean().plot(figsize = (10,6));"
   ]
  },
  {
   "cell_type": "code",
   "execution_count": null,
   "metadata": {},
   "outputs": [],
   "source": [
    "emissoes_por_ano.groupby('Ano').mean().idxmax()"
   ]
  },
  {
   "cell_type": "code",
   "execution_count": null,
   "metadata": {},
   "outputs": [],
   "source": [
    "emissoes_por_ano.groupby(['Ano', 'Gás']).mean()"
   ]
  },
  {
   "cell_type": "code",
   "execution_count": null,
   "metadata": {},
   "outputs": [],
   "source": [
    "media_emissao_anual = emissoes_por_ano.groupby(['Ano', 'Gás']).mean().reset_index()\n",
    "media_emissao_anual"
   ]
  },
  {
   "cell_type": "code",
   "execution_count": null,
   "metadata": {},
   "outputs": [],
   "source": [
    "media_emissao_anual = media_emissao_anual.pivot_table(index = 'Ano', columns = 'Gás', values = 'Emissão')\n",
    "media_emissao_anual"
   ]
  },
  {
   "cell_type": "code",
   "execution_count": null,
   "metadata": {},
   "outputs": [],
   "source": [
    "media_emissao_anual.plot(subplots = True, figsize = (10,40));"
   ]
  },
  {
   "cell_type": "markdown",
   "metadata": {},
   "source": [
    "## População dos estados"
   ]
  },
  {
   "cell_type": "markdown",
   "metadata": {},
   "source": [
    "Vamos realizar a importação de uma nova base de dados com a informação da população de cada estado do Brasil, para posteriormente encontrarmos a emissão per capita de cada estado.\n",
    "\n",
    "ℹ\n",
    "Os dados foram obtidos através do [censo do IBGE](https://www.ibge.gov.br/estatisticas/sociais/saude/22827-censo-demografico-2022.html?=&t=resultados)"
   ]
  },
  {
   "cell_type": "code",
   "execution_count": null,
   "metadata": {},
   "outputs": [],
   "source": [
    "populacao_estados = pd.read_excel('/content/drive/MyDrive/Alura/dados/POP2022_Municipios.xls', header = 1, skipfooter = 34)\n",
    "populacao_estados"
   ]
  },
  {
   "cell_type": "markdown",
   "metadata": {},
   "source": [
    "Como as informações são referentes aos municípios, vamos realizar uma agregação com base na coluna estado."
   ]
  },
  {
   "cell_type": "code",
   "execution_count": null,
   "metadata": {},
   "outputs": [],
   "source": [
    "populacao_estados.groupby('UF').sum()"
   ]
  },
  {
   "cell_type": "markdown",
   "metadata": {},
   "source": [
    "Percebemos que a informação da população não foi agregada, portanto será necessário algum tratamento nessa coluna para retornar devidamente os dados."
   ]
  },
  {
   "cell_type": "code",
   "execution_count": null,
   "metadata": {},
   "outputs": [],
   "source": [
    "# populacao_estados['POPULAÇÃO'].astype(int)"
   ]
  },
  {
   "cell_type": "code",
   "execution_count": null,
   "metadata": {},
   "outputs": [],
   "source": [
    "populacao_estados[populacao_estados['POPULAÇÃO'].str.contains('\\(', na = False)]"
   ]
  },
  {
   "cell_type": "code",
   "execution_count": null,
   "metadata": {},
   "outputs": [],
   "source": [
    "populacao_estados = populacao_estados.assign(populacao_sem_parenteses = populacao_estados['POPULAÇÃO'].replace('\\(\\d{1,2}\\)', '', regex = True),\n",
    "                                             populacao = lambda x: x.loc[:,'populacao_sem_parenteses'].replace('\\.', '', regex = True))"
   ]
  },
  {
   "cell_type": "code",
   "execution_count": null,
   "metadata": {},
   "outputs": [],
   "source": [
    "populacao_estados[populacao_estados['POPULAÇÃO'].str.contains('\\(', na = False)]"
   ]
  },
  {
   "cell_type": "code",
   "execution_count": null,
   "metadata": {},
   "outputs": [],
   "source": [
    "populacao_estados.loc[:,'populacao'] = populacao_estados['populacao'].astype(int)"
   ]
  },
  {
   "cell_type": "code",
   "execution_count": null,
   "metadata": {},
   "outputs": [],
   "source": [
    "populacao_estados = populacao_estados.groupby('UF').sum()['populacao'].reset_index()\n",
    "populacao_estados"
   ]
  },
  {
   "cell_type": "markdown",
   "metadata": {},
   "source": [
    "## Unindo os dados"
   ]
  },
  {
   "cell_type": "markdown",
   "metadata": {},
   "source": [
    "Com as informações tratadas, podemos realizar a junção dos dados de emissão com a população, com uso do método [`merge()`](https://pandas.pydata.org/docs/reference/api/pandas.DataFrame.merge.html)."
   ]
  },
  {
   "cell_type": "code",
   "execution_count": null,
   "metadata": {},
   "outputs": [],
   "source": [
    "emissao_estados = emissoes_por_ano[emissoes_por_ano['Ano'] == 2021].groupby('Estado').sum().reset_index()\n",
    "emissao_estados"
   ]
  },
  {
   "cell_type": "code",
   "execution_count": null,
   "metadata": {},
   "outputs": [],
   "source": [
    "dados_agrupados = pd.merge(emissao_estados, populacao_estados, left_on = 'Estado', right_on = 'UF')\n",
    "dados_agrupados"
   ]
  },
  {
   "cell_type": "markdown",
   "metadata": {},
   "source": [
    "Vamos verificar se há algum indício de se a emissão aumenta conforme o tamanho da população."
   ]
  },
  {
   "cell_type": "code",
   "execution_count": null,
   "metadata": {},
   "outputs": [],
   "source": [
    "dados_agrupados.plot(x = 'populacao', y= 'Emissão', kind = 'scatter', figsize=(8,6));"
   ]
  },
  {
   "cell_type": "markdown",
   "metadata": {},
   "source": [
    "Se quisermos saber a informação de cada estado nos pontos do gráfico, podemos utilizar uma outra biblioteca para obter um gráfico mais elaborado."
   ]
  },
  {
   "cell_type": "code",
   "execution_count": null,
   "metadata": {},
   "outputs": [],
   "source": [
    "#importar\n",
    "import plotly.express as px"
   ]
  },
  {
   "cell_type": "code",
   "execution_count": null,
   "metadata": {},
   "outputs": [],
   "source": [
    "px.scatter(data_frame = dados_agrupados, x = 'populacao', y = 'Emissão', text = 'Estado', opacity = 0)"
   ]
  },
  {
   "cell_type": "markdown",
   "metadata": {},
   "source": [
    "Para obtermos a emissão per capita, criaremos uma nova coluna com a divisão dos valores de emissão pela população de cada estado."
   ]
  },
  {
   "cell_type": "code",
   "execution_count": null,
   "metadata": {},
   "outputs": [],
   "source": [
    "dados_agrupados = dados_agrupados.assign(emissao_per_capita = dados_agrupados['Emissão']/dados_agrupados['populacao']).sort_values('emissao_per_capita', ascending = False)\n",
    "dados_agrupados"
   ]
  },
  {
   "cell_type": "code",
   "execution_count": null,
   "metadata": {},
   "outputs": [],
   "source": [
    "px.bar(data_frame = dados_agrupados, x = 'Estado', y = 'emissao_per_capita')"
   ]
  },
  {
   "cell_type": "markdown",
   "metadata": {},
   "source": [
    "# Transformação e Manipulação - Hospedagem Imoveis\n",
    "\n",
    "## Exercicos com pandas para normalização, tratamento de tipos de dados, regex, e lambda"
   ]
  },
  {
   "cell_type": "code",
   "execution_count": null,
   "metadata": {},
   "outputs": [],
   "source": [
    "import pandas as pd"
   ]
  },
  {
   "cell_type": "code",
   "execution_count": null,
   "metadata": {},
   "outputs": [],
   "source": [
    "dados = pd.read_json('/content/dados_hospedagem.json')\n",
    "dados.head()"
   ]
  },
  {
   "cell_type": "code",
   "execution_count": null,
   "metadata": {},
   "outputs": [],
   "source": [
    "dados = pd.json_normalize(dados['info_moveis'])\n",
    "dados"
   ]
  },
  {
   "cell_type": "code",
   "execution_count": null,
   "metadata": {},
   "outputs": [],
   "source": [
    "colunas = list(dados.columns)\n",
    "colunas"
   ]
  },
  {
   "cell_type": "code",
   "execution_count": null,
   "metadata": {},
   "outputs": [],
   "source": [
    "dados = dados.explode(colunas[3:])\n",
    "dados"
   ]
  },
  {
   "cell_type": "code",
   "execution_count": null,
   "metadata": {},
   "outputs": [],
   "source": [
    "dados.reset_index(inplace = True,drop=True)\n",
    "dados.head()"
   ]
  },
  {
   "cell_type": "code",
   "execution_count": null,
   "metadata": {},
   "outputs": [],
   "source": [
    "dados.info()"
   ]
  },
  {
   "cell_type": "code",
   "execution_count": null,
   "metadata": {},
   "outputs": [],
   "source": [
    "import numpy as np"
   ]
  },
  {
   "cell_type": "code",
   "execution_count": null,
   "metadata": {},
   "outputs": [],
   "source": [
    "dados['max_hospedes']=dados['max_hospedes'].astype(np.int64)"
   ]
  },
  {
   "cell_type": "code",
   "execution_count": null,
   "metadata": {},
   "outputs": [],
   "source": [
    "dados.info()"
   ]
  },
  {
   "cell_type": "code",
   "execution_count": null,
   "metadata": {},
   "outputs": [],
   "source": [
    "col_numericas = ['quantidade_banheiros','quantidade_quartos','quantidade_camas'] "
   ]
  },
  {
   "cell_type": "code",
   "execution_count": null,
   "metadata": {},
   "outputs": [],
   "source": [
    "dados[col_numericas] = dados[col_numericas].astype(np.int64)"
   ]
  },
  {
   "cell_type": "code",
   "execution_count": null,
   "metadata": {},
   "outputs": [],
   "source": [
    "dados['avaliacao_geral'] = dados['avaliacao_geral'].astype(np.float64)"
   ]
  },
  {
   "cell_type": "code",
   "execution_count": null,
   "metadata": {},
   "outputs": [],
   "source": [
    "dados.info()"
   ]
  },
  {
   "cell_type": "code",
   "execution_count": null,
   "metadata": {},
   "outputs": [],
   "source": [
    "dados['preco'] = dados['preco'].apply(lambda x: x.replace('$','').replace(',','').strip())"
   ]
  },
  {
   "cell_type": "code",
   "execution_count": null,
   "metadata": {},
   "outputs": [],
   "source": [
    "dados['preco'] = dados['preco'].astype(np.float64)"
   ]
  },
  {
   "cell_type": "code",
   "execution_count": null,
   "metadata": {},
   "outputs": [],
   "source": [
    "dados.info()"
   ]
  },
  {
   "cell_type": "code",
   "execution_count": null,
   "metadata": {},
   "outputs": [],
   "source": [
    "dados[['taxa_deposito','taxa_limpeza']] = dados[['taxa_deposito','taxa_limpeza']].applymap(lambda x: x.replace('$','').replace(',','').strip())"
   ]
  },
  {
   "cell_type": "code",
   "execution_count": null,
   "metadata": {},
   "outputs": [],
   "source": [
    "dados[['taxa_deposito','taxa_limpeza']] = dados[['taxa_deposito','taxa_limpeza']].astype(np.float64)"
   ]
  },
  {
   "cell_type": "code",
   "execution_count": null,
   "metadata": {},
   "outputs": [],
   "source": [
    "dados.info()"
   ]
  },
  {
   "cell_type": "code",
   "execution_count": null,
   "metadata": {},
   "outputs": [],
   "source": [
    "dados['descricao_local'] = dados['descricao_local'].str.lower()"
   ]
  },
  {
   "cell_type": "code",
   "execution_count": null,
   "metadata": {},
   "outputs": [],
   "source": [
    "dados.head()"
   ]
  },
  {
   "cell_type": "code",
   "execution_count": null,
   "metadata": {},
   "outputs": [],
   "source": [
    "dados['descricao_local'][3169]"
   ]
  },
  {
   "cell_type": "code",
   "execution_count": null,
   "metadata": {},
   "outputs": [],
   "source": [
    "dados['descricao_local'] = dados['descricao_local'].str.replace('[^a-zA-Z0-9\\-\\']',' ',regex=True)"
   ]
  },
  {
   "cell_type": "code",
   "execution_count": null,
   "metadata": {},
   "outputs": [],
   "source": [
    "dados['descricao_local'] = dados['descricao_local'].str.replace('(?<!\\w)-(?!\\w)',' ',regex=True)"
   ]
  },
  {
   "cell_type": "code",
   "execution_count": null,
   "metadata": {},
   "outputs": [],
   "source": [
    "dados['descricao_local'] = dados['descricao_local'].str.split()\n",
    "dados.head()"
   ]
  },
  {
   "cell_type": "code",
   "execution_count": null,
   "metadata": {},
   "outputs": [],
   "source": [
    "dados['comodidades'] = dados['comodidades'].str.replace('\\{|}|\\\"','',regex=True)"
   ]
  },
  {
   "cell_type": "code",
   "execution_count": null,
   "metadata": {},
   "outputs": [],
   "source": [
    "dados['comodidades'] = dados['comodidades'].str.split(',')\n",
    "dados.head()"
   ]
  },
  {
   "cell_type": "code",
   "execution_count": null,
   "metadata": {},
   "outputs": [],
   "source": [
    "dt_data = pd.read_json('/content/moveis_disponiveis.json')\n",
    "dt_data.head()"
   ]
  },
  {
   "cell_type": "code",
   "execution_count": null,
   "metadata": {},
   "outputs": [],
   "source": [
    "dt_data.info()"
   ]
  },
  {
   "cell_type": "code",
   "execution_count": null,
   "metadata": {},
   "outputs": [],
   "source": [
    "dt_data['data'] = pd.to_datetime(dt_data['data'])"
   ]
  },
  {
   "cell_type": "code",
   "execution_count": null,
   "metadata": {},
   "outputs": [],
   "source": [
    "dt_data.info()"
   ]
  },
  {
   "cell_type": "code",
   "execution_count": null,
   "metadata": {},
   "outputs": [],
   "source": [
    "dt_data.head()"
   ]
  },
  {
   "cell_type": "code",
   "execution_count": null,
   "metadata": {},
   "outputs": [],
   "source": [
    "dt_data['data'].dt.strftime('%Y-%m')"
   ]
  },
  {
   "cell_type": "code",
   "execution_count": null,
   "metadata": {},
   "outputs": [],
   "source": [
    "subset = dt_data.groupby(dt_data['data'].dt.strftime('%Y-%m'))['vaga_disponivel'].sum()\n",
    "subset"
   ]
  },
  {
   "cell_type": "markdown",
   "metadata": {},
   "source": [
    "# Tratamento churn - Telecon\n",
    "\n",
    "## Dicionário dos dados:\n",
    "\n",
    "- Cliente\n",
    "1) genero: gênero (masculino e feminino)\n",
    "2) idoso: informação sobre um(a) cliente ter ou não idade igual ou maior que 65 anos\n",
    "3) parceiro: se o(a) cliente possui ou não um(a) parceiro ou parceira\n",
    "4) dependentes: se o(a) cliente possui ou não dependentes\n",
    "5) tempo_servico: meses de contrato do(a) cliente\n",
    "\n",
    "- Serviço de telefonia\n",
    "1) servico_telefone: assinatura de serviço telefônico\n",
    "2) varias_linhas: assinatura de mais de uma linha de telefone\n",
    "\n",
    "- Serviço de internet\n",
    "\n",
    "1) servico_internet: assinatura de um provedor internet\n",
    "2) seguranca_online: assinatura adicional de segurança online\n",
    "3) backup_online: assinatura adicional de backup online\n",
    "4) protecao_dispositivo: assinatura adicional de proteção no dispositivo\n",
    "5) suporte_tecnico: assinatura adicional de suporte técnico, menos tempo de espera\n",
    "6) tv_streaming: assinatura de TV a cabo\n",
    "7) filmes_streaming: assinatura de streaming de filmes\n",
    "\n",
    "- Conta\n",
    "1) contrato: tipo de contrato\n",
    "2) faturamente_eletronico: se o(a) cliente prefere receber a fatura online\n",
    "3) metodo_pagamento: forma de pagamento\n",
    "4) cobranca.mensal: total de todos os serviços do(a) cliente por mês\n",
    "5) cobranca.Total: total gasto pelo(a) cliente"
   ]
  },
  {
   "cell_type": "markdown",
   "metadata": {},
   "source": []
  },
  {
   "cell_type": "code",
   "execution_count": null,
   "metadata": {},
   "outputs": [],
   "source": [
    "import pandas as pd\n",
    "\n",
    "dados_churn = pd.read_json(\"../files/telecon.json\")\n",
    "dados_churn"
   ]
  },
  {
   "cell_type": "code",
   "execution_count": null,
   "metadata": {},
   "outputs": [],
   "source": [
    "dados_churn['conta'][0]"
   ]
  },
  {
   "cell_type": "code",
   "execution_count": null,
   "metadata": {},
   "outputs": [],
   "source": [
    "pd.json_normalize(dados_churn['conta']).head()"
   ]
  },
  {
   "cell_type": "code",
   "execution_count": null,
   "metadata": {},
   "outputs": [],
   "source": [
    "import json\n",
    "with open ('../files/telecon.json') as f:\n",
    "    json_bruto = json.load(f)"
   ]
  },
  {
   "cell_type": "code",
   "execution_count": null,
   "metadata": {},
   "outputs": [],
   "source": [
    "json_bruto"
   ]
  },
  {
   "cell_type": "code",
   "execution_count": null,
   "metadata": {},
   "outputs": [],
   "source": [
    "dados_normalizados = pd.json_normalize(json_bruto,sep=\"_\")\n",
    "dados_normalizados.head()"
   ]
  },
  {
   "cell_type": "code",
   "execution_count": null,
   "metadata": {},
   "outputs": [],
   "source": [
    "dados_normalizados.info()"
   ]
  },
  {
   "cell_type": "code",
   "execution_count": null,
   "metadata": {},
   "outputs": [],
   "source": [
    "#dados_normalizados['conta_cobranca_Total'] = dados_normalizados['conta_cobranca_Total'].astype(float)\n",
    "\n",
    "dados_normalizados[dados_normalizados['conta_cobranca_Total'] == ' '].head()"
   ]
  },
  {
   "cell_type": "code",
   "execution_count": null,
   "metadata": {},
   "outputs": [],
   "source": [
    "dados_normalizados[dados_normalizados['conta_cobranca_Total'] == ' '][['cliente_tempo_servico','conta_contrato','conta_cobranca_mensal','conta_cobranca_Total'\n",
    "    ]]"
   ]
  },
  {
   "cell_type": "code",
   "execution_count": null,
   "metadata": {},
   "outputs": [],
   "source": [
    "dados_normalizados[dados_normalizados['conta_cobranca_Total'] == ' '].index"
   ]
  },
  {
   "cell_type": "code",
   "execution_count": null,
   "metadata": {},
   "outputs": [],
   "source": [
    "idx = dados_normalizados[dados_normalizados['conta_cobranca_Total'] == ' '].index"
   ]
  },
  {
   "cell_type": "code",
   "execution_count": null,
   "metadata": {},
   "outputs": [],
   "source": [
    "dados_normalizados.loc[idx, \"conta_cobranca_Total\"] = dados_normalizados.loc[idx, \"conta_cobranca_mensal\"] * 24"
   ]
  },
  {
   "cell_type": "code",
   "execution_count": null,
   "metadata": {},
   "outputs": [],
   "source": [
    "dados_normalizados.loc[idx, \"cliente_tempo_servico\"] = 24"
   ]
  },
  {
   "cell_type": "code",
   "execution_count": null,
   "metadata": {},
   "outputs": [],
   "source": [
    "dados_normalizados.loc[idx][['cliente_tempo_servico','conta_contrato','conta_cobranca_mensal','conta_cobranca_Total']]\n"
   ]
  },
  {
   "cell_type": "code",
   "execution_count": null,
   "metadata": {},
   "outputs": [],
   "source": [
    "dados_normalizados['conta_cobranca_Total'] = dados_normalizados['conta_cobranca_Total'].astype(float)"
   ]
  },
  {
   "cell_type": "code",
   "execution_count": null,
   "metadata": {},
   "outputs": [],
   "source": [
    "dados_normalizados.info()"
   ]
  },
  {
   "cell_type": "code",
   "execution_count": null,
   "metadata": {},
   "outputs": [],
   "source": [
    "#dados_normalizados = dados_normalizados.drop(['cliente_tempo_serviço'],axis=1)\n",
    "\n",
    "dados_normalizados.info()"
   ]
  },
  {
   "cell_type": "markdown",
   "metadata": {},
   "source": [
    "## Identificando e tratando string vazias"
   ]
  },
  {
   "cell_type": "code",
   "execution_count": null,
   "metadata": {},
   "outputs": [],
   "source": [
    "for col in dados_normalizados.columns:\n",
    "    print(f'coluna: {col}')\n",
    "    print(dados_normalizados[col].unique())\n",
    "    print('-' * 30)"
   ]
  },
  {
   "cell_type": "code",
   "execution_count": null,
   "metadata": {},
   "outputs": [],
   "source": [
    "dados_normalizados.query('Churn == \"\"')"
   ]
  },
  {
   "cell_type": "code",
   "execution_count": null,
   "metadata": {},
   "outputs": [],
   "source": [
    "dados_sem_vazio = dados_normalizados[dados_normalizados['Churn'] != ''].copy()"
   ]
  },
  {
   "cell_type": "code",
   "execution_count": null,
   "metadata": {},
   "outputs": [],
   "source": [
    "dados_sem_vazio.info()"
   ]
  },
  {
   "cell_type": "code",
   "execution_count": null,
   "metadata": {},
   "outputs": [],
   "source": [
    "dados_sem_vazio.reset_index(drop = True,inplace=True)"
   ]
  },
  {
   "cell_type": "code",
   "execution_count": null,
   "metadata": {},
   "outputs": [],
   "source": [
    "dados_sem_vazio"
   ]
  },
  {
   "cell_type": "markdown",
   "metadata": {},
   "source": [
    "## Identificando e tratando dados duplicados"
   ]
  },
  {
   "cell_type": "code",
   "execution_count": null,
   "metadata": {},
   "outputs": [],
   "source": [
    "dados_sem_vazio.duplicated()"
   ]
  },
  {
   "cell_type": "code",
   "execution_count": null,
   "metadata": {},
   "outputs": [],
   "source": [
    "dados_sem_vazio.duplicated().sum()"
   ]
  },
  {
   "cell_type": "code",
   "execution_count": null,
   "metadata": {},
   "outputs": [],
   "source": [
    "filtro_duplicadas = dados_sem_vazio.duplicated()\n",
    "filtro_duplicadas\n"
   ]
  },
  {
   "cell_type": "code",
   "execution_count": null,
   "metadata": {},
   "outputs": [],
   "source": [
    "dados_sem_vazio[filtro_duplicadas]"
   ]
  },
  {
   "cell_type": "code",
   "execution_count": null,
   "metadata": {},
   "outputs": [],
   "source": [
    "dados_sem_vazio.drop_duplicates(inplace=True)"
   ]
  },
  {
   "cell_type": "code",
   "execution_count": null,
   "metadata": {},
   "outputs": [],
   "source": [
    "dados_sem_vazio.duplicated().sum()"
   ]
  },
  {
   "cell_type": "markdown",
   "metadata": {},
   "source": [
    "## Dados nulos"
   ]
  },
  {
   "cell_type": "code",
   "execution_count": null,
   "metadata": {},
   "outputs": [],
   "source": [
    "dados_sem_vazio.isna()"
   ]
  },
  {
   "cell_type": "code",
   "execution_count": null,
   "metadata": {},
   "outputs": [],
   "source": [
    "dados_sem_vazio.isna().sum()"
   ]
  },
  {
   "cell_type": "code",
   "execution_count": null,
   "metadata": {},
   "outputs": [],
   "source": [
    "dados_sem_vazio.isna().sum().sum()"
   ]
  },
  {
   "cell_type": "code",
   "execution_count": null,
   "metadata": {},
   "outputs": [],
   "source": [
    "dados_sem_vazio[dados_sem_vazio.isna().any(axis=1)]"
   ]
  },
  {
   "cell_type": "code",
   "execution_count": null,
   "metadata": {},
   "outputs": [],
   "source": [
    "filtro = dados_sem_vazio['cliente_tempo_servico'].isna()"
   ]
  },
  {
   "cell_type": "code",
   "execution_count": null,
   "metadata": {},
   "outputs": [],
   "source": [
    "dados_sem_vazio[filtro][['cliente_tempo_servico', 'conta_cobranca_mensal','conta_cobranca_Total']]"
   ]
  },
  {
   "cell_type": "code",
   "execution_count": null,
   "metadata": {},
   "outputs": [],
   "source": [
    "import numpy as np\n",
    "\n",
    "dados_sem_vazio['cliente_tempo_servico'].fillna(\n",
    "    np.ceil(\n",
    "        dados_sem_vazio['conta_cobranca_Total'] / dados_sem_vazio['conta_cobranca_mensal']\n",
    "    ),inplace=True\n",
    ")"
   ]
  },
  {
   "cell_type": "code",
   "execution_count": null,
   "metadata": {},
   "outputs": [],
   "source": [
    "dados_sem_vazio[filtro][['cliente_tempo_servico', 'conta_cobranca_mensal','conta_cobranca_Total']]"
   ]
  },
  {
   "cell_type": "code",
   "execution_count": null,
   "metadata": {},
   "outputs": [],
   "source": [
    "dados_sem_vazio.isna().sum()"
   ]
  },
  {
   "cell_type": "markdown",
   "metadata": {},
   "source": [
    "## Retirando dados nulos"
   ]
  },
  {
   "cell_type": "code",
   "execution_count": null,
   "metadata": {},
   "outputs": [],
   "source": [
    "dados_sem_vazio['conta_contrato'].value_counts()"
   ]
  },
  {
   "cell_type": "code",
   "execution_count": null,
   "metadata": {},
   "outputs": [],
   "source": [
    "colunas_dropar = ['conta_contrato','conta_faturamente_eletronico','conta_metodo_pagamento']"
   ]
  },
  {
   "cell_type": "code",
   "execution_count": null,
   "metadata": {},
   "outputs": [],
   "source": [
    "dados_sem_vazio[colunas_dropar].isna().any(axis=1).sum()"
   ]
  },
  {
   "cell_type": "code",
   "execution_count": null,
   "metadata": {},
   "outputs": [],
   "source": [
    "df_sem_nulos = dados_sem_vazio.dropna(subset=colunas_dropar).copy()"
   ]
  },
  {
   "cell_type": "code",
   "execution_count": null,
   "metadata": {},
   "outputs": [],
   "source": [
    "df_sem_nulos.head()\n",
    "df_sem_nulos.reset_index(drop=True,inplace=True)"
   ]
  },
  {
   "cell_type": "code",
   "execution_count": null,
   "metadata": {},
   "outputs": [],
   "source": [
    "df_sem_nulos.isna().sum()"
   ]
  },
  {
   "cell_type": "markdown",
   "metadata": {},
   "source": [
    "## Identificando Outliers"
   ]
  },
  {
   "cell_type": "code",
   "execution_count": 116,
   "metadata": {},
   "outputs": [
    {
     "data": {
      "text/html": [
       "<div>\n",
       "<style scoped>\n",
       "    .dataframe tbody tr th:only-of-type {\n",
       "        vertical-align: middle;\n",
       "    }\n",
       "\n",
       "    .dataframe tbody tr th {\n",
       "        vertical-align: top;\n",
       "    }\n",
       "\n",
       "    .dataframe thead th {\n",
       "        text-align: right;\n",
       "    }\n",
       "</style>\n",
       "<table border=\"1\" class=\"dataframe\">\n",
       "  <thead>\n",
       "    <tr style=\"text-align: right;\">\n",
       "      <th></th>\n",
       "      <th>cliente_idoso</th>\n",
       "      <th>cliente_tempo_servico</th>\n",
       "      <th>conta_cobranca_mensal</th>\n",
       "      <th>conta_cobranca_Total</th>\n",
       "    </tr>\n",
       "  </thead>\n",
       "  <tbody>\n",
       "    <tr>\n",
       "      <th>count</th>\n",
       "      <td>7006.000000</td>\n",
       "      <td>7006.000000</td>\n",
       "      <td>7006.000000</td>\n",
       "      <td>7006.000000</td>\n",
       "    </tr>\n",
       "    <tr>\n",
       "      <th>mean</th>\n",
       "      <td>0.162004</td>\n",
       "      <td>33.286183</td>\n",
       "      <td>64.720361</td>\n",
       "      <td>2317.743862</td>\n",
       "    </tr>\n",
       "    <tr>\n",
       "      <th>std</th>\n",
       "      <td>0.368481</td>\n",
       "      <td>35.311206</td>\n",
       "      <td>30.084664</td>\n",
       "      <td>2876.919022</td>\n",
       "    </tr>\n",
       "    <tr>\n",
       "      <th>min</th>\n",
       "      <td>0.000000</td>\n",
       "      <td>1.000000</td>\n",
       "      <td>18.250000</td>\n",
       "      <td>18.800000</td>\n",
       "    </tr>\n",
       "    <tr>\n",
       "      <th>25%</th>\n",
       "      <td>0.000000</td>\n",
       "      <td>9.000000</td>\n",
       "      <td>35.450000</td>\n",
       "      <td>402.087500</td>\n",
       "    </tr>\n",
       "    <tr>\n",
       "      <th>50%</th>\n",
       "      <td>0.000000</td>\n",
       "      <td>29.000000</td>\n",
       "      <td>70.300000</td>\n",
       "      <td>1392.925000</td>\n",
       "    </tr>\n",
       "    <tr>\n",
       "      <th>75%</th>\n",
       "      <td>0.000000</td>\n",
       "      <td>56.000000</td>\n",
       "      <td>89.850000</td>\n",
       "      <td>3783.600000</td>\n",
       "    </tr>\n",
       "    <tr>\n",
       "      <th>max</th>\n",
       "      <td>1.000000</td>\n",
       "      <td>1080.000000</td>\n",
       "      <td>118.750000</td>\n",
       "      <td>112212.000000</td>\n",
       "    </tr>\n",
       "  </tbody>\n",
       "</table>\n",
       "</div>"
      ],
      "text/plain": [
       "       cliente_idoso  cliente_tempo_servico  conta_cobranca_mensal  \\\n",
       "count    7006.000000            7006.000000            7006.000000   \n",
       "mean        0.162004              33.286183              64.720361   \n",
       "std         0.368481              35.311206              30.084664   \n",
       "min         0.000000               1.000000              18.250000   \n",
       "25%         0.000000               9.000000              35.450000   \n",
       "50%         0.000000              29.000000              70.300000   \n",
       "75%         0.000000              56.000000              89.850000   \n",
       "max         1.000000            1080.000000             118.750000   \n",
       "\n",
       "       conta_cobranca_Total  \n",
       "count           7006.000000  \n",
       "mean            2317.743862  \n",
       "std             2876.919022  \n",
       "min               18.800000  \n",
       "25%              402.087500  \n",
       "50%             1392.925000  \n",
       "75%             3783.600000  \n",
       "max           112212.000000  "
      ]
     },
     "execution_count": 116,
     "metadata": {},
     "output_type": "execute_result"
    }
   ],
   "source": [
    "df_sem_nulos.describe()"
   ]
  },
  {
   "cell_type": "code",
   "execution_count": 118,
   "metadata": {},
   "outputs": [],
   "source": [
    "import seaborn as sns"
   ]
  },
  {
   "cell_type": "code",
   "execution_count": 140,
   "metadata": {},
   "outputs": [
    {
     "data": {
      "text/plain": [
       "<Axes: xlabel='cliente_tempo_servico'>"
      ]
     },
     "execution_count": 140,
     "metadata": {},
     "output_type": "execute_result"
    },
    {
     "data": {
      "image/png": "[encoded data removed]",
      "text/plain": [
       "<Figure size 640x480 with 1 Axes>"
      ]
     },
     "metadata": {},
     "output_type": "display_data"
    }
   ],
   "source": [
    "#tempo de serviço muito fora do esperado\n",
    "sns.boxplot(x=df_sem_nulos['cliente_tempo_servico'])"
   ]
  },
  {
   "cell_type": "code",
   "execution_count": 137,
   "metadata": {},
   "outputs": [],
   "source": [
    "#pegando primeiro quartil\n",
    "Q1 = df_sem_nulos['cliente_tempo_servico'].quantile(.25)\n",
    "Q3 = df_sem_nulos['cliente_tempo_servico'].quantile(.75)\n",
    "IQR = Q3-Q1\n",
    "limite_inferior = Q1 - 1.5 * IQR\n",
    "limite_superir = Q3 + 1.5 * IQR"
   ]
  },
  {
   "cell_type": "code",
   "execution_count": 138,
   "metadata": {},
   "outputs": [
    {
     "data": {
      "text/plain": [
       "0       False\n",
       "1       False\n",
       "2       False\n",
       "3       False\n",
       "4       False\n",
       "        ...  \n",
       "7001    False\n",
       "7002    False\n",
       "7003    False\n",
       "7004    False\n",
       "7005    False\n",
       "Name: cliente_tempo_servico, Length: 7006, dtype: bool"
      ]
     },
     "execution_count": 138,
     "metadata": {},
     "output_type": "execute_result"
    }
   ],
   "source": [
    "outliers_index = (df_sem_nulos['cliente_tempo_servico'] < limite_inferior) | (df_sem_nulos['cliente_tempo_servico'] > limite_superir) \n",
    "outliers_index"
   ]
  },
  {
   "cell_type": "code",
   "execution_count": 139,
   "metadata": {},
   "outputs": [
    {
     "data": {
      "text/plain": [
       "1945    1080.0\n",
       "1946    1000.0\n",
       "1952     950.0\n",
       "1956     254.0\n",
       "1958     321.0\n",
       "1963     650.0\n",
       "1966     721.0\n",
       "1970     555.0\n",
       "1973     433.0\n",
       "1974     512.0\n",
       "Name: cliente_tempo_servico, dtype: float64"
      ]
     },
     "execution_count": 139,
     "metadata": {},
     "output_type": "execute_result"
    }
   ],
   "source": [
    "#df_sem_nulos[(df_sem_nulos['cliente_tempo_servico'] < limite_inferior) | (df_sem_nulos['cliente_tempo_servico'] > limite_superir)]\n",
    "df_sem_nulos[outliers_index]['cliente_tempo_servico']"
   ]
  },
  {
   "cell_type": "markdown",
   "metadata": {},
   "source": [
    "## Substuituindo valores para outliers"
   ]
  },
  {
   "cell_type": "code",
   "execution_count": 129,
   "metadata": {},
   "outputs": [],
   "source": [
    "df_sem_out = df_sem_nulos.copy()"
   ]
  },
  {
   "cell_type": "code",
   "execution_count": 131,
   "metadata": {},
   "outputs": [
    {
     "data": {
      "text/plain": [
       "1945    1080.0\n",
       "1946    1000.0\n",
       "1952     950.0\n",
       "1956     254.0\n",
       "1958     321.0\n",
       "1963     650.0\n",
       "1966     721.0\n",
       "1970     555.0\n",
       "1973     433.0\n",
       "1974     512.0\n",
       "Name: cliente_tempo_servico, dtype: float64"
      ]
     },
     "execution_count": 131,
     "metadata": {},
     "output_type": "execute_result"
    }
   ],
   "source": [
    "df_sem_out[outliers_index]['cliente_tempo_servico']"
   ]
  },
  {
   "cell_type": "code",
   "execution_count": 135,
   "metadata": {},
   "outputs": [],
   "source": [
    "df_sem_out.loc[outliers_index, 'cliente_tempo_servico'] = np.ceil(\n",
    "    df_sem_out.loc[outliers_index]['conta_cobranca_Total'] / df_sem_out.loc[outliers_index]['conta_cobranca_mensal']\n",
    ")"
   ]
  },
  {
   "cell_type": "code",
   "execution_count": 136,
   "metadata": {},
   "outputs": [
    {
     "data": {
      "text/plain": [
       "<Axes: xlabel='cliente_tempo_servico'>"
      ]
     },
     "execution_count": 136,
     "metadata": {},
     "output_type": "execute_result"
    },
    {
     "data": {
      "image/png": "[encoded data removed]",
      "text/plain": [
       "<Figure size 640x480 with 1 Axes>"
      ]
     },
     "metadata": {},
     "output_type": "display_data"
    }
   ],
   "source": [
    "sns.boxplot(x=df_sem_out['cliente_tempo_servico'])"
   ]
  },
  {
   "cell_type": "code",
   "execution_count": 144,
   "metadata": {},
   "outputs": [],
   "source": [
    "#pegando primeiro quartil\n",
    "Q1 = df_sem_out['cliente_tempo_servico'].quantile(.25)\n",
    "Q3 = df_sem_out['cliente_tempo_servico'].quantile(.75)\n",
    "IQR = Q3-Q1\n",
    "limite_inferior = Q1 - 1.5 * IQR\n",
    "limite_superir = Q3 + 1.5 * IQR"
   ]
  },
  {
   "cell_type": "code",
   "execution_count": 147,
   "metadata": {},
   "outputs": [
    {
     "data": {
      "text/plain": [
       "0       False\n",
       "1       False\n",
       "2       False\n",
       "3       False\n",
       "4       False\n",
       "        ...  \n",
       "7001    False\n",
       "7002    False\n",
       "7003    False\n",
       "7004    False\n",
       "7005    False\n",
       "Name: cliente_tempo_servico, Length: 7006, dtype: bool"
      ]
     },
     "execution_count": 147,
     "metadata": {},
     "output_type": "execute_result"
    }
   ],
   "source": [
    "outliers_index = (df_sem_out['cliente_tempo_servico'] < limite_inferior) | (df_sem_out['cliente_tempo_servico'] > limite_superir) \n",
    "outliers_index"
   ]
  },
  {
   "cell_type": "code",
   "execution_count": 148,
   "metadata": {},
   "outputs": [
    {
     "data": {
      "text/html": [
       "<div>\n",
       "<style scoped>\n",
       "    .dataframe tbody tr th:only-of-type {\n",
       "        vertical-align: middle;\n",
       "    }\n",
       "\n",
       "    .dataframe tbody tr th {\n",
       "        vertical-align: top;\n",
       "    }\n",
       "\n",
       "    .dataframe thead th {\n",
       "        text-align: right;\n",
       "    }\n",
       "</style>\n",
       "<table border=\"1\" class=\"dataframe\">\n",
       "  <thead>\n",
       "    <tr style=\"text-align: right;\">\n",
       "      <th></th>\n",
       "      <th>id_cliente</th>\n",
       "      <th>Churn</th>\n",
       "      <th>cliente_genero</th>\n",
       "      <th>cliente_idoso</th>\n",
       "      <th>cliente_parceiro</th>\n",
       "      <th>cliente_dependentes</th>\n",
       "      <th>cliente_tempo_servico</th>\n",
       "      <th>telefone_servico_telefone</th>\n",
       "      <th>telefone_varias_linhas</th>\n",
       "      <th>internet_servico_internet</th>\n",
       "      <th>...</th>\n",
       "      <th>internet_backup_online</th>\n",
       "      <th>internet_protecao_dispositivo</th>\n",
       "      <th>internet_suporte_tecnico</th>\n",
       "      <th>internet_tv_streaming</th>\n",
       "      <th>internet_filmes_streaming</th>\n",
       "      <th>conta_contrato</th>\n",
       "      <th>conta_faturamente_eletronico</th>\n",
       "      <th>conta_metodo_pagamento</th>\n",
       "      <th>conta_cobranca_mensal</th>\n",
       "      <th>conta_cobranca_Total</th>\n",
       "    </tr>\n",
       "  </thead>\n",
       "  <tbody>\n",
       "    <tr>\n",
       "      <th>1945</th>\n",
       "      <td>2830-LEWOA</td>\n",
       "      <td>nao</td>\n",
       "      <td>masculino</td>\n",
       "      <td>0</td>\n",
       "      <td>sim</td>\n",
       "      <td>sim</td>\n",
       "      <td>1080.0</td>\n",
       "      <td>sim</td>\n",
       "      <td>nao</td>\n",
       "      <td>fibra otica</td>\n",
       "      <td>...</td>\n",
       "      <td>sim</td>\n",
       "      <td>sim</td>\n",
       "      <td>sim</td>\n",
       "      <td>sim</td>\n",
       "      <td>sim</td>\n",
       "      <td>um ano</td>\n",
       "      <td>nao</td>\n",
       "      <td>cartao de credito (automatico)</td>\n",
       "      <td>103.9</td>\n",
       "      <td>112212.0</td>\n",
       "    </tr>\n",
       "    <tr>\n",
       "      <th>1946</th>\n",
       "      <td>2831-EBWRN</td>\n",
       "      <td>nao</td>\n",
       "      <td>masculino</td>\n",
       "      <td>0</td>\n",
       "      <td>nao</td>\n",
       "      <td>nao</td>\n",
       "      <td>1000.0</td>\n",
       "      <td>sim</td>\n",
       "      <td>nao</td>\n",
       "      <td>DSL</td>\n",
       "      <td>...</td>\n",
       "      <td>nao</td>\n",
       "      <td>nao</td>\n",
       "      <td>nao</td>\n",
       "      <td>nao</td>\n",
       "      <td>nao</td>\n",
       "      <td>mes a mes</td>\n",
       "      <td>sim</td>\n",
       "      <td>cheque eletronico</td>\n",
       "      <td>45.9</td>\n",
       "      <td>45900.0</td>\n",
       "    </tr>\n",
       "    <tr>\n",
       "      <th>1952</th>\n",
       "      <td>2834-SPCJV</td>\n",
       "      <td>sim</td>\n",
       "      <td>masculino</td>\n",
       "      <td>0</td>\n",
       "      <td>sim</td>\n",
       "      <td>nao</td>\n",
       "      <td>951.0</td>\n",
       "      <td>sim</td>\n",
       "      <td>nao</td>\n",
       "      <td>fibra otica</td>\n",
       "      <td>...</td>\n",
       "      <td>nao</td>\n",
       "      <td>nao</td>\n",
       "      <td>nao</td>\n",
       "      <td>sim</td>\n",
       "      <td>nao</td>\n",
       "      <td>mes a mes</td>\n",
       "      <td>nao</td>\n",
       "      <td>cheque eletronico</td>\n",
       "      <td>84.1</td>\n",
       "      <td>79895.0</td>\n",
       "    </tr>\n",
       "    <tr>\n",
       "      <th>1963</th>\n",
       "      <td>2851-STERV</td>\n",
       "      <td>nao</td>\n",
       "      <td>masculino</td>\n",
       "      <td>1</td>\n",
       "      <td>nao</td>\n",
       "      <td>nao</td>\n",
       "      <td>650.0</td>\n",
       "      <td>sim</td>\n",
       "      <td>nao</td>\n",
       "      <td>DSL</td>\n",
       "      <td>...</td>\n",
       "      <td>nao</td>\n",
       "      <td>sim</td>\n",
       "      <td>sim</td>\n",
       "      <td>sim</td>\n",
       "      <td>sim</td>\n",
       "      <td>um ano</td>\n",
       "      <td>sim</td>\n",
       "      <td>cheque eletronico</td>\n",
       "      <td>73.0</td>\n",
       "      <td>47450.0</td>\n",
       "    </tr>\n",
       "  </tbody>\n",
       "</table>\n",
       "<p>4 rows × 21 columns</p>\n",
       "</div>"
      ],
      "text/plain": [
       "      id_cliente Churn cliente_genero  cliente_idoso cliente_parceiro  \\\n",
       "1945  2830-LEWOA   nao      masculino              0              sim   \n",
       "1946  2831-EBWRN   nao      masculino              0              nao   \n",
       "1952  2834-SPCJV   sim      masculino              0              sim   \n",
       "1963  2851-STERV   nao      masculino              1              nao   \n",
       "\n",
       "     cliente_dependentes  cliente_tempo_servico telefone_servico_telefone  \\\n",
       "1945                 sim                 1080.0                       sim   \n",
       "1946                 nao                 1000.0                       sim   \n",
       "1952                 nao                  951.0                       sim   \n",
       "1963                 nao                  650.0                       sim   \n",
       "\n",
       "     telefone_varias_linhas internet_servico_internet  ...  \\\n",
       "1945                    nao               fibra otica  ...   \n",
       "1946                    nao                       DSL  ...   \n",
       "1952                    nao               fibra otica  ...   \n",
       "1963                    nao                       DSL  ...   \n",
       "\n",
       "     internet_backup_online internet_protecao_dispositivo  \\\n",
       "1945                    sim                           sim   \n",
       "1946                    nao                           nao   \n",
       "1952                    nao                           nao   \n",
       "1963                    nao                           sim   \n",
       "\n",
       "     internet_suporte_tecnico internet_tv_streaming internet_filmes_streaming  \\\n",
       "1945                      sim                   sim                       sim   \n",
       "1946                      nao                   nao                       nao   \n",
       "1952                      nao                   sim                       nao   \n",
       "1963                      sim                   sim                       sim   \n",
       "\n",
       "     conta_contrato conta_faturamente_eletronico  \\\n",
       "1945         um ano                          nao   \n",
       "1946      mes a mes                          sim   \n",
       "1952      mes a mes                          nao   \n",
       "1963         um ano                          sim   \n",
       "\n",
       "              conta_metodo_pagamento conta_cobranca_mensal  \\\n",
       "1945  cartao de credito (automatico)                 103.9   \n",
       "1946               cheque eletronico                  45.9   \n",
       "1952               cheque eletronico                  84.1   \n",
       "1963               cheque eletronico                  73.0   \n",
       "\n",
       "      conta_cobranca_Total  \n",
       "1945              112212.0  \n",
       "1946               45900.0  \n",
       "1952               79895.0  \n",
       "1963               47450.0  \n",
       "\n",
       "[4 rows x 21 columns]"
      ]
     },
     "execution_count": 148,
     "metadata": {},
     "output_type": "execute_result"
    }
   ],
   "source": [
    "df_sem_out[outliers_index]"
   ]
  },
  {
   "cell_type": "code",
   "execution_count": 149,
   "metadata": {},
   "outputs": [
    {
     "data": {
      "text/html": [
       "<div>\n",
       "<style scoped>\n",
       "    .dataframe tbody tr th:only-of-type {\n",
       "        vertical-align: middle;\n",
       "    }\n",
       "\n",
       "    .dataframe tbody tr th {\n",
       "        vertical-align: top;\n",
       "    }\n",
       "\n",
       "    .dataframe thead th {\n",
       "        text-align: right;\n",
       "    }\n",
       "</style>\n",
       "<table border=\"1\" class=\"dataframe\">\n",
       "  <thead>\n",
       "    <tr style=\"text-align: right;\">\n",
       "      <th></th>\n",
       "      <th>id_cliente</th>\n",
       "      <th>Churn</th>\n",
       "      <th>cliente_genero</th>\n",
       "      <th>cliente_idoso</th>\n",
       "      <th>cliente_parceiro</th>\n",
       "      <th>cliente_dependentes</th>\n",
       "      <th>cliente_tempo_servico</th>\n",
       "      <th>telefone_servico_telefone</th>\n",
       "      <th>telefone_varias_linhas</th>\n",
       "      <th>internet_servico_internet</th>\n",
       "      <th>...</th>\n",
       "      <th>internet_backup_online</th>\n",
       "      <th>internet_protecao_dispositivo</th>\n",
       "      <th>internet_suporte_tecnico</th>\n",
       "      <th>internet_tv_streaming</th>\n",
       "      <th>internet_filmes_streaming</th>\n",
       "      <th>conta_contrato</th>\n",
       "      <th>conta_faturamente_eletronico</th>\n",
       "      <th>conta_metodo_pagamento</th>\n",
       "      <th>conta_cobranca_mensal</th>\n",
       "      <th>conta_cobranca_Total</th>\n",
       "    </tr>\n",
       "  </thead>\n",
       "  <tbody>\n",
       "    <tr>\n",
       "      <th>0</th>\n",
       "      <td>0003-MKNFE</td>\n",
       "      <td>nao</td>\n",
       "      <td>masculino</td>\n",
       "      <td>0</td>\n",
       "      <td>nao</td>\n",
       "      <td>nao</td>\n",
       "      <td>9.0</td>\n",
       "      <td>sim</td>\n",
       "      <td>sim</td>\n",
       "      <td>DSL</td>\n",
       "      <td>...</td>\n",
       "      <td>nao</td>\n",
       "      <td>nao</td>\n",
       "      <td>nao</td>\n",
       "      <td>nao</td>\n",
       "      <td>sim</td>\n",
       "      <td>mes a mes</td>\n",
       "      <td>nao</td>\n",
       "      <td>cheque pelo correio</td>\n",
       "      <td>59.90</td>\n",
       "      <td>542.40</td>\n",
       "    </tr>\n",
       "    <tr>\n",
       "      <th>1</th>\n",
       "      <td>0004-TLHLJ</td>\n",
       "      <td>sim</td>\n",
       "      <td>masculino</td>\n",
       "      <td>0</td>\n",
       "      <td>nao</td>\n",
       "      <td>nao</td>\n",
       "      <td>4.0</td>\n",
       "      <td>sim</td>\n",
       "      <td>nao</td>\n",
       "      <td>fibra otica</td>\n",
       "      <td>...</td>\n",
       "      <td>nao</td>\n",
       "      <td>sim</td>\n",
       "      <td>nao</td>\n",
       "      <td>nao</td>\n",
       "      <td>nao</td>\n",
       "      <td>mes a mes</td>\n",
       "      <td>sim</td>\n",
       "      <td>cheque eletronico</td>\n",
       "      <td>73.90</td>\n",
       "      <td>280.85</td>\n",
       "    </tr>\n",
       "    <tr>\n",
       "      <th>2</th>\n",
       "      <td>0011-IGKFF</td>\n",
       "      <td>sim</td>\n",
       "      <td>masculino</td>\n",
       "      <td>1</td>\n",
       "      <td>sim</td>\n",
       "      <td>nao</td>\n",
       "      <td>13.0</td>\n",
       "      <td>sim</td>\n",
       "      <td>nao</td>\n",
       "      <td>fibra otica</td>\n",
       "      <td>...</td>\n",
       "      <td>sim</td>\n",
       "      <td>sim</td>\n",
       "      <td>nao</td>\n",
       "      <td>sim</td>\n",
       "      <td>sim</td>\n",
       "      <td>mes a mes</td>\n",
       "      <td>sim</td>\n",
       "      <td>cheque eletronico</td>\n",
       "      <td>98.00</td>\n",
       "      <td>1237.85</td>\n",
       "    </tr>\n",
       "    <tr>\n",
       "      <th>3</th>\n",
       "      <td>0013-EXCHZ</td>\n",
       "      <td>sim</td>\n",
       "      <td>feminino</td>\n",
       "      <td>1</td>\n",
       "      <td>sim</td>\n",
       "      <td>nao</td>\n",
       "      <td>3.0</td>\n",
       "      <td>sim</td>\n",
       "      <td>nao</td>\n",
       "      <td>fibra otica</td>\n",
       "      <td>...</td>\n",
       "      <td>nao</td>\n",
       "      <td>nao</td>\n",
       "      <td>sim</td>\n",
       "      <td>sim</td>\n",
       "      <td>nao</td>\n",
       "      <td>mes a mes</td>\n",
       "      <td>sim</td>\n",
       "      <td>cheque pelo correio</td>\n",
       "      <td>83.90</td>\n",
       "      <td>267.40</td>\n",
       "    </tr>\n",
       "    <tr>\n",
       "      <th>4</th>\n",
       "      <td>0013-MHZWF</td>\n",
       "      <td>nao</td>\n",
       "      <td>feminino</td>\n",
       "      <td>0</td>\n",
       "      <td>nao</td>\n",
       "      <td>sim</td>\n",
       "      <td>9.0</td>\n",
       "      <td>sim</td>\n",
       "      <td>nao</td>\n",
       "      <td>DSL</td>\n",
       "      <td>...</td>\n",
       "      <td>nao</td>\n",
       "      <td>nao</td>\n",
       "      <td>sim</td>\n",
       "      <td>sim</td>\n",
       "      <td>sim</td>\n",
       "      <td>mes a mes</td>\n",
       "      <td>sim</td>\n",
       "      <td>cartao de credito (automatico)</td>\n",
       "      <td>69.40</td>\n",
       "      <td>571.45</td>\n",
       "    </tr>\n",
       "    <tr>\n",
       "      <th>...</th>\n",
       "      <td>...</td>\n",
       "      <td>...</td>\n",
       "      <td>...</td>\n",
       "      <td>...</td>\n",
       "      <td>...</td>\n",
       "      <td>...</td>\n",
       "      <td>...</td>\n",
       "      <td>...</td>\n",
       "      <td>...</td>\n",
       "      <td>...</td>\n",
       "      <td>...</td>\n",
       "      <td>...</td>\n",
       "      <td>...</td>\n",
       "      <td>...</td>\n",
       "      <td>...</td>\n",
       "      <td>...</td>\n",
       "      <td>...</td>\n",
       "      <td>...</td>\n",
       "      <td>...</td>\n",
       "      <td>...</td>\n",
       "      <td>...</td>\n",
       "    </tr>\n",
       "    <tr>\n",
       "      <th>7001</th>\n",
       "      <td>9987-LUTYD</td>\n",
       "      <td>nao</td>\n",
       "      <td>feminino</td>\n",
       "      <td>0</td>\n",
       "      <td>nao</td>\n",
       "      <td>nao</td>\n",
       "      <td>13.0</td>\n",
       "      <td>sim</td>\n",
       "      <td>nao</td>\n",
       "      <td>DSL</td>\n",
       "      <td>...</td>\n",
       "      <td>nao</td>\n",
       "      <td>nao</td>\n",
       "      <td>sim</td>\n",
       "      <td>nao</td>\n",
       "      <td>nao</td>\n",
       "      <td>um ano</td>\n",
       "      <td>nao</td>\n",
       "      <td>cheque pelo correio</td>\n",
       "      <td>55.15</td>\n",
       "      <td>742.90</td>\n",
       "    </tr>\n",
       "    <tr>\n",
       "      <th>7002</th>\n",
       "      <td>9992-RRAMN</td>\n",
       "      <td>sim</td>\n",
       "      <td>masculino</td>\n",
       "      <td>0</td>\n",
       "      <td>sim</td>\n",
       "      <td>nao</td>\n",
       "      <td>22.0</td>\n",
       "      <td>sim</td>\n",
       "      <td>sim</td>\n",
       "      <td>fibra otica</td>\n",
       "      <td>...</td>\n",
       "      <td>nao</td>\n",
       "      <td>nao</td>\n",
       "      <td>nao</td>\n",
       "      <td>nao</td>\n",
       "      <td>sim</td>\n",
       "      <td>mes a mes</td>\n",
       "      <td>sim</td>\n",
       "      <td>cheque eletronico</td>\n",
       "      <td>85.10</td>\n",
       "      <td>1873.70</td>\n",
       "    </tr>\n",
       "    <tr>\n",
       "      <th>7003</th>\n",
       "      <td>9992-UJOEL</td>\n",
       "      <td>nao</td>\n",
       "      <td>masculino</td>\n",
       "      <td>0</td>\n",
       "      <td>nao</td>\n",
       "      <td>nao</td>\n",
       "      <td>2.0</td>\n",
       "      <td>sim</td>\n",
       "      <td>nao</td>\n",
       "      <td>DSL</td>\n",
       "      <td>...</td>\n",
       "      <td>sim</td>\n",
       "      <td>nao</td>\n",
       "      <td>nao</td>\n",
       "      <td>nao</td>\n",
       "      <td>nao</td>\n",
       "      <td>mes a mes</td>\n",
       "      <td>sim</td>\n",
       "      <td>cheque pelo correio</td>\n",
       "      <td>50.30</td>\n",
       "      <td>92.75</td>\n",
       "    </tr>\n",
       "    <tr>\n",
       "      <th>7004</th>\n",
       "      <td>9993-LHIEB</td>\n",
       "      <td>nao</td>\n",
       "      <td>masculino</td>\n",
       "      <td>0</td>\n",
       "      <td>sim</td>\n",
       "      <td>sim</td>\n",
       "      <td>67.0</td>\n",
       "      <td>sim</td>\n",
       "      <td>nao</td>\n",
       "      <td>DSL</td>\n",
       "      <td>...</td>\n",
       "      <td>nao</td>\n",
       "      <td>sim</td>\n",
       "      <td>sim</td>\n",
       "      <td>nao</td>\n",
       "      <td>sim</td>\n",
       "      <td>dois anos</td>\n",
       "      <td>nao</td>\n",
       "      <td>cheque pelo correio</td>\n",
       "      <td>67.85</td>\n",
       "      <td>4627.65</td>\n",
       "    </tr>\n",
       "    <tr>\n",
       "      <th>7005</th>\n",
       "      <td>9995-HOTOH</td>\n",
       "      <td>nao</td>\n",
       "      <td>masculino</td>\n",
       "      <td>0</td>\n",
       "      <td>sim</td>\n",
       "      <td>sim</td>\n",
       "      <td>63.0</td>\n",
       "      <td>nao</td>\n",
       "      <td>sem servico de telefone</td>\n",
       "      <td>DSL</td>\n",
       "      <td>...</td>\n",
       "      <td>sim</td>\n",
       "      <td>sim</td>\n",
       "      <td>nao</td>\n",
       "      <td>sim</td>\n",
       "      <td>sim</td>\n",
       "      <td>dois anos</td>\n",
       "      <td>nao</td>\n",
       "      <td>cheque eletronico</td>\n",
       "      <td>59.00</td>\n",
       "      <td>3707.60</td>\n",
       "    </tr>\n",
       "  </tbody>\n",
       "</table>\n",
       "<p>7002 rows × 21 columns</p>\n",
       "</div>"
      ],
      "text/plain": [
       "      id_cliente Churn cliente_genero  cliente_idoso cliente_parceiro  \\\n",
       "0     0003-MKNFE   nao      masculino              0              nao   \n",
       "1     0004-TLHLJ   sim      masculino              0              nao   \n",
       "2     0011-IGKFF   sim      masculino              1              sim   \n",
       "3     0013-EXCHZ   sim       feminino              1              sim   \n",
       "4     0013-MHZWF   nao       feminino              0              nao   \n",
       "...          ...   ...            ...            ...              ...   \n",
       "7001  9987-LUTYD   nao       feminino              0              nao   \n",
       "7002  9992-RRAMN   sim      masculino              0              sim   \n",
       "7003  9992-UJOEL   nao      masculino              0              nao   \n",
       "7004  9993-LHIEB   nao      masculino              0              sim   \n",
       "7005  9995-HOTOH   nao      masculino              0              sim   \n",
       "\n",
       "     cliente_dependentes  cliente_tempo_servico telefone_servico_telefone  \\\n",
       "0                    nao                    9.0                       sim   \n",
       "1                    nao                    4.0                       sim   \n",
       "2                    nao                   13.0                       sim   \n",
       "3                    nao                    3.0                       sim   \n",
       "4                    sim                    9.0                       sim   \n",
       "...                  ...                    ...                       ...   \n",
       "7001                 nao                   13.0                       sim   \n",
       "7002                 nao                   22.0                       sim   \n",
       "7003                 nao                    2.0                       sim   \n",
       "7004                 sim                   67.0                       sim   \n",
       "7005                 sim                   63.0                       nao   \n",
       "\n",
       "       telefone_varias_linhas internet_servico_internet  ...  \\\n",
       "0                         sim                       DSL  ...   \n",
       "1                         nao               fibra otica  ...   \n",
       "2                         nao               fibra otica  ...   \n",
       "3                         nao               fibra otica  ...   \n",
       "4                         nao                       DSL  ...   \n",
       "...                       ...                       ...  ...   \n",
       "7001                      nao                       DSL  ...   \n",
       "7002                      sim               fibra otica  ...   \n",
       "7003                      nao                       DSL  ...   \n",
       "7004                      nao                       DSL  ...   \n",
       "7005  sem servico de telefone                       DSL  ...   \n",
       "\n",
       "     internet_backup_online internet_protecao_dispositivo  \\\n",
       "0                       nao                           nao   \n",
       "1                       nao                           sim   \n",
       "2                       sim                           sim   \n",
       "3                       nao                           nao   \n",
       "4                       nao                           nao   \n",
       "...                     ...                           ...   \n",
       "7001                    nao                           nao   \n",
       "7002                    nao                           nao   \n",
       "7003                    sim                           nao   \n",
       "7004                    nao                           sim   \n",
       "7005                    sim                           sim   \n",
       "\n",
       "     internet_suporte_tecnico internet_tv_streaming internet_filmes_streaming  \\\n",
       "0                         nao                   nao                       sim   \n",
       "1                         nao                   nao                       nao   \n",
       "2                         nao                   sim                       sim   \n",
       "3                         sim                   sim                       nao   \n",
       "4                         sim                   sim                       sim   \n",
       "...                       ...                   ...                       ...   \n",
       "7001                      sim                   nao                       nao   \n",
       "7002                      nao                   nao                       sim   \n",
       "7003                      nao                   nao                       nao   \n",
       "7004                      sim                   nao                       sim   \n",
       "7005                      nao                   sim                       sim   \n",
       "\n",
       "     conta_contrato conta_faturamente_eletronico  \\\n",
       "0         mes a mes                          nao   \n",
       "1         mes a mes                          sim   \n",
       "2         mes a mes                          sim   \n",
       "3         mes a mes                          sim   \n",
       "4         mes a mes                          sim   \n",
       "...             ...                          ...   \n",
       "7001         um ano                          nao   \n",
       "7002      mes a mes                          sim   \n",
       "7003      mes a mes                          sim   \n",
       "7004      dois anos                          nao   \n",
       "7005      dois anos                          nao   \n",
       "\n",
       "              conta_metodo_pagamento conta_cobranca_mensal  \\\n",
       "0                cheque pelo correio                 59.90   \n",
       "1                  cheque eletronico                 73.90   \n",
       "2                  cheque eletronico                 98.00   \n",
       "3                cheque pelo correio                 83.90   \n",
       "4     cartao de credito (automatico)                 69.40   \n",
       "...                              ...                   ...   \n",
       "7001             cheque pelo correio                 55.15   \n",
       "7002               cheque eletronico                 85.10   \n",
       "7003             cheque pelo correio                 50.30   \n",
       "7004             cheque pelo correio                 67.85   \n",
       "7005               cheque eletronico                 59.00   \n",
       "\n",
       "      conta_cobranca_Total  \n",
       "0                   542.40  \n",
       "1                   280.85  \n",
       "2                  1237.85  \n",
       "3                   267.40  \n",
       "4                   571.45  \n",
       "...                    ...  \n",
       "7001                742.90  \n",
       "7002               1873.70  \n",
       "7003                 92.75  \n",
       "7004               4627.65  \n",
       "7005               3707.60  \n",
       "\n",
       "[7002 rows x 21 columns]"
      ]
     },
     "execution_count": 149,
     "metadata": {},
     "output_type": "execute_result"
    }
   ],
   "source": [
    "df_sem_out = df_sem_out[~outliers_index]\n",
    "df_sem_out"
   ]
  },
  {
   "cell_type": "code",
   "execution_count": 152,
   "metadata": {},
   "outputs": [
    {
     "data": {
      "text/plain": [
       "<Axes: xlabel='cliente_tempo_servico'>"
      ]
     },
     "execution_count": 152,
     "metadata": {},
     "output_type": "execute_result"
    },
    {
     "data": {
      "image/png": "[encoded data removed]",
      "text/plain": [
       "<Figure size 640x480 with 1 Axes>"
      ]
     },
     "metadata": {},
     "output_type": "display_data"
    }
   ],
   "source": [
    "sns.boxplot(x=df_sem_out['cliente_tempo_servico'])"
   ]
  },
  {
   "cell_type": "code",
   "execution_count": 154,
   "metadata": {},
   "outputs": [
    {
     "data": {
      "text/html": [
       "<div>\n",
       "<style scoped>\n",
       "    .dataframe tbody tr th:only-of-type {\n",
       "        vertical-align: middle;\n",
       "    }\n",
       "\n",
       "    .dataframe tbody tr th {\n",
       "        vertical-align: top;\n",
       "    }\n",
       "\n",
       "    .dataframe thead th {\n",
       "        text-align: right;\n",
       "    }\n",
       "</style>\n",
       "<table border=\"1\" class=\"dataframe\">\n",
       "  <thead>\n",
       "    <tr style=\"text-align: right;\">\n",
       "      <th></th>\n",
       "      <th>id_cliente</th>\n",
       "      <th>Churn</th>\n",
       "      <th>cliente_genero</th>\n",
       "      <th>cliente_idoso</th>\n",
       "      <th>cliente_parceiro</th>\n",
       "      <th>cliente_dependentes</th>\n",
       "      <th>cliente_tempo_servico</th>\n",
       "      <th>telefone_servico_telefone</th>\n",
       "      <th>telefone_varias_linhas</th>\n",
       "      <th>internet_servico_internet</th>\n",
       "      <th>...</th>\n",
       "      <th>internet_backup_online</th>\n",
       "      <th>internet_protecao_dispositivo</th>\n",
       "      <th>internet_suporte_tecnico</th>\n",
       "      <th>internet_tv_streaming</th>\n",
       "      <th>internet_filmes_streaming</th>\n",
       "      <th>conta_contrato</th>\n",
       "      <th>conta_faturamente_eletronico</th>\n",
       "      <th>conta_metodo_pagamento</th>\n",
       "      <th>conta_cobranca_mensal</th>\n",
       "      <th>conta_cobranca_Total</th>\n",
       "    </tr>\n",
       "  </thead>\n",
       "  <tbody>\n",
       "    <tr>\n",
       "      <th>0</th>\n",
       "      <td>0003-MKNFE</td>\n",
       "      <td>nao</td>\n",
       "      <td>masculino</td>\n",
       "      <td>0</td>\n",
       "      <td>nao</td>\n",
       "      <td>nao</td>\n",
       "      <td>9.0</td>\n",
       "      <td>sim</td>\n",
       "      <td>sim</td>\n",
       "      <td>DSL</td>\n",
       "      <td>...</td>\n",
       "      <td>nao</td>\n",
       "      <td>nao</td>\n",
       "      <td>nao</td>\n",
       "      <td>nao</td>\n",
       "      <td>sim</td>\n",
       "      <td>mes a mes</td>\n",
       "      <td>nao</td>\n",
       "      <td>cheque pelo correio</td>\n",
       "      <td>59.90</td>\n",
       "      <td>542.40</td>\n",
       "    </tr>\n",
       "    <tr>\n",
       "      <th>1</th>\n",
       "      <td>0004-TLHLJ</td>\n",
       "      <td>sim</td>\n",
       "      <td>masculino</td>\n",
       "      <td>0</td>\n",
       "      <td>nao</td>\n",
       "      <td>nao</td>\n",
       "      <td>4.0</td>\n",
       "      <td>sim</td>\n",
       "      <td>nao</td>\n",
       "      <td>fibra otica</td>\n",
       "      <td>...</td>\n",
       "      <td>nao</td>\n",
       "      <td>sim</td>\n",
       "      <td>nao</td>\n",
       "      <td>nao</td>\n",
       "      <td>nao</td>\n",
       "      <td>mes a mes</td>\n",
       "      <td>sim</td>\n",
       "      <td>cheque eletronico</td>\n",
       "      <td>73.90</td>\n",
       "      <td>280.85</td>\n",
       "    </tr>\n",
       "    <tr>\n",
       "      <th>2</th>\n",
       "      <td>0011-IGKFF</td>\n",
       "      <td>sim</td>\n",
       "      <td>masculino</td>\n",
       "      <td>1</td>\n",
       "      <td>sim</td>\n",
       "      <td>nao</td>\n",
       "      <td>13.0</td>\n",
       "      <td>sim</td>\n",
       "      <td>nao</td>\n",
       "      <td>fibra otica</td>\n",
       "      <td>...</td>\n",
       "      <td>sim</td>\n",
       "      <td>sim</td>\n",
       "      <td>nao</td>\n",
       "      <td>sim</td>\n",
       "      <td>sim</td>\n",
       "      <td>mes a mes</td>\n",
       "      <td>sim</td>\n",
       "      <td>cheque eletronico</td>\n",
       "      <td>98.00</td>\n",
       "      <td>1237.85</td>\n",
       "    </tr>\n",
       "    <tr>\n",
       "      <th>3</th>\n",
       "      <td>0013-EXCHZ</td>\n",
       "      <td>sim</td>\n",
       "      <td>feminino</td>\n",
       "      <td>1</td>\n",
       "      <td>sim</td>\n",
       "      <td>nao</td>\n",
       "      <td>3.0</td>\n",
       "      <td>sim</td>\n",
       "      <td>nao</td>\n",
       "      <td>fibra otica</td>\n",
       "      <td>...</td>\n",
       "      <td>nao</td>\n",
       "      <td>nao</td>\n",
       "      <td>sim</td>\n",
       "      <td>sim</td>\n",
       "      <td>nao</td>\n",
       "      <td>mes a mes</td>\n",
       "      <td>sim</td>\n",
       "      <td>cheque pelo correio</td>\n",
       "      <td>83.90</td>\n",
       "      <td>267.40</td>\n",
       "    </tr>\n",
       "    <tr>\n",
       "      <th>4</th>\n",
       "      <td>0013-MHZWF</td>\n",
       "      <td>nao</td>\n",
       "      <td>feminino</td>\n",
       "      <td>0</td>\n",
       "      <td>nao</td>\n",
       "      <td>sim</td>\n",
       "      <td>9.0</td>\n",
       "      <td>sim</td>\n",
       "      <td>nao</td>\n",
       "      <td>DSL</td>\n",
       "      <td>...</td>\n",
       "      <td>nao</td>\n",
       "      <td>nao</td>\n",
       "      <td>sim</td>\n",
       "      <td>sim</td>\n",
       "      <td>sim</td>\n",
       "      <td>mes a mes</td>\n",
       "      <td>sim</td>\n",
       "      <td>cartao de credito (automatico)</td>\n",
       "      <td>69.40</td>\n",
       "      <td>571.45</td>\n",
       "    </tr>\n",
       "    <tr>\n",
       "      <th>...</th>\n",
       "      <td>...</td>\n",
       "      <td>...</td>\n",
       "      <td>...</td>\n",
       "      <td>...</td>\n",
       "      <td>...</td>\n",
       "      <td>...</td>\n",
       "      <td>...</td>\n",
       "      <td>...</td>\n",
       "      <td>...</td>\n",
       "      <td>...</td>\n",
       "      <td>...</td>\n",
       "      <td>...</td>\n",
       "      <td>...</td>\n",
       "      <td>...</td>\n",
       "      <td>...</td>\n",
       "      <td>...</td>\n",
       "      <td>...</td>\n",
       "      <td>...</td>\n",
       "      <td>...</td>\n",
       "      <td>...</td>\n",
       "      <td>...</td>\n",
       "    </tr>\n",
       "    <tr>\n",
       "      <th>6997</th>\n",
       "      <td>9987-LUTYD</td>\n",
       "      <td>nao</td>\n",
       "      <td>feminino</td>\n",
       "      <td>0</td>\n",
       "      <td>nao</td>\n",
       "      <td>nao</td>\n",
       "      <td>13.0</td>\n",
       "      <td>sim</td>\n",
       "      <td>nao</td>\n",
       "      <td>DSL</td>\n",
       "      <td>...</td>\n",
       "      <td>nao</td>\n",
       "      <td>nao</td>\n",
       "      <td>sim</td>\n",
       "      <td>nao</td>\n",
       "      <td>nao</td>\n",
       "      <td>um ano</td>\n",
       "      <td>nao</td>\n",
       "      <td>cheque pelo correio</td>\n",
       "      <td>55.15</td>\n",
       "      <td>742.90</td>\n",
       "    </tr>\n",
       "    <tr>\n",
       "      <th>6998</th>\n",
       "      <td>9992-RRAMN</td>\n",
       "      <td>sim</td>\n",
       "      <td>masculino</td>\n",
       "      <td>0</td>\n",
       "      <td>sim</td>\n",
       "      <td>nao</td>\n",
       "      <td>22.0</td>\n",
       "      <td>sim</td>\n",
       "      <td>sim</td>\n",
       "      <td>fibra otica</td>\n",
       "      <td>...</td>\n",
       "      <td>nao</td>\n",
       "      <td>nao</td>\n",
       "      <td>nao</td>\n",
       "      <td>nao</td>\n",
       "      <td>sim</td>\n",
       "      <td>mes a mes</td>\n",
       "      <td>sim</td>\n",
       "      <td>cheque eletronico</td>\n",
       "      <td>85.10</td>\n",
       "      <td>1873.70</td>\n",
       "    </tr>\n",
       "    <tr>\n",
       "      <th>6999</th>\n",
       "      <td>9992-UJOEL</td>\n",
       "      <td>nao</td>\n",
       "      <td>masculino</td>\n",
       "      <td>0</td>\n",
       "      <td>nao</td>\n",
       "      <td>nao</td>\n",
       "      <td>2.0</td>\n",
       "      <td>sim</td>\n",
       "      <td>nao</td>\n",
       "      <td>DSL</td>\n",
       "      <td>...</td>\n",
       "      <td>sim</td>\n",
       "      <td>nao</td>\n",
       "      <td>nao</td>\n",
       "      <td>nao</td>\n",
       "      <td>nao</td>\n",
       "      <td>mes a mes</td>\n",
       "      <td>sim</td>\n",
       "      <td>cheque pelo correio</td>\n",
       "      <td>50.30</td>\n",
       "      <td>92.75</td>\n",
       "    </tr>\n",
       "    <tr>\n",
       "      <th>7000</th>\n",
       "      <td>9993-LHIEB</td>\n",
       "      <td>nao</td>\n",
       "      <td>masculino</td>\n",
       "      <td>0</td>\n",
       "      <td>sim</td>\n",
       "      <td>sim</td>\n",
       "      <td>67.0</td>\n",
       "      <td>sim</td>\n",
       "      <td>nao</td>\n",
       "      <td>DSL</td>\n",
       "      <td>...</td>\n",
       "      <td>nao</td>\n",
       "      <td>sim</td>\n",
       "      <td>sim</td>\n",
       "      <td>nao</td>\n",
       "      <td>sim</td>\n",
       "      <td>dois anos</td>\n",
       "      <td>nao</td>\n",
       "      <td>cheque pelo correio</td>\n",
       "      <td>67.85</td>\n",
       "      <td>4627.65</td>\n",
       "    </tr>\n",
       "    <tr>\n",
       "      <th>7001</th>\n",
       "      <td>9995-HOTOH</td>\n",
       "      <td>nao</td>\n",
       "      <td>masculino</td>\n",
       "      <td>0</td>\n",
       "      <td>sim</td>\n",
       "      <td>sim</td>\n",
       "      <td>63.0</td>\n",
       "      <td>nao</td>\n",
       "      <td>sem servico de telefone</td>\n",
       "      <td>DSL</td>\n",
       "      <td>...</td>\n",
       "      <td>sim</td>\n",
       "      <td>sim</td>\n",
       "      <td>nao</td>\n",
       "      <td>sim</td>\n",
       "      <td>sim</td>\n",
       "      <td>dois anos</td>\n",
       "      <td>nao</td>\n",
       "      <td>cheque eletronico</td>\n",
       "      <td>59.00</td>\n",
       "      <td>3707.60</td>\n",
       "    </tr>\n",
       "  </tbody>\n",
       "</table>\n",
       "<p>7002 rows × 21 columns</p>\n",
       "</div>"
      ],
      "text/plain": [
       "      id_cliente Churn cliente_genero  cliente_idoso cliente_parceiro  \\\n",
       "0     0003-MKNFE   nao      masculino              0              nao   \n",
       "1     0004-TLHLJ   sim      masculino              0              nao   \n",
       "2     0011-IGKFF   sim      masculino              1              sim   \n",
       "3     0013-EXCHZ   sim       feminino              1              sim   \n",
       "4     0013-MHZWF   nao       feminino              0              nao   \n",
       "...          ...   ...            ...            ...              ...   \n",
       "6997  9987-LUTYD   nao       feminino              0              nao   \n",
       "6998  9992-RRAMN   sim      masculino              0              sim   \n",
       "6999  9992-UJOEL   nao      masculino              0              nao   \n",
       "7000  9993-LHIEB   nao      masculino              0              sim   \n",
       "7001  9995-HOTOH   nao      masculino              0              sim   \n",
       "\n",
       "     cliente_dependentes  cliente_tempo_servico telefone_servico_telefone  \\\n",
       "0                    nao                    9.0                       sim   \n",
       "1                    nao                    4.0                       sim   \n",
       "2                    nao                   13.0                       sim   \n",
       "3                    nao                    3.0                       sim   \n",
       "4                    sim                    9.0                       sim   \n",
       "...                  ...                    ...                       ...   \n",
       "6997                 nao                   13.0                       sim   \n",
       "6998                 nao                   22.0                       sim   \n",
       "6999                 nao                    2.0                       sim   \n",
       "7000                 sim                   67.0                       sim   \n",
       "7001                 sim                   63.0                       nao   \n",
       "\n",
       "       telefone_varias_linhas internet_servico_internet  ...  \\\n",
       "0                         sim                       DSL  ...   \n",
       "1                         nao               fibra otica  ...   \n",
       "2                         nao               fibra otica  ...   \n",
       "3                         nao               fibra otica  ...   \n",
       "4                         nao                       DSL  ...   \n",
       "...                       ...                       ...  ...   \n",
       "6997                      nao                       DSL  ...   \n",
       "6998                      sim               fibra otica  ...   \n",
       "6999                      nao                       DSL  ...   \n",
       "7000                      nao                       DSL  ...   \n",
       "7001  sem servico de telefone                       DSL  ...   \n",
       "\n",
       "     internet_backup_online internet_protecao_dispositivo  \\\n",
       "0                       nao                           nao   \n",
       "1                       nao                           sim   \n",
       "2                       sim                           sim   \n",
       "3                       nao                           nao   \n",
       "4                       nao                           nao   \n",
       "...                     ...                           ...   \n",
       "6997                    nao                           nao   \n",
       "6998                    nao                           nao   \n",
       "6999                    sim                           nao   \n",
       "7000                    nao                           sim   \n",
       "7001                    sim                           sim   \n",
       "\n",
       "     internet_suporte_tecnico internet_tv_streaming internet_filmes_streaming  \\\n",
       "0                         nao                   nao                       sim   \n",
       "1                         nao                   nao                       nao   \n",
       "2                         nao                   sim                       sim   \n",
       "3                         sim                   sim                       nao   \n",
       "4                         sim                   sim                       sim   \n",
       "...                       ...                   ...                       ...   \n",
       "6997                      sim                   nao                       nao   \n",
       "6998                      nao                   nao                       sim   \n",
       "6999                      nao                   nao                       nao   \n",
       "7000                      sim                   nao                       sim   \n",
       "7001                      nao                   sim                       sim   \n",
       "\n",
       "     conta_contrato conta_faturamente_eletronico  \\\n",
       "0         mes a mes                          nao   \n",
       "1         mes a mes                          sim   \n",
       "2         mes a mes                          sim   \n",
       "3         mes a mes                          sim   \n",
       "4         mes a mes                          sim   \n",
       "...             ...                          ...   \n",
       "6997         um ano                          nao   \n",
       "6998      mes a mes                          sim   \n",
       "6999      mes a mes                          sim   \n",
       "7000      dois anos                          nao   \n",
       "7001      dois anos                          nao   \n",
       "\n",
       "              conta_metodo_pagamento conta_cobranca_mensal  \\\n",
       "0                cheque pelo correio                 59.90   \n",
       "1                  cheque eletronico                 73.90   \n",
       "2                  cheque eletronico                 98.00   \n",
       "3                cheque pelo correio                 83.90   \n",
       "4     cartao de credito (automatico)                 69.40   \n",
       "...                              ...                   ...   \n",
       "6997             cheque pelo correio                 55.15   \n",
       "6998               cheque eletronico                 85.10   \n",
       "6999             cheque pelo correio                 50.30   \n",
       "7000             cheque pelo correio                 67.85   \n",
       "7001               cheque eletronico                 59.00   \n",
       "\n",
       "      conta_cobranca_Total  \n",
       "0                   542.40  \n",
       "1                   280.85  \n",
       "2                  1237.85  \n",
       "3                   267.40  \n",
       "4                   571.45  \n",
       "...                    ...  \n",
       "6997                742.90  \n",
       "6998               1873.70  \n",
       "6999                 92.75  \n",
       "7000               4627.65  \n",
       "7001               3707.60  \n",
       "\n",
       "[7002 rows x 21 columns]"
      ]
     },
     "execution_count": 154,
     "metadata": {},
     "output_type": "execute_result"
    }
   ],
   "source": [
    "df_sem_out.reset_index(drop=True,inplace=True)\n",
    "df_sem_out"
   ]
  },
  {
   "cell_type": "markdown",
   "metadata": {},
   "source": [
    "## Trabalhando com variaveis categóricas"
   ]
  },
  {
   "cell_type": "code",
   "execution_count": 160,
   "metadata": {},
   "outputs": [
    {
     "data": {
      "text/html": [
       "<div>\n",
       "<style scoped>\n",
       "    .dataframe tbody tr th:only-of-type {\n",
       "        vertical-align: middle;\n",
       "    }\n",
       "\n",
       "    .dataframe tbody tr th {\n",
       "        vertical-align: top;\n",
       "    }\n",
       "\n",
       "    .dataframe thead th {\n",
       "        text-align: right;\n",
       "    }\n",
       "</style>\n",
       "<table border=\"1\" class=\"dataframe\">\n",
       "  <thead>\n",
       "    <tr style=\"text-align: right;\">\n",
       "      <th></th>\n",
       "      <th>Churn</th>\n",
       "      <th>cliente_genero</th>\n",
       "      <th>cliente_idoso</th>\n",
       "      <th>cliente_parceiro</th>\n",
       "      <th>cliente_dependentes</th>\n",
       "      <th>cliente_tempo_servico</th>\n",
       "      <th>telefone_servico_telefone</th>\n",
       "      <th>telefone_varias_linhas</th>\n",
       "      <th>internet_servico_internet</th>\n",
       "      <th>internet_seguranca_online</th>\n",
       "      <th>internet_backup_online</th>\n",
       "      <th>internet_protecao_dispositivo</th>\n",
       "      <th>internet_suporte_tecnico</th>\n",
       "      <th>internet_tv_streaming</th>\n",
       "      <th>internet_filmes_streaming</th>\n",
       "      <th>conta_contrato</th>\n",
       "      <th>conta_faturamente_eletronico</th>\n",
       "      <th>conta_metodo_pagamento</th>\n",
       "      <th>conta_cobranca_mensal</th>\n",
       "      <th>conta_cobranca_Total</th>\n",
       "    </tr>\n",
       "  </thead>\n",
       "  <tbody>\n",
       "    <tr>\n",
       "      <th>0</th>\n",
       "      <td>nao</td>\n",
       "      <td>masculino</td>\n",
       "      <td>0</td>\n",
       "      <td>nao</td>\n",
       "      <td>nao</td>\n",
       "      <td>9.0</td>\n",
       "      <td>sim</td>\n",
       "      <td>sim</td>\n",
       "      <td>DSL</td>\n",
       "      <td>nao</td>\n",
       "      <td>nao</td>\n",
       "      <td>nao</td>\n",
       "      <td>nao</td>\n",
       "      <td>nao</td>\n",
       "      <td>sim</td>\n",
       "      <td>mes a mes</td>\n",
       "      <td>nao</td>\n",
       "      <td>cheque pelo correio</td>\n",
       "      <td>59.90</td>\n",
       "      <td>542.40</td>\n",
       "    </tr>\n",
       "    <tr>\n",
       "      <th>1</th>\n",
       "      <td>sim</td>\n",
       "      <td>masculino</td>\n",
       "      <td>0</td>\n",
       "      <td>nao</td>\n",
       "      <td>nao</td>\n",
       "      <td>4.0</td>\n",
       "      <td>sim</td>\n",
       "      <td>nao</td>\n",
       "      <td>fibra otica</td>\n",
       "      <td>nao</td>\n",
       "      <td>nao</td>\n",
       "      <td>sim</td>\n",
       "      <td>nao</td>\n",
       "      <td>nao</td>\n",
       "      <td>nao</td>\n",
       "      <td>mes a mes</td>\n",
       "      <td>sim</td>\n",
       "      <td>cheque eletronico</td>\n",
       "      <td>73.90</td>\n",
       "      <td>280.85</td>\n",
       "    </tr>\n",
       "    <tr>\n",
       "      <th>2</th>\n",
       "      <td>sim</td>\n",
       "      <td>masculino</td>\n",
       "      <td>1</td>\n",
       "      <td>sim</td>\n",
       "      <td>nao</td>\n",
       "      <td>13.0</td>\n",
       "      <td>sim</td>\n",
       "      <td>nao</td>\n",
       "      <td>fibra otica</td>\n",
       "      <td>nao</td>\n",
       "      <td>sim</td>\n",
       "      <td>sim</td>\n",
       "      <td>nao</td>\n",
       "      <td>sim</td>\n",
       "      <td>sim</td>\n",
       "      <td>mes a mes</td>\n",
       "      <td>sim</td>\n",
       "      <td>cheque eletronico</td>\n",
       "      <td>98.00</td>\n",
       "      <td>1237.85</td>\n",
       "    </tr>\n",
       "    <tr>\n",
       "      <th>3</th>\n",
       "      <td>sim</td>\n",
       "      <td>feminino</td>\n",
       "      <td>1</td>\n",
       "      <td>sim</td>\n",
       "      <td>nao</td>\n",
       "      <td>3.0</td>\n",
       "      <td>sim</td>\n",
       "      <td>nao</td>\n",
       "      <td>fibra otica</td>\n",
       "      <td>nao</td>\n",
       "      <td>nao</td>\n",
       "      <td>nao</td>\n",
       "      <td>sim</td>\n",
       "      <td>sim</td>\n",
       "      <td>nao</td>\n",
       "      <td>mes a mes</td>\n",
       "      <td>sim</td>\n",
       "      <td>cheque pelo correio</td>\n",
       "      <td>83.90</td>\n",
       "      <td>267.40</td>\n",
       "    </tr>\n",
       "    <tr>\n",
       "      <th>4</th>\n",
       "      <td>nao</td>\n",
       "      <td>feminino</td>\n",
       "      <td>0</td>\n",
       "      <td>nao</td>\n",
       "      <td>sim</td>\n",
       "      <td>9.0</td>\n",
       "      <td>sim</td>\n",
       "      <td>nao</td>\n",
       "      <td>DSL</td>\n",
       "      <td>nao</td>\n",
       "      <td>nao</td>\n",
       "      <td>nao</td>\n",
       "      <td>sim</td>\n",
       "      <td>sim</td>\n",
       "      <td>sim</td>\n",
       "      <td>mes a mes</td>\n",
       "      <td>sim</td>\n",
       "      <td>cartao de credito (automatico)</td>\n",
       "      <td>69.40</td>\n",
       "      <td>571.45</td>\n",
       "    </tr>\n",
       "    <tr>\n",
       "      <th>...</th>\n",
       "      <td>...</td>\n",
       "      <td>...</td>\n",
       "      <td>...</td>\n",
       "      <td>...</td>\n",
       "      <td>...</td>\n",
       "      <td>...</td>\n",
       "      <td>...</td>\n",
       "      <td>...</td>\n",
       "      <td>...</td>\n",
       "      <td>...</td>\n",
       "      <td>...</td>\n",
       "      <td>...</td>\n",
       "      <td>...</td>\n",
       "      <td>...</td>\n",
       "      <td>...</td>\n",
       "      <td>...</td>\n",
       "      <td>...</td>\n",
       "      <td>...</td>\n",
       "      <td>...</td>\n",
       "      <td>...</td>\n",
       "    </tr>\n",
       "    <tr>\n",
       "      <th>6997</th>\n",
       "      <td>nao</td>\n",
       "      <td>feminino</td>\n",
       "      <td>0</td>\n",
       "      <td>nao</td>\n",
       "      <td>nao</td>\n",
       "      <td>13.0</td>\n",
       "      <td>sim</td>\n",
       "      <td>nao</td>\n",
       "      <td>DSL</td>\n",
       "      <td>sim</td>\n",
       "      <td>nao</td>\n",
       "      <td>nao</td>\n",
       "      <td>sim</td>\n",
       "      <td>nao</td>\n",
       "      <td>nao</td>\n",
       "      <td>um ano</td>\n",
       "      <td>nao</td>\n",
       "      <td>cheque pelo correio</td>\n",
       "      <td>55.15</td>\n",
       "      <td>742.90</td>\n",
       "    </tr>\n",
       "    <tr>\n",
       "      <th>6998</th>\n",
       "      <td>sim</td>\n",
       "      <td>masculino</td>\n",
       "      <td>0</td>\n",
       "      <td>sim</td>\n",
       "      <td>nao</td>\n",
       "      <td>22.0</td>\n",
       "      <td>sim</td>\n",
       "      <td>sim</td>\n",
       "      <td>fibra otica</td>\n",
       "      <td>nao</td>\n",
       "      <td>nao</td>\n",
       "      <td>nao</td>\n",
       "      <td>nao</td>\n",
       "      <td>nao</td>\n",
       "      <td>sim</td>\n",
       "      <td>mes a mes</td>\n",
       "      <td>sim</td>\n",
       "      <td>cheque eletronico</td>\n",
       "      <td>85.10</td>\n",
       "      <td>1873.70</td>\n",
       "    </tr>\n",
       "    <tr>\n",
       "      <th>6999</th>\n",
       "      <td>nao</td>\n",
       "      <td>masculino</td>\n",
       "      <td>0</td>\n",
       "      <td>nao</td>\n",
       "      <td>nao</td>\n",
       "      <td>2.0</td>\n",
       "      <td>sim</td>\n",
       "      <td>nao</td>\n",
       "      <td>DSL</td>\n",
       "      <td>nao</td>\n",
       "      <td>sim</td>\n",
       "      <td>nao</td>\n",
       "      <td>nao</td>\n",
       "      <td>nao</td>\n",
       "      <td>nao</td>\n",
       "      <td>mes a mes</td>\n",
       "      <td>sim</td>\n",
       "      <td>cheque pelo correio</td>\n",
       "      <td>50.30</td>\n",
       "      <td>92.75</td>\n",
       "    </tr>\n",
       "    <tr>\n",
       "      <th>7000</th>\n",
       "      <td>nao</td>\n",
       "      <td>masculino</td>\n",
       "      <td>0</td>\n",
       "      <td>sim</td>\n",
       "      <td>sim</td>\n",
       "      <td>67.0</td>\n",
       "      <td>sim</td>\n",
       "      <td>nao</td>\n",
       "      <td>DSL</td>\n",
       "      <td>sim</td>\n",
       "      <td>nao</td>\n",
       "      <td>sim</td>\n",
       "      <td>sim</td>\n",
       "      <td>nao</td>\n",
       "      <td>sim</td>\n",
       "      <td>dois anos</td>\n",
       "      <td>nao</td>\n",
       "      <td>cheque pelo correio</td>\n",
       "      <td>67.85</td>\n",
       "      <td>4627.65</td>\n",
       "    </tr>\n",
       "    <tr>\n",
       "      <th>7001</th>\n",
       "      <td>nao</td>\n",
       "      <td>masculino</td>\n",
       "      <td>0</td>\n",
       "      <td>sim</td>\n",
       "      <td>sim</td>\n",
       "      <td>63.0</td>\n",
       "      <td>nao</td>\n",
       "      <td>sem servico de telefone</td>\n",
       "      <td>DSL</td>\n",
       "      <td>sim</td>\n",
       "      <td>sim</td>\n",
       "      <td>sim</td>\n",
       "      <td>nao</td>\n",
       "      <td>sim</td>\n",
       "      <td>sim</td>\n",
       "      <td>dois anos</td>\n",
       "      <td>nao</td>\n",
       "      <td>cheque eletronico</td>\n",
       "      <td>59.00</td>\n",
       "      <td>3707.60</td>\n",
       "    </tr>\n",
       "  </tbody>\n",
       "</table>\n",
       "<p>7002 rows × 20 columns</p>\n",
       "</div>"
      ],
      "text/plain": [
       "     Churn cliente_genero  cliente_idoso cliente_parceiro cliente_dependentes  \\\n",
       "0      nao      masculino              0              nao                 nao   \n",
       "1      sim      masculino              0              nao                 nao   \n",
       "2      sim      masculino              1              sim                 nao   \n",
       "3      sim       feminino              1              sim                 nao   \n",
       "4      nao       feminino              0              nao                 sim   \n",
       "...    ...            ...            ...              ...                 ...   \n",
       "6997   nao       feminino              0              nao                 nao   \n",
       "6998   sim      masculino              0              sim                 nao   \n",
       "6999   nao      masculino              0              nao                 nao   \n",
       "7000   nao      masculino              0              sim                 sim   \n",
       "7001   nao      masculino              0              sim                 sim   \n",
       "\n",
       "      cliente_tempo_servico telefone_servico_telefone  \\\n",
       "0                       9.0                       sim   \n",
       "1                       4.0                       sim   \n",
       "2                      13.0                       sim   \n",
       "3                       3.0                       sim   \n",
       "4                       9.0                       sim   \n",
       "...                     ...                       ...   \n",
       "6997                   13.0                       sim   \n",
       "6998                   22.0                       sim   \n",
       "6999                    2.0                       sim   \n",
       "7000                   67.0                       sim   \n",
       "7001                   63.0                       nao   \n",
       "\n",
       "       telefone_varias_linhas internet_servico_internet  \\\n",
       "0                         sim                       DSL   \n",
       "1                         nao               fibra otica   \n",
       "2                         nao               fibra otica   \n",
       "3                         nao               fibra otica   \n",
       "4                         nao                       DSL   \n",
       "...                       ...                       ...   \n",
       "6997                      nao                       DSL   \n",
       "6998                      sim               fibra otica   \n",
       "6999                      nao                       DSL   \n",
       "7000                      nao                       DSL   \n",
       "7001  sem servico de telefone                       DSL   \n",
       "\n",
       "     internet_seguranca_online internet_backup_online  \\\n",
       "0                          nao                    nao   \n",
       "1                          nao                    nao   \n",
       "2                          nao                    sim   \n",
       "3                          nao                    nao   \n",
       "4                          nao                    nao   \n",
       "...                        ...                    ...   \n",
       "6997                       sim                    nao   \n",
       "6998                       nao                    nao   \n",
       "6999                       nao                    sim   \n",
       "7000                       sim                    nao   \n",
       "7001                       sim                    sim   \n",
       "\n",
       "     internet_protecao_dispositivo internet_suporte_tecnico  \\\n",
       "0                              nao                      nao   \n",
       "1                              sim                      nao   \n",
       "2                              sim                      nao   \n",
       "3                              nao                      sim   \n",
       "4                              nao                      sim   \n",
       "...                            ...                      ...   \n",
       "6997                           nao                      sim   \n",
       "6998                           nao                      nao   \n",
       "6999                           nao                      nao   \n",
       "7000                           sim                      sim   \n",
       "7001                           sim                      nao   \n",
       "\n",
       "     internet_tv_streaming internet_filmes_streaming conta_contrato  \\\n",
       "0                      nao                       sim      mes a mes   \n",
       "1                      nao                       nao      mes a mes   \n",
       "2                      sim                       sim      mes a mes   \n",
       "3                      sim                       nao      mes a mes   \n",
       "4                      sim                       sim      mes a mes   \n",
       "...                    ...                       ...            ...   \n",
       "6997                   nao                       nao         um ano   \n",
       "6998                   nao                       sim      mes a mes   \n",
       "6999                   nao                       nao      mes a mes   \n",
       "7000                   nao                       sim      dois anos   \n",
       "7001                   sim                       sim      dois anos   \n",
       "\n",
       "     conta_faturamente_eletronico          conta_metodo_pagamento  \\\n",
       "0                             nao             cheque pelo correio   \n",
       "1                             sim               cheque eletronico   \n",
       "2                             sim               cheque eletronico   \n",
       "3                             sim             cheque pelo correio   \n",
       "4                             sim  cartao de credito (automatico)   \n",
       "...                           ...                             ...   \n",
       "6997                          nao             cheque pelo correio   \n",
       "6998                          sim               cheque eletronico   \n",
       "6999                          sim             cheque pelo correio   \n",
       "7000                          nao             cheque pelo correio   \n",
       "7001                          nao               cheque eletronico   \n",
       "\n",
       "      conta_cobranca_mensal  conta_cobranca_Total  \n",
       "0                     59.90                542.40  \n",
       "1                     73.90                280.85  \n",
       "2                     98.00               1237.85  \n",
       "3                     83.90                267.40  \n",
       "4                     69.40                571.45  \n",
       "...                     ...                   ...  \n",
       "6997                  55.15                742.90  \n",
       "6998                  85.10               1873.70  \n",
       "6999                  50.30                 92.75  \n",
       "7000                  67.85               4627.65  \n",
       "7001                  59.00               3707.60  \n",
       "\n",
       "[7002 rows x 20 columns]"
      ]
     },
     "execution_count": 160,
     "metadata": {},
     "output_type": "execute_result"
    }
   ],
   "source": [
    "df_sem_id = df_sem_out.drop('id_cliente',axis=1).copy()\n",
    "df_sem_id"
   ]
  },
  {
   "cell_type": "code",
   "execution_count": 159,
   "metadata": {},
   "outputs": [],
   "source": [
    "mapeamento = {\n",
    "    'nao': 0,\n",
    "    'sim': 1,\n",
    "    'masculino': 0,\n",
    "    'feminino': 1\n",
    "}"
   ]
  },
  {
   "cell_type": "code",
   "execution_count": 165,
   "metadata": {},
   "outputs": [
    {
     "name": "stdout",
     "output_type": "stream",
     "text": [
      "Coluna: Churn\n",
      "[0 1]\n",
      "------------------------------\n",
      "Coluna: cliente_genero\n",
      "[0 1]\n",
      "------------------------------\n",
      "Coluna: cliente_idoso\n",
      "[0 1]\n",
      "------------------------------\n",
      "Coluna: cliente_parceiro\n",
      "[0 1]\n",
      "------------------------------\n",
      "Coluna: cliente_dependentes\n",
      "[0 1]\n",
      "------------------------------\n",
      "Coluna: cliente_tempo_servico\n",
      "[ 9.  4. 13.  3. 71. 63.  7. 66. 54. 72.  5. 56. 34.  1. 45. 50. 23. 55.\n",
      " 26. 69. 37. 49. 67. 20. 43. 59. 12. 27.  2. 25. 29. 14. 35. 64. 39. 40.\n",
      " 11.  6. 30. 70. 57. 58. 16. 32. 33. 10. 21. 61. 15. 44. 22. 24. 19. 47.\n",
      " 62. 46. 52.  8. 60. 48. 28. 41. 53. 68. 31. 36. 17. 18. 65. 51. 38. 42.]\n",
      "------------------------------\n",
      "Coluna: telefone_servico_telefone\n",
      "[1 0]\n",
      "------------------------------\n",
      "Coluna: telefone_varias_linhas\n",
      "['sim' 'nao' 'sem servico de telefone']\n",
      "------------------------------\n",
      "Coluna: internet_servico_internet\n",
      "['DSL' 'fibra otica' 'nao']\n",
      "------------------------------\n",
      "Coluna: internet_seguranca_online\n",
      "['nao' 'sim' 'sem servico de internet']\n",
      "------------------------------\n",
      "Coluna: internet_backup_online\n",
      "['nao' 'sim' 'sem servico de internet']\n",
      "------------------------------\n",
      "Coluna: internet_protecao_dispositivo\n",
      "['nao' 'sim' 'sem servico de internet']\n",
      "------------------------------\n",
      "Coluna: internet_suporte_tecnico\n",
      "['nao' 'sim' 'sem servico de internet']\n",
      "------------------------------\n",
      "Coluna: internet_tv_streaming\n",
      "['nao' 'sim' 'sem servico de internet']\n",
      "------------------------------\n",
      "Coluna: internet_filmes_streaming\n",
      "['sim' 'nao' 'sem servico de internet']\n",
      "------------------------------\n",
      "Coluna: conta_contrato\n",
      "['mes a mes' 'dois anos' 'um ano']\n",
      "------------------------------\n",
      "Coluna: conta_faturamente_eletronico\n",
      "[0 1]\n",
      "------------------------------\n",
      "Coluna: conta_metodo_pagamento\n",
      "['cheque pelo correio' 'cheque eletronico'\n",
      " 'cartao de credito (automatico)' 'transferencia bancaria (automatica)']\n",
      "------------------------------\n",
      "Coluna: conta_cobranca_mensal\n",
      "[59.9  73.9  98.   ... 91.75 68.8  67.85]\n",
      "------------------------------\n",
      "Coluna: conta_cobranca_Total\n",
      "[ 542.4   280.85 1237.85 ...  742.9  4627.65 3707.6 ]\n",
      "------------------------------\n"
     ]
    }
   ],
   "source": [
    "for col in df_sem_id.columns:\n",
    "    print(f'Coluna: {col}')\n",
    "    print(df_sem_id[col].unique())\n",
    "    print('-' *30)"
   ]
  },
  {
   "cell_type": "code",
   "execution_count": 162,
   "metadata": {},
   "outputs": [],
   "source": [
    "colunas = ['conta_faturamente_eletronico', 'telefone_servico_telefone', 'cliente_dependentes', 'cliente_parceiro', 'cliente_genero', 'Churn']"
   ]
  },
  {
   "cell_type": "code",
   "execution_count": 164,
   "metadata": {},
   "outputs": [
    {
     "data": {
      "text/html": [
       "<div>\n",
       "<style scoped>\n",
       "    .dataframe tbody tr th:only-of-type {\n",
       "        vertical-align: middle;\n",
       "    }\n",
       "\n",
       "    .dataframe tbody tr th {\n",
       "        vertical-align: top;\n",
       "    }\n",
       "\n",
       "    .dataframe thead th {\n",
       "        text-align: right;\n",
       "    }\n",
       "</style>\n",
       "<table border=\"1\" class=\"dataframe\">\n",
       "  <thead>\n",
       "    <tr style=\"text-align: right;\">\n",
       "      <th></th>\n",
       "      <th>Churn</th>\n",
       "      <th>cliente_genero</th>\n",
       "      <th>cliente_idoso</th>\n",
       "      <th>cliente_parceiro</th>\n",
       "      <th>cliente_dependentes</th>\n",
       "      <th>cliente_tempo_servico</th>\n",
       "      <th>telefone_servico_telefone</th>\n",
       "      <th>telefone_varias_linhas</th>\n",
       "      <th>internet_servico_internet</th>\n",
       "      <th>internet_seguranca_online</th>\n",
       "      <th>internet_backup_online</th>\n",
       "      <th>internet_protecao_dispositivo</th>\n",
       "      <th>internet_suporte_tecnico</th>\n",
       "      <th>internet_tv_streaming</th>\n",
       "      <th>internet_filmes_streaming</th>\n",
       "      <th>conta_contrato</th>\n",
       "      <th>conta_faturamente_eletronico</th>\n",
       "      <th>conta_metodo_pagamento</th>\n",
       "      <th>conta_cobranca_mensal</th>\n",
       "      <th>conta_cobranca_Total</th>\n",
       "    </tr>\n",
       "  </thead>\n",
       "  <tbody>\n",
       "    <tr>\n",
       "      <th>0</th>\n",
       "      <td>0</td>\n",
       "      <td>0</td>\n",
       "      <td>0</td>\n",
       "      <td>0</td>\n",
       "      <td>0</td>\n",
       "      <td>9.0</td>\n",
       "      <td>1</td>\n",
       "      <td>sim</td>\n",
       "      <td>DSL</td>\n",
       "      <td>nao</td>\n",
       "      <td>nao</td>\n",
       "      <td>nao</td>\n",
       "      <td>nao</td>\n",
       "      <td>nao</td>\n",
       "      <td>sim</td>\n",
       "      <td>mes a mes</td>\n",
       "      <td>0</td>\n",
       "      <td>cheque pelo correio</td>\n",
       "      <td>59.90</td>\n",
       "      <td>542.40</td>\n",
       "    </tr>\n",
       "    <tr>\n",
       "      <th>1</th>\n",
       "      <td>1</td>\n",
       "      <td>0</td>\n",
       "      <td>0</td>\n",
       "      <td>0</td>\n",
       "      <td>0</td>\n",
       "      <td>4.0</td>\n",
       "      <td>1</td>\n",
       "      <td>nao</td>\n",
       "      <td>fibra otica</td>\n",
       "      <td>nao</td>\n",
       "      <td>nao</td>\n",
       "      <td>sim</td>\n",
       "      <td>nao</td>\n",
       "      <td>nao</td>\n",
       "      <td>nao</td>\n",
       "      <td>mes a mes</td>\n",
       "      <td>1</td>\n",
       "      <td>cheque eletronico</td>\n",
       "      <td>73.90</td>\n",
       "      <td>280.85</td>\n",
       "    </tr>\n",
       "    <tr>\n",
       "      <th>2</th>\n",
       "      <td>1</td>\n",
       "      <td>0</td>\n",
       "      <td>1</td>\n",
       "      <td>1</td>\n",
       "      <td>0</td>\n",
       "      <td>13.0</td>\n",
       "      <td>1</td>\n",
       "      <td>nao</td>\n",
       "      <td>fibra otica</td>\n",
       "      <td>nao</td>\n",
       "      <td>sim</td>\n",
       "      <td>sim</td>\n",
       "      <td>nao</td>\n",
       "      <td>sim</td>\n",
       "      <td>sim</td>\n",
       "      <td>mes a mes</td>\n",
       "      <td>1</td>\n",
       "      <td>cheque eletronico</td>\n",
       "      <td>98.00</td>\n",
       "      <td>1237.85</td>\n",
       "    </tr>\n",
       "    <tr>\n",
       "      <th>3</th>\n",
       "      <td>1</td>\n",
       "      <td>1</td>\n",
       "      <td>1</td>\n",
       "      <td>1</td>\n",
       "      <td>0</td>\n",
       "      <td>3.0</td>\n",
       "      <td>1</td>\n",
       "      <td>nao</td>\n",
       "      <td>fibra otica</td>\n",
       "      <td>nao</td>\n",
       "      <td>nao</td>\n",
       "      <td>nao</td>\n",
       "      <td>sim</td>\n",
       "      <td>sim</td>\n",
       "      <td>nao</td>\n",
       "      <td>mes a mes</td>\n",
       "      <td>1</td>\n",
       "      <td>cheque pelo correio</td>\n",
       "      <td>83.90</td>\n",
       "      <td>267.40</td>\n",
       "    </tr>\n",
       "    <tr>\n",
       "      <th>4</th>\n",
       "      <td>0</td>\n",
       "      <td>1</td>\n",
       "      <td>0</td>\n",
       "      <td>0</td>\n",
       "      <td>1</td>\n",
       "      <td>9.0</td>\n",
       "      <td>1</td>\n",
       "      <td>nao</td>\n",
       "      <td>DSL</td>\n",
       "      <td>nao</td>\n",
       "      <td>nao</td>\n",
       "      <td>nao</td>\n",
       "      <td>sim</td>\n",
       "      <td>sim</td>\n",
       "      <td>sim</td>\n",
       "      <td>mes a mes</td>\n",
       "      <td>1</td>\n",
       "      <td>cartao de credito (automatico)</td>\n",
       "      <td>69.40</td>\n",
       "      <td>571.45</td>\n",
       "    </tr>\n",
       "    <tr>\n",
       "      <th>...</th>\n",
       "      <td>...</td>\n",
       "      <td>...</td>\n",
       "      <td>...</td>\n",
       "      <td>...</td>\n",
       "      <td>...</td>\n",
       "      <td>...</td>\n",
       "      <td>...</td>\n",
       "      <td>...</td>\n",
       "      <td>...</td>\n",
       "      <td>...</td>\n",
       "      <td>...</td>\n",
       "      <td>...</td>\n",
       "      <td>...</td>\n",
       "      <td>...</td>\n",
       "      <td>...</td>\n",
       "      <td>...</td>\n",
       "      <td>...</td>\n",
       "      <td>...</td>\n",
       "      <td>...</td>\n",
       "      <td>...</td>\n",
       "    </tr>\n",
       "    <tr>\n",
       "      <th>6997</th>\n",
       "      <td>0</td>\n",
       "      <td>1</td>\n",
       "      <td>0</td>\n",
       "      <td>0</td>\n",
       "      <td>0</td>\n",
       "      <td>13.0</td>\n",
       "      <td>1</td>\n",
       "      <td>nao</td>\n",
       "      <td>DSL</td>\n",
       "      <td>sim</td>\n",
       "      <td>nao</td>\n",
       "      <td>nao</td>\n",
       "      <td>sim</td>\n",
       "      <td>nao</td>\n",
       "      <td>nao</td>\n",
       "      <td>um ano</td>\n",
       "      <td>0</td>\n",
       "      <td>cheque pelo correio</td>\n",
       "      <td>55.15</td>\n",
       "      <td>742.90</td>\n",
       "    </tr>\n",
       "    <tr>\n",
       "      <th>6998</th>\n",
       "      <td>1</td>\n",
       "      <td>0</td>\n",
       "      <td>0</td>\n",
       "      <td>1</td>\n",
       "      <td>0</td>\n",
       "      <td>22.0</td>\n",
       "      <td>1</td>\n",
       "      <td>sim</td>\n",
       "      <td>fibra otica</td>\n",
       "      <td>nao</td>\n",
       "      <td>nao</td>\n",
       "      <td>nao</td>\n",
       "      <td>nao</td>\n",
       "      <td>nao</td>\n",
       "      <td>sim</td>\n",
       "      <td>mes a mes</td>\n",
       "      <td>1</td>\n",
       "      <td>cheque eletronico</td>\n",
       "      <td>85.10</td>\n",
       "      <td>1873.70</td>\n",
       "    </tr>\n",
       "    <tr>\n",
       "      <th>6999</th>\n",
       "      <td>0</td>\n",
       "      <td>0</td>\n",
       "      <td>0</td>\n",
       "      <td>0</td>\n",
       "      <td>0</td>\n",
       "      <td>2.0</td>\n",
       "      <td>1</td>\n",
       "      <td>nao</td>\n",
       "      <td>DSL</td>\n",
       "      <td>nao</td>\n",
       "      <td>sim</td>\n",
       "      <td>nao</td>\n",
       "      <td>nao</td>\n",
       "      <td>nao</td>\n",
       "      <td>nao</td>\n",
       "      <td>mes a mes</td>\n",
       "      <td>1</td>\n",
       "      <td>cheque pelo correio</td>\n",
       "      <td>50.30</td>\n",
       "      <td>92.75</td>\n",
       "    </tr>\n",
       "    <tr>\n",
       "      <th>7000</th>\n",
       "      <td>0</td>\n",
       "      <td>0</td>\n",
       "      <td>0</td>\n",
       "      <td>1</td>\n",
       "      <td>1</td>\n",
       "      <td>67.0</td>\n",
       "      <td>1</td>\n",
       "      <td>nao</td>\n",
       "      <td>DSL</td>\n",
       "      <td>sim</td>\n",
       "      <td>nao</td>\n",
       "      <td>sim</td>\n",
       "      <td>sim</td>\n",
       "      <td>nao</td>\n",
       "      <td>sim</td>\n",
       "      <td>dois anos</td>\n",
       "      <td>0</td>\n",
       "      <td>cheque pelo correio</td>\n",
       "      <td>67.85</td>\n",
       "      <td>4627.65</td>\n",
       "    </tr>\n",
       "    <tr>\n",
       "      <th>7001</th>\n",
       "      <td>0</td>\n",
       "      <td>0</td>\n",
       "      <td>0</td>\n",
       "      <td>1</td>\n",
       "      <td>1</td>\n",
       "      <td>63.0</td>\n",
       "      <td>0</td>\n",
       "      <td>sem servico de telefone</td>\n",
       "      <td>DSL</td>\n",
       "      <td>sim</td>\n",
       "      <td>sim</td>\n",
       "      <td>sim</td>\n",
       "      <td>nao</td>\n",
       "      <td>sim</td>\n",
       "      <td>sim</td>\n",
       "      <td>dois anos</td>\n",
       "      <td>0</td>\n",
       "      <td>cheque eletronico</td>\n",
       "      <td>59.00</td>\n",
       "      <td>3707.60</td>\n",
       "    </tr>\n",
       "  </tbody>\n",
       "</table>\n",
       "<p>7002 rows × 20 columns</p>\n",
       "</div>"
      ],
      "text/plain": [
       "      Churn  cliente_genero  cliente_idoso  cliente_parceiro  \\\n",
       "0         0               0              0                 0   \n",
       "1         1               0              0                 0   \n",
       "2         1               0              1                 1   \n",
       "3         1               1              1                 1   \n",
       "4         0               1              0                 0   \n",
       "...     ...             ...            ...               ...   \n",
       "6997      0               1              0                 0   \n",
       "6998      1               0              0                 1   \n",
       "6999      0               0              0                 0   \n",
       "7000      0               0              0                 1   \n",
       "7001      0               0              0                 1   \n",
       "\n",
       "      cliente_dependentes  cliente_tempo_servico  telefone_servico_telefone  \\\n",
       "0                       0                    9.0                          1   \n",
       "1                       0                    4.0                          1   \n",
       "2                       0                   13.0                          1   \n",
       "3                       0                    3.0                          1   \n",
       "4                       1                    9.0                          1   \n",
       "...                   ...                    ...                        ...   \n",
       "6997                    0                   13.0                          1   \n",
       "6998                    0                   22.0                          1   \n",
       "6999                    0                    2.0                          1   \n",
       "7000                    1                   67.0                          1   \n",
       "7001                    1                   63.0                          0   \n",
       "\n",
       "       telefone_varias_linhas internet_servico_internet  \\\n",
       "0                         sim                       DSL   \n",
       "1                         nao               fibra otica   \n",
       "2                         nao               fibra otica   \n",
       "3                         nao               fibra otica   \n",
       "4                         nao                       DSL   \n",
       "...                       ...                       ...   \n",
       "6997                      nao                       DSL   \n",
       "6998                      sim               fibra otica   \n",
       "6999                      nao                       DSL   \n",
       "7000                      nao                       DSL   \n",
       "7001  sem servico de telefone                       DSL   \n",
       "\n",
       "     internet_seguranca_online internet_backup_online  \\\n",
       "0                          nao                    nao   \n",
       "1                          nao                    nao   \n",
       "2                          nao                    sim   \n",
       "3                          nao                    nao   \n",
       "4                          nao                    nao   \n",
       "...                        ...                    ...   \n",
       "6997                       sim                    nao   \n",
       "6998                       nao                    nao   \n",
       "6999                       nao                    sim   \n",
       "7000                       sim                    nao   \n",
       "7001                       sim                    sim   \n",
       "\n",
       "     internet_protecao_dispositivo internet_suporte_tecnico  \\\n",
       "0                              nao                      nao   \n",
       "1                              sim                      nao   \n",
       "2                              sim                      nao   \n",
       "3                              nao                      sim   \n",
       "4                              nao                      sim   \n",
       "...                            ...                      ...   \n",
       "6997                           nao                      sim   \n",
       "6998                           nao                      nao   \n",
       "6999                           nao                      nao   \n",
       "7000                           sim                      sim   \n",
       "7001                           sim                      nao   \n",
       "\n",
       "     internet_tv_streaming internet_filmes_streaming conta_contrato  \\\n",
       "0                      nao                       sim      mes a mes   \n",
       "1                      nao                       nao      mes a mes   \n",
       "2                      sim                       sim      mes a mes   \n",
       "3                      sim                       nao      mes a mes   \n",
       "4                      sim                       sim      mes a mes   \n",
       "...                    ...                       ...            ...   \n",
       "6997                   nao                       nao         um ano   \n",
       "6998                   nao                       sim      mes a mes   \n",
       "6999                   nao                       nao      mes a mes   \n",
       "7000                   nao                       sim      dois anos   \n",
       "7001                   sim                       sim      dois anos   \n",
       "\n",
       "      conta_faturamente_eletronico          conta_metodo_pagamento  \\\n",
       "0                                0             cheque pelo correio   \n",
       "1                                1               cheque eletronico   \n",
       "2                                1               cheque eletronico   \n",
       "3                                1             cheque pelo correio   \n",
       "4                                1  cartao de credito (automatico)   \n",
       "...                            ...                             ...   \n",
       "6997                             0             cheque pelo correio   \n",
       "6998                             1               cheque eletronico   \n",
       "6999                             1             cheque pelo correio   \n",
       "7000                             0             cheque pelo correio   \n",
       "7001                             0               cheque eletronico   \n",
       "\n",
       "      conta_cobranca_mensal  conta_cobranca_Total  \n",
       "0                     59.90                542.40  \n",
       "1                     73.90                280.85  \n",
       "2                     98.00               1237.85  \n",
       "3                     83.90                267.40  \n",
       "4                     69.40                571.45  \n",
       "...                     ...                   ...  \n",
       "6997                  55.15                742.90  \n",
       "6998                  85.10               1873.70  \n",
       "6999                  50.30                 92.75  \n",
       "7000                  67.85               4627.65  \n",
       "7001                  59.00               3707.60  \n",
       "\n",
       "[7002 rows x 20 columns]"
      ]
     },
     "execution_count": 164,
     "metadata": {},
     "output_type": "execute_result"
    }
   ],
   "source": [
    "df_sem_id[colunas] = df_sem_id[colunas].replace(mapeamento)\n",
    "df_sem_id"
   ]
  },
  {
   "cell_type": "markdown",
   "metadata": {},
   "source": [
    "## One Hot Encodder (Dummy) - preparo para envio de base para modelo ML transformando informações categorias em colunas boleanas"
   ]
  },
  {
   "cell_type": "code",
   "execution_count": 166,
   "metadata": {},
   "outputs": [
    {
     "data": {
      "text/plain": [
       "0    a\n",
       "1    b\n",
       "2    c\n",
       "3    a\n",
       "dtype: object"
      ]
     },
     "execution_count": 166,
     "metadata": {},
     "output_type": "execute_result"
    }
   ],
   "source": [
    "#exemplo\n",
    "s = pd.Series(list('abca'))\n",
    "s"
   ]
  },
  {
   "cell_type": "code",
   "execution_count": 167,
   "metadata": {},
   "outputs": [
    {
     "data": {
      "text/html": [
       "<div>\n",
       "<style scoped>\n",
       "    .dataframe tbody tr th:only-of-type {\n",
       "        vertical-align: middle;\n",
       "    }\n",
       "\n",
       "    .dataframe tbody tr th {\n",
       "        vertical-align: top;\n",
       "    }\n",
       "\n",
       "    .dataframe thead th {\n",
       "        text-align: right;\n",
       "    }\n",
       "</style>\n",
       "<table border=\"1\" class=\"dataframe\">\n",
       "  <thead>\n",
       "    <tr style=\"text-align: right;\">\n",
       "      <th></th>\n",
       "      <th>a</th>\n",
       "      <th>b</th>\n",
       "      <th>c</th>\n",
       "    </tr>\n",
       "  </thead>\n",
       "  <tbody>\n",
       "    <tr>\n",
       "      <th>0</th>\n",
       "      <td>True</td>\n",
       "      <td>False</td>\n",
       "      <td>False</td>\n",
       "    </tr>\n",
       "    <tr>\n",
       "      <th>1</th>\n",
       "      <td>False</td>\n",
       "      <td>True</td>\n",
       "      <td>False</td>\n",
       "    </tr>\n",
       "    <tr>\n",
       "      <th>2</th>\n",
       "      <td>False</td>\n",
       "      <td>False</td>\n",
       "      <td>True</td>\n",
       "    </tr>\n",
       "    <tr>\n",
       "      <th>3</th>\n",
       "      <td>True</td>\n",
       "      <td>False</td>\n",
       "      <td>False</td>\n",
       "    </tr>\n",
       "  </tbody>\n",
       "</table>\n",
       "</div>"
      ],
      "text/plain": [
       "       a      b      c\n",
       "0   True  False  False\n",
       "1  False   True  False\n",
       "2  False  False   True\n",
       "3   True  False  False"
      ]
     },
     "execution_count": 167,
     "metadata": {},
     "output_type": "execute_result"
    }
   ],
   "source": [
    "pd.get_dummies(s)"
   ]
  },
  {
   "cell_type": "code",
   "execution_count": 170,
   "metadata": {},
   "outputs": [
    {
     "name": "stdout",
     "output_type": "stream",
     "text": [
      "<class 'pandas.core.frame.DataFrame'>\n",
      "RangeIndex: 7002 entries, 0 to 7001\n",
      "Data columns (total 20 columns):\n",
      " #   Column                         Non-Null Count  Dtype  \n",
      "---  ------                         --------------  -----  \n",
      " 0   Churn                          7002 non-null   int64  \n",
      " 1   cliente_genero                 7002 non-null   int64  \n",
      " 2   cliente_idoso                  7002 non-null   int64  \n",
      " 3   cliente_parceiro               7002 non-null   int64  \n",
      " 4   cliente_dependentes            7002 non-null   int64  \n",
      " 5   cliente_tempo_servico          7002 non-null   float64\n",
      " 6   telefone_servico_telefone      7002 non-null   int64  \n",
      " 7   telefone_varias_linhas         7002 non-null   object \n",
      " 8   internet_servico_internet      7002 non-null   object \n",
      " 9   internet_seguranca_online      7002 non-null   object \n",
      " 10  internet_backup_online         7002 non-null   object \n",
      " 11  internet_protecao_dispositivo  7002 non-null   object \n",
      " 12  internet_suporte_tecnico       7002 non-null   object \n",
      " 13  internet_tv_streaming          7002 non-null   object \n",
      " 14  internet_filmes_streaming      7002 non-null   object \n",
      " 15  conta_contrato                 7002 non-null   object \n",
      " 16  conta_faturamente_eletronico   7002 non-null   int64  \n",
      " 17  conta_metodo_pagamento         7002 non-null   object \n",
      " 18  conta_cobranca_mensal          7002 non-null   float64\n",
      " 19  conta_cobranca_Total           7002 non-null   float64\n",
      "dtypes: float64(3), int64(7), object(10)\n",
      "memory usage: 1.1+ MB\n"
     ]
    }
   ],
   "source": [
    "#tranforma todos dtype em numericos, facilitando o modelo\n",
    "df_sem_id.info()"
   ]
  },
  {
   "cell_type": "code",
   "execution_count": 174,
   "metadata": {},
   "outputs": [
    {
     "data": {
      "text/html": [
       "<div>\n",
       "<style scoped>\n",
       "    .dataframe tbody tr th:only-of-type {\n",
       "        vertical-align: middle;\n",
       "    }\n",
       "\n",
       "    .dataframe tbody tr th {\n",
       "        vertical-align: top;\n",
       "    }\n",
       "\n",
       "    .dataframe thead th {\n",
       "        text-align: right;\n",
       "    }\n",
       "</style>\n",
       "<table border=\"1\" class=\"dataframe\">\n",
       "  <thead>\n",
       "    <tr style=\"text-align: right;\">\n",
       "      <th></th>\n",
       "      <th>Churn</th>\n",
       "      <th>cliente_genero</th>\n",
       "      <th>cliente_idoso</th>\n",
       "      <th>cliente_parceiro</th>\n",
       "      <th>cliente_dependentes</th>\n",
       "      <th>cliente_tempo_servico</th>\n",
       "      <th>telefone_servico_telefone</th>\n",
       "      <th>conta_faturamente_eletronico</th>\n",
       "      <th>conta_cobranca_mensal</th>\n",
       "      <th>conta_cobranca_Total</th>\n",
       "      <th>...</th>\n",
       "      <th>internet_filmes_streaming_nao</th>\n",
       "      <th>internet_filmes_streaming_sem servico de internet</th>\n",
       "      <th>internet_filmes_streaming_sim</th>\n",
       "      <th>conta_contrato_dois anos</th>\n",
       "      <th>conta_contrato_mes a mes</th>\n",
       "      <th>conta_contrato_um ano</th>\n",
       "      <th>conta_metodo_pagamento_cartao de credito (automatico)</th>\n",
       "      <th>conta_metodo_pagamento_cheque eletronico</th>\n",
       "      <th>conta_metodo_pagamento_cheque pelo correio</th>\n",
       "      <th>conta_metodo_pagamento_transferencia bancaria (automatica)</th>\n",
       "    </tr>\n",
       "  </thead>\n",
       "  <tbody>\n",
       "    <tr>\n",
       "      <th>0</th>\n",
       "      <td>0</td>\n",
       "      <td>0</td>\n",
       "      <td>0</td>\n",
       "      <td>0</td>\n",
       "      <td>0</td>\n",
       "      <td>9.0</td>\n",
       "      <td>1</td>\n",
       "      <td>0</td>\n",
       "      <td>59.90</td>\n",
       "      <td>542.40</td>\n",
       "      <td>...</td>\n",
       "      <td>0</td>\n",
       "      <td>0</td>\n",
       "      <td>1</td>\n",
       "      <td>0</td>\n",
       "      <td>1</td>\n",
       "      <td>0</td>\n",
       "      <td>0</td>\n",
       "      <td>0</td>\n",
       "      <td>1</td>\n",
       "      <td>0</td>\n",
       "    </tr>\n",
       "    <tr>\n",
       "      <th>1</th>\n",
       "      <td>1</td>\n",
       "      <td>0</td>\n",
       "      <td>0</td>\n",
       "      <td>0</td>\n",
       "      <td>0</td>\n",
       "      <td>4.0</td>\n",
       "      <td>1</td>\n",
       "      <td>1</td>\n",
       "      <td>73.90</td>\n",
       "      <td>280.85</td>\n",
       "      <td>...</td>\n",
       "      <td>1</td>\n",
       "      <td>0</td>\n",
       "      <td>0</td>\n",
       "      <td>0</td>\n",
       "      <td>1</td>\n",
       "      <td>0</td>\n",
       "      <td>0</td>\n",
       "      <td>1</td>\n",
       "      <td>0</td>\n",
       "      <td>0</td>\n",
       "    </tr>\n",
       "    <tr>\n",
       "      <th>2</th>\n",
       "      <td>1</td>\n",
       "      <td>0</td>\n",
       "      <td>1</td>\n",
       "      <td>1</td>\n",
       "      <td>0</td>\n",
       "      <td>13.0</td>\n",
       "      <td>1</td>\n",
       "      <td>1</td>\n",
       "      <td>98.00</td>\n",
       "      <td>1237.85</td>\n",
       "      <td>...</td>\n",
       "      <td>0</td>\n",
       "      <td>0</td>\n",
       "      <td>1</td>\n",
       "      <td>0</td>\n",
       "      <td>1</td>\n",
       "      <td>0</td>\n",
       "      <td>0</td>\n",
       "      <td>1</td>\n",
       "      <td>0</td>\n",
       "      <td>0</td>\n",
       "    </tr>\n",
       "    <tr>\n",
       "      <th>3</th>\n",
       "      <td>1</td>\n",
       "      <td>1</td>\n",
       "      <td>1</td>\n",
       "      <td>1</td>\n",
       "      <td>0</td>\n",
       "      <td>3.0</td>\n",
       "      <td>1</td>\n",
       "      <td>1</td>\n",
       "      <td>83.90</td>\n",
       "      <td>267.40</td>\n",
       "      <td>...</td>\n",
       "      <td>1</td>\n",
       "      <td>0</td>\n",
       "      <td>0</td>\n",
       "      <td>0</td>\n",
       "      <td>1</td>\n",
       "      <td>0</td>\n",
       "      <td>0</td>\n",
       "      <td>0</td>\n",
       "      <td>1</td>\n",
       "      <td>0</td>\n",
       "    </tr>\n",
       "    <tr>\n",
       "      <th>4</th>\n",
       "      <td>0</td>\n",
       "      <td>1</td>\n",
       "      <td>0</td>\n",
       "      <td>0</td>\n",
       "      <td>1</td>\n",
       "      <td>9.0</td>\n",
       "      <td>1</td>\n",
       "      <td>1</td>\n",
       "      <td>69.40</td>\n",
       "      <td>571.45</td>\n",
       "      <td>...</td>\n",
       "      <td>0</td>\n",
       "      <td>0</td>\n",
       "      <td>1</td>\n",
       "      <td>0</td>\n",
       "      <td>1</td>\n",
       "      <td>0</td>\n",
       "      <td>1</td>\n",
       "      <td>0</td>\n",
       "      <td>0</td>\n",
       "      <td>0</td>\n",
       "    </tr>\n",
       "    <tr>\n",
       "      <th>...</th>\n",
       "      <td>...</td>\n",
       "      <td>...</td>\n",
       "      <td>...</td>\n",
       "      <td>...</td>\n",
       "      <td>...</td>\n",
       "      <td>...</td>\n",
       "      <td>...</td>\n",
       "      <td>...</td>\n",
       "      <td>...</td>\n",
       "      <td>...</td>\n",
       "      <td>...</td>\n",
       "      <td>...</td>\n",
       "      <td>...</td>\n",
       "      <td>...</td>\n",
       "      <td>...</td>\n",
       "      <td>...</td>\n",
       "      <td>...</td>\n",
       "      <td>...</td>\n",
       "      <td>...</td>\n",
       "      <td>...</td>\n",
       "      <td>...</td>\n",
       "    </tr>\n",
       "    <tr>\n",
       "      <th>6997</th>\n",
       "      <td>0</td>\n",
       "      <td>1</td>\n",
       "      <td>0</td>\n",
       "      <td>0</td>\n",
       "      <td>0</td>\n",
       "      <td>13.0</td>\n",
       "      <td>1</td>\n",
       "      <td>0</td>\n",
       "      <td>55.15</td>\n",
       "      <td>742.90</td>\n",
       "      <td>...</td>\n",
       "      <td>1</td>\n",
       "      <td>0</td>\n",
       "      <td>0</td>\n",
       "      <td>0</td>\n",
       "      <td>0</td>\n",
       "      <td>1</td>\n",
       "      <td>0</td>\n",
       "      <td>0</td>\n",
       "      <td>1</td>\n",
       "      <td>0</td>\n",
       "    </tr>\n",
       "    <tr>\n",
       "      <th>6998</th>\n",
       "      <td>1</td>\n",
       "      <td>0</td>\n",
       "      <td>0</td>\n",
       "      <td>1</td>\n",
       "      <td>0</td>\n",
       "      <td>22.0</td>\n",
       "      <td>1</td>\n",
       "      <td>1</td>\n",
       "      <td>85.10</td>\n",
       "      <td>1873.70</td>\n",
       "      <td>...</td>\n",
       "      <td>0</td>\n",
       "      <td>0</td>\n",
       "      <td>1</td>\n",
       "      <td>0</td>\n",
       "      <td>1</td>\n",
       "      <td>0</td>\n",
       "      <td>0</td>\n",
       "      <td>1</td>\n",
       "      <td>0</td>\n",
       "      <td>0</td>\n",
       "    </tr>\n",
       "    <tr>\n",
       "      <th>6999</th>\n",
       "      <td>0</td>\n",
       "      <td>0</td>\n",
       "      <td>0</td>\n",
       "      <td>0</td>\n",
       "      <td>0</td>\n",
       "      <td>2.0</td>\n",
       "      <td>1</td>\n",
       "      <td>1</td>\n",
       "      <td>50.30</td>\n",
       "      <td>92.75</td>\n",
       "      <td>...</td>\n",
       "      <td>1</td>\n",
       "      <td>0</td>\n",
       "      <td>0</td>\n",
       "      <td>0</td>\n",
       "      <td>1</td>\n",
       "      <td>0</td>\n",
       "      <td>0</td>\n",
       "      <td>0</td>\n",
       "      <td>1</td>\n",
       "      <td>0</td>\n",
       "    </tr>\n",
       "    <tr>\n",
       "      <th>7000</th>\n",
       "      <td>0</td>\n",
       "      <td>0</td>\n",
       "      <td>0</td>\n",
       "      <td>1</td>\n",
       "      <td>1</td>\n",
       "      <td>67.0</td>\n",
       "      <td>1</td>\n",
       "      <td>0</td>\n",
       "      <td>67.85</td>\n",
       "      <td>4627.65</td>\n",
       "      <td>...</td>\n",
       "      <td>0</td>\n",
       "      <td>0</td>\n",
       "      <td>1</td>\n",
       "      <td>1</td>\n",
       "      <td>0</td>\n",
       "      <td>0</td>\n",
       "      <td>0</td>\n",
       "      <td>0</td>\n",
       "      <td>1</td>\n",
       "      <td>0</td>\n",
       "    </tr>\n",
       "    <tr>\n",
       "      <th>7001</th>\n",
       "      <td>0</td>\n",
       "      <td>0</td>\n",
       "      <td>0</td>\n",
       "      <td>1</td>\n",
       "      <td>1</td>\n",
       "      <td>63.0</td>\n",
       "      <td>0</td>\n",
       "      <td>0</td>\n",
       "      <td>59.00</td>\n",
       "      <td>3707.60</td>\n",
       "      <td>...</td>\n",
       "      <td>0</td>\n",
       "      <td>0</td>\n",
       "      <td>1</td>\n",
       "      <td>1</td>\n",
       "      <td>0</td>\n",
       "      <td>0</td>\n",
       "      <td>0</td>\n",
       "      <td>1</td>\n",
       "      <td>0</td>\n",
       "      <td>0</td>\n",
       "    </tr>\n",
       "  </tbody>\n",
       "</table>\n",
       "<p>7002 rows × 41 columns</p>\n",
       "</div>"
      ],
      "text/plain": [
       "      Churn  cliente_genero  cliente_idoso  cliente_parceiro  \\\n",
       "0         0               0              0                 0   \n",
       "1         1               0              0                 0   \n",
       "2         1               0              1                 1   \n",
       "3         1               1              1                 1   \n",
       "4         0               1              0                 0   \n",
       "...     ...             ...            ...               ...   \n",
       "6997      0               1              0                 0   \n",
       "6998      1               0              0                 1   \n",
       "6999      0               0              0                 0   \n",
       "7000      0               0              0                 1   \n",
       "7001      0               0              0                 1   \n",
       "\n",
       "      cliente_dependentes  cliente_tempo_servico  telefone_servico_telefone  \\\n",
       "0                       0                    9.0                          1   \n",
       "1                       0                    4.0                          1   \n",
       "2                       0                   13.0                          1   \n",
       "3                       0                    3.0                          1   \n",
       "4                       1                    9.0                          1   \n",
       "...                   ...                    ...                        ...   \n",
       "6997                    0                   13.0                          1   \n",
       "6998                    0                   22.0                          1   \n",
       "6999                    0                    2.0                          1   \n",
       "7000                    1                   67.0                          1   \n",
       "7001                    1                   63.0                          0   \n",
       "\n",
       "      conta_faturamente_eletronico  conta_cobranca_mensal  \\\n",
       "0                                0                  59.90   \n",
       "1                                1                  73.90   \n",
       "2                                1                  98.00   \n",
       "3                                1                  83.90   \n",
       "4                                1                  69.40   \n",
       "...                            ...                    ...   \n",
       "6997                             0                  55.15   \n",
       "6998                             1                  85.10   \n",
       "6999                             1                  50.30   \n",
       "7000                             0                  67.85   \n",
       "7001                             0                  59.00   \n",
       "\n",
       "      conta_cobranca_Total  ...  internet_filmes_streaming_nao  \\\n",
       "0                   542.40  ...                              0   \n",
       "1                   280.85  ...                              1   \n",
       "2                  1237.85  ...                              0   \n",
       "3                   267.40  ...                              1   \n",
       "4                   571.45  ...                              0   \n",
       "...                    ...  ...                            ...   \n",
       "6997                742.90  ...                              1   \n",
       "6998               1873.70  ...                              0   \n",
       "6999                 92.75  ...                              1   \n",
       "7000               4627.65  ...                              0   \n",
       "7001               3707.60  ...                              0   \n",
       "\n",
       "      internet_filmes_streaming_sem servico de internet  \\\n",
       "0                                                     0   \n",
       "1                                                     0   \n",
       "2                                                     0   \n",
       "3                                                     0   \n",
       "4                                                     0   \n",
       "...                                                 ...   \n",
       "6997                                                  0   \n",
       "6998                                                  0   \n",
       "6999                                                  0   \n",
       "7000                                                  0   \n",
       "7001                                                  0   \n",
       "\n",
       "      internet_filmes_streaming_sim  conta_contrato_dois anos  \\\n",
       "0                                 1                         0   \n",
       "1                                 0                         0   \n",
       "2                                 1                         0   \n",
       "3                                 0                         0   \n",
       "4                                 1                         0   \n",
       "...                             ...                       ...   \n",
       "6997                              0                         0   \n",
       "6998                              1                         0   \n",
       "6999                              0                         0   \n",
       "7000                              1                         1   \n",
       "7001                              1                         1   \n",
       "\n",
       "      conta_contrato_mes a mes  conta_contrato_um ano  \\\n",
       "0                            1                      0   \n",
       "1                            1                      0   \n",
       "2                            1                      0   \n",
       "3                            1                      0   \n",
       "4                            1                      0   \n",
       "...                        ...                    ...   \n",
       "6997                         0                      1   \n",
       "6998                         1                      0   \n",
       "6999                         1                      0   \n",
       "7000                         0                      0   \n",
       "7001                         0                      0   \n",
       "\n",
       "      conta_metodo_pagamento_cartao de credito (automatico)  \\\n",
       "0                                                     0       \n",
       "1                                                     0       \n",
       "2                                                     0       \n",
       "3                                                     0       \n",
       "4                                                     1       \n",
       "...                                                 ...       \n",
       "6997                                                  0       \n",
       "6998                                                  0       \n",
       "6999                                                  0       \n",
       "7000                                                  0       \n",
       "7001                                                  0       \n",
       "\n",
       "      conta_metodo_pagamento_cheque eletronico  \\\n",
       "0                                            0   \n",
       "1                                            1   \n",
       "2                                            1   \n",
       "3                                            0   \n",
       "4                                            0   \n",
       "...                                        ...   \n",
       "6997                                         0   \n",
       "6998                                         1   \n",
       "6999                                         0   \n",
       "7000                                         0   \n",
       "7001                                         1   \n",
       "\n",
       "      conta_metodo_pagamento_cheque pelo correio  \\\n",
       "0                                              1   \n",
       "1                                              0   \n",
       "2                                              0   \n",
       "3                                              1   \n",
       "4                                              0   \n",
       "...                                          ...   \n",
       "6997                                           1   \n",
       "6998                                           0   \n",
       "6999                                           1   \n",
       "7000                                           1   \n",
       "7001                                           0   \n",
       "\n",
       "      conta_metodo_pagamento_transferencia bancaria (automatica)  \n",
       "0                                                     0           \n",
       "1                                                     0           \n",
       "2                                                     0           \n",
       "3                                                     0           \n",
       "4                                                     0           \n",
       "...                                                 ...           \n",
       "6997                                                  0           \n",
       "6998                                                  0           \n",
       "6999                                                  0           \n",
       "7000                                                  0           \n",
       "7001                                                  0           \n",
       "\n",
       "[7002 rows x 41 columns]"
      ]
     },
     "execution_count": 174,
     "metadata": {},
     "output_type": "execute_result"
    }
   ],
   "source": [
    "df_dummies = pd.get_dummies(df_sem_id, dtype = int).copy()\n",
    "df_dummies"
   ]
  },
  {
   "cell_type": "code",
   "execution_count": 175,
   "metadata": {},
   "outputs": [
    {
     "data": {
      "text/plain": [
       "Index(['Churn', 'cliente_genero', 'cliente_idoso', 'cliente_parceiro',\n",
       "       'cliente_dependentes', 'cliente_tempo_servico',\n",
       "       'telefone_servico_telefone', 'conta_faturamente_eletronico',\n",
       "       'conta_cobranca_mensal', 'conta_cobranca_Total',\n",
       "       'telefone_varias_linhas_nao',\n",
       "       'telefone_varias_linhas_sem servico de telefone',\n",
       "       'telefone_varias_linhas_sim', 'internet_servico_internet_DSL',\n",
       "       'internet_servico_internet_fibra otica',\n",
       "       'internet_servico_internet_nao', 'internet_seguranca_online_nao',\n",
       "       'internet_seguranca_online_sem servico de internet',\n",
       "       'internet_seguranca_online_sim', 'internet_backup_online_nao',\n",
       "       'internet_backup_online_sem servico de internet',\n",
       "       'internet_backup_online_sim', 'internet_protecao_dispositivo_nao',\n",
       "       'internet_protecao_dispositivo_sem servico de internet',\n",
       "       'internet_protecao_dispositivo_sim', 'internet_suporte_tecnico_nao',\n",
       "       'internet_suporte_tecnico_sem servico de internet',\n",
       "       'internet_suporte_tecnico_sim', 'internet_tv_streaming_nao',\n",
       "       'internet_tv_streaming_sem servico de internet',\n",
       "       'internet_tv_streaming_sim', 'internet_filmes_streaming_nao',\n",
       "       'internet_filmes_streaming_sem servico de internet',\n",
       "       'internet_filmes_streaming_sim', 'conta_contrato_dois anos',\n",
       "       'conta_contrato_mes a mes', 'conta_contrato_um ano',\n",
       "       'conta_metodo_pagamento_cartao de credito (automatico)',\n",
       "       'conta_metodo_pagamento_cheque eletronico',\n",
       "       'conta_metodo_pagamento_cheque pelo correio',\n",
       "       'conta_metodo_pagamento_transferencia bancaria (automatica)'],\n",
       "      dtype='object')"
      ]
     },
     "execution_count": 175,
     "metadata": {},
     "output_type": "execute_result"
    }
   ],
   "source": [
    "df_dummies.columns"
   ]
  },
  {
   "cell_type": "code",
   "execution_count": 176,
   "metadata": {},
   "outputs": [
    {
     "name": "stdout",
     "output_type": "stream",
     "text": [
      "<class 'pandas.core.frame.DataFrame'>\n",
      "RangeIndex: 7002 entries, 0 to 7001\n",
      "Data columns (total 41 columns):\n",
      " #   Column                                                      Non-Null Count  Dtype  \n",
      "---  ------                                                      --------------  -----  \n",
      " 0   Churn                                                       7002 non-null   int64  \n",
      " 1   cliente_genero                                              7002 non-null   int64  \n",
      " 2   cliente_idoso                                               7002 non-null   int64  \n",
      " 3   cliente_parceiro                                            7002 non-null   int64  \n",
      " 4   cliente_dependentes                                         7002 non-null   int64  \n",
      " 5   cliente_tempo_servico                                       7002 non-null   float64\n",
      " 6   telefone_servico_telefone                                   7002 non-null   int64  \n",
      " 7   conta_faturamente_eletronico                                7002 non-null   int64  \n",
      " 8   conta_cobranca_mensal                                       7002 non-null   float64\n",
      " 9   conta_cobranca_Total                                        7002 non-null   float64\n",
      " 10  telefone_varias_linhas_nao                                  7002 non-null   int64  \n",
      " 11  telefone_varias_linhas_sem servico de telefone              7002 non-null   int64  \n",
      " 12  telefone_varias_linhas_sim                                  7002 non-null   int64  \n",
      " 13  internet_servico_internet_DSL                               7002 non-null   int64  \n",
      " 14  internet_servico_internet_fibra otica                       7002 non-null   int64  \n",
      " 15  internet_servico_internet_nao                               7002 non-null   int64  \n",
      " 16  internet_seguranca_online_nao                               7002 non-null   int64  \n",
      " 17  internet_seguranca_online_sem servico de internet           7002 non-null   int64  \n",
      " 18  internet_seguranca_online_sim                               7002 non-null   int64  \n",
      " 19  internet_backup_online_nao                                  7002 non-null   int64  \n",
      " 20  internet_backup_online_sem servico de internet              7002 non-null   int64  \n",
      " 21  internet_backup_online_sim                                  7002 non-null   int64  \n",
      " 22  internet_protecao_dispositivo_nao                           7002 non-null   int64  \n",
      " 23  internet_protecao_dispositivo_sem servico de internet       7002 non-null   int64  \n",
      " 24  internet_protecao_dispositivo_sim                           7002 non-null   int64  \n",
      " 25  internet_suporte_tecnico_nao                                7002 non-null   int64  \n",
      " 26  internet_suporte_tecnico_sem servico de internet            7002 non-null   int64  \n",
      " 27  internet_suporte_tecnico_sim                                7002 non-null   int64  \n",
      " 28  internet_tv_streaming_nao                                   7002 non-null   int64  \n",
      " 29  internet_tv_streaming_sem servico de internet               7002 non-null   int64  \n",
      " 30  internet_tv_streaming_sim                                   7002 non-null   int64  \n",
      " 31  internet_filmes_streaming_nao                               7002 non-null   int64  \n",
      " 32  internet_filmes_streaming_sem servico de internet           7002 non-null   int64  \n",
      " 33  internet_filmes_streaming_sim                               7002 non-null   int64  \n",
      " 34  conta_contrato_dois anos                                    7002 non-null   int64  \n",
      " 35  conta_contrato_mes a mes                                    7002 non-null   int64  \n",
      " 36  conta_contrato_um ano                                       7002 non-null   int64  \n",
      " 37  conta_metodo_pagamento_cartao de credito (automatico)       7002 non-null   int64  \n",
      " 38  conta_metodo_pagamento_cheque eletronico                    7002 non-null   int64  \n",
      " 39  conta_metodo_pagamento_cheque pelo correio                  7002 non-null   int64  \n",
      " 40  conta_metodo_pagamento_transferencia bancaria (automatica)  7002 non-null   int64  \n",
      "dtypes: float64(3), int64(38)\n",
      "memory usage: 2.2 MB\n"
     ]
    }
   ],
   "source": [
    "df_dummies.info()"
   ]
  }
 ],
 "metadata": {
  "colab": {
   "authorship_tag": "ABX9TyP0b4nr+emx9RQ9NDHBKVBF",
   "provenance": [],
   "toc_visible": true
  },
  "kernelspec": {
   "display_name": ".venv",
   "language": "python",
   "name": "python3"
  },
  "language_info": {
   "codemirror_mode": {
    "name": "ipython",
    "version": 3
   },
   "file_extension": ".py",
   "mimetype": "text/x-python",
   "name": "python",
   "nbconvert_exporter": "python",
   "pygments_lexer": "ipython3",
   "version": "3.10.11"
  }
 },
 "nbformat": 4,
 "nbformat_minor": 0
}
