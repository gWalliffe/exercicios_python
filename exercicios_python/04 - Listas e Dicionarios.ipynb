{
 "cells": [
  {
   "cell_type": "markdown",
   "metadata": {},
   "source": [
    "## Listas"
   ]
  },
  {
   "cell_type": "code",
   "execution_count": null,
   "metadata": {},
   "outputs": [],
   "source": [
    "lista = ['Fabricio Daniel',9.5,9.0,8.0,True]\n",
    "lista"
   ]
  },
  {
   "cell_type": "code",
   "execution_count": null,
   "metadata": {},
   "outputs": [],
   "source": [
    "#laço for para percorrer lista\n",
    "for elemento in lista:\n",
    "  print(elemento)"
   ]
  },
  {
   "cell_type": "code",
   "execution_count": null,
   "metadata": {},
   "outputs": [],
   "source": [
    "#media de elementos da lista\n",
    "media = (lista[1] + lista[2] + lista[3])/3\n",
    "media"
   ]
  },
  {
   "cell_type": "code",
   "execution_count": null,
   "metadata": {},
   "outputs": [],
   "source": [
    "# Quantidade de elementos\n",
    "len(lista)"
   ]
  },
  {
   "cell_type": "code",
   "execution_count": null,
   "metadata": {},
   "outputs": [],
   "source": [
    "#partição de lista - lista[inicio:fim]\n",
    "lista[1:3]\n",
    "lista[:3]\n",
    "lista[3:]\n",
    "lista[:]"
   ]
  },
  {
   "cell_type": "code",
   "execution_count": null,
   "metadata": {},
   "outputs": [],
   "source": [
    "#Adiciona UM elemento ao final da lista.\n",
    "lista.append(media)\n",
    "lista"
   ]
  },
  {
   "cell_type": "code",
   "execution_count": null,
   "metadata": {},
   "outputs": [],
   "source": [
    "#Adiciona VARIOS elementos ao final da lista.\n",
    "\n",
    "lista.extend([10.0,8.0,9.0])\n",
    "lista"
   ]
  },
  {
   "cell_type": "code",
   "execution_count": null,
   "metadata": {},
   "outputs": [],
   "source": [
    "#Remove um elemento específico da lista.\n",
    "lista.remove([10.0,8.0,9.0])\n",
    "lista"
   ]
  },
  {
   "cell_type": "markdown",
   "metadata": {},
   "source": [
    "## Dicionário"
   ]
  },
  {
   "cell_type": "code",
   "execution_count": null,
   "metadata": {},
   "outputs": [],
   "source": [
    "#dicionário = {chave: valor}\n",
    "dicionario = {'chave_1':1,\n",
    "              'chave_2':2}\n",
    "dicionario"
   ]
  },
  {
   "cell_type": "code",
   "execution_count": null,
   "metadata": {},
   "outputs": [],
   "source": [
    "cadastro = {'matricula': 2000168933,\n",
    "            'dia_cadastro': 25,\n",
    "            'mes_cadastro': 10,\n",
    "            'turma': '2E'}\n",
    "cadastro\n",
    "cadastro['matricula']\n",
    "cadastro['turma']"
   ]
  },
  {
   "cell_type": "code",
   "execution_count": null,
   "metadata": {},
   "outputs": [],
   "source": [
    "#substituindo valores variavel turma\n",
    "cadastro['turma'] = '2G'\n",
    "cadastro"
   ]
  },
  {
   "cell_type": "code",
   "execution_count": null,
   "metadata": {},
   "outputs": [],
   "source": [
    "#inserindo um dado no dicionario\n",
    "cadastro['modalidade'] = 'EAD'\n",
    "cadastro"
   ]
  },
  {
   "cell_type": "code",
   "execution_count": null,
   "metadata": {},
   "outputs": [],
   "source": [
    "#Remove um item de um dicionário e o retorna.\n",
    "cadastro.pop('turma')"
   ]
  },
  {
   "cell_type": "code",
   "execution_count": null,
   "metadata": {},
   "outputs": [],
   "source": [
    "#Retorna uma lista dos pares do dicionário.\n",
    "cadastro.items()"
   ]
  },
  {
   "cell_type": "code",
   "execution_count": null,
   "metadata": {},
   "outputs": [],
   "source": [
    "#retorna somente as chaves do dicionarios\n",
    "cadastro.keys()"
   ]
  },
  {
   "cell_type": "code",
   "execution_count": null,
   "metadata": {},
   "outputs": [],
   "source": [
    "#retorna somente os valores do dicionario\n",
    "cadastro.values()"
   ]
  },
  {
   "cell_type": "code",
   "execution_count": null,
   "metadata": {},
   "outputs": [],
   "source": [
    "#percorrendo chaves com for\n",
    "for chaves in cadastro.keys():\n",
    "  print(cadastro[chaves])"
   ]
  },
  {
   "cell_type": "code",
   "execution_count": null,
   "metadata": {},
   "outputs": [],
   "source": [
    "#percorrendo valores com for\n",
    "for valores in cadastro.values():\n",
    "  print(valores)"
   ]
  },
  {
   "cell_type": "code",
   "execution_count": null,
   "metadata": {},
   "outputs": [],
   "source": [
    "#percorrendo chaves e valores com for\n",
    "for chaves, valores in cadastro.items():\n",
    "  print(chaves, valores)"
   ]
  },
  {
   "cell_type": "markdown",
   "metadata": {},
   "source": [
    "## EXERCICIOS\n"
   ]
  },
  {
   "cell_type": "markdown",
   "metadata": {},
   "source": [
    "1) construa uma lista com os seguintes valores [2172.54, 3701.35, 3518.09, 3456.61, 3249.38, 2840.82, 3891.45, 3075.26, 2317.64, 3219.08].\n",
    "   - calcule a média de gastos.\n",
    "   - defina quantas compras foram realizadas acima de 3000 reais e calcule a porcentagem quanto ao total de compras.\n"
   ]
  },
  {
   "cell_type": "code",
   "execution_count": null,
   "metadata": {},
   "outputs": [],
   "source": [
    "#calcule a média de gastos.\n",
    "gastos_papel = [2172.54, 3701.35, 3518.09, 3456.61, 3249.38, 2840.82, 3891.45, 3075.26, 2317.64, 3219.08]\n",
    "qtd_elementos = len(gastos_papel)\n",
    "total_gasto = sum(gastos_papel)\n",
    "media = total_gasto/qtd_elementos\n",
    "\n",
    "print(media)"
   ]
  },
  {
   "cell_type": "code",
   "execution_count": null,
   "metadata": {},
   "outputs": [],
   "source": [
    "#defina quantas compras foram realizadas acima de 3000 reais e calcule a porcentagem quanto ao total de compras.\n",
    "itens_maior_3000 = len([gastos for gastos in gastos_papel if gastos > 3000])\n",
    "\n",
    "percent = (itens_maior_3000 / qtd_elementos) * 100\n",
    "\n",
    "print(f\"Numeo de itens maior que 3000: {itens_maior_3000}\")\n",
    "print(f\"percentual de itens maio que 3000 sobre total: {percent}\")"
   ]
  },
  {
   "cell_type": "markdown",
   "metadata": {},
   "source": [
    "2) Faça um código que colete em uma lista 5 números inteiros quaisquer e imprima a lista"
   ]
  },
  {
   "cell_type": "code",
   "execution_count": null,
   "metadata": {},
   "outputs": [],
   "source": [
    "contador = 1\n",
    "lista = []\n",
    "\n",
    "while contador <= 5:\n",
    "    item = int(input(\"Digite um numero inteiro:\"))\n",
    "    lista.append(item)          \n",
    "    contador += 1\n",
    "\n",
    "print(f\"A lista de numero inteiros digitados é: {lista}\")"
   ]
  },
  {
   "cell_type": "markdown",
   "metadata": {},
   "source": [
    "3) Para um estudo envolvendo o nível de multiplicação de bactérias em uma colônia, foi coletado o número de bactérias por dia (em milhares) e pode ser observado a seguir: [1.2, 2.1, 3.3, 5.0, 7.8, 11.3, 16.6, 25.1, 37.8, 56.9]. Tendo esses valores, faça um código que gere uma lista contendo o percentual de crescimento de bactérias por dia, comparando o número de bactérias em cada dia com o número de bactérias do dia anterior. Dica: para calcular o percentual de crescimento usamos a seguinte equação: 100 * (amostra_atual - amostra_passada) / (amostra_passada)."
   ]
  },
  {
   "cell_type": "code",
   "execution_count": null,
   "metadata": {},
   "outputs": [],
   "source": [
    "# Lista com o número de bactérias por dia (em milhares)\n",
    "bacterias = [1.2, 2.1, 3.3, 5.0, 7.8, 11.3, 16.6, 25.1, 37.8, 56.9]\n",
    "\n",
    "# Inicializando a lista para armazenar os percentuais de crescimento\n",
    "crescimento_percentual = []\n",
    "\n",
    "# Calculando o percentual de crescimento para cada dia\n",
    "for i in range(1, len(bacterias)):\n",
    "    #100 * (amostra_atual - amostra_passada) / (amostra_passada)\n",
    "    crescimento = 100 * (bacterias[i] - bacterias[i - 1]) / bacterias[i - 1]\n",
    "    crescimento_percentual.append(crescimento)\n",
    "\n",
    "# Exibindo os resultados\n",
    "print(f\"Percentual de crescimento por dia: {crescimento_percentual}\")"
   ]
  },
  {
   "cell_type": "markdown",
   "metadata": {},
   "source": [
    "4)  Para uma seleção de produtos alimentícios, precisamos separar o conjunto de IDs dados por números inteiros sabendo que os produtos com ID par são doces e os com ID ímpar são amargos. Monte um código que colete 10 IDs. Depois, calcule e mostre a quantidade de produtos doces e amargos."
   ]
  },
  {
   "cell_type": "code",
   "execution_count": null,
   "metadata": {},
   "outputs": [],
   "source": [
    "# Inicializando as listas\n",
    "ids = []\n",
    "doces = []\n",
    "amargos = []\n",
    "\n",
    "# Coletando 10 IDs\n",
    "print(\"Digite os IDs dos produtos:\")\n",
    "for i in range(10):\n",
    "    id_produto = int(input(f\"Digite o {i + 1}º ID: \"))\n",
    "    ids.append(id_produto)\n",
    "\n",
    "    # Verificando se o ID é par ou ímpar\n",
    "    if id_produto % 2 == 0:\n",
    "        doces.append(id_produto)\n",
    "    else:\n",
    "        amargos.append(id_produto)\n",
    "\n",
    "# Calculando as quantidades\n",
    "quantidade_doces = len(doces)\n",
    "quantidade_amargos = len(amargos)\n",
    "\n",
    "# Exibindo os resultados\n",
    "print(f\"\\nIDs coletados: {ids}\")\n",
    "print(f\"Quantidade de produtos doces (pares): {quantidade_doces}\")\n",
    "print(f\"Quantidade de produtos amargos (ímpares): {quantidade_amargos}\")"
   ]
  },
  {
   "cell_type": "markdown",
   "metadata": {},
   "source": [
    "5) Desenvolva um programa que informa a nota de um(a) aluno(a) de acordo com suas respostas. Ele deve pedir a resposta desse(a) aluno(a) para cada questão e é preciso verificar se a resposta foi igual ao gabarito. Cada questão vale um ponto e existem as alternativas A, B, C ou D.\n",
    "- Gabarito da prova:\n",
    "01 - D\n",
    "02 - A\n",
    "03 - C\n",
    "04 - B\n",
    "05 - A\n",
    "06 - D\n",
    "07 - C\n",
    "08 - C\n",
    "09 - A\n",
    "10 - B"
   ]
  },
  {
   "cell_type": "code",
   "execution_count": null,
   "metadata": {},
   "outputs": [],
   "source": [
    "# Gabarito da prova\n",
    "gabarito = ['D', 'A', 'C', 'B', 'A', 'D', 'C', 'C', 'A', 'B']\n",
    "\n",
    "# Inicializando as respostas do aluno\n",
    "respostas_aluno = []\n",
    "\n",
    "# Solicitando as respostas do aluno\n",
    "print(\"Digite as respostas do aluno (A, B, C ou D):\")\n",
    "for i in range(10):\n",
    "    resposta = input(f\"Questão {i + 1}: \").strip().upper()\n",
    "    while resposta not in ['A', 'B', 'C', 'D']:\n",
    "        print(\"Resposta inválida. Digite apenas A, B, C ou D.\")\n",
    "        resposta = input(f\"Questão {i + 1}: \").strip().upper()\n",
    "    respostas_aluno.append(resposta)\n",
    "\n",
    "# Calculando a nota do aluno\n",
    "nota = 0\n",
    "for i in range(10):\n",
    "    if respostas_aluno[i] == gabarito[i]:\n",
    "        nota += 1\n",
    "\n",
    "# Exibindo o resultado\n",
    "print(f\"\\nGabarito: {gabarito}\")\n",
    "print(f\"Respostas do aluno: {respostas_aluno}\")\n",
    "print(f\"Nota final do aluno: {nota}/10\")"
   ]
  },
  {
   "cell_type": "markdown",
   "metadata": {},
   "source": [
    "6) Um instituto de meteorologia deseja fazer um estudo de temperatura média de cada mês do ano. Para isso, você precisa fazer um código que colete e armazene essas temperaturas médias em uma lista. Depois, calcule a média anual das temperaturas e mostre todas as temperaturas acima da média anual e em que mês elas ocorreram, mostrando os meses por extenso (Janeiro, Fevereiro, etc.)."
   ]
  },
  {
   "cell_type": "code",
   "execution_count": null,
   "metadata": {},
   "outputs": [],
   "source": [
    "# Lista de meses do ano\n",
    "meses = [\n",
    "    \"Janeiro\", \"Fevereiro\", \"Março\", \"Abril\", \"Maio\", \"Junho\",\n",
    "    \"Julho\", \"Agosto\", \"Setembro\", \"Outubro\", \"Novembro\", \"Dezembro\"\n",
    "]\n",
    "\n",
    "# Lista para armazenar as temperaturas médias\n",
    "temperaturas = []\n",
    "\n",
    "# Coletando as temperaturas médias\n",
    "print(\"Digite a temperatura média de cada mês:\")\n",
    "for i in range(12):\n",
    "    temperatura = float(input(f\"Temperatura média de {meses[i]}: \"))\n",
    "    temperaturas.append(temperatura)\n",
    "\n",
    "# Calculando a média anual das temperaturas\n",
    "media_anual = sum(temperaturas) / len(temperaturas)\n",
    "\n",
    "# Encontrando os meses com temperaturas acima da média anual\n",
    "meses_acima_media = []\n",
    "for i in range(12):\n",
    "    if temperaturas[i] > media_anual:\n",
    "        meses_acima_media.append((meses[i], temperaturas[i]))\n",
    "\n",
    "# Exibindo os resultados\n",
    "print(f\"\\nMédia anual das temperaturas: {media_anual:.2f}°C\")\n",
    "print(\"\\nMeses com temperaturas acima da média anual:\")\n",
    "for mes, temperatura in meses_acima_media:\n",
    "    print(f\"{mes}: {temperatura:.2f}°C\")\n"
   ]
  },
  {
   "cell_type": "markdown",
   "metadata": {},
   "source": [
    "7) Uma empresa de e-commerce está interessada em analisar as vendas dos seus produtos. Os dados das vendas foram armazenados em um dicionário: \n",
    "- {'Produto A': 300, 'Produto B': 80, 'Produto C': 60,\n",
    " 'Produto D': 200, 'Produto E': 250, 'Produto F': 30}\n",
    "\n",
    "- Escreva um código que calcule o total de vendas e o produto mais vendido."
   ]
  },
  {
   "cell_type": "code",
   "execution_count": null,
   "metadata": {},
   "outputs": [],
   "source": [
    "# Dados das vendas\n",
    "vendas = {\n",
    "    'Produto A': 300,\n",
    "    'Produto B': 80,\n",
    "    'Produto C': 60,\n",
    "    'Produto D': 200,\n",
    "    'Produto E': 250,\n",
    "    'Produto F': 30\n",
    "}\n",
    "\n",
    "# Calculando o total de vendas\n",
    "total_vendas = sum(vendas.values())\n",
    "\n",
    "# Identificando o produto mais vendido\n",
    "produto_mais_vendido = max(vendas, key=vendas.get)\n",
    "vendas_produto_mais_vendido = vendas[produto_mais_vendido]\n",
    "\n",
    "# Exibindo os resultados\n",
    "print(f\"Total de vendas: {total_vendas}\")\n",
    "print(f\"Produto mais vendido: {produto_mais_vendido} com {vendas_produto_mais_vendido} vendas\")"
   ]
  },
  {
   "cell_type": "markdown",
   "metadata": {},
   "source": [
    "8) As pessoas colaboradoras de um setor da empresa que você trabalha vão receber um abono correspondente a 10% do salário devido ao ótimo desempenho do time. O setor financeiro solicitou sua ajuda para a verificação das consequências financeiras que esse abono irá gerar nos recursos. Assim, foi encaminhada para você uma lista com os salários que receberão o abono: [1172, 1644, 2617, 5130, 5532, 6341, 6650, 7238, 7685, 7782, 7903]. O abono de cada colaborador(a) não pode ser inferior a 200. Em código, transforme cada um dos salários em chaves de um dicionário e o abono de cada salário no elemento. Depois, informe o total de gastos com o abono, quantos(as) colaboradores(as) receberam o abono mínimo e qual o maior valor de abono fornecido."
   ]
  },
  {
   "cell_type": "code",
   "execution_count": null,
   "metadata": {},
   "outputs": [],
   "source": [
    "# Lista de salários\n",
    "salarios = [1172, 1644, 2617, 5130, 5532, 6341, 6650, 7238, 7685, 7782, 7903]\n",
    "\n",
    "# Criando o dicionário com os abonos\n",
    "abonos = {}\n",
    "abono_minimo = 200\n",
    "\n",
    "# Preenchendo o dicionário de abonos\n",
    "for salario in salarios:\n",
    "    abono = max(salario * 0.1, abono_minimo)\n",
    "    abonos[salario] = abono\n",
    "\n",
    "# Calculando o total de gastos com abonos\n",
    "total_abonos = sum(abonos.values())\n",
    "\n",
    "# Contando os colaboradores que receberam o abono mínimo\n",
    "colaboradores_minimo = sum(1 for abono in abonos.values() if abono == abono_minimo)\n",
    "\n",
    "# Identificando o maior valor de abono\n",
    "maior_abono = max(abonos.values())\n",
    "\n",
    "# Exibindo os resultados\n",
    "print(\"Dicionário de salários e abonos:\")\n",
    "for salario, abono in abonos.items():\n",
    "    print(f\"Salário: {salario}, Abono: {abono:.2f}\")\n",
    "\n",
    "print(f\"\\nTotal de gastos com abonos: {total_abonos:.2f}\")\n",
    "print(f\"Quantidade de colaboradores que receberam o abono mínimo: {colaboradores_minimo}\")\n",
    "print(f\"Maior valor de abono fornecido: {maior_abono:.2f}\")\n"
   ]
  },
  {
   "cell_type": "markdown",
   "metadata": {},
   "source": [
    "9) Crie a função que leia a lista abaixo e retorne uma nova lista com os múltiplos de 3:\n",
    "- [97, 80, 94, 88, 80, 1, 16, 53, 62, 32, 24, 99]"
   ]
  },
  {
   "cell_type": "code",
   "execution_count": null,
   "metadata": {},
   "outputs": [],
   "source": [
    "lista = [97, 80, 94, 88, 80, 1, 16, 53, 62, 32, 24, 99]\n",
    "\n",
    "multiplo = map(lambda x: x * 3, lista)\n",
    "lista_final = list(multiplo)\n",
    "print(lista_final)"
   ]
  },
  {
   "cell_type": "markdown",
   "metadata": {},
   "source": [
    "10) Você foi contratado como cientista de dados de uma associação de skate. Para analisar as notas recebidas de skatistas em algumas competições ao longo do ano, você precisa criar um código que calcula a pontuação dos(as) atletas. Para isso, o seu código deve receber 5 notas digitadas pelas pessoas juradas.\n",
    "\n",
    "- Para calcular a pontuação de um(a) skatista, você precisa eliminar a maior e a menor pontuação dentre as 5 notas e tirar a média das 3 notas que sobraram. Retorne a média para apresentar o texto:\n",
    "\"Nota da manobra: [media]\""
   ]
  },
  {
   "cell_type": "code",
   "execution_count": null,
   "metadata": {},
   "outputs": [],
   "source": [
    "notas = []\n",
    "\n",
    "#função para calcula da media\n",
    "def calcula_media(notas):\n",
    "    notas.remove(max(notas))\n",
    "    notas.remove(min(notas))\n",
    "    m = sum(notas) / len(notas)\n",
    "    return m\n",
    "\n",
    "#iteração para compor lista de notas\n",
    "for i in range(5):\n",
    "    i = i+1\n",
    "    notas.append(float(input(f\"Digite a {i}º nota: \")))\n",
    "\n",
    "#chamada de função\n",
    "media = calcula_media(notas)\n",
    "\n",
    "print(f\"Nota da manobra: {media}\")\n"
   ]
  }
 ],
 "metadata": {
  "kernelspec": {
   "display_name": "Python 3",
   "language": "python",
   "name": "python3"
  },
  "language_info": {
   "codemirror_mode": {
    "name": "ipython",
    "version": 3
   },
   "file_extension": ".py",
   "mimetype": "text/x-python",
   "name": "python",
   "nbconvert_exporter": "python",
   "pygments_lexer": "ipython3",
   "version": "3.10.11"
  }
 },
 "nbformat": 4,
 "nbformat_minor": 2
}
