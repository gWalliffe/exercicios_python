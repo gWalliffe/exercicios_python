{
 "cells": [
  {
   "cell_type": "markdown",
   "metadata": {},
   "source": [
    "## Exercicios de Condicionais"
   ]
  },
  {
   "cell_type": "code",
   "execution_count": null,
   "metadata": {},
   "outputs": [],
   "source": [
    "#if_else com media\n",
    "media = float(input(\"Digite a média:\"))\n",
    "\n",
    "if media > 6:\n",
    "    print(\"aprovado\")\n",
    "else: \n",
    "    print(\"reprovado\")"
   ]
  },
  {
   "cell_type": "code",
   "execution_count": null,
   "metadata": {},
   "outputs": [],
   "source": [
    "#elif com media\n",
    "media = float(input(\"Digite a média:\"))\n",
    "\n",
    "if media > 6:\n",
    "    print(\"aprovado\")\n",
    "elif media < 6 and media >= 4:\n",
    "    print(\"recuperação\")\n",
    "else: \n",
    "    print(\"reprovado\")"
   ]
  },
  {
   "cell_type": "code",
   "execution_count": null,
   "metadata": {},
   "outputs": [],
   "source": [
    "#verifica determinado nome na lista\n",
    "nomes = 'Gleyson, Silveira, Tavares, Souza, Silva, Santos, Marcos, Antonio, José'\n",
    "\n",
    "pesquisa = input(\"Qual seu nome: \")\n",
    "\n",
    "if pesquisa in nomes:\n",
    "    print(f\"{pesquisa} está na lista, seja bem vindo!\")\n",
    "else:\n",
    "    print(f\"{pesquisa} não está na lista!\")"
   ]
  },
  {
   "cell_type": "markdown",
   "metadata": {},
   "source": [
    "#### Crie um programa em Python que leia três números correspondentes aos três lados de um triângulo. O programa deve então determinar se é possível formar um triângulo com esses lados e, em caso afirmativo, classificar o triângulo como:\n",
    "\n",
    "* Equilátero: todos os lados iguais.\n",
    "* Isósceles: dois lados iguais.\n",
    "* Escaleno: todos os lados diferentes.\n",
    "* Não é um triângulo: quando a soma de dois lados não é maior que o terceiro."
   ]
  },
  {
   "cell_type": "code",
   "execution_count": null,
   "metadata": {},
   "outputs": [],
   "source": [
    "lado_1 = int(input(\"Digite o primeiro lado:\"))\n",
    "lado_2 = int(input(\"Digite o segundo lado:\"))\n",
    "lado_3 = int(input(\"Digite o terceiro lado:\"))\n",
    "\n",
    "if (lado_1 + lado_2 > lado_3) or (lado_1 + lado_3 > lado_2) or (lado_2 + lado_3 > lado_1):\n",
    "    print(\"Não é um triangulo!\")\n",
    "elif lado_1 == lado_2 and lado_1 == lado_3 and lado_2 == lado_3:\n",
    "    print(\"Equilátero: Todos os lados são iguais.\")\n",
    "elif lado_1 == lado_2 or lado_1 == lado_3 or lado_2 == lado_3:\n",
    "    print(\"Isósceles: Dois lados iguais.\")\n",
    "elif lado_1 != lado_2 and lado_1 != lado_3 and lado_2 != lado_3:\n",
    "    print(\"Isósceles: Todos os lados diferentes.\")\n",
    "\n",
    "print(f\"LADO 1: {lado_1}\")\n",
    "print(f\"LADO 2: {lado_2}\")\n",
    "print(f\"LADO 3: {lado_3}\")"
   ]
  }
 ],
 "metadata": {
  "kernelspec": {
   "display_name": "Python 3",
   "language": "python",
   "name": "python3"
  },
  "language_info": {
   "codemirror_mode": {
    "name": "ipython",
    "version": 3
   },
   "file_extension": ".py",
   "mimetype": "text/x-python",
   "name": "python",
   "nbconvert_exporter": "python",
   "pygments_lexer": "ipython3",
   "version": "3.10.11"
  }
 },
 "nbformat": 4,
 "nbformat_minor": 2
}
