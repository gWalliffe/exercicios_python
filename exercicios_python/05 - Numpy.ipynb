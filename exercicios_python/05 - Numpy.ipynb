{
 "cells": [
  {
   "cell_type": "markdown",
   "metadata": {},
   "source": [
    "## Tempo de processamento Lista x Array"
   ]
  },
  {
   "cell_type": "code",
   "execution_count": 3,
   "metadata": {},
   "outputs": [
    {
     "name": "stdout",
     "output_type": "stream",
     "text": [
      "Tempo da operação com a lista:  0.21494364738464355\n",
      "Tempo da operação com o array:  0.0\n"
     ]
    }
   ],
   "source": [
    "import numpy as np\n",
    "import time\n",
    "\n",
    "# cria uma lista com 1000000 elementos\n",
    "lista = list(range(1000000))\n",
    "\n",
    "# transforma a lista em um array Numpy\n",
    "array = np.array(lista)\n",
    "\n",
    "# começa a cronometrar o tempo para a operação com a lista\n",
    "start_time = time.time()\n",
    "\n",
    "# realiza a operação de elevar ao quadrado cada elemento da lista\n",
    "lista_quadrado = [i**2 for i in lista]\n",
    "\n",
    "# para o cronômetro\n",
    "list_time = time.time() - start_time\n",
    "\n",
    "# começa a cronometrar o tempo para a operação com o array\n",
    "start_time = time.time()\n",
    "\n",
    "# realiza a operação de elevar ao quadrado cada elemento do array\n",
    "array_quadrado = array**2\n",
    "\n",
    "# para o cronômetro\n",
    "array_time = time.time() - start_time\n",
    "\n",
    "print(\"Tempo da operação com a lista: \", list_time)\n",
    "print(\"Tempo da operação com o array: \", array_time)"
   ]
  },
  {
   "cell_type": "code",
   "execution_count": null,
   "metadata": {},
   "outputs": [],
   "source": [
    "#calculando todos os anos  que acontecerão as copas do mundo neste seculo\n",
    "import numpy as np\n",
    "\n",
    "ano_inicial = 2002\n",
    "ano_final = 2102\n",
    "np.arange(ano_inicial, ano_final + 1, 4)"
   ]
  },
  {
   "cell_type": "code",
   "execution_count": null,
   "metadata": {},
   "outputs": [
    {
     "data": {
      "text/plain": [
       "(10000, 5)"
      ]
     },
     "execution_count": 4,
     "metadata": {},
     "output_type": "execute_result"
    }
   ],
   "source": [
    "#carregando arquivos citrus\n",
    "\n",
    "import numpy as np \n",
    "\n",
    "url_local = '../files/citrus.csv'\n",
    "dado = np.loadtxt(url_local, delimiter=',',usecols=np.arange(1,6,1),skiprows=1)\n",
    "\n",
    "dado.shape"
   ]
  }
 ],
 "metadata": {
  "kernelspec": {
   "display_name": "Python 3",
   "language": "python",
   "name": "python3"
  },
  "language_info": {
   "codemirror_mode": {
    "name": "ipython",
    "version": 3
   },
   "file_extension": ".py",
   "mimetype": "text/x-python",
   "name": "python",
   "nbconvert_exporter": "python",
   "pygments_lexer": "ipython3",
   "version": "3.10.11"
  }
 },
 "nbformat": 4,
 "nbformat_minor": 2
}
